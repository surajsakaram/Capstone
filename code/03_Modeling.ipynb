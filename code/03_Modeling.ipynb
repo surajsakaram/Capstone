{
 "cells": [
  {
   "cell_type": "markdown",
   "metadata": {},
   "source": [
    "## Modeling\n",
    "\n",
    "---\n",
    "\n",
    "### Objective: \n",
    "\n",
    "This notebook will seek to build a classification model to predict the tumor diagnosis."
   ]
  },
  {
   "cell_type": "markdown",
   "metadata": {},
   "source": [
    "## Import Libraries"
   ]
  },
  {
   "cell_type": "code",
   "execution_count": 394,
   "metadata": {},
   "outputs": [],
   "source": [
    "import pandas as pd\n",
    "import numpy as np\n",
    "import matplotlib.pyplot as plt\n",
    "import os\n",
    "import seaborn as sns\n",
    "%matplotlib inline\n",
    "\n",
    "from sklearn.model_selection import train_test_split, cross_val_score\n",
    "from sklearn.preprocessing import StandardScaler\n",
    "from sklearn.linear_model import LogisticRegression\n",
    "from sklearn.ensemble import RandomForestClassifier\n",
    "from sklearn.ensemble import ExtraTreesClassifier\n",
    "from sklearn.decomposition import PCA\n",
    "from pactools.grid_search import GridSearchCVProgressBar\n",
    "from sklearn.metrics import confusion_matrix\n",
    "from sklearn.externals.six import StringIO\n",
    "\n",
    "from keras.models import Sequential\n",
    "from keras.layers import Dense, Dropout\n",
    "from keras.utils import to_categorical # only for multiclass problems"
   ]
  },
  {
   "cell_type": "markdown",
   "metadata": {},
   "source": [
    "## Load dataset"
   ]
  },
  {
   "cell_type": "code",
   "execution_count": 312,
   "metadata": {},
   "outputs": [],
   "source": [
    "directory = '/Users/surajsakaram/GA_DSI/capstone/'\n",
    "os.chdir(directory)"
   ]
  },
  {
   "cell_type": "code",
   "execution_count": 313,
   "metadata": {},
   "outputs": [
    {
     "data": {
      "text/html": [
       "<div>\n",
       "<style scoped>\n",
       "    .dataframe tbody tr th:only-of-type {\n",
       "        vertical-align: middle;\n",
       "    }\n",
       "\n",
       "    .dataframe tbody tr th {\n",
       "        vertical-align: top;\n",
       "    }\n",
       "\n",
       "    .dataframe thead th {\n",
       "        text-align: right;\n",
       "    }\n",
       "</style>\n",
       "<table border=\"1\" class=\"dataframe\">\n",
       "  <thead>\n",
       "    <tr style=\"text-align: right;\">\n",
       "      <th></th>\n",
       "      <th>Unnamed: 0</th>\n",
       "      <th>hsa-let-7a-1</th>\n",
       "      <th>hsa-let-7a-2</th>\n",
       "      <th>hsa-let-7a-3</th>\n",
       "      <th>hsa-let-7b</th>\n",
       "      <th>hsa-let-7c</th>\n",
       "      <th>hsa-let-7d</th>\n",
       "      <th>hsa-let-7e</th>\n",
       "      <th>hsa-let-7f-1</th>\n",
       "      <th>hsa-let-7f-2</th>\n",
       "      <th>...</th>\n",
       "      <th>hsa-mir-942</th>\n",
       "      <th>hsa-mir-943</th>\n",
       "      <th>hsa-mir-944</th>\n",
       "      <th>hsa-mir-95</th>\n",
       "      <th>hsa-mir-9500</th>\n",
       "      <th>hsa-mir-96</th>\n",
       "      <th>hsa-mir-98</th>\n",
       "      <th>hsa-mir-99a</th>\n",
       "      <th>hsa-mir-99b</th>\n",
       "      <th>Project ID</th>\n",
       "    </tr>\n",
       "  </thead>\n",
       "  <tbody>\n",
       "    <tr>\n",
       "      <th>0</th>\n",
       "      <td>dc8d96ef-81eb-41c8-a486-02d107c1a137</td>\n",
       "      <td>3530.574305</td>\n",
       "      <td>3545.647914</td>\n",
       "      <td>3516.338118</td>\n",
       "      <td>13112.365384</td>\n",
       "      <td>1015.793793</td>\n",
       "      <td>380.189927</td>\n",
       "      <td>608.806338</td>\n",
       "      <td>1039.241630</td>\n",
       "      <td>981.459460</td>\n",
       "      <td>...</td>\n",
       "      <td>2.512268</td>\n",
       "      <td>0.000000</td>\n",
       "      <td>1.674845</td>\n",
       "      <td>2.512268</td>\n",
       "      <td>0.0</td>\n",
       "      <td>66.993820</td>\n",
       "      <td>42.708560</td>\n",
       "      <td>217.729914</td>\n",
       "      <td>27493.426231</td>\n",
       "      <td>TCGA-BRCA</td>\n",
       "    </tr>\n",
       "    <tr>\n",
       "      <th>1</th>\n",
       "      <td>93b8bab9-acd8-4a5a-b4ba-ec52b2ab186b</td>\n",
       "      <td>5860.628124</td>\n",
       "      <td>5770.822052</td>\n",
       "      <td>5873.585219</td>\n",
       "      <td>32816.747358</td>\n",
       "      <td>2379.637523</td>\n",
       "      <td>226.078969</td>\n",
       "      <td>395.861593</td>\n",
       "      <td>940.953178</td>\n",
       "      <td>928.442879</td>\n",
       "      <td>...</td>\n",
       "      <td>1.787186</td>\n",
       "      <td>0.000000</td>\n",
       "      <td>4.021167</td>\n",
       "      <td>5.361557</td>\n",
       "      <td>0.0</td>\n",
       "      <td>35.296914</td>\n",
       "      <td>22.786615</td>\n",
       "      <td>702.363910</td>\n",
       "      <td>20079.922937</td>\n",
       "      <td>TCGA-BRCA</td>\n",
       "    </tr>\n",
       "    <tr>\n",
       "      <th>2</th>\n",
       "      <td>6d869125-0f2b-406a-a1aa-4b352b2247d3</td>\n",
       "      <td>12710.168915</td>\n",
       "      <td>12822.741990</td>\n",
       "      <td>12923.054631</td>\n",
       "      <td>8665.340311</td>\n",
       "      <td>504.349668</td>\n",
       "      <td>1599.429333</td>\n",
       "      <td>4876.308941</td>\n",
       "      <td>12166.251484</td>\n",
       "      <td>12349.600700</td>\n",
       "      <td>...</td>\n",
       "      <td>3.343755</td>\n",
       "      <td>1.114585</td>\n",
       "      <td>14.489604</td>\n",
       "      <td>3.343755</td>\n",
       "      <td>0.0</td>\n",
       "      <td>90.838669</td>\n",
       "      <td>136.536650</td>\n",
       "      <td>112.573075</td>\n",
       "      <td>43691.728108</td>\n",
       "      <td>TCGA-LUAD</td>\n",
       "    </tr>\n",
       "    <tr>\n",
       "      <th>3</th>\n",
       "      <td>41dbd6ab-871d-4ee4-be13-392b4995f6ce</td>\n",
       "      <td>8612.209891</td>\n",
       "      <td>8453.920962</td>\n",
       "      <td>8830.260967</td>\n",
       "      <td>33663.855692</td>\n",
       "      <td>1540.894268</td>\n",
       "      <td>810.826963</td>\n",
       "      <td>2251.579255</td>\n",
       "      <td>814.057349</td>\n",
       "      <td>780.138293</td>\n",
       "      <td>...</td>\n",
       "      <td>3.230386</td>\n",
       "      <td>0.000000</td>\n",
       "      <td>1.615193</td>\n",
       "      <td>1.615193</td>\n",
       "      <td>0.0</td>\n",
       "      <td>46.840601</td>\n",
       "      <td>50.070988</td>\n",
       "      <td>486.173139</td>\n",
       "      <td>133458.564642</td>\n",
       "      <td>TCGA-BRCA</td>\n",
       "    </tr>\n",
       "    <tr>\n",
       "      <th>4</th>\n",
       "      <td>322badf4-b70d-4f90-ac44-d2f30e52f03c</td>\n",
       "      <td>10317.399990</td>\n",
       "      <td>10054.249488</td>\n",
       "      <td>10189.749276</td>\n",
       "      <td>24500.675020</td>\n",
       "      <td>3229.273903</td>\n",
       "      <td>632.470045</td>\n",
       "      <td>1026.989244</td>\n",
       "      <td>3458.962567</td>\n",
       "      <td>3501.099696</td>\n",
       "      <td>...</td>\n",
       "      <td>1.652436</td>\n",
       "      <td>0.413109</td>\n",
       "      <td>0.413109</td>\n",
       "      <td>0.826218</td>\n",
       "      <td>0.0</td>\n",
       "      <td>0.413109</td>\n",
       "      <td>65.684348</td>\n",
       "      <td>703.524812</td>\n",
       "      <td>32382.383706</td>\n",
       "      <td>TCGA-KIRC</td>\n",
       "    </tr>\n",
       "  </tbody>\n",
       "</table>\n",
       "<p>5 rows × 1883 columns</p>\n",
       "</div>"
      ],
      "text/plain": [
       "                             Unnamed: 0  hsa-let-7a-1  hsa-let-7a-2  \\\n",
       "0  dc8d96ef-81eb-41c8-a486-02d107c1a137   3530.574305   3545.647914   \n",
       "1  93b8bab9-acd8-4a5a-b4ba-ec52b2ab186b   5860.628124   5770.822052   \n",
       "2  6d869125-0f2b-406a-a1aa-4b352b2247d3  12710.168915  12822.741990   \n",
       "3  41dbd6ab-871d-4ee4-be13-392b4995f6ce   8612.209891   8453.920962   \n",
       "4  322badf4-b70d-4f90-ac44-d2f30e52f03c  10317.399990  10054.249488   \n",
       "\n",
       "   hsa-let-7a-3    hsa-let-7b   hsa-let-7c   hsa-let-7d   hsa-let-7e  \\\n",
       "0   3516.338118  13112.365384  1015.793793   380.189927   608.806338   \n",
       "1   5873.585219  32816.747358  2379.637523   226.078969   395.861593   \n",
       "2  12923.054631   8665.340311   504.349668  1599.429333  4876.308941   \n",
       "3   8830.260967  33663.855692  1540.894268   810.826963  2251.579255   \n",
       "4  10189.749276  24500.675020  3229.273903   632.470045  1026.989244   \n",
       "\n",
       "   hsa-let-7f-1  hsa-let-7f-2     ...      hsa-mir-942  hsa-mir-943  \\\n",
       "0   1039.241630    981.459460     ...         2.512268     0.000000   \n",
       "1    940.953178    928.442879     ...         1.787186     0.000000   \n",
       "2  12166.251484  12349.600700     ...         3.343755     1.114585   \n",
       "3    814.057349    780.138293     ...         3.230386     0.000000   \n",
       "4   3458.962567   3501.099696     ...         1.652436     0.413109   \n",
       "\n",
       "   hsa-mir-944  hsa-mir-95  hsa-mir-9500  hsa-mir-96  hsa-mir-98  hsa-mir-99a  \\\n",
       "0     1.674845    2.512268           0.0   66.993820   42.708560   217.729914   \n",
       "1     4.021167    5.361557           0.0   35.296914   22.786615   702.363910   \n",
       "2    14.489604    3.343755           0.0   90.838669  136.536650   112.573075   \n",
       "3     1.615193    1.615193           0.0   46.840601   50.070988   486.173139   \n",
       "4     0.413109    0.826218           0.0    0.413109   65.684348   703.524812   \n",
       "\n",
       "     hsa-mir-99b  Project ID  \n",
       "0   27493.426231   TCGA-BRCA  \n",
       "1   20079.922937   TCGA-BRCA  \n",
       "2   43691.728108   TCGA-LUAD  \n",
       "3  133458.564642   TCGA-BRCA  \n",
       "4   32382.383706   TCGA-KIRC  \n",
       "\n",
       "[5 rows x 1883 columns]"
      ]
     },
     "execution_count": 313,
     "metadata": {},
     "output_type": "execute_result"
    }
   ],
   "source": [
    "# Load dataset\n",
    "df = pd.read_csv('./data/expression.csv')\n",
    "df.head()"
   ]
  },
  {
   "cell_type": "code",
   "execution_count": 314,
   "metadata": {},
   "outputs": [
    {
     "data": {
      "text/html": [
       "<div>\n",
       "<style scoped>\n",
       "    .dataframe tbody tr th:only-of-type {\n",
       "        vertical-align: middle;\n",
       "    }\n",
       "\n",
       "    .dataframe tbody tr th {\n",
       "        vertical-align: top;\n",
       "    }\n",
       "\n",
       "    .dataframe thead th {\n",
       "        text-align: right;\n",
       "    }\n",
       "</style>\n",
       "<table border=\"1\" class=\"dataframe\">\n",
       "  <thead>\n",
       "    <tr style=\"text-align: right;\">\n",
       "      <th></th>\n",
       "      <th>hsa-let-7a-1</th>\n",
       "      <th>hsa-let-7a-2</th>\n",
       "      <th>hsa-let-7a-3</th>\n",
       "      <th>hsa-let-7b</th>\n",
       "      <th>hsa-let-7c</th>\n",
       "      <th>hsa-let-7d</th>\n",
       "      <th>hsa-let-7e</th>\n",
       "      <th>hsa-let-7f-1</th>\n",
       "      <th>hsa-let-7f-2</th>\n",
       "      <th>hsa-let-7g</th>\n",
       "      <th>...</th>\n",
       "      <th>hsa-mir-942</th>\n",
       "      <th>hsa-mir-943</th>\n",
       "      <th>hsa-mir-944</th>\n",
       "      <th>hsa-mir-95</th>\n",
       "      <th>hsa-mir-9500</th>\n",
       "      <th>hsa-mir-96</th>\n",
       "      <th>hsa-mir-98</th>\n",
       "      <th>hsa-mir-99a</th>\n",
       "      <th>hsa-mir-99b</th>\n",
       "      <th>Project ID</th>\n",
       "    </tr>\n",
       "    <tr>\n",
       "      <th></th>\n",
       "      <th></th>\n",
       "      <th></th>\n",
       "      <th></th>\n",
       "      <th></th>\n",
       "      <th></th>\n",
       "      <th></th>\n",
       "      <th></th>\n",
       "      <th></th>\n",
       "      <th></th>\n",
       "      <th></th>\n",
       "      <th></th>\n",
       "      <th></th>\n",
       "      <th></th>\n",
       "      <th></th>\n",
       "      <th></th>\n",
       "      <th></th>\n",
       "      <th></th>\n",
       "      <th></th>\n",
       "      <th></th>\n",
       "      <th></th>\n",
       "      <th></th>\n",
       "    </tr>\n",
       "  </thead>\n",
       "  <tbody>\n",
       "    <tr>\n",
       "      <th>dc8d96ef-81eb-41c8-a486-02d107c1a137</th>\n",
       "      <td>3530.574305</td>\n",
       "      <td>3545.647914</td>\n",
       "      <td>3516.338118</td>\n",
       "      <td>13112.365384</td>\n",
       "      <td>1015.793793</td>\n",
       "      <td>380.189927</td>\n",
       "      <td>608.806338</td>\n",
       "      <td>1039.241630</td>\n",
       "      <td>981.459460</td>\n",
       "      <td>285.561157</td>\n",
       "      <td>...</td>\n",
       "      <td>2.512268</td>\n",
       "      <td>0.000000</td>\n",
       "      <td>1.674845</td>\n",
       "      <td>2.512268</td>\n",
       "      <td>0.0</td>\n",
       "      <td>66.993820</td>\n",
       "      <td>42.708560</td>\n",
       "      <td>217.729914</td>\n",
       "      <td>27493.426231</td>\n",
       "      <td>TCGA-BRCA</td>\n",
       "    </tr>\n",
       "    <tr>\n",
       "      <th>93b8bab9-acd8-4a5a-b4ba-ec52b2ab186b</th>\n",
       "      <td>5860.628124</td>\n",
       "      <td>5770.822052</td>\n",
       "      <td>5873.585219</td>\n",
       "      <td>32816.747358</td>\n",
       "      <td>2379.637523</td>\n",
       "      <td>226.078969</td>\n",
       "      <td>395.861593</td>\n",
       "      <td>940.953178</td>\n",
       "      <td>928.442879</td>\n",
       "      <td>180.505738</td>\n",
       "      <td>...</td>\n",
       "      <td>1.787186</td>\n",
       "      <td>0.000000</td>\n",
       "      <td>4.021167</td>\n",
       "      <td>5.361557</td>\n",
       "      <td>0.0</td>\n",
       "      <td>35.296914</td>\n",
       "      <td>22.786615</td>\n",
       "      <td>702.363910</td>\n",
       "      <td>20079.922937</td>\n",
       "      <td>TCGA-BRCA</td>\n",
       "    </tr>\n",
       "    <tr>\n",
       "      <th>6d869125-0f2b-406a-a1aa-4b352b2247d3</th>\n",
       "      <td>12710.168915</td>\n",
       "      <td>12822.741990</td>\n",
       "      <td>12923.054631</td>\n",
       "      <td>8665.340311</td>\n",
       "      <td>504.349668</td>\n",
       "      <td>1599.429333</td>\n",
       "      <td>4876.308941</td>\n",
       "      <td>12166.251484</td>\n",
       "      <td>12349.600700</td>\n",
       "      <td>2128.299868</td>\n",
       "      <td>...</td>\n",
       "      <td>3.343755</td>\n",
       "      <td>1.114585</td>\n",
       "      <td>14.489604</td>\n",
       "      <td>3.343755</td>\n",
       "      <td>0.0</td>\n",
       "      <td>90.838669</td>\n",
       "      <td>136.536650</td>\n",
       "      <td>112.573075</td>\n",
       "      <td>43691.728108</td>\n",
       "      <td>TCGA-LUAD</td>\n",
       "    </tr>\n",
       "  </tbody>\n",
       "</table>\n",
       "<p>3 rows × 1882 columns</p>\n",
       "</div>"
      ],
      "text/plain": [
       "                                      hsa-let-7a-1  hsa-let-7a-2  \\\n",
       "                                                                   \n",
       "dc8d96ef-81eb-41c8-a486-02d107c1a137   3530.574305   3545.647914   \n",
       "93b8bab9-acd8-4a5a-b4ba-ec52b2ab186b   5860.628124   5770.822052   \n",
       "6d869125-0f2b-406a-a1aa-4b352b2247d3  12710.168915  12822.741990   \n",
       "\n",
       "                                      hsa-let-7a-3    hsa-let-7b   hsa-let-7c  \\\n",
       "                                                                                \n",
       "dc8d96ef-81eb-41c8-a486-02d107c1a137   3516.338118  13112.365384  1015.793793   \n",
       "93b8bab9-acd8-4a5a-b4ba-ec52b2ab186b   5873.585219  32816.747358  2379.637523   \n",
       "6d869125-0f2b-406a-a1aa-4b352b2247d3  12923.054631   8665.340311   504.349668   \n",
       "\n",
       "                                       hsa-let-7d   hsa-let-7e  hsa-let-7f-1  \\\n",
       "                                                                               \n",
       "dc8d96ef-81eb-41c8-a486-02d107c1a137   380.189927   608.806338   1039.241630   \n",
       "93b8bab9-acd8-4a5a-b4ba-ec52b2ab186b   226.078969   395.861593    940.953178   \n",
       "6d869125-0f2b-406a-a1aa-4b352b2247d3  1599.429333  4876.308941  12166.251484   \n",
       "\n",
       "                                      hsa-let-7f-2   hsa-let-7g     ...      \\\n",
       "                                                                    ...       \n",
       "dc8d96ef-81eb-41c8-a486-02d107c1a137    981.459460   285.561157     ...       \n",
       "93b8bab9-acd8-4a5a-b4ba-ec52b2ab186b    928.442879   180.505738     ...       \n",
       "6d869125-0f2b-406a-a1aa-4b352b2247d3  12349.600700  2128.299868     ...       \n",
       "\n",
       "                                      hsa-mir-942  hsa-mir-943  hsa-mir-944  \\\n",
       "                                                                              \n",
       "dc8d96ef-81eb-41c8-a486-02d107c1a137     2.512268     0.000000     1.674845   \n",
       "93b8bab9-acd8-4a5a-b4ba-ec52b2ab186b     1.787186     0.000000     4.021167   \n",
       "6d869125-0f2b-406a-a1aa-4b352b2247d3     3.343755     1.114585    14.489604   \n",
       "\n",
       "                                      hsa-mir-95  hsa-mir-9500  hsa-mir-96  \\\n",
       "                                                                             \n",
       "dc8d96ef-81eb-41c8-a486-02d107c1a137    2.512268           0.0   66.993820   \n",
       "93b8bab9-acd8-4a5a-b4ba-ec52b2ab186b    5.361557           0.0   35.296914   \n",
       "6d869125-0f2b-406a-a1aa-4b352b2247d3    3.343755           0.0   90.838669   \n",
       "\n",
       "                                      hsa-mir-98  hsa-mir-99a   hsa-mir-99b  \\\n",
       "                                                                              \n",
       "dc8d96ef-81eb-41c8-a486-02d107c1a137   42.708560   217.729914  27493.426231   \n",
       "93b8bab9-acd8-4a5a-b4ba-ec52b2ab186b   22.786615   702.363910  20079.922937   \n",
       "6d869125-0f2b-406a-a1aa-4b352b2247d3  136.536650   112.573075  43691.728108   \n",
       "\n",
       "                                      Project ID  \n",
       "                                                  \n",
       "dc8d96ef-81eb-41c8-a486-02d107c1a137   TCGA-BRCA  \n",
       "93b8bab9-acd8-4a5a-b4ba-ec52b2ab186b   TCGA-BRCA  \n",
       "6d869125-0f2b-406a-a1aa-4b352b2247d3   TCGA-LUAD  \n",
       "\n",
       "[3 rows x 1882 columns]"
      ]
     },
     "execution_count": 314,
     "metadata": {},
     "output_type": "execute_result"
    }
   ],
   "source": [
    "df.set_index('Unnamed: 0', inplace=True)\n",
    "df.index.name = ''\n",
    "df.head(3)"
   ]
  },
  {
   "cell_type": "markdown",
   "metadata": {},
   "source": [
    "## Convert Label to Numerical Classes"
   ]
  },
  {
   "cell_type": "code",
   "execution_count": 315,
   "metadata": {
    "scrolled": true
   },
   "outputs": [
    {
     "data": {
      "text/plain": [
       "array(['TCGA-BRCA', 'TCGA-LUAD', 'TCGA-KIRC', 'TCGA-UCEC', 'TCGA-HNSC',\n",
       "       'TCGA-LGG'], dtype=object)"
      ]
     },
     "execution_count": 315,
     "metadata": {},
     "output_type": "execute_result"
    }
   ],
   "source": [
    "labels = df['Project ID'].unique()\n",
    "labels"
   ]
  },
  {
   "cell_type": "code",
   "execution_count": 316,
   "metadata": {},
   "outputs": [],
   "source": [
    "label_dict = {}\n",
    "for i, val in enumerate(labels):\n",
    "    label_dict[val] = i"
   ]
  },
  {
   "cell_type": "code",
   "execution_count": 317,
   "metadata": {},
   "outputs": [
    {
     "data": {
      "text/plain": [
       "{'TCGA-BRCA': 0,\n",
       " 'TCGA-LUAD': 1,\n",
       " 'TCGA-KIRC': 2,\n",
       " 'TCGA-UCEC': 3,\n",
       " 'TCGA-HNSC': 4,\n",
       " 'TCGA-LGG': 5}"
      ]
     },
     "execution_count": 317,
     "metadata": {},
     "output_type": "execute_result"
    }
   ],
   "source": [
    "label_dict"
   ]
  },
  {
   "cell_type": "code",
   "execution_count": 318,
   "metadata": {},
   "outputs": [],
   "source": [
    "df['Project ID'] = df['Project ID'].apply(lambda x: label_dict[x])"
   ]
  },
  {
   "cell_type": "code",
   "execution_count": 319,
   "metadata": {},
   "outputs": [
    {
     "data": {
      "text/plain": [
       "\n",
       "dc8d96ef-81eb-41c8-a486-02d107c1a137    0\n",
       "93b8bab9-acd8-4a5a-b4ba-ec52b2ab186b    0\n",
       "6d869125-0f2b-406a-a1aa-4b352b2247d3    1\n",
       "41dbd6ab-871d-4ee4-be13-392b4995f6ce    0\n",
       "322badf4-b70d-4f90-ac44-d2f30e52f03c    2\n",
       "Name: Project ID, dtype: int64"
      ]
     },
     "execution_count": 319,
     "metadata": {},
     "output_type": "execute_result"
    }
   ],
   "source": [
    "df['Project ID'].head()"
   ]
  },
  {
   "cell_type": "code",
   "execution_count": 320,
   "metadata": {},
   "outputs": [
    {
     "data": {
      "text/plain": [
       "array([0, 0, 1, ..., 2, 5, 3])"
      ]
     },
     "execution_count": 320,
     "metadata": {},
     "output_type": "execute_result"
    }
   ],
   "source": [
    "df['Project ID'].values"
   ]
  },
  {
   "cell_type": "code",
   "execution_count": 321,
   "metadata": {},
   "outputs": [
    {
     "data": {
      "text/plain": [
       "(array([0, 1, 2, 3, 4, 5]), array([1207,  567,  616,  579,  569,  530]))"
      ]
     },
     "execution_count": 321,
     "metadata": {},
     "output_type": "execute_result"
    }
   ],
   "source": [
    "np.unique(df['Project ID'].values, return_counts=True)"
   ]
  },
  {
   "cell_type": "code",
   "execution_count": 275,
   "metadata": {},
   "outputs": [
    {
     "data": {
      "text/plain": [
       "Project ID    1.0\n",
       "Name: Project ID, dtype: float64"
      ]
     },
     "execution_count": 275,
     "metadata": {},
     "output_type": "execute_result"
    }
   ],
   "source": [
    "df.corr()['Project ID'][df.corr()['Project ID'] > 0.8]"
   ]
  },
  {
   "cell_type": "markdown",
   "metadata": {},
   "source": [
    "- This ensures that there are no miRNA features that are highly correlated with the Project ID column suggesting there is no data leakage."
   ]
  },
  {
   "cell_type": "markdown",
   "metadata": {},
   "source": [
    "## Modeling"
   ]
  },
  {
   "cell_type": "code",
   "execution_count": 256,
   "metadata": {},
   "outputs": [],
   "source": [
    "# define X and y\n",
    "\n",
    "features = [col for col in df.columns if col != 'Project ID']\n",
    "X = df[features]\n",
    "y = df['Project ID']"
   ]
  },
  {
   "cell_type": "markdown",
   "metadata": {},
   "source": [
    "- y has now become a one hot encoded matrix"
   ]
  },
  {
   "cell_type": "code",
   "execution_count": 258,
   "metadata": {},
   "outputs": [
    {
     "data": {
      "text/plain": [
       "((4068, 1881), (4068,))"
      ]
     },
     "execution_count": 258,
     "metadata": {},
     "output_type": "execute_result"
    }
   ],
   "source": [
    "X.shape, y.shape"
   ]
  },
  {
   "cell_type": "code",
   "execution_count": 259,
   "metadata": {},
   "outputs": [],
   "source": [
    "# Import Train/Test Split\n",
    "from sklearn.model_selection import train_test_split\n",
    "\n",
    "# Create Train/Test Split\n",
    "X_train, X_test, y_train, y_test = train_test_split(X, y, random_state = 42)"
   ]
  },
  {
   "cell_type": "code",
   "execution_count": 260,
   "metadata": {},
   "outputs": [],
   "source": [
    "# Scale your X \n",
    "ss = StandardScaler()\n",
    "ss.fit(X_train)\n",
    "\n",
    "X_train_sc = ss.transform(X_train)\n",
    "X_test_sc = ss.transform(X_test)"
   ]
  },
  {
   "cell_type": "code",
   "execution_count": 261,
   "metadata": {},
   "outputs": [
    {
     "data": {
      "text/plain": [
       "(3051, 1881)"
      ]
     },
     "execution_count": 261,
     "metadata": {},
     "output_type": "execute_result"
    }
   ],
   "source": [
    "X_train_sc.shape"
   ]
  },
  {
   "cell_type": "code",
   "execution_count": 262,
   "metadata": {},
   "outputs": [
    {
     "data": {
      "text/plain": [
       "(3051,)"
      ]
     },
     "execution_count": 262,
     "metadata": {},
     "output_type": "execute_result"
    }
   ],
   "source": [
    "y_train.shape"
   ]
  },
  {
   "cell_type": "code",
   "execution_count": 268,
   "metadata": {
    "scrolled": true
   },
   "outputs": [
    {
     "data": {
      "text/plain": [
       "array([[-0.13757605, -0.14375192, -0.12351748, ..., -0.552683  ,\n",
       "        -0.03246912,  0.1691514 ],\n",
       "       [-0.30854682, -0.30505   , -0.2986153 , ..., -0.5638275 ,\n",
       "        -0.48326232,  0.58302403],\n",
       "       [-0.83273596, -0.83861996, -0.83489927, ...,  0.25225785,\n",
       "        -0.30502236,  0.21626713],\n",
       "       ...,\n",
       "       [ 0.08036105,  0.08817088,  0.08380428, ...,  0.43370223,\n",
       "        -0.13140152, -0.77981768],\n",
       "       [-0.71270561, -0.70758186, -0.71647546, ..., -0.58155455,\n",
       "        -0.03542068,  0.12894171],\n",
       "       [ 1.96993151,  1.97419498,  1.963374  , ...,  0.65137751,\n",
       "        -0.37890986,  0.23677574]])"
      ]
     },
     "execution_count": 268,
     "metadata": {},
     "output_type": "execute_result"
    }
   ],
   "source": [
    "X_train_sc"
   ]
  },
  {
   "cell_type": "markdown",
   "metadata": {},
   "source": [
    "### Logistic Regression"
   ]
  },
  {
   "cell_type": "code",
   "execution_count": 263,
   "metadata": {},
   "outputs": [
    {
     "data": {
      "text/plain": [
       "LogisticRegression(C=1.0, class_weight=None, dual=False, fit_intercept=True,\n",
       "          intercept_scaling=1, max_iter=100, multi_class='multinomial',\n",
       "          n_jobs=1, penalty='l2', random_state=None, solver='lbfgs',\n",
       "          tol=0.0001, verbose=0, warm_start=False)"
      ]
     },
     "execution_count": 263,
     "metadata": {},
     "output_type": "execute_result"
    }
   ],
   "source": [
    "lr = LogisticRegression(solver='lbfgs', multi_class='multinomial')\n",
    "lr.fit(X_train_sc, y_train)"
   ]
  },
  {
   "cell_type": "code",
   "execution_count": 276,
   "metadata": {},
   "outputs": [
    {
     "data": {
      "text/plain": [
       "1.0"
      ]
     },
     "execution_count": 276,
     "metadata": {},
     "output_type": "execute_result"
    }
   ],
   "source": [
    "lr.score(X_train_sc, y_train)"
   ]
  },
  {
   "cell_type": "code",
   "execution_count": 281,
   "metadata": {},
   "outputs": [
    {
     "data": {
      "text/plain": [
       "0.9842696241560228"
      ]
     },
     "execution_count": 281,
     "metadata": {},
     "output_type": "execute_result"
    }
   ],
   "source": [
    "cross_val_score(lr, X_train_sc, y_train, cv=5).mean()"
   ]
  },
  {
   "cell_type": "code",
   "execution_count": 282,
   "metadata": {},
   "outputs": [
    {
     "data": {
      "text/plain": [
       "0.9783677482792527"
      ]
     },
     "execution_count": 282,
     "metadata": {},
     "output_type": "execute_result"
    }
   ],
   "source": [
    "lr.score(X_test_sc, y_test)"
   ]
  },
  {
   "cell_type": "code",
   "execution_count": 283,
   "metadata": {},
   "outputs": [],
   "source": [
    "lr_preds = lr.predict(X_test_sc)"
   ]
  },
  {
   "cell_type": "code",
   "execution_count": 285,
   "metadata": {},
   "outputs": [
    {
     "data": {
      "text/plain": [
       "array([[288,   0,   0,   1,   4,   1],\n",
       "       [  1, 126,   0,   1,   1,   0],\n",
       "       [  0,   0, 145,   0,   1,   0],\n",
       "       [  3,   2,   2, 147,   4,   2],\n",
       "       [  1,   3,   0,   1, 137,   0],\n",
       "       [  0,   0,   0,   0,   0, 146]])"
      ]
     },
     "execution_count": 285,
     "metadata": {},
     "output_type": "execute_result"
    }
   ],
   "source": [
    "confusion_matrix(y_test, preds)"
   ]
  },
  {
   "cell_type": "code",
   "execution_count": 297,
   "metadata": {
    "scrolled": true
   },
   "outputs": [
    {
     "data": {
      "text/plain": [
       "array([0.23881852, 0.10168391, 0.10082234, 0.10835985, 0.10789963,\n",
       "       0.19674327, 0.1292244 , 0.16077615, 0.12295841, 0.18399198,\n",
       "       0.24678847, 0.12147705, 0.28559492, 0.18225985, 0.17281193,\n",
       "       0.17961587, 0.18395791, 0.20043588, 0.11687643, 0.13414158,\n",
       "       0.10519303, 0.19459565, 0.1347305 , 0.12126652, 0.15970139,\n",
       "       0.16862727, 0.17018686, 0.12761278, 0.11189176, 0.11251418,\n",
       "       0.11377226, 0.1519242 , 0.12147353, 0.112865  , 0.10896345,\n",
       "       0.16658013, 0.10161759, 0.11695528, 0.15375539, 0.10382468,\n",
       "       0.10461339, 0.14891973, 0.10734115, 0.18881843, 0.14374623,\n",
       "       0.11658611, 0.10012036, 0.12645623, 0.15293333, 0.12304521,\n",
       "       0.2110715 , 0.14224413])"
      ]
     },
     "execution_count": 297,
     "metadata": {},
     "output_type": "execute_result"
    }
   ],
   "source": [
    "lr.coef_[0][lr.coef_[0] > 0.1]"
   ]
  },
  {
   "cell_type": "code",
   "execution_count": 441,
   "metadata": {},
   "outputs": [
    {
     "data": {
      "text/plain": [
       "array([ 249,  240,    3, 1742,  265,   71,  352, 1342,  226,  264])"
      ]
     },
     "execution_count": 441,
     "metadata": {},
     "output_type": "execute_result"
    }
   ],
   "source": []
  },
  {
   "cell_type": "code",
   "execution_count": 446,
   "metadata": {},
   "outputs": [],
   "source": [
    "masks = []\n",
    "for i in range(len(lr.coef_)):\n",
    "    masks.append(np.argsort(lr.coef_[i])[:-11:-1])\n"
   ]
  },
  {
   "cell_type": "code",
   "execution_count": 454,
   "metadata": {},
   "outputs": [
    {
     "data": {
      "text/html": [
       "<div>\n",
       "<style scoped>\n",
       "    .dataframe tbody tr th:only-of-type {\n",
       "        vertical-align: middle;\n",
       "    }\n",
       "\n",
       "    .dataframe tbody tr th {\n",
       "        vertical-align: top;\n",
       "    }\n",
       "\n",
       "    .dataframe thead th {\n",
       "        text-align: right;\n",
       "    }\n",
       "</style>\n",
       "<table border=\"1\" class=\"dataframe\">\n",
       "  <thead>\n",
       "    <tr style=\"text-align: right;\">\n",
       "      <th></th>\n",
       "      <th>hsa-mir-193a</th>\n",
       "      <th>hsa-mir-190b</th>\n",
       "      <th>hsa-let-7b</th>\n",
       "      <th>hsa-mir-7156</th>\n",
       "      <th>hsa-mir-199b</th>\n",
       "      <th>hsa-mir-1245a</th>\n",
       "      <th>hsa-mir-30a</th>\n",
       "      <th>hsa-mir-5691</th>\n",
       "      <th>hsa-mir-182</th>\n",
       "      <th>hsa-mir-199a-2</th>\n",
       "    </tr>\n",
       "    <tr>\n",
       "      <th></th>\n",
       "      <th></th>\n",
       "      <th></th>\n",
       "      <th></th>\n",
       "      <th></th>\n",
       "      <th></th>\n",
       "      <th></th>\n",
       "      <th></th>\n",
       "      <th></th>\n",
       "      <th></th>\n",
       "      <th></th>\n",
       "    </tr>\n",
       "  </thead>\n",
       "  <tbody>\n",
       "    <tr>\n",
       "      <th>dc8d96ef-81eb-41c8-a486-02d107c1a137</th>\n",
       "      <td>582.008810</td>\n",
       "      <td>1.674845</td>\n",
       "      <td>13112.365384</td>\n",
       "      <td>0.000000</td>\n",
       "      <td>3178.856750</td>\n",
       "      <td>1.674845</td>\n",
       "      <td>12975.028054</td>\n",
       "      <td>0.000000</td>\n",
       "      <td>123481.333847</td>\n",
       "      <td>2552.464535</td>\n",
       "    </tr>\n",
       "    <tr>\n",
       "      <th>93b8bab9-acd8-4a5a-b4ba-ec52b2ab186b</th>\n",
       "      <td>164.421068</td>\n",
       "      <td>18.765448</td>\n",
       "      <td>32816.747358</td>\n",
       "      <td>0.446796</td>\n",
       "      <td>3212.019180</td>\n",
       "      <td>4.914760</td>\n",
       "      <td>101498.286983</td>\n",
       "      <td>0.000000</td>\n",
       "      <td>75658.265108</td>\n",
       "      <td>2749.584926</td>\n",
       "    </tr>\n",
       "    <tr>\n",
       "      <th>6d869125-0f2b-406a-a1aa-4b352b2247d3</th>\n",
       "      <td>260.255574</td>\n",
       "      <td>6.130217</td>\n",
       "      <td>8665.340311</td>\n",
       "      <td>0.000000</td>\n",
       "      <td>763.490657</td>\n",
       "      <td>0.557292</td>\n",
       "      <td>2901.264497</td>\n",
       "      <td>0.000000</td>\n",
       "      <td>54528.279805</td>\n",
       "      <td>614.136280</td>\n",
       "    </tr>\n",
       "    <tr>\n",
       "      <th>41dbd6ab-871d-4ee4-be13-392b4995f6ce</th>\n",
       "      <td>177.671247</td>\n",
       "      <td>14.536738</td>\n",
       "      <td>33663.855692</td>\n",
       "      <td>0.000000</td>\n",
       "      <td>8101.808855</td>\n",
       "      <td>1.615193</td>\n",
       "      <td>112420.673826</td>\n",
       "      <td>1.615193</td>\n",
       "      <td>27656.952357</td>\n",
       "      <td>5737.166079</td>\n",
       "    </tr>\n",
       "    <tr>\n",
       "      <th>322badf4-b70d-4f90-ac44-d2f30e52f03c</th>\n",
       "      <td>207.380773</td>\n",
       "      <td>0.000000</td>\n",
       "      <td>24500.675020</td>\n",
       "      <td>0.000000</td>\n",
       "      <td>781.602434</td>\n",
       "      <td>0.000000</td>\n",
       "      <td>191970.563497</td>\n",
       "      <td>0.000000</td>\n",
       "      <td>939.410113</td>\n",
       "      <td>627.925845</td>\n",
       "    </tr>\n",
       "    <tr>\n",
       "      <th>d681c69f-3020-463b-90c0-bd9435e3f216</th>\n",
       "      <td>856.932374</td>\n",
       "      <td>12.630427</td>\n",
       "      <td>94361.331089</td>\n",
       "      <td>0.252609</td>\n",
       "      <td>3217.643393</td>\n",
       "      <td>1.178840</td>\n",
       "      <td>60858.618115</td>\n",
       "      <td>0.252609</td>\n",
       "      <td>42137.799138</td>\n",
       "      <td>2442.808795</td>\n",
       "    </tr>\n",
       "    <tr>\n",
       "      <th>28665a83-f3fe-4ebc-a421-2ab1b40ec796</th>\n",
       "      <td>121.040778</td>\n",
       "      <td>0.000000</td>\n",
       "      <td>7233.421582</td>\n",
       "      <td>0.000000</td>\n",
       "      <td>1732.241743</td>\n",
       "      <td>0.000000</td>\n",
       "      <td>160940.388035</td>\n",
       "      <td>0.000000</td>\n",
       "      <td>2213.934634</td>\n",
       "      <td>1573.530111</td>\n",
       "    </tr>\n",
       "    <tr>\n",
       "      <th>c5e98c47-acf7-4ebd-8674-3938bb4f5db7</th>\n",
       "      <td>322.548838</td>\n",
       "      <td>0.000000</td>\n",
       "      <td>16226.044899</td>\n",
       "      <td>0.000000</td>\n",
       "      <td>97.488854</td>\n",
       "      <td>0.000000</td>\n",
       "      <td>108061.102671</td>\n",
       "      <td>0.000000</td>\n",
       "      <td>3512.384148</td>\n",
       "      <td>76.876925</td>\n",
       "    </tr>\n",
       "    <tr>\n",
       "      <th>c7fcb557-2a7c-41d2-92f1-7014b9f639d3</th>\n",
       "      <td>598.823434</td>\n",
       "      <td>42.855836</td>\n",
       "      <td>51360.209476</td>\n",
       "      <td>0.000000</td>\n",
       "      <td>9054.936162</td>\n",
       "      <td>3.088709</td>\n",
       "      <td>22200.867232</td>\n",
       "      <td>0.772177</td>\n",
       "      <td>45357.303773</td>\n",
       "      <td>6631.457959</td>\n",
       "    </tr>\n",
       "    <tr>\n",
       "      <th>66b21435-28b2-4721-b0c5-a51a03990240</th>\n",
       "      <td>580.607913</td>\n",
       "      <td>6.886111</td>\n",
       "      <td>27556.405406</td>\n",
       "      <td>0.000000</td>\n",
       "      <td>3005.243955</td>\n",
       "      <td>0.724854</td>\n",
       "      <td>25681.933417</td>\n",
       "      <td>0.000000</td>\n",
       "      <td>47523.953701</td>\n",
       "      <td>2635.930932</td>\n",
       "    </tr>\n",
       "    <tr>\n",
       "      <th>38b76080-eeae-4c30-a6ec-955213c8c691</th>\n",
       "      <td>248.436956</td>\n",
       "      <td>55.105595</td>\n",
       "      <td>14760.603132</td>\n",
       "      <td>1.847115</td>\n",
       "      <td>1007.909038</td>\n",
       "      <td>2.154967</td>\n",
       "      <td>7214.830855</td>\n",
       "      <td>2.154967</td>\n",
       "      <td>276067.947969</td>\n",
       "      <td>964.809690</td>\n",
       "    </tr>\n",
       "    <tr>\n",
       "      <th>3d8bdeaa-ea62-4bb8-89ec-ac38ac193ffc</th>\n",
       "      <td>227.501822</td>\n",
       "      <td>0.000000</td>\n",
       "      <td>16233.449466</td>\n",
       "      <td>0.000000</td>\n",
       "      <td>1102.234050</td>\n",
       "      <td>0.669780</td>\n",
       "      <td>138821.656655</td>\n",
       "      <td>0.000000</td>\n",
       "      <td>1314.330940</td>\n",
       "      <td>1019.404633</td>\n",
       "    </tr>\n",
       "    <tr>\n",
       "      <th>b81c2913-e110-44b3-8599-5e70d8d8cfbf</th>\n",
       "      <td>737.577387</td>\n",
       "      <td>16.274876</td>\n",
       "      <td>24961.754041</td>\n",
       "      <td>0.000000</td>\n",
       "      <td>3096.132438</td>\n",
       "      <td>1.301990</td>\n",
       "      <td>32019.191334</td>\n",
       "      <td>0.000000</td>\n",
       "      <td>50068.028982</td>\n",
       "      <td>2437.325452</td>\n",
       "    </tr>\n",
       "    <tr>\n",
       "      <th>4f22ad5b-139e-4835-9be1-8806de694c3a</th>\n",
       "      <td>162.577187</td>\n",
       "      <td>1.058445</td>\n",
       "      <td>8541.229617</td>\n",
       "      <td>1.058445</td>\n",
       "      <td>2586.840139</td>\n",
       "      <td>0.635067</td>\n",
       "      <td>3091.718513</td>\n",
       "      <td>0.000000</td>\n",
       "      <td>38390.866888</td>\n",
       "      <td>1839.154429</td>\n",
       "    </tr>\n",
       "    <tr>\n",
       "      <th>fabfc358-9e02-475a-8e17-82ee5786ae44</th>\n",
       "      <td>263.627850</td>\n",
       "      <td>1.103045</td>\n",
       "      <td>15926.596741</td>\n",
       "      <td>0.551523</td>\n",
       "      <td>1532.130058</td>\n",
       "      <td>0.827284</td>\n",
       "      <td>16478.670963</td>\n",
       "      <td>0.275761</td>\n",
       "      <td>6132.380890</td>\n",
       "      <td>1174.191826</td>\n",
       "    </tr>\n",
       "    <tr>\n",
       "      <th>5d689a06-3dbe-4ae6-8fe1-d723bea5627b</th>\n",
       "      <td>471.682084</td>\n",
       "      <td>4.077943</td>\n",
       "      <td>16920.745176</td>\n",
       "      <td>0.000000</td>\n",
       "      <td>1863.619990</td>\n",
       "      <td>1.359314</td>\n",
       "      <td>66379.398232</td>\n",
       "      <td>0.000000</td>\n",
       "      <td>7381.076985</td>\n",
       "      <td>1409.608993</td>\n",
       "    </tr>\n",
       "    <tr>\n",
       "      <th>4fc33c92-be6c-4239-8318-528527f49faf</th>\n",
       "      <td>869.222653</td>\n",
       "      <td>13.485824</td>\n",
       "      <td>39939.697934</td>\n",
       "      <td>20.841728</td>\n",
       "      <td>1029.009233</td>\n",
       "      <td>2.451968</td>\n",
       "      <td>12736.339065</td>\n",
       "      <td>1.225984</td>\n",
       "      <td>46568.593396</td>\n",
       "      <td>841.433682</td>\n",
       "    </tr>\n",
       "    <tr>\n",
       "      <th>fadf5601-d36f-481c-b5b5-4f3050603c75</th>\n",
       "      <td>35.055393</td>\n",
       "      <td>0.000000</td>\n",
       "      <td>19457.934076</td>\n",
       "      <td>0.000000</td>\n",
       "      <td>14.606414</td>\n",
       "      <td>0.000000</td>\n",
       "      <td>16848.680840</td>\n",
       "      <td>0.000000</td>\n",
       "      <td>552.670180</td>\n",
       "      <td>11.685131</td>\n",
       "    </tr>\n",
       "    <tr>\n",
       "      <th>9c322d05-b8a2-43cf-a25e-7e90cf8e85fc</th>\n",
       "      <td>222.536242</td>\n",
       "      <td>2.013903</td>\n",
       "      <td>34940.203874</td>\n",
       "      <td>0.335650</td>\n",
       "      <td>1026.083396</td>\n",
       "      <td>3.356504</td>\n",
       "      <td>71057.869492</td>\n",
       "      <td>0.671301</td>\n",
       "      <td>88109.247505</td>\n",
       "      <td>799.519349</td>\n",
       "    </tr>\n",
       "    <tr>\n",
       "      <th>484e680f-8d37-4742-af5f-09b082cb7f15</th>\n",
       "      <td>148.927768</td>\n",
       "      <td>0.000000</td>\n",
       "      <td>11545.770306</td>\n",
       "      <td>0.000000</td>\n",
       "      <td>592.165174</td>\n",
       "      <td>0.322354</td>\n",
       "      <td>129453.689750</td>\n",
       "      <td>0.000000</td>\n",
       "      <td>1704.288120</td>\n",
       "      <td>646.965436</td>\n",
       "    </tr>\n",
       "    <tr>\n",
       "      <th>b9cec324-6497-4ce8-8483-df214ad8dec0</th>\n",
       "      <td>12.006398</td>\n",
       "      <td>0.000000</td>\n",
       "      <td>10141.435374</td>\n",
       "      <td>0.184714</td>\n",
       "      <td>14.961820</td>\n",
       "      <td>0.000000</td>\n",
       "      <td>24014.367041</td>\n",
       "      <td>0.092357</td>\n",
       "      <td>2404.050405</td>\n",
       "      <td>14.592392</td>\n",
       "    </tr>\n",
       "    <tr>\n",
       "      <th>fa2558ac-53c0-4743-b3a2-8e7bf0cfe89b</th>\n",
       "      <td>520.437985</td>\n",
       "      <td>0.000000</td>\n",
       "      <td>16402.849642</td>\n",
       "      <td>0.000000</td>\n",
       "      <td>7847.424853</td>\n",
       "      <td>11.142294</td>\n",
       "      <td>21500.449174</td>\n",
       "      <td>0.000000</td>\n",
       "      <td>18708.840250</td>\n",
       "      <td>6547.954809</td>\n",
       "    </tr>\n",
       "    <tr>\n",
       "      <th>2eebce51-c4fc-4b21-9ed0-8f2e14fc3e18</th>\n",
       "      <td>186.591590</td>\n",
       "      <td>0.773170</td>\n",
       "      <td>14428.890564</td>\n",
       "      <td>0.257723</td>\n",
       "      <td>1854.060635</td>\n",
       "      <td>2.319509</td>\n",
       "      <td>12670.187509</td>\n",
       "      <td>0.000000</td>\n",
       "      <td>20204.724994</td>\n",
       "      <td>1345.315056</td>\n",
       "    </tr>\n",
       "    <tr>\n",
       "      <th>9d37685b-7c6d-4bf9-bb56-b68a19fa956a</th>\n",
       "      <td>491.255700</td>\n",
       "      <td>3.112497</td>\n",
       "      <td>22957.255567</td>\n",
       "      <td>0.000000</td>\n",
       "      <td>3166.965207</td>\n",
       "      <td>0.518749</td>\n",
       "      <td>11973.255355</td>\n",
       "      <td>0.000000</td>\n",
       "      <td>11750.193104</td>\n",
       "      <td>2277.828702</td>\n",
       "    </tr>\n",
       "    <tr>\n",
       "      <th>a54bb971-d7e5-4989-9595-3fd9737cffa3</th>\n",
       "      <td>316.564153</td>\n",
       "      <td>16.302106</td>\n",
       "      <td>11974.086475</td>\n",
       "      <td>0.758237</td>\n",
       "      <td>1286.349905</td>\n",
       "      <td>0.379119</td>\n",
       "      <td>32058.281167</td>\n",
       "      <td>0.000000</td>\n",
       "      <td>48055.954894</td>\n",
       "      <td>1043.334789</td>\n",
       "    </tr>\n",
       "    <tr>\n",
       "      <th>70d4200b-b990-4e35-a0ea-c47d323bdf48</th>\n",
       "      <td>457.347355</td>\n",
       "      <td>0.384973</td>\n",
       "      <td>11817.886439</td>\n",
       "      <td>0.000000</td>\n",
       "      <td>8306.167106</td>\n",
       "      <td>2.694808</td>\n",
       "      <td>12483.696414</td>\n",
       "      <td>0.000000</td>\n",
       "      <td>17720.092640</td>\n",
       "      <td>5781.709802</td>\n",
       "    </tr>\n",
       "    <tr>\n",
       "      <th>bb765f2b-faf8-4ec5-8ceb-7afd1bcf0bb5</th>\n",
       "      <td>26.683735</td>\n",
       "      <td>0.000000</td>\n",
       "      <td>16208.358296</td>\n",
       "      <td>0.000000</td>\n",
       "      <td>14.803990</td>\n",
       "      <td>0.000000</td>\n",
       "      <td>17385.184094</td>\n",
       "      <td>0.000000</td>\n",
       "      <td>605.684220</td>\n",
       "      <td>16.083347</td>\n",
       "    </tr>\n",
       "    <tr>\n",
       "      <th>6f3f3424-7daf-40f2-924d-96e04e7d4ca2</th>\n",
       "      <td>483.263825</td>\n",
       "      <td>0.269378</td>\n",
       "      <td>10281.612970</td>\n",
       "      <td>0.000000</td>\n",
       "      <td>1035.757752</td>\n",
       "      <td>0.000000</td>\n",
       "      <td>5630.804755</td>\n",
       "      <td>0.000000</td>\n",
       "      <td>33546.967910</td>\n",
       "      <td>819.177977</td>\n",
       "    </tr>\n",
       "    <tr>\n",
       "      <th>cebd233b-8463-4cc6-95c3-9150170b18de</th>\n",
       "      <td>167.099720</td>\n",
       "      <td>1.182309</td>\n",
       "      <td>16283.158358</td>\n",
       "      <td>2.364619</td>\n",
       "      <td>5154.474627</td>\n",
       "      <td>3.152825</td>\n",
       "      <td>19439.924301</td>\n",
       "      <td>0.000000</td>\n",
       "      <td>16103.053235</td>\n",
       "      <td>3725.456736</td>\n",
       "    </tr>\n",
       "    <tr>\n",
       "      <th>e8ac2a44-ae19-4463-8ef8-6ccc2733f59b</th>\n",
       "      <td>708.237880</td>\n",
       "      <td>0.306596</td>\n",
       "      <td>20523.262088</td>\n",
       "      <td>0.000000</td>\n",
       "      <td>1542.793511</td>\n",
       "      <td>0.919789</td>\n",
       "      <td>22734.742533</td>\n",
       "      <td>0.613193</td>\n",
       "      <td>28684.553914</td>\n",
       "      <td>1057.757872</td>\n",
       "    </tr>\n",
       "    <tr>\n",
       "      <th>...</th>\n",
       "      <td>...</td>\n",
       "      <td>...</td>\n",
       "      <td>...</td>\n",
       "      <td>...</td>\n",
       "      <td>...</td>\n",
       "      <td>...</td>\n",
       "      <td>...</td>\n",
       "      <td>...</td>\n",
       "      <td>...</td>\n",
       "      <td>...</td>\n",
       "    </tr>\n",
       "    <tr>\n",
       "      <th>7b16e5e1-cd3e-4146-bda4-104ac993375e</th>\n",
       "      <td>327.140791</td>\n",
       "      <td>0.136879</td>\n",
       "      <td>15844.701476</td>\n",
       "      <td>0.410637</td>\n",
       "      <td>3920.077452</td>\n",
       "      <td>1.231911</td>\n",
       "      <td>5414.385407</td>\n",
       "      <td>0.000000</td>\n",
       "      <td>24983.290497</td>\n",
       "      <td>3060.614261</td>\n",
       "    </tr>\n",
       "    <tr>\n",
       "      <th>12648c25-a55c-4bfc-9b11-f9f2400f0fb6</th>\n",
       "      <td>219.815269</td>\n",
       "      <td>0.000000</td>\n",
       "      <td>20288.195058</td>\n",
       "      <td>0.000000</td>\n",
       "      <td>797.907876</td>\n",
       "      <td>0.000000</td>\n",
       "      <td>165129.755660</td>\n",
       "      <td>0.000000</td>\n",
       "      <td>2978.281389</td>\n",
       "      <td>602.875701</td>\n",
       "    </tr>\n",
       "    <tr>\n",
       "      <th>9cd3a0eb-1c36-4c63-b79d-3673c1c699de</th>\n",
       "      <td>292.472174</td>\n",
       "      <td>2.116078</td>\n",
       "      <td>1732.765378</td>\n",
       "      <td>2.267226</td>\n",
       "      <td>1125.753361</td>\n",
       "      <td>0.453445</td>\n",
       "      <td>24847.438352</td>\n",
       "      <td>0.000000</td>\n",
       "      <td>40296.921984</td>\n",
       "      <td>835.850710</td>\n",
       "    </tr>\n",
       "    <tr>\n",
       "      <th>c45503f6-8462-4761-a7cb-98808b3a06fd</th>\n",
       "      <td>521.392006</td>\n",
       "      <td>0.463048</td>\n",
       "      <td>19307.016311</td>\n",
       "      <td>0.231524</td>\n",
       "      <td>1525.511512</td>\n",
       "      <td>5.325052</td>\n",
       "      <td>2308.757140</td>\n",
       "      <td>0.000000</td>\n",
       "      <td>20088.178223</td>\n",
       "      <td>1242.589207</td>\n",
       "    </tr>\n",
       "    <tr>\n",
       "      <th>342be365-6b8d-44ab-b5ed-0b504bdd4277</th>\n",
       "      <td>91.781170</td>\n",
       "      <td>0.000000</td>\n",
       "      <td>5499.571475</td>\n",
       "      <td>3.284416</td>\n",
       "      <td>34.121429</td>\n",
       "      <td>0.000000</td>\n",
       "      <td>60905.290774</td>\n",
       "      <td>0.000000</td>\n",
       "      <td>1076.375983</td>\n",
       "      <td>20.253896</td>\n",
       "    </tr>\n",
       "    <tr>\n",
       "      <th>6318d1bc-6c5c-43db-896d-931f487e4f47</th>\n",
       "      <td>298.957651</td>\n",
       "      <td>8.756082</td>\n",
       "      <td>6193.468547</td>\n",
       "      <td>1.667825</td>\n",
       "      <td>7629.049010</td>\n",
       "      <td>10.006951</td>\n",
       "      <td>13562.753796</td>\n",
       "      <td>0.833913</td>\n",
       "      <td>62334.546537</td>\n",
       "      <td>5888.256552</td>\n",
       "    </tr>\n",
       "    <tr>\n",
       "      <th>9614e482-6a3c-4a5e-9201-cdab0f0eb29f</th>\n",
       "      <td>357.937657</td>\n",
       "      <td>1.111608</td>\n",
       "      <td>22473.371439</td>\n",
       "      <td>0.000000</td>\n",
       "      <td>2481.108228</td>\n",
       "      <td>0.000000</td>\n",
       "      <td>9303.044249</td>\n",
       "      <td>0.000000</td>\n",
       "      <td>16140.542776</td>\n",
       "      <td>1689.643596</td>\n",
       "    </tr>\n",
       "    <tr>\n",
       "      <th>a1c64323-099c-46e0-946a-f96cdb0a8d6f</th>\n",
       "      <td>84.893898</td>\n",
       "      <td>0.000000</td>\n",
       "      <td>8164.133658</td>\n",
       "      <td>0.000000</td>\n",
       "      <td>3171.417827</td>\n",
       "      <td>1.704697</td>\n",
       "      <td>250852.604078</td>\n",
       "      <td>0.000000</td>\n",
       "      <td>14805.291242</td>\n",
       "      <td>2249.858766</td>\n",
       "    </tr>\n",
       "    <tr>\n",
       "      <th>770b1d8f-83c6-4dec-a3e1-f2928caf44a7</th>\n",
       "      <td>84.160462</td>\n",
       "      <td>2.019851</td>\n",
       "      <td>4570.474176</td>\n",
       "      <td>0.224428</td>\n",
       "      <td>1724.952836</td>\n",
       "      <td>2.693135</td>\n",
       "      <td>18441.016084</td>\n",
       "      <td>0.000000</td>\n",
       "      <td>84519.771425</td>\n",
       "      <td>1349.709388</td>\n",
       "    </tr>\n",
       "    <tr>\n",
       "      <th>62fde633-3f91-4725-9a17-d6b670ff0c53</th>\n",
       "      <td>446.301072</td>\n",
       "      <td>0.655041</td>\n",
       "      <td>18005.104077</td>\n",
       "      <td>0.218347</td>\n",
       "      <td>2914.494479</td>\n",
       "      <td>3.493550</td>\n",
       "      <td>45365.717964</td>\n",
       "      <td>0.000000</td>\n",
       "      <td>16906.819148</td>\n",
       "      <td>2098.750444</td>\n",
       "    </tr>\n",
       "    <tr>\n",
       "      <th>4ce411c7-5fe3-4064-b28c-ccf7650ef362</th>\n",
       "      <td>99.977928</td>\n",
       "      <td>1.128419</td>\n",
       "      <td>22758.181151</td>\n",
       "      <td>0.000000</td>\n",
       "      <td>1229.525400</td>\n",
       "      <td>0.000000</td>\n",
       "      <td>10464.958300</td>\n",
       "      <td>0.000000</td>\n",
       "      <td>37619.685767</td>\n",
       "      <td>828.936637</td>\n",
       "    </tr>\n",
       "    <tr>\n",
       "      <th>64cb2e6b-2f08-4748-8bd0-103fa9f970f8</th>\n",
       "      <td>225.110684</td>\n",
       "      <td>0.532806</td>\n",
       "      <td>13184.293188</td>\n",
       "      <td>0.000000</td>\n",
       "      <td>2983.449170</td>\n",
       "      <td>0.532806</td>\n",
       "      <td>14144.410235</td>\n",
       "      <td>0.000000</td>\n",
       "      <td>8696.465283</td>\n",
       "      <td>2303.588264</td>\n",
       "    </tr>\n",
       "    <tr>\n",
       "      <th>a1ed6dca-3f6a-4824-887b-70cadb2f720c</th>\n",
       "      <td>854.607000</td>\n",
       "      <td>2.728195</td>\n",
       "      <td>9811.270309</td>\n",
       "      <td>0.000000</td>\n",
       "      <td>9522.081667</td>\n",
       "      <td>2.046146</td>\n",
       "      <td>8371.465538</td>\n",
       "      <td>0.000000</td>\n",
       "      <td>22301.627846</td>\n",
       "      <td>6569.492917</td>\n",
       "    </tr>\n",
       "    <tr>\n",
       "      <th>364b8f43-b30c-4eb5-be1b-6e9437cd07ae</th>\n",
       "      <td>325.635711</td>\n",
       "      <td>0.524373</td>\n",
       "      <td>9823.606124</td>\n",
       "      <td>0.000000</td>\n",
       "      <td>809.632105</td>\n",
       "      <td>2.097493</td>\n",
       "      <td>89769.008395</td>\n",
       "      <td>0.000000</td>\n",
       "      <td>5095.858029</td>\n",
       "      <td>727.829898</td>\n",
       "    </tr>\n",
       "    <tr>\n",
       "      <th>47e19d75-b91e-418a-992f-6d1749d38859</th>\n",
       "      <td>197.537465</td>\n",
       "      <td>2.221602</td>\n",
       "      <td>16088.658221</td>\n",
       "      <td>0.740534</td>\n",
       "      <td>2113.484255</td>\n",
       "      <td>0.000000</td>\n",
       "      <td>16331.368264</td>\n",
       "      <td>0.000000</td>\n",
       "      <td>20103.093452</td>\n",
       "      <td>1669.163809</td>\n",
       "    </tr>\n",
       "    <tr>\n",
       "      <th>881d3fc7-80f4-4722-82bb-1b6c19f088dd</th>\n",
       "      <td>211.102993</td>\n",
       "      <td>0.000000</td>\n",
       "      <td>13340.078008</td>\n",
       "      <td>0.000000</td>\n",
       "      <td>589.874491</td>\n",
       "      <td>0.000000</td>\n",
       "      <td>156141.864246</td>\n",
       "      <td>0.000000</td>\n",
       "      <td>929.953258</td>\n",
       "      <td>462.985091</td>\n",
       "    </tr>\n",
       "    <tr>\n",
       "      <th>e513105f-81c8-4205-8601-1a7880f0dff7</th>\n",
       "      <td>30.314176</td>\n",
       "      <td>0.000000</td>\n",
       "      <td>8058.265867</td>\n",
       "      <td>0.000000</td>\n",
       "      <td>12.041464</td>\n",
       "      <td>0.000000</td>\n",
       "      <td>36620.451021</td>\n",
       "      <td>0.000000</td>\n",
       "      <td>1774.895012</td>\n",
       "      <td>9.767901</td>\n",
       "    </tr>\n",
       "    <tr>\n",
       "      <th>5a225156-2e71-40db-b9b3-673ce8f37e0c</th>\n",
       "      <td>332.821690</td>\n",
       "      <td>1.645596</td>\n",
       "      <td>4351.365906</td>\n",
       "      <td>0.000000</td>\n",
       "      <td>1206.632902</td>\n",
       "      <td>0.822798</td>\n",
       "      <td>13455.623020</td>\n",
       "      <td>0.000000</td>\n",
       "      <td>26966.373490</td>\n",
       "      <td>968.844352</td>\n",
       "    </tr>\n",
       "    <tr>\n",
       "      <th>fcbad081-176a-4cbe-962f-4707138ddd90</th>\n",
       "      <td>1697.556339</td>\n",
       "      <td>0.198174</td>\n",
       "      <td>17917.086878</td>\n",
       "      <td>0.000000</td>\n",
       "      <td>2639.476171</td>\n",
       "      <td>3.368954</td>\n",
       "      <td>59543.879334</td>\n",
       "      <td>0.000000</td>\n",
       "      <td>7931.507981</td>\n",
       "      <td>2014.634339</td>\n",
       "    </tr>\n",
       "    <tr>\n",
       "      <th>11457950-2d57-466f-8990-92d07c47a529</th>\n",
       "      <td>162.340518</td>\n",
       "      <td>0.000000</td>\n",
       "      <td>13427.052878</td>\n",
       "      <td>0.000000</td>\n",
       "      <td>3478.407264</td>\n",
       "      <td>0.445379</td>\n",
       "      <td>185536.951842</td>\n",
       "      <td>0.000000</td>\n",
       "      <td>7810.160022</td>\n",
       "      <td>2927.473872</td>\n",
       "    </tr>\n",
       "    <tr>\n",
       "      <th>4e63c197-9a3c-4b2d-9efc-133ceab4bc40</th>\n",
       "      <td>144.148823</td>\n",
       "      <td>0.207408</td>\n",
       "      <td>19252.682724</td>\n",
       "      <td>3.525942</td>\n",
       "      <td>58.903979</td>\n",
       "      <td>0.000000</td>\n",
       "      <td>27092.304610</td>\n",
       "      <td>0.000000</td>\n",
       "      <td>5145.387051</td>\n",
       "      <td>46.252068</td>\n",
       "    </tr>\n",
       "    <tr>\n",
       "      <th>dc0f20a0-b439-410e-b661-bdf65e3c17db</th>\n",
       "      <td>390.789505</td>\n",
       "      <td>0.000000</td>\n",
       "      <td>9641.657043</td>\n",
       "      <td>0.638806</td>\n",
       "      <td>1304.920738</td>\n",
       "      <td>1.597015</td>\n",
       "      <td>19846.421481</td>\n",
       "      <td>0.000000</td>\n",
       "      <td>24137.440365</td>\n",
       "      <td>1073.832706</td>\n",
       "    </tr>\n",
       "    <tr>\n",
       "      <th>c1fc795e-9319-4483-9f13-ba466e839a31</th>\n",
       "      <td>153.010933</td>\n",
       "      <td>0.328350</td>\n",
       "      <td>15080.770729</td>\n",
       "      <td>0.328350</td>\n",
       "      <td>1432.261140</td>\n",
       "      <td>2.955147</td>\n",
       "      <td>12698.922422</td>\n",
       "      <td>0.000000</td>\n",
       "      <td>26013.828774</td>\n",
       "      <td>1034.301374</td>\n",
       "    </tr>\n",
       "    <tr>\n",
       "      <th>d5fcc7c7-e3a7-4dd3-8c0e-512371adf47e</th>\n",
       "      <td>175.777655</td>\n",
       "      <td>0.000000</td>\n",
       "      <td>18603.827155</td>\n",
       "      <td>0.000000</td>\n",
       "      <td>377.391395</td>\n",
       "      <td>0.461359</td>\n",
       "      <td>242011.228547</td>\n",
       "      <td>0.000000</td>\n",
       "      <td>384.773134</td>\n",
       "      <td>327.103300</td>\n",
       "    </tr>\n",
       "    <tr>\n",
       "      <th>a2e4b2e1-e0c8-4a11-a1f3-cea88b35315c</th>\n",
       "      <td>138.973933</td>\n",
       "      <td>0.000000</td>\n",
       "      <td>14490.770819</td>\n",
       "      <td>0.000000</td>\n",
       "      <td>2499.772271</td>\n",
       "      <td>1.356579</td>\n",
       "      <td>16292.658805</td>\n",
       "      <td>0.000000</td>\n",
       "      <td>211.174057</td>\n",
       "      <td>2061.346189</td>\n",
       "    </tr>\n",
       "    <tr>\n",
       "      <th>eed5f427-c2bd-429d-97ac-cc0f4e01de76</th>\n",
       "      <td>138.663193</td>\n",
       "      <td>4.815678</td>\n",
       "      <td>18488.803478</td>\n",
       "      <td>0.000000</td>\n",
       "      <td>1856.727070</td>\n",
       "      <td>0.991463</td>\n",
       "      <td>23473.454922</td>\n",
       "      <td>0.000000</td>\n",
       "      <td>12069.788236</td>\n",
       "      <td>1233.380069</td>\n",
       "    </tr>\n",
       "    <tr>\n",
       "      <th>12d172c8-5deb-447b-b651-ed10adff51d6</th>\n",
       "      <td>366.112767</td>\n",
       "      <td>89.814181</td>\n",
       "      <td>45632.459805</td>\n",
       "      <td>0.685604</td>\n",
       "      <td>2278.949133</td>\n",
       "      <td>4.799231</td>\n",
       "      <td>41072.504726</td>\n",
       "      <td>0.685604</td>\n",
       "      <td>79406.705348</td>\n",
       "      <td>2124.002531</td>\n",
       "    </tr>\n",
       "    <tr>\n",
       "      <th>d7ecdf2e-4b2a-4beb-8d66-30c1fdb4a9f7</th>\n",
       "      <td>226.468539</td>\n",
       "      <td>0.000000</td>\n",
       "      <td>13215.922729</td>\n",
       "      <td>0.000000</td>\n",
       "      <td>1240.131202</td>\n",
       "      <td>0.375570</td>\n",
       "      <td>180141.263037</td>\n",
       "      <td>0.000000</td>\n",
       "      <td>521.854120</td>\n",
       "      <td>1061.172232</td>\n",
       "    </tr>\n",
       "    <tr>\n",
       "      <th>562b836f-8ced-4938-b21f-9d3d7409cc5a</th>\n",
       "      <td>60.113904</td>\n",
       "      <td>0.157779</td>\n",
       "      <td>19333.483539</td>\n",
       "      <td>1.735572</td>\n",
       "      <td>149.732533</td>\n",
       "      <td>0.000000</td>\n",
       "      <td>23977.085400</td>\n",
       "      <td>0.000000</td>\n",
       "      <td>6556.044461</td>\n",
       "      <td>122.121159</td>\n",
       "    </tr>\n",
       "    <tr>\n",
       "      <th>57e7f0ba-8789-4c64-b000-df5a0db64f9e</th>\n",
       "      <td>422.749367</td>\n",
       "      <td>1.267614</td>\n",
       "      <td>22303.673483</td>\n",
       "      <td>0.000000</td>\n",
       "      <td>1667.546602</td>\n",
       "      <td>1.267614</td>\n",
       "      <td>50039.708018</td>\n",
       "      <td>0.000000</td>\n",
       "      <td>50277.385698</td>\n",
       "      <td>1332.262622</td>\n",
       "    </tr>\n",
       "  </tbody>\n",
       "</table>\n",
       "<p>4068 rows × 10 columns</p>\n",
       "</div>"
      ],
      "text/plain": [
       "                                      hsa-mir-193a  hsa-mir-190b  \\\n",
       "                                                                   \n",
       "dc8d96ef-81eb-41c8-a486-02d107c1a137    582.008810      1.674845   \n",
       "93b8bab9-acd8-4a5a-b4ba-ec52b2ab186b    164.421068     18.765448   \n",
       "6d869125-0f2b-406a-a1aa-4b352b2247d3    260.255574      6.130217   \n",
       "41dbd6ab-871d-4ee4-be13-392b4995f6ce    177.671247     14.536738   \n",
       "322badf4-b70d-4f90-ac44-d2f30e52f03c    207.380773      0.000000   \n",
       "d681c69f-3020-463b-90c0-bd9435e3f216    856.932374     12.630427   \n",
       "28665a83-f3fe-4ebc-a421-2ab1b40ec796    121.040778      0.000000   \n",
       "c5e98c47-acf7-4ebd-8674-3938bb4f5db7    322.548838      0.000000   \n",
       "c7fcb557-2a7c-41d2-92f1-7014b9f639d3    598.823434     42.855836   \n",
       "66b21435-28b2-4721-b0c5-a51a03990240    580.607913      6.886111   \n",
       "38b76080-eeae-4c30-a6ec-955213c8c691    248.436956     55.105595   \n",
       "3d8bdeaa-ea62-4bb8-89ec-ac38ac193ffc    227.501822      0.000000   \n",
       "b81c2913-e110-44b3-8599-5e70d8d8cfbf    737.577387     16.274876   \n",
       "4f22ad5b-139e-4835-9be1-8806de694c3a    162.577187      1.058445   \n",
       "fabfc358-9e02-475a-8e17-82ee5786ae44    263.627850      1.103045   \n",
       "5d689a06-3dbe-4ae6-8fe1-d723bea5627b    471.682084      4.077943   \n",
       "4fc33c92-be6c-4239-8318-528527f49faf    869.222653     13.485824   \n",
       "fadf5601-d36f-481c-b5b5-4f3050603c75     35.055393      0.000000   \n",
       "9c322d05-b8a2-43cf-a25e-7e90cf8e85fc    222.536242      2.013903   \n",
       "484e680f-8d37-4742-af5f-09b082cb7f15    148.927768      0.000000   \n",
       "b9cec324-6497-4ce8-8483-df214ad8dec0     12.006398      0.000000   \n",
       "fa2558ac-53c0-4743-b3a2-8e7bf0cfe89b    520.437985      0.000000   \n",
       "2eebce51-c4fc-4b21-9ed0-8f2e14fc3e18    186.591590      0.773170   \n",
       "9d37685b-7c6d-4bf9-bb56-b68a19fa956a    491.255700      3.112497   \n",
       "a54bb971-d7e5-4989-9595-3fd9737cffa3    316.564153     16.302106   \n",
       "70d4200b-b990-4e35-a0ea-c47d323bdf48    457.347355      0.384973   \n",
       "bb765f2b-faf8-4ec5-8ceb-7afd1bcf0bb5     26.683735      0.000000   \n",
       "6f3f3424-7daf-40f2-924d-96e04e7d4ca2    483.263825      0.269378   \n",
       "cebd233b-8463-4cc6-95c3-9150170b18de    167.099720      1.182309   \n",
       "e8ac2a44-ae19-4463-8ef8-6ccc2733f59b    708.237880      0.306596   \n",
       "...                                            ...           ...   \n",
       "7b16e5e1-cd3e-4146-bda4-104ac993375e    327.140791      0.136879   \n",
       "12648c25-a55c-4bfc-9b11-f9f2400f0fb6    219.815269      0.000000   \n",
       "9cd3a0eb-1c36-4c63-b79d-3673c1c699de    292.472174      2.116078   \n",
       "c45503f6-8462-4761-a7cb-98808b3a06fd    521.392006      0.463048   \n",
       "342be365-6b8d-44ab-b5ed-0b504bdd4277     91.781170      0.000000   \n",
       "6318d1bc-6c5c-43db-896d-931f487e4f47    298.957651      8.756082   \n",
       "9614e482-6a3c-4a5e-9201-cdab0f0eb29f    357.937657      1.111608   \n",
       "a1c64323-099c-46e0-946a-f96cdb0a8d6f     84.893898      0.000000   \n",
       "770b1d8f-83c6-4dec-a3e1-f2928caf44a7     84.160462      2.019851   \n",
       "62fde633-3f91-4725-9a17-d6b670ff0c53    446.301072      0.655041   \n",
       "4ce411c7-5fe3-4064-b28c-ccf7650ef362     99.977928      1.128419   \n",
       "64cb2e6b-2f08-4748-8bd0-103fa9f970f8    225.110684      0.532806   \n",
       "a1ed6dca-3f6a-4824-887b-70cadb2f720c    854.607000      2.728195   \n",
       "364b8f43-b30c-4eb5-be1b-6e9437cd07ae    325.635711      0.524373   \n",
       "47e19d75-b91e-418a-992f-6d1749d38859    197.537465      2.221602   \n",
       "881d3fc7-80f4-4722-82bb-1b6c19f088dd    211.102993      0.000000   \n",
       "e513105f-81c8-4205-8601-1a7880f0dff7     30.314176      0.000000   \n",
       "5a225156-2e71-40db-b9b3-673ce8f37e0c    332.821690      1.645596   \n",
       "fcbad081-176a-4cbe-962f-4707138ddd90   1697.556339      0.198174   \n",
       "11457950-2d57-466f-8990-92d07c47a529    162.340518      0.000000   \n",
       "4e63c197-9a3c-4b2d-9efc-133ceab4bc40    144.148823      0.207408   \n",
       "dc0f20a0-b439-410e-b661-bdf65e3c17db    390.789505      0.000000   \n",
       "c1fc795e-9319-4483-9f13-ba466e839a31    153.010933      0.328350   \n",
       "d5fcc7c7-e3a7-4dd3-8c0e-512371adf47e    175.777655      0.000000   \n",
       "a2e4b2e1-e0c8-4a11-a1f3-cea88b35315c    138.973933      0.000000   \n",
       "eed5f427-c2bd-429d-97ac-cc0f4e01de76    138.663193      4.815678   \n",
       "12d172c8-5deb-447b-b651-ed10adff51d6    366.112767     89.814181   \n",
       "d7ecdf2e-4b2a-4beb-8d66-30c1fdb4a9f7    226.468539      0.000000   \n",
       "562b836f-8ced-4938-b21f-9d3d7409cc5a     60.113904      0.157779   \n",
       "57e7f0ba-8789-4c64-b000-df5a0db64f9e    422.749367      1.267614   \n",
       "\n",
       "                                        hsa-let-7b  hsa-mir-7156  \\\n",
       "                                                                   \n",
       "dc8d96ef-81eb-41c8-a486-02d107c1a137  13112.365384      0.000000   \n",
       "93b8bab9-acd8-4a5a-b4ba-ec52b2ab186b  32816.747358      0.446796   \n",
       "6d869125-0f2b-406a-a1aa-4b352b2247d3   8665.340311      0.000000   \n",
       "41dbd6ab-871d-4ee4-be13-392b4995f6ce  33663.855692      0.000000   \n",
       "322badf4-b70d-4f90-ac44-d2f30e52f03c  24500.675020      0.000000   \n",
       "d681c69f-3020-463b-90c0-bd9435e3f216  94361.331089      0.252609   \n",
       "28665a83-f3fe-4ebc-a421-2ab1b40ec796   7233.421582      0.000000   \n",
       "c5e98c47-acf7-4ebd-8674-3938bb4f5db7  16226.044899      0.000000   \n",
       "c7fcb557-2a7c-41d2-92f1-7014b9f639d3  51360.209476      0.000000   \n",
       "66b21435-28b2-4721-b0c5-a51a03990240  27556.405406      0.000000   \n",
       "38b76080-eeae-4c30-a6ec-955213c8c691  14760.603132      1.847115   \n",
       "3d8bdeaa-ea62-4bb8-89ec-ac38ac193ffc  16233.449466      0.000000   \n",
       "b81c2913-e110-44b3-8599-5e70d8d8cfbf  24961.754041      0.000000   \n",
       "4f22ad5b-139e-4835-9be1-8806de694c3a   8541.229617      1.058445   \n",
       "fabfc358-9e02-475a-8e17-82ee5786ae44  15926.596741      0.551523   \n",
       "5d689a06-3dbe-4ae6-8fe1-d723bea5627b  16920.745176      0.000000   \n",
       "4fc33c92-be6c-4239-8318-528527f49faf  39939.697934     20.841728   \n",
       "fadf5601-d36f-481c-b5b5-4f3050603c75  19457.934076      0.000000   \n",
       "9c322d05-b8a2-43cf-a25e-7e90cf8e85fc  34940.203874      0.335650   \n",
       "484e680f-8d37-4742-af5f-09b082cb7f15  11545.770306      0.000000   \n",
       "b9cec324-6497-4ce8-8483-df214ad8dec0  10141.435374      0.184714   \n",
       "fa2558ac-53c0-4743-b3a2-8e7bf0cfe89b  16402.849642      0.000000   \n",
       "2eebce51-c4fc-4b21-9ed0-8f2e14fc3e18  14428.890564      0.257723   \n",
       "9d37685b-7c6d-4bf9-bb56-b68a19fa956a  22957.255567      0.000000   \n",
       "a54bb971-d7e5-4989-9595-3fd9737cffa3  11974.086475      0.758237   \n",
       "70d4200b-b990-4e35-a0ea-c47d323bdf48  11817.886439      0.000000   \n",
       "bb765f2b-faf8-4ec5-8ceb-7afd1bcf0bb5  16208.358296      0.000000   \n",
       "6f3f3424-7daf-40f2-924d-96e04e7d4ca2  10281.612970      0.000000   \n",
       "cebd233b-8463-4cc6-95c3-9150170b18de  16283.158358      2.364619   \n",
       "e8ac2a44-ae19-4463-8ef8-6ccc2733f59b  20523.262088      0.000000   \n",
       "...                                            ...           ...   \n",
       "7b16e5e1-cd3e-4146-bda4-104ac993375e  15844.701476      0.410637   \n",
       "12648c25-a55c-4bfc-9b11-f9f2400f0fb6  20288.195058      0.000000   \n",
       "9cd3a0eb-1c36-4c63-b79d-3673c1c699de   1732.765378      2.267226   \n",
       "c45503f6-8462-4761-a7cb-98808b3a06fd  19307.016311      0.231524   \n",
       "342be365-6b8d-44ab-b5ed-0b504bdd4277   5499.571475      3.284416   \n",
       "6318d1bc-6c5c-43db-896d-931f487e4f47   6193.468547      1.667825   \n",
       "9614e482-6a3c-4a5e-9201-cdab0f0eb29f  22473.371439      0.000000   \n",
       "a1c64323-099c-46e0-946a-f96cdb0a8d6f   8164.133658      0.000000   \n",
       "770b1d8f-83c6-4dec-a3e1-f2928caf44a7   4570.474176      0.224428   \n",
       "62fde633-3f91-4725-9a17-d6b670ff0c53  18005.104077      0.218347   \n",
       "4ce411c7-5fe3-4064-b28c-ccf7650ef362  22758.181151      0.000000   \n",
       "64cb2e6b-2f08-4748-8bd0-103fa9f970f8  13184.293188      0.000000   \n",
       "a1ed6dca-3f6a-4824-887b-70cadb2f720c   9811.270309      0.000000   \n",
       "364b8f43-b30c-4eb5-be1b-6e9437cd07ae   9823.606124      0.000000   \n",
       "47e19d75-b91e-418a-992f-6d1749d38859  16088.658221      0.740534   \n",
       "881d3fc7-80f4-4722-82bb-1b6c19f088dd  13340.078008      0.000000   \n",
       "e513105f-81c8-4205-8601-1a7880f0dff7   8058.265867      0.000000   \n",
       "5a225156-2e71-40db-b9b3-673ce8f37e0c   4351.365906      0.000000   \n",
       "fcbad081-176a-4cbe-962f-4707138ddd90  17917.086878      0.000000   \n",
       "11457950-2d57-466f-8990-92d07c47a529  13427.052878      0.000000   \n",
       "4e63c197-9a3c-4b2d-9efc-133ceab4bc40  19252.682724      3.525942   \n",
       "dc0f20a0-b439-410e-b661-bdf65e3c17db   9641.657043      0.638806   \n",
       "c1fc795e-9319-4483-9f13-ba466e839a31  15080.770729      0.328350   \n",
       "d5fcc7c7-e3a7-4dd3-8c0e-512371adf47e  18603.827155      0.000000   \n",
       "a2e4b2e1-e0c8-4a11-a1f3-cea88b35315c  14490.770819      0.000000   \n",
       "eed5f427-c2bd-429d-97ac-cc0f4e01de76  18488.803478      0.000000   \n",
       "12d172c8-5deb-447b-b651-ed10adff51d6  45632.459805      0.685604   \n",
       "d7ecdf2e-4b2a-4beb-8d66-30c1fdb4a9f7  13215.922729      0.000000   \n",
       "562b836f-8ced-4938-b21f-9d3d7409cc5a  19333.483539      1.735572   \n",
       "57e7f0ba-8789-4c64-b000-df5a0db64f9e  22303.673483      0.000000   \n",
       "\n",
       "                                      hsa-mir-199b  hsa-mir-1245a  \\\n",
       "                                                                    \n",
       "dc8d96ef-81eb-41c8-a486-02d107c1a137   3178.856750       1.674845   \n",
       "93b8bab9-acd8-4a5a-b4ba-ec52b2ab186b   3212.019180       4.914760   \n",
       "6d869125-0f2b-406a-a1aa-4b352b2247d3    763.490657       0.557292   \n",
       "41dbd6ab-871d-4ee4-be13-392b4995f6ce   8101.808855       1.615193   \n",
       "322badf4-b70d-4f90-ac44-d2f30e52f03c    781.602434       0.000000   \n",
       "d681c69f-3020-463b-90c0-bd9435e3f216   3217.643393       1.178840   \n",
       "28665a83-f3fe-4ebc-a421-2ab1b40ec796   1732.241743       0.000000   \n",
       "c5e98c47-acf7-4ebd-8674-3938bb4f5db7     97.488854       0.000000   \n",
       "c7fcb557-2a7c-41d2-92f1-7014b9f639d3   9054.936162       3.088709   \n",
       "66b21435-28b2-4721-b0c5-a51a03990240   3005.243955       0.724854   \n",
       "38b76080-eeae-4c30-a6ec-955213c8c691   1007.909038       2.154967   \n",
       "3d8bdeaa-ea62-4bb8-89ec-ac38ac193ffc   1102.234050       0.669780   \n",
       "b81c2913-e110-44b3-8599-5e70d8d8cfbf   3096.132438       1.301990   \n",
       "4f22ad5b-139e-4835-9be1-8806de694c3a   2586.840139       0.635067   \n",
       "fabfc358-9e02-475a-8e17-82ee5786ae44   1532.130058       0.827284   \n",
       "5d689a06-3dbe-4ae6-8fe1-d723bea5627b   1863.619990       1.359314   \n",
       "4fc33c92-be6c-4239-8318-528527f49faf   1029.009233       2.451968   \n",
       "fadf5601-d36f-481c-b5b5-4f3050603c75     14.606414       0.000000   \n",
       "9c322d05-b8a2-43cf-a25e-7e90cf8e85fc   1026.083396       3.356504   \n",
       "484e680f-8d37-4742-af5f-09b082cb7f15    592.165174       0.322354   \n",
       "b9cec324-6497-4ce8-8483-df214ad8dec0     14.961820       0.000000   \n",
       "fa2558ac-53c0-4743-b3a2-8e7bf0cfe89b   7847.424853      11.142294   \n",
       "2eebce51-c4fc-4b21-9ed0-8f2e14fc3e18   1854.060635       2.319509   \n",
       "9d37685b-7c6d-4bf9-bb56-b68a19fa956a   3166.965207       0.518749   \n",
       "a54bb971-d7e5-4989-9595-3fd9737cffa3   1286.349905       0.379119   \n",
       "70d4200b-b990-4e35-a0ea-c47d323bdf48   8306.167106       2.694808   \n",
       "bb765f2b-faf8-4ec5-8ceb-7afd1bcf0bb5     14.803990       0.000000   \n",
       "6f3f3424-7daf-40f2-924d-96e04e7d4ca2   1035.757752       0.000000   \n",
       "cebd233b-8463-4cc6-95c3-9150170b18de   5154.474627       3.152825   \n",
       "e8ac2a44-ae19-4463-8ef8-6ccc2733f59b   1542.793511       0.919789   \n",
       "...                                            ...            ...   \n",
       "7b16e5e1-cd3e-4146-bda4-104ac993375e   3920.077452       1.231911   \n",
       "12648c25-a55c-4bfc-9b11-f9f2400f0fb6    797.907876       0.000000   \n",
       "9cd3a0eb-1c36-4c63-b79d-3673c1c699de   1125.753361       0.453445   \n",
       "c45503f6-8462-4761-a7cb-98808b3a06fd   1525.511512       5.325052   \n",
       "342be365-6b8d-44ab-b5ed-0b504bdd4277     34.121429       0.000000   \n",
       "6318d1bc-6c5c-43db-896d-931f487e4f47   7629.049010      10.006951   \n",
       "9614e482-6a3c-4a5e-9201-cdab0f0eb29f   2481.108228       0.000000   \n",
       "a1c64323-099c-46e0-946a-f96cdb0a8d6f   3171.417827       1.704697   \n",
       "770b1d8f-83c6-4dec-a3e1-f2928caf44a7   1724.952836       2.693135   \n",
       "62fde633-3f91-4725-9a17-d6b670ff0c53   2914.494479       3.493550   \n",
       "4ce411c7-5fe3-4064-b28c-ccf7650ef362   1229.525400       0.000000   \n",
       "64cb2e6b-2f08-4748-8bd0-103fa9f970f8   2983.449170       0.532806   \n",
       "a1ed6dca-3f6a-4824-887b-70cadb2f720c   9522.081667       2.046146   \n",
       "364b8f43-b30c-4eb5-be1b-6e9437cd07ae    809.632105       2.097493   \n",
       "47e19d75-b91e-418a-992f-6d1749d38859   2113.484255       0.000000   \n",
       "881d3fc7-80f4-4722-82bb-1b6c19f088dd    589.874491       0.000000   \n",
       "e513105f-81c8-4205-8601-1a7880f0dff7     12.041464       0.000000   \n",
       "5a225156-2e71-40db-b9b3-673ce8f37e0c   1206.632902       0.822798   \n",
       "fcbad081-176a-4cbe-962f-4707138ddd90   2639.476171       3.368954   \n",
       "11457950-2d57-466f-8990-92d07c47a529   3478.407264       0.445379   \n",
       "4e63c197-9a3c-4b2d-9efc-133ceab4bc40     58.903979       0.000000   \n",
       "dc0f20a0-b439-410e-b661-bdf65e3c17db   1304.920738       1.597015   \n",
       "c1fc795e-9319-4483-9f13-ba466e839a31   1432.261140       2.955147   \n",
       "d5fcc7c7-e3a7-4dd3-8c0e-512371adf47e    377.391395       0.461359   \n",
       "a2e4b2e1-e0c8-4a11-a1f3-cea88b35315c   2499.772271       1.356579   \n",
       "eed5f427-c2bd-429d-97ac-cc0f4e01de76   1856.727070       0.991463   \n",
       "12d172c8-5deb-447b-b651-ed10adff51d6   2278.949133       4.799231   \n",
       "d7ecdf2e-4b2a-4beb-8d66-30c1fdb4a9f7   1240.131202       0.375570   \n",
       "562b836f-8ced-4938-b21f-9d3d7409cc5a    149.732533       0.000000   \n",
       "57e7f0ba-8789-4c64-b000-df5a0db64f9e   1667.546602       1.267614   \n",
       "\n",
       "                                        hsa-mir-30a  hsa-mir-5691  \\\n",
       "                                                                    \n",
       "dc8d96ef-81eb-41c8-a486-02d107c1a137   12975.028054      0.000000   \n",
       "93b8bab9-acd8-4a5a-b4ba-ec52b2ab186b  101498.286983      0.000000   \n",
       "6d869125-0f2b-406a-a1aa-4b352b2247d3    2901.264497      0.000000   \n",
       "41dbd6ab-871d-4ee4-be13-392b4995f6ce  112420.673826      1.615193   \n",
       "322badf4-b70d-4f90-ac44-d2f30e52f03c  191970.563497      0.000000   \n",
       "d681c69f-3020-463b-90c0-bd9435e3f216   60858.618115      0.252609   \n",
       "28665a83-f3fe-4ebc-a421-2ab1b40ec796  160940.388035      0.000000   \n",
       "c5e98c47-acf7-4ebd-8674-3938bb4f5db7  108061.102671      0.000000   \n",
       "c7fcb557-2a7c-41d2-92f1-7014b9f639d3   22200.867232      0.772177   \n",
       "66b21435-28b2-4721-b0c5-a51a03990240   25681.933417      0.000000   \n",
       "38b76080-eeae-4c30-a6ec-955213c8c691    7214.830855      2.154967   \n",
       "3d8bdeaa-ea62-4bb8-89ec-ac38ac193ffc  138821.656655      0.000000   \n",
       "b81c2913-e110-44b3-8599-5e70d8d8cfbf   32019.191334      0.000000   \n",
       "4f22ad5b-139e-4835-9be1-8806de694c3a    3091.718513      0.000000   \n",
       "fabfc358-9e02-475a-8e17-82ee5786ae44   16478.670963      0.275761   \n",
       "5d689a06-3dbe-4ae6-8fe1-d723bea5627b   66379.398232      0.000000   \n",
       "4fc33c92-be6c-4239-8318-528527f49faf   12736.339065      1.225984   \n",
       "fadf5601-d36f-481c-b5b5-4f3050603c75   16848.680840      0.000000   \n",
       "9c322d05-b8a2-43cf-a25e-7e90cf8e85fc   71057.869492      0.671301   \n",
       "484e680f-8d37-4742-af5f-09b082cb7f15  129453.689750      0.000000   \n",
       "b9cec324-6497-4ce8-8483-df214ad8dec0   24014.367041      0.092357   \n",
       "fa2558ac-53c0-4743-b3a2-8e7bf0cfe89b   21500.449174      0.000000   \n",
       "2eebce51-c4fc-4b21-9ed0-8f2e14fc3e18   12670.187509      0.000000   \n",
       "9d37685b-7c6d-4bf9-bb56-b68a19fa956a   11973.255355      0.000000   \n",
       "a54bb971-d7e5-4989-9595-3fd9737cffa3   32058.281167      0.000000   \n",
       "70d4200b-b990-4e35-a0ea-c47d323bdf48   12483.696414      0.000000   \n",
       "bb765f2b-faf8-4ec5-8ceb-7afd1bcf0bb5   17385.184094      0.000000   \n",
       "6f3f3424-7daf-40f2-924d-96e04e7d4ca2    5630.804755      0.000000   \n",
       "cebd233b-8463-4cc6-95c3-9150170b18de   19439.924301      0.000000   \n",
       "e8ac2a44-ae19-4463-8ef8-6ccc2733f59b   22734.742533      0.613193   \n",
       "...                                             ...           ...   \n",
       "7b16e5e1-cd3e-4146-bda4-104ac993375e    5414.385407      0.000000   \n",
       "12648c25-a55c-4bfc-9b11-f9f2400f0fb6  165129.755660      0.000000   \n",
       "9cd3a0eb-1c36-4c63-b79d-3673c1c699de   24847.438352      0.000000   \n",
       "c45503f6-8462-4761-a7cb-98808b3a06fd    2308.757140      0.000000   \n",
       "342be365-6b8d-44ab-b5ed-0b504bdd4277   60905.290774      0.000000   \n",
       "6318d1bc-6c5c-43db-896d-931f487e4f47   13562.753796      0.833913   \n",
       "9614e482-6a3c-4a5e-9201-cdab0f0eb29f    9303.044249      0.000000   \n",
       "a1c64323-099c-46e0-946a-f96cdb0a8d6f  250852.604078      0.000000   \n",
       "770b1d8f-83c6-4dec-a3e1-f2928caf44a7   18441.016084      0.000000   \n",
       "62fde633-3f91-4725-9a17-d6b670ff0c53   45365.717964      0.000000   \n",
       "4ce411c7-5fe3-4064-b28c-ccf7650ef362   10464.958300      0.000000   \n",
       "64cb2e6b-2f08-4748-8bd0-103fa9f970f8   14144.410235      0.000000   \n",
       "a1ed6dca-3f6a-4824-887b-70cadb2f720c    8371.465538      0.000000   \n",
       "364b8f43-b30c-4eb5-be1b-6e9437cd07ae   89769.008395      0.000000   \n",
       "47e19d75-b91e-418a-992f-6d1749d38859   16331.368264      0.000000   \n",
       "881d3fc7-80f4-4722-82bb-1b6c19f088dd  156141.864246      0.000000   \n",
       "e513105f-81c8-4205-8601-1a7880f0dff7   36620.451021      0.000000   \n",
       "5a225156-2e71-40db-b9b3-673ce8f37e0c   13455.623020      0.000000   \n",
       "fcbad081-176a-4cbe-962f-4707138ddd90   59543.879334      0.000000   \n",
       "11457950-2d57-466f-8990-92d07c47a529  185536.951842      0.000000   \n",
       "4e63c197-9a3c-4b2d-9efc-133ceab4bc40   27092.304610      0.000000   \n",
       "dc0f20a0-b439-410e-b661-bdf65e3c17db   19846.421481      0.000000   \n",
       "c1fc795e-9319-4483-9f13-ba466e839a31   12698.922422      0.000000   \n",
       "d5fcc7c7-e3a7-4dd3-8c0e-512371adf47e  242011.228547      0.000000   \n",
       "a2e4b2e1-e0c8-4a11-a1f3-cea88b35315c   16292.658805      0.000000   \n",
       "eed5f427-c2bd-429d-97ac-cc0f4e01de76   23473.454922      0.000000   \n",
       "12d172c8-5deb-447b-b651-ed10adff51d6   41072.504726      0.685604   \n",
       "d7ecdf2e-4b2a-4beb-8d66-30c1fdb4a9f7  180141.263037      0.000000   \n",
       "562b836f-8ced-4938-b21f-9d3d7409cc5a   23977.085400      0.000000   \n",
       "57e7f0ba-8789-4c64-b000-df5a0db64f9e   50039.708018      0.000000   \n",
       "\n",
       "                                        hsa-mir-182  hsa-mir-199a-2  \n",
       "                                                                     \n",
       "dc8d96ef-81eb-41c8-a486-02d107c1a137  123481.333847     2552.464535  \n",
       "93b8bab9-acd8-4a5a-b4ba-ec52b2ab186b   75658.265108     2749.584926  \n",
       "6d869125-0f2b-406a-a1aa-4b352b2247d3   54528.279805      614.136280  \n",
       "41dbd6ab-871d-4ee4-be13-392b4995f6ce   27656.952357     5737.166079  \n",
       "322badf4-b70d-4f90-ac44-d2f30e52f03c     939.410113      627.925845  \n",
       "d681c69f-3020-463b-90c0-bd9435e3f216   42137.799138     2442.808795  \n",
       "28665a83-f3fe-4ebc-a421-2ab1b40ec796    2213.934634     1573.530111  \n",
       "c5e98c47-acf7-4ebd-8674-3938bb4f5db7    3512.384148       76.876925  \n",
       "c7fcb557-2a7c-41d2-92f1-7014b9f639d3   45357.303773     6631.457959  \n",
       "66b21435-28b2-4721-b0c5-a51a03990240   47523.953701     2635.930932  \n",
       "38b76080-eeae-4c30-a6ec-955213c8c691  276067.947969      964.809690  \n",
       "3d8bdeaa-ea62-4bb8-89ec-ac38ac193ffc    1314.330940     1019.404633  \n",
       "b81c2913-e110-44b3-8599-5e70d8d8cfbf   50068.028982     2437.325452  \n",
       "4f22ad5b-139e-4835-9be1-8806de694c3a   38390.866888     1839.154429  \n",
       "fabfc358-9e02-475a-8e17-82ee5786ae44    6132.380890     1174.191826  \n",
       "5d689a06-3dbe-4ae6-8fe1-d723bea5627b    7381.076985     1409.608993  \n",
       "4fc33c92-be6c-4239-8318-528527f49faf   46568.593396      841.433682  \n",
       "fadf5601-d36f-481c-b5b5-4f3050603c75     552.670180       11.685131  \n",
       "9c322d05-b8a2-43cf-a25e-7e90cf8e85fc   88109.247505      799.519349  \n",
       "484e680f-8d37-4742-af5f-09b082cb7f15    1704.288120      646.965436  \n",
       "b9cec324-6497-4ce8-8483-df214ad8dec0    2404.050405       14.592392  \n",
       "fa2558ac-53c0-4743-b3a2-8e7bf0cfe89b   18708.840250     6547.954809  \n",
       "2eebce51-c4fc-4b21-9ed0-8f2e14fc3e18   20204.724994     1345.315056  \n",
       "9d37685b-7c6d-4bf9-bb56-b68a19fa956a   11750.193104     2277.828702  \n",
       "a54bb971-d7e5-4989-9595-3fd9737cffa3   48055.954894     1043.334789  \n",
       "70d4200b-b990-4e35-a0ea-c47d323bdf48   17720.092640     5781.709802  \n",
       "bb765f2b-faf8-4ec5-8ceb-7afd1bcf0bb5     605.684220       16.083347  \n",
       "6f3f3424-7daf-40f2-924d-96e04e7d4ca2   33546.967910      819.177977  \n",
       "cebd233b-8463-4cc6-95c3-9150170b18de   16103.053235     3725.456736  \n",
       "e8ac2a44-ae19-4463-8ef8-6ccc2733f59b   28684.553914     1057.757872  \n",
       "...                                             ...             ...  \n",
       "7b16e5e1-cd3e-4146-bda4-104ac993375e   24983.290497     3060.614261  \n",
       "12648c25-a55c-4bfc-9b11-f9f2400f0fb6    2978.281389      602.875701  \n",
       "9cd3a0eb-1c36-4c63-b79d-3673c1c699de   40296.921984      835.850710  \n",
       "c45503f6-8462-4761-a7cb-98808b3a06fd   20088.178223     1242.589207  \n",
       "342be365-6b8d-44ab-b5ed-0b504bdd4277    1076.375983       20.253896  \n",
       "6318d1bc-6c5c-43db-896d-931f487e4f47   62334.546537     5888.256552  \n",
       "9614e482-6a3c-4a5e-9201-cdab0f0eb29f   16140.542776     1689.643596  \n",
       "a1c64323-099c-46e0-946a-f96cdb0a8d6f   14805.291242     2249.858766  \n",
       "770b1d8f-83c6-4dec-a3e1-f2928caf44a7   84519.771425     1349.709388  \n",
       "62fde633-3f91-4725-9a17-d6b670ff0c53   16906.819148     2098.750444  \n",
       "4ce411c7-5fe3-4064-b28c-ccf7650ef362   37619.685767      828.936637  \n",
       "64cb2e6b-2f08-4748-8bd0-103fa9f970f8    8696.465283     2303.588264  \n",
       "a1ed6dca-3f6a-4824-887b-70cadb2f720c   22301.627846     6569.492917  \n",
       "364b8f43-b30c-4eb5-be1b-6e9437cd07ae    5095.858029      727.829898  \n",
       "47e19d75-b91e-418a-992f-6d1749d38859   20103.093452     1669.163809  \n",
       "881d3fc7-80f4-4722-82bb-1b6c19f088dd     929.953258      462.985091  \n",
       "e513105f-81c8-4205-8601-1a7880f0dff7    1774.895012        9.767901  \n",
       "5a225156-2e71-40db-b9b3-673ce8f37e0c   26966.373490      968.844352  \n",
       "fcbad081-176a-4cbe-962f-4707138ddd90    7931.507981     2014.634339  \n",
       "11457950-2d57-466f-8990-92d07c47a529    7810.160022     2927.473872  \n",
       "4e63c197-9a3c-4b2d-9efc-133ceab4bc40    5145.387051       46.252068  \n",
       "dc0f20a0-b439-410e-b661-bdf65e3c17db   24137.440365     1073.832706  \n",
       "c1fc795e-9319-4483-9f13-ba466e839a31   26013.828774     1034.301374  \n",
       "d5fcc7c7-e3a7-4dd3-8c0e-512371adf47e     384.773134      327.103300  \n",
       "a2e4b2e1-e0c8-4a11-a1f3-cea88b35315c     211.174057     2061.346189  \n",
       "eed5f427-c2bd-429d-97ac-cc0f4e01de76   12069.788236     1233.380069  \n",
       "12d172c8-5deb-447b-b651-ed10adff51d6   79406.705348     2124.002531  \n",
       "d7ecdf2e-4b2a-4beb-8d66-30c1fdb4a9f7     521.854120     1061.172232  \n",
       "562b836f-8ced-4938-b21f-9d3d7409cc5a    6556.044461      122.121159  \n",
       "57e7f0ba-8789-4c64-b000-df5a0db64f9e   50277.385698     1332.262622  \n",
       "\n",
       "[4068 rows x 10 columns]"
      ]
     },
     "execution_count": 454,
     "metadata": {},
     "output_type": "execute_result"
    }
   ],
   "source": [
    "df.iloc[:, masks[0]]"
   ]
  },
  {
   "cell_type": "markdown",
   "metadata": {},
   "source": [
    "### Random Forest "
   ]
  },
  {
   "cell_type": "code",
   "execution_count": 322,
   "metadata": {},
   "outputs": [
    {
     "name": "stdout",
     "output_type": "stream",
     "text": [
      "[........................................] 100% | 102.84 sec | GridSearchCV \n",
      "Random Forest:\n",
      "Train Score: 0.98656178302196\n",
      "Test Score: 0.983284169124877\n"
     ]
    }
   ],
   "source": [
    "rf = RandomForestClassifier()\n",
    "rf_params =  {\n",
    "        'n_estimators' : [20, 60, 100],\n",
    "        'max_depth' : [None, 2, 6, 10],\n",
    "        'min_samples_split' : [2, 3, 4] \n",
    "}\n",
    "\n",
    "gs_rf = GridSearchCVProgressBar(rf, param_grid = rf_params)\n",
    "gs_rf.fit(X_train_sc, y_train)\n",
    "print(f'Random Forest:')\n",
    "print(f'Train Score: {gs_rf.best_score_}')\n",
    "print(f'Test Score: {gs_rf.score(X_test_sc, y_test)}')"
   ]
  },
  {
   "cell_type": "code",
   "execution_count": 335,
   "metadata": {},
   "outputs": [],
   "source": [
    "rf_feature_importances = gs_rf.best_estimator_.feature_importances_"
   ]
  },
  {
   "cell_type": "code",
   "execution_count": 336,
   "metadata": {},
   "outputs": [
    {
     "data": {
      "text/plain": [
       "0.019369082980210447"
      ]
     },
     "execution_count": 336,
     "metadata": {},
     "output_type": "execute_result"
    }
   ],
   "source": [
    "rf_feature_importances.max()"
   ]
  },
  {
   "cell_type": "code",
   "execution_count": 397,
   "metadata": {},
   "outputs": [
    {
     "data": {
      "text/html": [
       "<div>\n",
       "<style scoped>\n",
       "    .dataframe tbody tr th:only-of-type {\n",
       "        vertical-align: middle;\n",
       "    }\n",
       "\n",
       "    .dataframe tbody tr th {\n",
       "        vertical-align: top;\n",
       "    }\n",
       "\n",
       "    .dataframe thead th {\n",
       "        text-align: right;\n",
       "    }\n",
       "</style>\n",
       "<table border=\"1\" class=\"dataframe\">\n",
       "  <thead>\n",
       "    <tr style=\"text-align: right;\">\n",
       "      <th></th>\n",
       "      <th>miRNA</th>\n",
       "      <th>importance</th>\n",
       "    </tr>\n",
       "  </thead>\n",
       "  <tbody>\n",
       "    <tr>\n",
       "      <th>26</th>\n",
       "      <td>hsa-mir-10b</td>\n",
       "      <td>0.019369</td>\n",
       "    </tr>\n",
       "    <tr>\n",
       "      <th>1874</th>\n",
       "      <td>hsa-mir-944</td>\n",
       "      <td>0.018755</td>\n",
       "    </tr>\n",
       "    <tr>\n",
       "      <th>276</th>\n",
       "      <td>hsa-mir-205</td>\n",
       "      <td>0.014579</td>\n",
       "    </tr>\n",
       "    <tr>\n",
       "      <th>328</th>\n",
       "      <td>hsa-mir-27b</td>\n",
       "      <td>0.014232</td>\n",
       "    </tr>\n",
       "    <tr>\n",
       "      <th>256</th>\n",
       "      <td>hsa-mir-196b</td>\n",
       "      <td>0.012800</td>\n",
       "    </tr>\n",
       "  </tbody>\n",
       "</table>\n",
       "</div>"
      ],
      "text/plain": [
       "             miRNA  importance\n",
       "26     hsa-mir-10b    0.019369\n",
       "1874   hsa-mir-944    0.018755\n",
       "276    hsa-mir-205    0.014579\n",
       "328    hsa-mir-27b    0.014232\n",
       "256   hsa-mir-196b    0.012800"
      ]
     },
     "execution_count": 397,
     "metadata": {},
     "output_type": "execute_result"
    }
   ],
   "source": [
    "rf_features = pd.DataFrame(list(zip(features, rf_feature_importances)), columns=['miRNA', 'importance'])\n",
    "rf_features.sort_values(by='importance', ascending=False).head()"
   ]
  },
  {
   "cell_type": "code",
   "execution_count": 331,
   "metadata": {},
   "outputs": [],
   "source": [
    "rf_preds = gs_rf.best_estimator_.predict(X_test_sc)"
   ]
  },
  {
   "cell_type": "code",
   "execution_count": 333,
   "metadata": {},
   "outputs": [
    {
     "data": {
      "text/plain": [
       "array([[288,   2,   0,   2,   2,   0],\n",
       "       [  3, 125,   0,   1,   0,   0],\n",
       "       [  2,   0, 144,   0,   0,   0],\n",
       "       [  1,   1,   1, 157,   0,   0],\n",
       "       [  1,   1,   0,   0, 140,   0],\n",
       "       [  0,   0,   0,   0,   0, 146]])"
      ]
     },
     "execution_count": 333,
     "metadata": {},
     "output_type": "execute_result"
    }
   ],
   "source": [
    "confusion_matrix(y_test, rf_preds)"
   ]
  },
  {
   "cell_type": "markdown",
   "metadata": {},
   "source": [
    "### ExtraTrees "
   ]
  },
  {
   "cell_type": "code",
   "execution_count": 334,
   "metadata": {},
   "outputs": [
    {
     "name": "stdout",
     "output_type": "stream",
     "text": [
      "[........................................] 100% | 106.47 sec | GridSearchCV \n",
      "Extra-Trees:\n",
      "Train Score: 0.9750901343821697\n",
      "Test Score: 0.9724680432645034\n"
     ]
    }
   ],
   "source": [
    "et = ExtraTreesClassifier()\n",
    "et_params = {\n",
    "        'n_estimators' : [20, 60, 100],\n",
    "        'max_depth' : [None, 6, 10, 14],\n",
    "        'min_samples_leaf' : [1, 2], \n",
    "        'min_samples_split' : [2, 3], \n",
    "}\n",
    "gs_et = GridSearchCVProgressBar(et, param_grid = et_params)\n",
    "gs_et.fit(X_train_sc, y_train)\n",
    "print(f'Extra-Trees:')\n",
    "print(f'Train Score: {gs_et.best_score_}')\n",
    "print(f'Test Score: {gs_et.score(X_test_sc, y_test)}')"
   ]
  },
  {
   "cell_type": "code",
   "execution_count": 366,
   "metadata": {},
   "outputs": [
    {
     "data": {
      "text/plain": [
       "array([0.00066728, 0.00032926, 0.00048516, ..., 0.00034633, 0.00239011,\n",
       "       0.00177722])"
      ]
     },
     "execution_count": 366,
     "metadata": {},
     "output_type": "execute_result"
    }
   ],
   "source": [
    "et_feature_importances = gs_et.best_estimator_.feature_importances_\n",
    "et_feature_importances"
   ]
  },
  {
   "cell_type": "code",
   "execution_count": 369,
   "metadata": {},
   "outputs": [],
   "source": [
    "et_features = pd.DataFrame(list(zip(features, et_feature_importances)), columns=['miRNA', 'importance'])"
   ]
  },
  {
   "cell_type": "code",
   "execution_count": 373,
   "metadata": {},
   "outputs": [
    {
     "data": {
      "text/html": [
       "<div>\n",
       "<style scoped>\n",
       "    .dataframe tbody tr th:only-of-type {\n",
       "        vertical-align: middle;\n",
       "    }\n",
       "\n",
       "    .dataframe tbody tr th {\n",
       "        vertical-align: top;\n",
       "    }\n",
       "\n",
       "    .dataframe thead th {\n",
       "        text-align: right;\n",
       "    }\n",
       "</style>\n",
       "<table border=\"1\" class=\"dataframe\">\n",
       "  <thead>\n",
       "    <tr style=\"text-align: right;\">\n",
       "      <th></th>\n",
       "      <th>miRNA</th>\n",
       "      <th>importance</th>\n",
       "    </tr>\n",
       "  </thead>\n",
       "  <tbody>\n",
       "    <tr>\n",
       "      <th>1848</th>\n",
       "      <td>hsa-mir-9-1</td>\n",
       "      <td>0.020861</td>\n",
       "    </tr>\n",
       "    <tr>\n",
       "      <th>1849</th>\n",
       "      <td>hsa-mir-9-2</td>\n",
       "      <td>0.018293</td>\n",
       "    </tr>\n",
       "    <tr>\n",
       "      <th>1850</th>\n",
       "      <td>hsa-mir-9-3</td>\n",
       "      <td>0.014175</td>\n",
       "    </tr>\n",
       "    <tr>\n",
       "      <th>271</th>\n",
       "      <td>hsa-mir-200c</td>\n",
       "      <td>0.010870</td>\n",
       "    </tr>\n",
       "    <tr>\n",
       "      <th>352</th>\n",
       "      <td>hsa-mir-30a</td>\n",
       "      <td>0.009182</td>\n",
       "    </tr>\n",
       "  </tbody>\n",
       "</table>\n",
       "</div>"
      ],
      "text/plain": [
       "             miRNA  importance\n",
       "1848   hsa-mir-9-1    0.020861\n",
       "1849   hsa-mir-9-2    0.018293\n",
       "1850   hsa-mir-9-3    0.014175\n",
       "271   hsa-mir-200c    0.010870\n",
       "352    hsa-mir-30a    0.009182"
      ]
     },
     "execution_count": 373,
     "metadata": {},
     "output_type": "execute_result"
    }
   ],
   "source": [
    "et_features.sort_values(by='importance', ascending=False).head()"
   ]
  },
  {
   "cell_type": "code",
   "execution_count": 342,
   "metadata": {},
   "outputs": [],
   "source": [
    "et_preds = gs_et.best_estimator_.predict(X_test_sc)"
   ]
  },
  {
   "cell_type": "code",
   "execution_count": 343,
   "metadata": {
    "scrolled": true
   },
   "outputs": [
    {
     "data": {
      "text/plain": [
       "array([[292,   0,   0,   1,   1,   0],\n",
       "       [  9, 120,   0,   0,   0,   0],\n",
       "       [  2,   0, 144,   0,   0,   0],\n",
       "       [  8,   3,   0, 149,   0,   0],\n",
       "       [  3,   1,   0,   0, 138,   0],\n",
       "       [  0,   0,   0,   0,   0, 146]])"
      ]
     },
     "execution_count": 343,
     "metadata": {},
     "output_type": "execute_result"
    }
   ],
   "source": [
    "confusion_matrix(y_test, et_preds)"
   ]
  },
  {
   "cell_type": "code",
   "execution_count": null,
   "metadata": {},
   "outputs": [],
   "source": [
    "dot_data = StringIO()  \n",
    "\n",
    "export_graphviz(\n",
    "    model, \n",
    "    out_file = dot_data,  \n",
    "    filled=True, rounded=True, proportion=False,\n",
    "    special_characters=True, \n",
    "    feature_names=food_encoded.columns,\n",
    "    class_names=[\"Bacon\", \"Vegetable\"]\n",
    ")  \n",
    "\n",
    "graph = pydotplus.graph_from_dot_data(dot_data.getvalue())  \n",
    "\n",
    "Image(graph.create_png())  "
   ]
  },
  {
   "cell_type": "markdown",
   "metadata": {},
   "source": [
    "### PCA"
   ]
  },
  {
   "cell_type": "code",
   "execution_count": 350,
   "metadata": {},
   "outputs": [
    {
     "data": {
      "text/plain": [
       "PCA(copy=True, iterated_power='auto', n_components=None, random_state=None,\n",
       "  svd_solver='auto', tol=0.0, whiten=False)"
      ]
     },
     "execution_count": 350,
     "metadata": {},
     "output_type": "execute_result"
    }
   ],
   "source": [
    "# Instantiate PCA\n",
    "pca = PCA()\n",
    "\n",
    "# Fit PCA\n",
    "pca.fit(X_train_sc)"
   ]
  },
  {
   "cell_type": "code",
   "execution_count": 351,
   "metadata": {},
   "outputs": [],
   "source": [
    "# Create Z_train.\n",
    "Z_train = pca.transform(X_train_sc)"
   ]
  },
  {
   "cell_type": "code",
   "execution_count": 352,
   "metadata": {},
   "outputs": [],
   "source": [
    "# Create Z_test.\n",
    "Z_test = pca.transform(X_test_sc)"
   ]
  },
  {
   "cell_type": "code",
   "execution_count": 353,
   "metadata": {},
   "outputs": [],
   "source": [
    "# import seaborn as sns\n",
    "# sns.pairplot(X_train)\n",
    "# sns.pairplot(Z_train)"
   ]
  },
  {
   "cell_type": "code",
   "execution_count": 354,
   "metadata": {},
   "outputs": [
    {
     "name": "stdout",
     "output_type": "stream",
     "text": [
      "Explained variance:\n",
      " [4.71214370e-02 3.60645488e-02 2.69483411e-02 ... 3.44986302e-35\n",
      " 3.39262944e-35 3.04850334e-36]\n"
     ]
    }
   ],
   "source": [
    "# Examine explained variance.\n",
    "var_exp = pca.explained_variance_ratio_\n",
    "print('Explained variance:\\n', var_exp)"
   ]
  },
  {
   "cell_type": "code",
   "execution_count": 430,
   "metadata": {},
   "outputs": [
    {
     "name": "stdout",
     "output_type": "stream",
     "text": [
      "Cumulative explained variance:  [0.04712144 0.08318599 0.11013433 0.13119128 0.14700804 0.1603982\n",
      " 0.17071106 0.17991829 0.18868062 0.19687483 0.20413906 0.21108357\n",
      " 0.21766217 0.22406452 0.23028824 0.23615254 0.24182957 0.24727285\n",
      " 0.25238765 0.25731855 0.26189589 0.26638641 0.27078544 0.27507337\n",
      " 0.27898831 0.28285182 0.28664518 0.29031357 0.29385939 0.29735293\n",
      " 0.30077588 0.30408806 0.307353   0.31048702 0.31358217 0.31663603\n",
      " 0.31951889 0.32236274 0.32514288 0.32785589 0.33053962 0.33311215\n",
      " 0.33568262 0.33816691 0.34063757 0.34303476 0.34540646 0.34774765\n",
      " 0.35006143 0.35235217 0.35461167 0.35685515 0.35906952 0.36126462\n",
      " 0.36342535 0.36557131 0.36771276 0.36981801 0.37189923 0.37393954\n",
      " 0.37596054 0.37797166 0.37997079 0.38195508 0.38392595 0.38588038\n",
      " 0.38783208 0.38974903 0.39165096 0.39355002 0.3954291  0.39729797\n",
      " 0.39914876 0.40097802 0.40279861 0.40460084 0.40639407 0.40815792\n",
      " 0.40991317 0.41166592 0.4134076  0.41513284 0.41684671 0.41854162\n",
      " 0.42022903 0.42191311 0.4235708  0.42521462 0.42684309 0.42846369\n",
      " 0.43008279 0.43169487 0.43330002 0.43489831 0.43648469 0.43805874\n",
      " 0.43962851 0.44118602 0.44272936 0.44427074 0.44580563 0.44732692\n",
      " 0.44884768 0.45035602 0.4518588  0.45335941 0.45484868 0.45633309\n",
      " 0.45781368 0.45928683 0.46075367 0.46221688 0.46366987 0.46511996\n",
      " 0.46656307 0.46800074 0.46943139 0.47085881 0.47227643 0.47368737\n",
      " 0.47509114 0.47648876 0.47788262 0.47927433 0.48065639 0.48203527\n",
      " 0.48340306 0.48476966 0.48613304 0.48749318 0.4888484  0.49019141\n",
      " 0.49153066 0.49286709 0.49419943 0.49553044 0.49685321 0.49817203\n",
      " 0.49948792 0.50080197 0.50210811 0.50340938 0.5047053  0.50599363\n",
      " 0.50727712 0.50855514 0.5098309  0.51110095 0.51236827 0.51363514\n",
      " 0.51489651 0.51614989 0.51739728 0.51864148 0.51988508 0.52112097\n",
      " 0.52235175 0.5235751  0.52479516 0.5260102  0.52722006 0.52842853\n",
      " 0.52963506 0.53084042 0.53204283 0.53323661 0.53442691 0.53561328\n",
      " 0.53679707 0.53797632 0.53915157 0.54032427 0.54149459 0.54266092\n",
      " 0.54382545 0.54498368 0.54613464 0.54728301 0.54842898 0.54957189\n",
      " 0.55071046 0.55184512 0.55297807 0.55410482 0.55522937 0.55635206\n",
      " 0.55747397 0.55858884 0.55970336 0.5608098  0.56191344 0.56301284\n",
      " 0.56410916 0.56520498 0.56629643 0.5673843  0.56846888 0.56955064\n",
      " 0.57063126 0.57170772 0.57278111 0.57384922 0.57491643 0.57597888\n",
      " 0.57703883 0.578097   0.57915279 0.58020549 0.58125572 0.582304\n",
      " 0.58335109 0.58439692 0.58543588 0.58647246 0.58750403 0.58853192\n",
      " 0.58955825 0.5905781  0.59159786 0.59261525 0.59362842 0.59463964\n",
      " 0.59564771 0.5966523  0.59765275 0.59865125 0.59964911 0.60064484\n",
      " 0.60163628 0.60262698 0.60361451 0.60459849 0.60558134 0.60656164\n",
      " 0.6075393  0.60851559 0.60949021 0.61046274 0.6114321  0.61239863\n",
      " 0.61336361 0.6143261  0.61528416 0.61623783 0.61718929 0.61813898\n",
      " 0.61908808 0.62003473 0.62097895 0.62192212 0.62286155 0.62379888\n",
      " 0.62473285 0.6256645  0.62659567 0.62752479 0.6284499  0.62937254\n",
      " 0.63029349 0.63121367 0.63213145 0.63304666 0.63395781 0.63486689\n",
      " 0.6357734  0.63667751 0.63758046 0.6384808  0.6393801  0.64027596\n",
      " 0.6411707  0.64206273 0.64295388 0.64384336 0.64473204 0.64561861\n",
      " 0.6465006  0.64737938 0.64825529 0.64913014 0.65000109 0.65087024\n",
      " 0.65173894 0.65260402 0.65346678 0.65432904 0.65518785 0.656045\n",
      " 0.65690093 0.65775578 0.6586098  0.65946143 0.66031146 0.66116008\n",
      " 0.66200499 0.66284865 0.66369064 0.66453149 0.66537018 0.66620569\n",
      " 0.6670384  0.66786894 0.66869826 0.66952607 0.67035245 0.67117678\n",
      " 0.67199885 0.67281873 0.67363664 0.67445172 0.67526609 0.67607862\n",
      " 0.67688961 0.67769602 0.67850209 0.67930661 0.68010983 0.68091131\n",
      " 0.68171113 0.68250902 0.6833055  0.68409954 0.68489216 0.68568373\n",
      " 0.68647362 0.68726225 0.6880491  0.68883452 0.68961795 0.69040094\n",
      " 0.69118095 0.6919582  0.69273332 0.69350686 0.69427885 0.69505045\n",
      " 0.69582054 0.69659016 0.69735814 0.69812378 0.69888704 0.69964869\n",
      " 0.70040926 0.70116797 0.70192559 0.70268211 0.70343647 0.70418979\n",
      " 0.70494072 0.70569037 0.70643925 0.70718596 0.70792956 0.70867112\n",
      " 0.70941168 0.71015183 0.71088865 0.71162473 0.71236032 0.71309376\n",
      " 0.71382407 0.71455277 0.7152804  0.71600693 0.71673138 0.71745416\n",
      " 0.71817547 0.71889568 0.71961379 0.72032956 0.72104387 0.72175664\n",
      " 0.7224683  0.7231791  0.72388843 0.72459687 0.72530345 0.72600932\n",
      " 0.72671352 0.72741589 0.72811679 0.72881484 0.72951198 0.73020809\n",
      " 0.73090343 0.73159615 0.73228719 0.73297736 0.73366638 0.73435444\n",
      " 0.73504114 0.73572651 0.73641097 0.73709478 0.73777609 0.73845605\n",
      " 0.73913511 0.73981276 0.74048873 0.74116353 0.74183735 0.74250957\n",
      " 0.74318139 0.74385256 0.74452215 0.74519009 0.74585693 0.74652173\n",
      " 0.74718563 0.74784913 0.74851079 0.74917204 0.74982993 0.75048742\n",
      " 0.75114289 0.75179702 0.75244959 0.75310157 0.75375185 0.75440051\n",
      " 0.75504854 0.75569413 0.75633803 0.75698132 0.75762439 0.75826534\n",
      " 0.75890533 0.75954268 0.76017988 0.76081522 0.76144926 0.7620818\n",
      " 0.76271365 0.76334336 0.76397223 0.76459915 0.76522502 0.76584955\n",
      " 0.76647339 0.76709669 0.7677178  0.76833821 0.7689572  0.76957585\n",
      " 0.77019256 0.77080826 0.77142338 0.7720377  0.77264927 0.77325945\n",
      " 0.77386822 0.77447626 0.77508289 0.77568794 0.77629246 0.77689546\n",
      " 0.77749756 0.77809704 0.77869542 0.77929197 0.77988834 0.78048357\n",
      " 0.78107748 0.7816708  0.7822634  0.78285525 0.78344593 0.78403549\n",
      " 0.7846233  0.7852093  0.78579461 0.78637884 0.78696183 0.7875439\n",
      " 0.78812333 0.78870212 0.78928043 0.78985701 0.79043275 0.79100745\n",
      " 0.79158116 0.79215317 0.79272396 0.79329418 0.79386299 0.79443038\n",
      " 0.79499574 0.79555938 0.7961221  0.79668318 0.79724265 0.79780172\n",
      " 0.79835992 0.79891644 0.79947151 0.80002633 0.80058011 0.80113184\n",
      " 0.80168268 0.80223154 0.80277996 0.80332683 0.80387255 0.80441733\n",
      " 0.80495993 0.80550154 0.80604182 0.80658145 0.80711975 0.80765668\n",
      " 0.80819354 0.80872729 0.80925989 0.80979167 0.81032274 0.81085285\n",
      " 0.81138215 0.81190924 0.81243615 0.81296071 0.81348441 0.81400664\n",
      " 0.81452785 0.81504735 0.81556635 0.81608379 0.81660002 0.81711476\n",
      " 0.8176291  0.81814239 0.81865521 0.81916668 0.8196776  0.82018635\n",
      " 0.82069399 0.82120066 0.82170698 0.82221281 0.82271672 0.82321941\n",
      " 0.82372035 0.82422032 0.82471819 0.82521595 0.82571177 0.82620732\n",
      " 0.82670171 0.82719447 0.82768669 0.82817718 0.82866662 0.82915485\n",
      " 0.82964243 0.83012908 0.83061503 0.83109895 0.83158246 0.83206524\n",
      " 0.83254678 0.83302749 0.83350671 0.83398389 0.83446024 0.83493484\n",
      " 0.83540931 0.83588331 0.8363562  0.83682789 0.8372987  0.83776758\n",
      " 0.83823608 0.83870147 0.8391664  0.83963053 0.84009346 0.840556\n",
      " 0.84101637 0.84147502 0.84193301 0.84239015 0.84284661 0.84330209\n",
      " 0.84375692 0.84421089 0.84466411 0.84511503 0.84556537 0.84601484\n",
      " 0.84646273 0.84690964 0.84735609 0.8478004  0.84824361 0.84868544\n",
      " 0.84912636 0.84956696 0.85000576 0.85044388 0.85088043 0.85131606\n",
      " 0.85175061 0.8521847  0.85261767 0.85305003 0.85348118 0.85391141\n",
      " 0.85434059 0.85476869 0.85519576 0.85562182 0.85604694 0.85647075\n",
      " 0.8568935  0.85731518 0.85773582 0.85815527 0.85857351 0.85899074\n",
      " 0.85940776 0.85982363 0.86023903 0.86065231 0.8610644  0.86147625\n",
      " 0.8618871  0.86229704 0.86270594 0.86311441 0.86352182 0.86392751\n",
      " 0.8643326  0.86473584 0.86513835 0.86553996 0.8659408  0.86634105\n",
      " 0.86674049 0.86713912 0.86753692 0.86793259 0.86832796 0.86872261\n",
      " 0.86911555 0.86950791 0.86989974 0.87029    0.87067973 0.87106827\n",
      " 0.87145631 0.87184332 0.87222821 0.87261283 0.87299696 0.87337887\n",
      " 0.87376043 0.8741415  0.87452165 0.87489987 0.87527685 0.8756535\n",
      " 0.87602933 0.87640441 0.87677864 0.87715276 0.87752506 0.87789572\n",
      " 0.87826604 0.87863596 0.87900417 0.87937122 0.87973772 0.88010371\n",
      " 0.88046889 0.88083359 0.88119739 0.88156013 0.88192229 0.88228318\n",
      " 0.88264337 0.8830025  0.88336073 0.88371875 0.88407581 0.88443218\n",
      " 0.88478826 0.88514337 0.88549777 0.8858512  0.88620341 0.88655359\n",
      " 0.88690353 0.88725266 0.8876008  0.88794789 0.88829421 0.88863939\n",
      " 0.88898407 0.88932813 0.88967141 0.89001425 0.89035639 0.8906976\n",
      " 0.89103709 0.89137572 0.89171325 0.89205065 0.892387   0.89272251\n",
      " 0.89305761 0.893392   0.89372483 0.89405697 0.89438834 0.89471898\n",
      " 0.89504849 0.89537755 0.89570636 0.89603465 0.8963621  0.8966887\n",
      " 0.89701463 0.89733979 0.89766368 0.89798707 0.89830963 0.89863119\n",
      " 0.89895223 0.89927237 0.89959132 0.8999089  0.90022634 0.90054357\n",
      " 0.90085988 0.90117545 0.90148977 0.9018034  0.90211585 0.90242808\n",
      " 0.90273972 0.90305009 0.90336017 0.90366833 0.90397602 0.90428338\n",
      " 0.90459031 0.9048968  0.90520221 0.90550682 0.90581073 0.90611398\n",
      " 0.9064162  0.90671686 0.90701742 0.90731755 0.90761638 0.90791449\n",
      " 0.90821185 0.90850851 0.90880489 0.90909989 0.90939433 0.90968792\n",
      " 0.90998043 0.91027255 0.91056465 0.91085569 0.91114583 0.91143513\n",
      " 0.91172337 0.91201129 0.9122982  0.91258472 0.91287097 0.91315602\n",
      " 0.91344088 0.91372423 0.91400742 0.9142902  0.91457209 0.91485312\n",
      " 0.91513321 0.91541261 0.91569152 0.91596956 0.91624716 0.91652393\n",
      " 0.91680044 0.91707624 0.9173518  0.91762686 0.91790021 0.91817332\n",
      " 0.91844591 0.91871753 0.91898866 0.91925894 0.91952873 0.91979777\n",
      " 0.92006572 0.92033321 0.92059957 0.92086534 0.92113067 0.92139506\n",
      " 0.92165841 0.92192117 0.92218355 0.92244538 0.92270632 0.92296654\n",
      " 0.92322625 0.92348486 0.92374306 0.92400104 0.92425766 0.92451425\n",
      " 0.9247705  0.9250261  0.92528078 0.9255347  0.9257879  0.92604083\n",
      " 0.92629298 0.92654458 0.92679553 0.9270459  0.92729531 0.92754419\n",
      " 0.92779221 0.92803886 0.92828511 0.92853118 0.9287762  0.92902054\n",
      " 0.92926458 0.92950828 0.92975077 0.92999298 0.93023416 0.93047441\n",
      " 0.93071455 0.93095338 0.93119164 0.93142961 0.93166735 0.93190445\n",
      " 0.93214051 0.93237645 0.93261175 0.93284674 0.93308108 0.93331427\n",
      " 0.93354692 0.93377929 0.93401061 0.93424162 0.93447206 0.93470131\n",
      " 0.93493047 0.93515896 0.93538699 0.93561471 0.93584133 0.93606773\n",
      " 0.93629367 0.9365184  0.93674262 0.93696624 0.93718954 0.93741189\n",
      " 0.93763404 0.9378557  0.9380766  0.938297   0.93851704 0.93873647\n",
      " 0.93895483 0.93917292 0.93938974 0.93960589 0.93982173 0.94003698\n",
      " 0.94025193 0.94046612 0.94067992 0.94089349 0.94110618 0.94131862\n",
      " 0.94153037 0.94174159 0.94195163 0.9421612  0.94237068 0.9425796\n",
      " 0.94278824 0.94299619 0.94320385 0.94341051 0.94361638 0.94382217\n",
      " 0.94402714 0.94423141 0.94443554 0.9446389  0.94484222 0.94504466\n",
      " 0.94524639 0.94544799 0.94564859 0.9458488  0.94604841 0.94624767\n",
      " 0.94644655 0.94664525 0.94684265 0.94703949 0.94723626 0.94743253\n",
      " 0.94762852 0.94782374 0.94801823 0.9482125  0.9484062  0.94859968\n",
      " 0.9487926  0.94898495 0.94917636 0.94936736 0.9495578  0.94974754\n",
      " 0.9499371  0.9501259  0.95031401 0.95050152 0.95068808 0.95087415\n",
      " 0.95106009 0.95124543 0.95143034 0.95161489 0.95179888 0.95198261\n",
      " 0.95216579 0.95234837 0.95253049 0.95271227 0.9528938  0.95307465\n",
      " 0.95325489 0.95343452 0.95361391 0.95379269 0.95397125 0.95414947\n",
      " 0.95432638 0.954503   0.9546788  0.9548543  0.95502973 0.95520481\n",
      " 0.95537933 0.95555313 0.95572692 0.95590014 0.95607254 0.95624453\n",
      " 0.95641586 0.95658672 0.95675724 0.95692683 0.95709561 0.95726336\n",
      " 0.95743071 0.95759802 0.95776528 0.95793187 0.95809784 0.95826345\n",
      " 0.95842895 0.95859395 0.95875841 0.95892252 0.95908577 0.95924852\n",
      " 0.95941068 0.95957272 0.95973466 0.95989575 0.96005652 0.96021675\n",
      " 0.96037644 0.96053537 0.96069398 0.96085204 0.96100927 0.9611664\n",
      " 0.96132298 0.96147926 0.96163493 0.96179031]\n"
     ]
    }
   ],
   "source": [
    "# Examine cumulative explained variance.\n",
    "cum_var_exp = np.cumsum(var_exp)\n",
    "print('Cumulative explained variance: ', cum_var_exp[:1000])"
   ]
  },
  {
   "cell_type": "code",
   "execution_count": 415,
   "metadata": {},
   "outputs": [
    {
     "data": {
      "text/plain": [
       "PCA(copy=True, iterated_power='auto', n_components=20, random_state=None,\n",
       "  svd_solver='auto', tol=0.0, whiten=False)"
      ]
     },
     "execution_count": 415,
     "metadata": {},
     "output_type": "execute_result"
    }
   ],
   "source": [
    "pca_2 = PCA(n_components=20)\n",
    "\n",
    "# Fit PCA\n",
    "pca_2.fit(X_train)"
   ]
  },
  {
   "cell_type": "code",
   "execution_count": 416,
   "metadata": {},
   "outputs": [],
   "source": [
    "# Create Z_train.\n",
    "Z_train_2 = pca_2.transform(X_train)"
   ]
  },
  {
   "cell_type": "code",
   "execution_count": 417,
   "metadata": {},
   "outputs": [],
   "source": [
    "Z_test_2 = pca_2.transform(X_test)"
   ]
  },
  {
   "cell_type": "code",
   "execution_count": 418,
   "metadata": {},
   "outputs": [
    {
     "name": "stdout",
     "output_type": "stream",
     "text": [
      "Explained variance:\n",
      " [0.40860044 0.23209758 0.08836062 0.07036854 0.05390201 0.0487492\n",
      " 0.02878762 0.0173439  0.01577037 0.01225138 0.00905968 0.00441162\n",
      " 0.00277391 0.00101372 0.00090215 0.00072297 0.00056732 0.0004737\n",
      " 0.00047026 0.00042377]\n"
     ]
    }
   ],
   "source": [
    "# Examine explained variance.\n",
    "var_exp_2 = pca_2.explained_variance_ratio_\n",
    "print('Explained variance:\\n', var_exp_2)"
   ]
  },
  {
   "cell_type": "code",
   "execution_count": 419,
   "metadata": {},
   "outputs": [
    {
     "name": "stdout",
     "output_type": "stream",
     "text": [
      "Cumulative explained variance:  [0.40860044 0.64069802 0.72905864 0.79942717 0.85332918 0.90207838\n",
      " 0.930866   0.9482099  0.96398027 0.97623165 0.98529133 0.98970295\n",
      " 0.99247686 0.99349058 0.99439273 0.9951157  0.99568302 0.99615672\n",
      " 0.99662698 0.99705074]\n"
     ]
    }
   ],
   "source": [
    "# Examine cumulative explained variance.\n",
    "cum_var_exp_2 = np.cumsum(var_exp_2)\n",
    "print('Cumulative explained variance: ', cum_var_exp_2[:20])"
   ]
  },
  {
   "cell_type": "code",
   "execution_count": 398,
   "metadata": {},
   "outputs": [
    {
     "data": {
      "image/png": "[encoded data removed]",
      "text/plain": [
       "<Figure size 648x504 with 1 Axes>"
      ]
     },
     "metadata": {
      "needs_background": "light"
     },
     "output_type": "display_data"
    }
   ],
   "source": [
    "plt.figure(figsize=(9,7))\n",
    "\n",
    "# HERE IS THE BASIC PLOT\n",
    "\n",
    "# Plot the explained variance\n",
    "component_number = range(len(var_exp_2))\n",
    "plt.plot(component_number, var_exp_2, lw=3)\n",
    "\n",
    "# NOW MAKE IT LOOK PRETTY\n",
    "\n",
    "# Add horizontal lines at y=0 and y=100\n",
    "plt.axhline(y=0, linewidth=1, color='grey', ls='dashed')\n",
    "plt.axhline(y=1, linewidth=1, color='grey', ls='dashed')\n",
    "\n",
    "# Set the x and y axis limits\n",
    "ax = plt.gca()\n",
    "ax.set_xlim([-1,26])\n",
    "ax.set_ylim([-0.05,1.05])\n",
    "\n",
    "# Label the axes\n",
    "ax.set_ylabel('variance explained', fontsize=16)\n",
    "ax.set_xlabel('component', fontsize=16)\n",
    "\n",
    "# Make the tick labels bigger\n",
    "for tick in ax.xaxis.get_major_ticks():\n",
    "    tick.label.set_fontsize(12) \n",
    "for tick in ax.yaxis.get_major_ticks():\n",
    "    tick.label.set_fontsize(12) \n",
    "    \n",
    "# Add title\n",
    "ax.set_title('Component vs Variance Explained\\n', fontsize=20)\n",
    "\n",
    "plt.show()"
   ]
  },
  {
   "cell_type": "code",
   "execution_count": 399,
   "metadata": {},
   "outputs": [
    {
     "data": {
      "image/png": "[encoded data removed]",
      "text/plain": [
       "<Figure size 648x504 with 1 Axes>"
      ]
     },
     "metadata": {
      "needs_background": "light"
     },
     "output_type": "display_data"
    }
   ],
   "source": [
    "plt.figure(figsize=(9,7))\n",
    "\n",
    "# HERE IS THE BASIC PLOT\n",
    "\n",
    "# Plot the cumulative explained variance\n",
    "component_number = range(len(cum_var_exp_2))\n",
    "plt.plot(component_number, cum_var_exp_2, lw=3)\n",
    "\n",
    "# NOW MAKE IT LOOK PRETTY\n",
    "\n",
    "# Add horizontal lines at y=0 and y=100\n",
    "plt.axhline(y=0, linewidth=1, color='grey', ls='dashed')\n",
    "plt.axhline(y=1, linewidth=1, color='grey', ls='dashed')\n",
    "\n",
    "# Set the x and y axis limits\n",
    "ax = plt.gca()\n",
    "ax.set_xlim([-1,26])\n",
    "ax.set_ylim([-0.05,1.05])\n",
    "\n",
    "# Label the axes\n",
    "ax.set_ylabel('cumulative variance explained', fontsize=16)\n",
    "ax.set_xlabel('component', fontsize=16)\n",
    "\n",
    "# Make the tick labels bigger\n",
    "for tick in ax.xaxis.get_major_ticks():\n",
    "    tick.label.set_fontsize(12) \n",
    "for tick in ax.yaxis.get_major_ticks():\n",
    "    tick.label.set_fontsize(12) \n",
    "    \n",
    "# Add title\n",
    "ax.set_title('Component vs Cumulative variance explained\\n', fontsize=20)\n",
    "\n",
    "plt.show()"
   ]
  },
  {
   "cell_type": "markdown",
   "metadata": {},
   "source": [
    "### Neural Network "
   ]
  },
  {
   "cell_type": "code",
   "execution_count": 374,
   "metadata": {},
   "outputs": [],
   "source": [
    "# One hot encode y target\n",
    "Y_train = to_categorical(y_train, 6)\n",
    "Y_test = to_categorical(y_test, 6)"
   ]
  },
  {
   "cell_type": "code",
   "execution_count": 377,
   "metadata": {},
   "outputs": [
    {
     "data": {
      "text/plain": [
       "array([[0., 1., 0., 0., 0., 0.],\n",
       "       [0., 0., 0., 1., 0., 0.],\n",
       "       [0., 1., 0., 0., 0., 0.],\n",
       "       ...,\n",
       "       [1., 0., 0., 0., 0., 0.],\n",
       "       [0., 0., 1., 0., 0., 0.],\n",
       "       [1., 0., 0., 0., 0., 0.]], dtype=float32)"
      ]
     },
     "execution_count": 377,
     "metadata": {},
     "output_type": "execute_result"
    }
   ],
   "source": [
    "# Take a look at how the Y target looks\n",
    "Y_train"
   ]
  },
  {
   "cell_type": "code",
   "execution_count": 381,
   "metadata": {},
   "outputs": [],
   "source": [
    "# Construct a neural network\n",
    "model = Sequential()\n",
    "\n",
    "# input and hidden layers\n",
    "model.add(Dense(50, activation='relu', input_dim=X_train_sc.shape[1]))\n",
    "model.add(Dropout(0.5))\n",
    "\n",
    "# For multiclass, same number of neurons as classes that we are predicting\n",
    "# softmax activation function\n",
    "model.add(Dense(6, activation='softmax'))\n",
    "\n",
    "# compile model\n",
    "model.compile(loss='categorical_crossentropy',\n",
    "              optimizer='adam',\n",
    "              metrics=['accuracy'])"
   ]
  },
  {
   "cell_type": "code",
   "execution_count": 382,
   "metadata": {},
   "outputs": [
    {
     "name": "stdout",
     "output_type": "stream",
     "text": [
      "Train on 3051 samples, validate on 1017 samples\n",
      "Epoch 1/30\n",
      "3051/3051 [==============================] - 1s 250us/step - loss: 0.7080 - acc: 0.7761 - val_loss: 0.2061 - val_acc: 0.9449\n",
      "Epoch 2/30\n",
      "3051/3051 [==============================] - 0s 113us/step - loss: 0.1707 - acc: 0.9554 - val_loss: 0.1563 - val_acc: 0.9597\n",
      "Epoch 3/30\n",
      "3051/3051 [==============================] - 0s 117us/step - loss: 0.1102 - acc: 0.9712 - val_loss: 0.1453 - val_acc: 0.9636\n",
      "Epoch 4/30\n",
      "3051/3051 [==============================] - 0s 117us/step - loss: 0.0626 - acc: 0.9820 - val_loss: 0.1443 - val_acc: 0.9666\n",
      "Epoch 5/30\n",
      "3051/3051 [==============================] - 0s 109us/step - loss: 0.0509 - acc: 0.9875 - val_loss: 0.1290 - val_acc: 0.9725\n",
      "Epoch 6/30\n",
      "3051/3051 [==============================] - 0s 114us/step - loss: 0.0372 - acc: 0.9921 - val_loss: 0.1353 - val_acc: 0.9735\n",
      "Epoch 7/30\n",
      "3051/3051 [==============================] - 0s 110us/step - loss: 0.0324 - acc: 0.9902 - val_loss: 0.1353 - val_acc: 0.9695\n",
      "Epoch 8/30\n",
      "3051/3051 [==============================] - 0s 109us/step - loss: 0.0265 - acc: 0.9938 - val_loss: 0.1458 - val_acc: 0.9705\n",
      "Epoch 9/30\n",
      "3051/3051 [==============================] - 0s 96us/step - loss: 0.0289 - acc: 0.9925 - val_loss: 0.1499 - val_acc: 0.9705\n",
      "Epoch 10/30\n",
      "3051/3051 [==============================] - 0s 89us/step - loss: 0.0212 - acc: 0.9964 - val_loss: 0.1514 - val_acc: 0.9715\n",
      "Epoch 11/30\n",
      "3051/3051 [==============================] - 0s 90us/step - loss: 0.0284 - acc: 0.9954 - val_loss: 0.1587 - val_acc: 0.9705\n",
      "Epoch 12/30\n",
      "3051/3051 [==============================] - 0s 90us/step - loss: 0.0212 - acc: 0.9964 - val_loss: 0.1515 - val_acc: 0.9754\n",
      "Epoch 13/30\n",
      "3051/3051 [==============================] - 0s 91us/step - loss: 0.0165 - acc: 0.9977 - val_loss: 0.1504 - val_acc: 0.9725\n",
      "Epoch 14/30\n",
      "3051/3051 [==============================] - 0s 90us/step - loss: 0.0167 - acc: 0.9967 - val_loss: 0.1616 - val_acc: 0.9705\n",
      "Epoch 15/30\n",
      "3051/3051 [==============================] - 0s 90us/step - loss: 0.0127 - acc: 0.9967 - val_loss: 0.1802 - val_acc: 0.9744\n",
      "Epoch 16/30\n",
      "3051/3051 [==============================] - 0s 89us/step - loss: 0.0155 - acc: 0.9967 - val_loss: 0.1718 - val_acc: 0.9744\n",
      "Epoch 17/30\n",
      "3051/3051 [==============================] - 0s 94us/step - loss: 0.0185 - acc: 0.9957 - val_loss: 0.1772 - val_acc: 0.9774\n",
      "Epoch 18/30\n",
      "3051/3051 [==============================] - 0s 125us/step - loss: 0.0191 - acc: 0.9957 - val_loss: 0.1761 - val_acc: 0.9754\n",
      "Epoch 19/30\n",
      "3051/3051 [==============================] - 0s 111us/step - loss: 0.0171 - acc: 0.9954 - val_loss: 0.1786 - val_acc: 0.9744\n",
      "Epoch 20/30\n",
      "3051/3051 [==============================] - 0s 123us/step - loss: 0.0194 - acc: 0.9967 - val_loss: 0.1866 - val_acc: 0.9725\n",
      "Epoch 21/30\n",
      "3051/3051 [==============================] - 0s 110us/step - loss: 0.0142 - acc: 0.9967 - val_loss: 0.1670 - val_acc: 0.9744\n",
      "Epoch 22/30\n",
      "3051/3051 [==============================] - 0s 112us/step - loss: 0.0091 - acc: 0.9980 - val_loss: 0.1658 - val_acc: 0.9744\n",
      "Epoch 23/30\n",
      "3051/3051 [==============================] - 0s 109us/step - loss: 0.0096 - acc: 0.9987 - val_loss: 0.1746 - val_acc: 0.9735\n",
      "Epoch 24/30\n",
      "3051/3051 [==============================] - 0s 115us/step - loss: 0.0127 - acc: 0.9974 - val_loss: 0.1639 - val_acc: 0.9725\n",
      "Epoch 25/30\n",
      "3051/3051 [==============================] - 0s 107us/step - loss: 0.0127 - acc: 0.9980 - val_loss: 0.1686 - val_acc: 0.9735\n",
      "Epoch 26/30\n",
      "3051/3051 [==============================] - 0s 111us/step - loss: 0.0122 - acc: 0.9977 - val_loss: 0.1680 - val_acc: 0.9744\n",
      "Epoch 27/30\n",
      "3051/3051 [==============================] - 0s 119us/step - loss: 0.0111 - acc: 0.9984 - val_loss: 0.1800 - val_acc: 0.9744\n",
      "Epoch 28/30\n",
      "3051/3051 [==============================] - 0s 120us/step - loss: 0.0188 - acc: 0.9964 - val_loss: 0.1823 - val_acc: 0.9735\n",
      "Epoch 29/30\n",
      "3051/3051 [==============================] - 0s 112us/step - loss: 0.0143 - acc: 0.9977 - val_loss: 0.1810 - val_acc: 0.9735\n",
      "Epoch 30/30\n",
      "3051/3051 [==============================] - 0s 113us/step - loss: 0.0099 - acc: 0.9977 - val_loss: 0.1806 - val_acc: 0.9764\n"
     ]
    }
   ],
   "source": [
    "nn = model.fit(X_train_sc, Y_train, epochs=30, validation_data=(X_test_sc, Y_test))"
   ]
  },
  {
   "cell_type": "code",
   "execution_count": 383,
   "metadata": {},
   "outputs": [
    {
     "data": {
      "text/plain": [
       "array([[4.0306690e-15, 1.3217106e-15, 1.0000000e+00, 1.1189658e-13,\n",
       "        1.4412955e-17, 1.4599388e-16],\n",
       "       [1.0000000e+00, 4.0612633e-13, 5.3612815e-15, 9.8624824e-12,\n",
       "        9.2429645e-13, 6.2004548e-16],\n",
       "       [5.6512880e-07, 4.4404261e-04, 9.9955493e-01, 2.5482203e-08,\n",
       "        1.1625414e-09, 4.9411517e-07],\n",
       "       ...,\n",
       "       [2.9452926e-06, 3.5390258e-08, 2.3066302e-07, 9.9999678e-01,\n",
       "        2.3008596e-08, 5.9669225e-10],\n",
       "       [3.5895595e-13, 1.1824834e-17, 1.7276267e-16, 1.0000000e+00,\n",
       "        1.5453270e-12, 2.8073267e-18],\n",
       "       [8.5813452e-05, 9.9989593e-01, 8.8576729e-07, 2.3793961e-08,\n",
       "        1.7347518e-05, 3.2512318e-08]], dtype=float32)"
      ]
     },
     "execution_count": 383,
     "metadata": {},
     "output_type": "execute_result"
    }
   ],
   "source": [
    "model.predict(X_test_sc)"
   ]
  },
  {
   "cell_type": "code",
   "execution_count": 384,
   "metadata": {},
   "outputs": [
    {
     "data": {
      "text/plain": [
       "array([2, 0, 2, ..., 3, 3, 1])"
      ]
     },
     "execution_count": 384,
     "metadata": {},
     "output_type": "execute_result"
    }
   ],
   "source": [
    "# index for the largest number from each row gives class prediction\n",
    "model.predict(X_test_sc).argmax(axis=1)"
   ]
  },
  {
   "cell_type": "code",
   "execution_count": 386,
   "metadata": {},
   "outputs": [],
   "source": [
    "# nn.history"
   ]
  },
  {
   "cell_type": "code",
   "execution_count": 387,
   "metadata": {},
   "outputs": [],
   "source": [
    "Y_test_classes = np.argmax(Y_test, axis=1)"
   ]
  },
  {
   "cell_type": "code",
   "execution_count": 388,
   "metadata": {},
   "outputs": [
    {
     "data": {
      "text/plain": [
       "array([2, 0, 2, ..., 3, 3, 1])"
      ]
     },
     "execution_count": 388,
     "metadata": {},
     "output_type": "execute_result"
    }
   ],
   "source": [
    "Y_test_classes"
   ]
  },
  {
   "cell_type": "code",
   "execution_count": 389,
   "metadata": {},
   "outputs": [
    {
     "data": {
      "text/plain": [
       "array([[288,   1,   1,   0,   3,   1],\n",
       "       [  3, 124,   0,   1,   0,   1],\n",
       "       [  0,   0, 144,   1,   1,   0],\n",
       "       [  1,   2,   2, 155,   0,   0],\n",
       "       [  2,   4,   0,   0, 136,   0],\n",
       "       [  0,   0,   0,   0,   0, 146]])"
      ]
     },
     "execution_count": 389,
     "metadata": {},
     "output_type": "execute_result"
    }
   ],
   "source": [
    "nn_preds = model.predict_classes(X_test_sc)\n",
    "\n",
    "confusion_matrix(Y_test_classes, nn_preds)"
   ]
  },
  {
   "cell_type": "markdown",
   "metadata": {},
   "source": [
    "## Neural Network trained on PCA data"
   ]
  },
  {
   "cell_type": "code",
   "execution_count": 420,
   "metadata": {},
   "outputs": [
    {
     "data": {
      "text/plain": [
       "(3051, 20)"
      ]
     },
     "execution_count": 420,
     "metadata": {},
     "output_type": "execute_result"
    }
   ],
   "source": [
    "Z_train_2.shape"
   ]
  },
  {
   "cell_type": "code",
   "execution_count": 421,
   "metadata": {},
   "outputs": [],
   "source": [
    "# Construct a neural network\n",
    "model_Z = Sequential()\n",
    "\n",
    "# input and hidden layers\n",
    "model_Z.add(Dense(50, activation='relu', input_dim=Z_train_2.shape[1]))\n",
    "model_Z.add(Dropout(0.5))\n",
    "\n",
    "# For multiclass, same number of neurons as classes that we are predicting\n",
    "# softmax activation function\n",
    "model_Z.add(Dense(6, activation='softmax'))\n",
    "\n",
    "# compile model\n",
    "model_Z.compile(loss='categorical_crossentropy',\n",
    "              optimizer='adam',\n",
    "              metrics=['accuracy'])"
   ]
  },
  {
   "cell_type": "code",
   "execution_count": 423,
   "metadata": {},
   "outputs": [
    {
     "name": "stdout",
     "output_type": "stream",
     "text": [
      "Train on 3051 samples, validate on 1017 samples\n",
      "Epoch 1/30\n",
      "3051/3051 [==============================] - 1s 180us/step - loss: 13.8940 - acc: 0.1380 - val_loss: 14.2638 - val_acc: 0.1150\n",
      "Epoch 2/30\n",
      "3051/3051 [==============================] - 0s 42us/step - loss: 13.9045 - acc: 0.1373 - val_loss: 14.1096 - val_acc: 0.1239\n",
      "Epoch 3/30\n",
      "3051/3051 [==============================] - 0s 46us/step - loss: 13.7301 - acc: 0.1481 - val_loss: 13.4080 - val_acc: 0.1681\n",
      "Epoch 4/30\n",
      "3051/3051 [==============================] - 0s 43us/step - loss: 13.4185 - acc: 0.1675 - val_loss: 13.2812 - val_acc: 0.1760\n",
      "Epoch 5/30\n",
      "3051/3051 [==============================] - 0s 54us/step - loss: 13.5506 - acc: 0.1593 - val_loss: 13.2812 - val_acc: 0.1760\n",
      "Epoch 6/30\n",
      "3051/3051 [==============================] - 0s 52us/step - loss: 13.3604 - acc: 0.1711 - val_loss: 12.8691 - val_acc: 0.2016\n",
      "Epoch 7/30\n",
      "3051/3051 [==============================] - 0s 46us/step - loss: 13.0785 - acc: 0.1881 - val_loss: 11.7756 - val_acc: 0.2694\n",
      "Epoch 8/30\n",
      "3051/3051 [==============================] - 0s 47us/step - loss: 12.5496 - acc: 0.2212 - val_loss: 11.2777 - val_acc: 0.2999\n",
      "Epoch 9/30\n",
      "3051/3051 [==============================] - 0s 45us/step - loss: 12.3587 - acc: 0.2330 - val_loss: 11.1258 - val_acc: 0.3097\n",
      "Epoch 10/30\n",
      "3051/3051 [==============================] - 0s 48us/step - loss: 11.9306 - acc: 0.2596 - val_loss: 10.3175 - val_acc: 0.3599\n",
      "Epoch 11/30\n",
      "3051/3051 [==============================] - 0s 45us/step - loss: 11.5825 - acc: 0.2809 - val_loss: 10.1748 - val_acc: 0.3687\n",
      "Epoch 12/30\n",
      "3051/3051 [==============================] - 0s 43us/step - loss: 11.3054 - acc: 0.2986 - val_loss: 10.1273 - val_acc: 0.3717\n",
      "Epoch 13/30\n",
      "3051/3051 [==============================] - 0s 38us/step - loss: 11.8020 - acc: 0.2678 - val_loss: 10.1273 - val_acc: 0.3717\n",
      "Epoch 14/30\n",
      "3051/3051 [==============================] - 0s 40us/step - loss: 11.5325 - acc: 0.2845 - val_loss: 10.0798 - val_acc: 0.3746\n",
      "Epoch 15/30\n",
      "3051/3051 [==============================] - 0s 38us/step - loss: 11.3712 - acc: 0.2943 - val_loss: 9.8262 - val_acc: 0.3904\n",
      "Epoch 16/30\n",
      "3051/3051 [==============================] - 0s 45us/step - loss: 11.2092 - acc: 0.3045 - val_loss: 9.7828 - val_acc: 0.3923\n",
      "Epoch 17/30\n",
      "3051/3051 [==============================] - 0s 47us/step - loss: 11.3964 - acc: 0.2927 - val_loss: 9.6835 - val_acc: 0.3992\n",
      "Epoch 18/30\n",
      "3051/3051 [==============================] - 0s 48us/step - loss: 11.4375 - acc: 0.2904 - val_loss: 9.6201 - val_acc: 0.4031\n",
      "Epoch 19/30\n",
      "3051/3051 [==============================] - 0s 46us/step - loss: 11.6593 - acc: 0.2766 - val_loss: 9.6201 - val_acc: 0.4031\n",
      "Epoch 20/30\n",
      "3051/3051 [==============================] - 0s 48us/step - loss: 11.3036 - acc: 0.2986 - val_loss: 9.4633 - val_acc: 0.4120\n",
      "Epoch 21/30\n",
      "3051/3051 [==============================] - 0s 41us/step - loss: 11.1046 - acc: 0.3110 - val_loss: 9.4617 - val_acc: 0.4130\n",
      "Epoch 22/30\n",
      "3051/3051 [==============================] - 0s 41us/step - loss: 10.9620 - acc: 0.3199 - val_loss: 9.4617 - val_acc: 0.4130\n",
      "Epoch 23/30\n",
      "3051/3051 [==============================] - 0s 48us/step - loss: 11.1152 - acc: 0.3104 - val_loss: 9.4617 - val_acc: 0.4130\n",
      "Epoch 24/30\n",
      "3051/3051 [==============================] - 0s 44us/step - loss: 10.9217 - acc: 0.3222 - val_loss: 9.4617 - val_acc: 0.4130\n",
      "Epoch 25/30\n",
      "3051/3051 [==============================] - 0s 41us/step - loss: 10.9092 - acc: 0.3232 - val_loss: 9.4617 - val_acc: 0.4130\n",
      "Epoch 26/30\n",
      "3051/3051 [==============================] - 0s 44us/step - loss: 10.8246 - acc: 0.3284 - val_loss: 9.4458 - val_acc: 0.4140\n",
      "Epoch 27/30\n",
      "3051/3051 [==============================] - 0s 48us/step - loss: 10.8909 - acc: 0.3242 - val_loss: 9.2556 - val_acc: 0.4258\n",
      "Epoch 28/30\n",
      "3051/3051 [==============================] - 0s 43us/step - loss: 10.5922 - acc: 0.3428 - val_loss: 9.2239 - val_acc: 0.4277\n",
      "Epoch 29/30\n",
      "3051/3051 [==============================] - 0s 31us/step - loss: 10.5711 - acc: 0.3441 - val_loss: 9.2239 - val_acc: 0.4277\n",
      "Epoch 30/30\n",
      "3051/3051 [==============================] - 0s 30us/step - loss: 10.5182 - acc: 0.3474 - val_loss: 9.2239 - val_acc: 0.4277\n"
     ]
    }
   ],
   "source": [
    "nn_Z = model_Z.fit(Z_train_2, Y_train, epochs=30, validation_data=(Z_test_2, Y_test))"
   ]
  },
  {
   "cell_type": "code",
   "execution_count": 424,
   "metadata": {},
   "outputs": [
    {
     "data": {
      "text/plain": [
       "array([2, 4, 0, ..., 1, 0, 0])"
      ]
     },
     "execution_count": 424,
     "metadata": {},
     "output_type": "execute_result"
    }
   ],
   "source": [
    "model_Z.predict(Z_test_2).argmax(axis=1)"
   ]
  },
  {
   "cell_type": "code",
   "execution_count": 427,
   "metadata": {},
   "outputs": [
    {
     "data": {
      "text/plain": [
       "array([2, 0, 2, ..., 3, 3, 1])"
      ]
     },
     "execution_count": 427,
     "metadata": {},
     "output_type": "execute_result"
    }
   ],
   "source": [
    "Y_test_classes_Z = np.argmax(Y_test, axis=1)\n",
    "Y_test_classes_Z"
   ]
  },
  {
   "cell_type": "code",
   "execution_count": 428,
   "metadata": {},
   "outputs": [
    {
     "data": {
      "text/plain": [
       "array([[228,  13,  11,   0,  41,   1],\n",
       "       [ 80,   1,   2,   0,  46,   0],\n",
       "       [ 33,   1,  98,   0,  14,   0],\n",
       "       [103,  24,   5,   1,  27,   0],\n",
       "       [ 35,   0,   0,   0, 107,   0],\n",
       "       [146,   0,   0,   0,   0,   0]])"
      ]
     },
     "execution_count": 428,
     "metadata": {},
     "output_type": "execute_result"
    }
   ],
   "source": [
    "nn_preds_Z = model_Z.predict_classes(Z_test_2)\n",
    "\n",
    "confusion_matrix(Y_test_classes_Z, nn_preds_Z)"
   ]
  },
  {
   "cell_type": "code",
   "execution_count": null,
   "metadata": {},
   "outputs": [],
   "source": []
  }
 ],
 "metadata": {
  "kernelspec": {
   "display_name": "Python [conda env:dsi]",
   "language": "python",
   "name": "conda-env-dsi-py"
  },
  "language_info": {
   "codemirror_mode": {
    "name": "ipython",
    "version": 3
   },
   "file_extension": ".py",
   "mimetype": "text/x-python",
   "name": "python",
   "nbconvert_exporter": "python",
   "pygments_lexer": "ipython3",
   "version": "3.6.5"
  },
  "varInspector": {
   "cols": {
    "lenName": 16,
    "lenType": 16,
    "lenVar": 40
   },
   "kernels_config": {
    "python": {
     "delete_cmd_postfix": "",
     "delete_cmd_prefix": "del ",
     "library": "var_list.py",
     "varRefreshCmd": "print(var_dic_list())"
    },
    "r": {
     "delete_cmd_postfix": ") ",
     "delete_cmd_prefix": "rm(",
     "library": "var_list.r",
     "varRefreshCmd": "cat(var_dic_list()) "
    }
   },
   "types_to_exclude": [
    "module",
    "function",
    "builtin_function_or_method",
    "instance",
    "_Feature"
   ],
   "window_display": false
  }
 },
 "nbformat": 4,
 "nbformat_minor": 2
}
