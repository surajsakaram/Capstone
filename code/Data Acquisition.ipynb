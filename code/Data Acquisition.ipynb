{
 "cells": [
  {
   "cell_type": "markdown",
   "metadata": {},
   "source": [
    "# Data Acquisition"
   ]
  },
  {
   "cell_type": "code",
   "execution_count": 1,
   "metadata": {},
   "outputs": [],
   "source": [
    "import os"
   ]
  },
  {
   "cell_type": "code",
   "execution_count": 2,
   "metadata": {},
   "outputs": [
    {
     "name": "stdout",
     "output_type": "stream",
     "text": [
      "/Users/surajsakaram/GA_DSI/capstone/code\r\n"
     ]
    }
   ],
   "source": [
    "# Check to see where you are in your terminal\n",
    "! pwd"
   ]
  },
  {
   "cell_type": "code",
   "execution_count": 3,
   "metadata": {},
   "outputs": [
    {
     "name": "stdout",
     "output_type": "stream",
     "text": [
      "\u001b[34mcode\u001b[m\u001b[m                             gdc_sample_sheet.2019-02-04.tsv\r\n",
      "\u001b[34mdata\u001b[m\u001b[m                             metadata.cart.2019-02-04.json\r\n",
      "gdc_manifest_20190204_230647.txt\r\n"
     ]
    }
   ],
   "source": [
    "# list contents of the parent directory\n",
    "! ls ../"
   ]
  },
  {
   "cell_type": "code",
   "execution_count": 4,
   "metadata": {},
   "outputs": [
    {
     "name": "stdout",
     "output_type": "stream",
     "text": [
      "../gdc_manifest_20190204_230647.txt\n"
     ]
    }
   ],
   "source": [
    "# set filepath to GDC download manifest file\n",
    "manifest=\"../gdc_manifest_20190204_230647.txt\"\n",
    "print(manifest)"
   ]
  },
  {
   "cell_type": "code",
   "execution_count": 5,
   "metadata": {},
   "outputs": [
    {
     "name": "stdout",
     "output_type": "stream",
     "text": [
      "/Users/surajsakaram/GA_DSI/capstone/data\r\n"
     ]
    }
   ],
   "source": [
    "# navigate to data folder for data dump\n",
    "data = '../data/'\n",
    "os.chdir(data)\n",
    "! pwd"
   ]
  },
  {
   "cell_type": "code",
   "execution_count": 6,
   "metadata": {
    "scrolled": true
   },
   "outputs": [
    {
     "name": "stdout",
     "output_type": "stream",
     "text": [
      "gdc-client download -m ../gdc_manifest_20190204_230647.txt\r\n"
     ]
    }
   ],
   "source": [
    "# The echo is to see what the download command will look like before preceeding with download\n",
    "! echo \"gdc-client download -m\" $manifest"
   ]
  },
  {
   "cell_type": "code",
   "execution_count": 7,
   "metadata": {},
   "outputs": [
    {
     "name": "stdout",
     "output_type": "stream",
     "text": [
      "^C\r\n",
      "\u001b[33mWARNING: \u001b[0mProcess cancelled by user.\r\n"
     ]
    }
   ],
   "source": [
    "# ! gdc-client download -m $manifest"
   ]
  },
  {
   "cell_type": "code",
   "execution_count": null,
   "metadata": {},
   "outputs": [],
   "source": []
  }
 ],
 "metadata": {
  "kernelspec": {
   "display_name": "Python [conda env:dsi]",
   "language": "python",
   "name": "conda-env-dsi-py"
  },
  "language_info": {
   "codemirror_mode": {
    "name": "ipython",
    "version": 3
   },
   "file_extension": ".py",
   "mimetype": "text/x-python",
   "name": "python",
   "nbconvert_exporter": "python",
   "pygments_lexer": "ipython3",
   "version": "3.6.5"
  },
  "varInspector": {
   "cols": {
    "lenName": 16,
    "lenType": 16,
    "lenVar": 40
   },
   "kernels_config": {
    "python": {
     "delete_cmd_postfix": "",
     "delete_cmd_prefix": "del ",
     "library": "var_list.py",
     "varRefreshCmd": "print(var_dic_list())"
    },
    "r": {
     "delete_cmd_postfix": ") ",
     "delete_cmd_prefix": "rm(",
     "library": "var_list.r",
     "varRefreshCmd": "cat(var_dic_list()) "
    }
   },
   "types_to_exclude": [
    "module",
    "function",
    "builtin_function_or_method",
    "instance",
    "_Feature"
   ],
   "window_display": false
  }
 },
 "nbformat": 4,
 "nbformat_minor": 2
}
