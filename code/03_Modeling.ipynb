{
 "cells": [
  {
   "cell_type": "markdown",
   "metadata": {},
   "source": [
    "## Modeling\n",
    "\n",
    "---\n",
    "\n",
    "### Objective: \n",
    "\n",
    "This notebook will seek to build a classification model to predict the tumor diagnosis."
   ]
  },
  {
   "cell_type": "markdown",
   "metadata": {},
   "source": [
    "## Import Libraries"
   ]
  },
  {
   "cell_type": "code",
   "execution_count": 1,
   "metadata": {},
   "outputs": [
    {
     "name": "stderr",
     "output_type": "stream",
     "text": [
      "/anaconda3/envs/dsi/lib/python3.6/site-packages/sklearn/ensemble/weight_boosting.py:29: DeprecationWarning: numpy.core.umath_tests is an internal NumPy module and should not be imported. It will be removed in a future NumPy release.\n",
      "  from numpy.core.umath_tests import inner1d\n",
      "Using TensorFlow backend.\n",
      "/anaconda3/envs/dsi/lib/python3.6/importlib/_bootstrap.py:219: ImportWarning: can't resolve package from __spec__ or __package__, falling back on __name__ and __path__\n",
      "  return f(*args, **kwds)\n",
      "/anaconda3/envs/dsi/lib/python3.6/site-packages/tensorflow/python/util/tf_inspect.py:75: DeprecationWarning: inspect.getargspec() is deprecated, use inspect.signature() or inspect.getfullargspec()\n",
      "  return _inspect.getargspec(target)\n",
      "/anaconda3/envs/dsi/lib/python3.6/site-packages/tensorflow/python/keras/backend.py:4900: ResourceWarning: unclosed file <_io.TextIOWrapper name='/Users/surajsakaram/.keras/keras.json' mode='r' encoding='utf-8'>\n",
      "  _config = json.load(open(_config_path))\n"
     ]
    }
   ],
   "source": [
    "import pandas as pd\n",
    "import numpy as np\n",
    "import matplotlib.pyplot as plt\n",
    "import os\n",
    "import seaborn as sns\n",
    "%matplotlib inline\n",
    "\n",
    "from sklearn.model_selection import train_test_split, cross_val_score\n",
    "from sklearn.preprocessing import StandardScaler\n",
    "from sklearn.linear_model import LogisticRegression\n",
    "from sklearn.ensemble import RandomForestClassifier\n",
    "from sklearn.ensemble import ExtraTreesClassifier\n",
    "from sklearn.decomposition import PCA\n",
    "from pactools.grid_search import GridSearchCVProgressBar\n",
    "from sklearn.metrics import confusion_matrix\n",
    "from sklearn.externals.six import StringIO\n",
    "\n",
    "from keras.models import Sequential\n",
    "from keras.layers import Dense, Dropout\n",
    "from keras.utils import to_categorical # only for multiclass problems"
   ]
  },
  {
   "cell_type": "markdown",
   "metadata": {},
   "source": [
    "## Load dataset"
   ]
  },
  {
   "cell_type": "code",
   "execution_count": 86,
   "metadata": {},
   "outputs": [],
   "source": [
    "directory = '/Users/surajsakaram/GA_DSI/capstone/'\n",
    "os.chdir(directory)"
   ]
  },
  {
   "cell_type": "code",
   "execution_count": 87,
   "metadata": {},
   "outputs": [
    {
     "data": {
      "text/html": [
       "<div>\n",
       "<style scoped>\n",
       "    .dataframe tbody tr th:only-of-type {\n",
       "        vertical-align: middle;\n",
       "    }\n",
       "\n",
       "    .dataframe tbody tr th {\n",
       "        vertical-align: top;\n",
       "    }\n",
       "\n",
       "    .dataframe thead th {\n",
       "        text-align: right;\n",
       "    }\n",
       "</style>\n",
       "<table border=\"1\" class=\"dataframe\">\n",
       "  <thead>\n",
       "    <tr style=\"text-align: right;\">\n",
       "      <th></th>\n",
       "      <th>Unnamed: 0</th>\n",
       "      <th>hsa-let-7a-1</th>\n",
       "      <th>hsa-let-7a-2</th>\n",
       "      <th>hsa-let-7a-3</th>\n",
       "      <th>hsa-let-7b</th>\n",
       "      <th>hsa-let-7c</th>\n",
       "      <th>hsa-let-7d</th>\n",
       "      <th>hsa-let-7e</th>\n",
       "      <th>hsa-let-7f-1</th>\n",
       "      <th>hsa-let-7f-2</th>\n",
       "      <th>...</th>\n",
       "      <th>hsa-mir-942</th>\n",
       "      <th>hsa-mir-943</th>\n",
       "      <th>hsa-mir-944</th>\n",
       "      <th>hsa-mir-95</th>\n",
       "      <th>hsa-mir-9500</th>\n",
       "      <th>hsa-mir-96</th>\n",
       "      <th>hsa-mir-98</th>\n",
       "      <th>hsa-mir-99a</th>\n",
       "      <th>hsa-mir-99b</th>\n",
       "      <th>Project ID</th>\n",
       "    </tr>\n",
       "  </thead>\n",
       "  <tbody>\n",
       "    <tr>\n",
       "      <th>0</th>\n",
       "      <td>dc8d96ef-81eb-41c8-a486-02d107c1a137</td>\n",
       "      <td>3.547968</td>\n",
       "      <td>3.549818</td>\n",
       "      <td>3.546214</td>\n",
       "      <td>4.117714</td>\n",
       "      <td>3.007233</td>\n",
       "      <td>2.581141</td>\n",
       "      <td>2.785192</td>\n",
       "      <td>3.017134</td>\n",
       "      <td>2.992315</td>\n",
       "      <td>...</td>\n",
       "      <td>0.545588</td>\n",
       "      <td>0.000000</td>\n",
       "      <td>0.427299</td>\n",
       "      <td>0.545588</td>\n",
       "      <td>0.0</td>\n",
       "      <td>1.832469</td>\n",
       "      <td>1.640566</td>\n",
       "      <td>2.339908</td>\n",
       "      <td>4.439245</td>\n",
       "      <td>TCGA-BRCA</td>\n",
       "    </tr>\n",
       "    <tr>\n",
       "      <th>1</th>\n",
       "      <td>93b8bab9-acd8-4a5a-b4ba-ec52b2ab186b</td>\n",
       "      <td>3.768018</td>\n",
       "      <td>3.761313</td>\n",
       "      <td>3.768977</td>\n",
       "      <td>4.516109</td>\n",
       "      <td>3.376693</td>\n",
       "      <td>2.356177</td>\n",
       "      <td>2.598639</td>\n",
       "      <td>2.974029</td>\n",
       "      <td>2.968223</td>\n",
       "      <td>...</td>\n",
       "      <td>0.445166</td>\n",
       "      <td>0.000000</td>\n",
       "      <td>0.700805</td>\n",
       "      <td>0.803563</td>\n",
       "      <td>0.0</td>\n",
       "      <td>1.559870</td>\n",
       "      <td>1.376333</td>\n",
       "      <td>2.847180</td>\n",
       "      <td>4.302784</td>\n",
       "      <td>TCGA-BRCA</td>\n",
       "    </tr>\n",
       "    <tr>\n",
       "      <th>2</th>\n",
       "      <td>6d869125-0f2b-406a-a1aa-4b352b2247d3</td>\n",
       "      <td>4.104185</td>\n",
       "      <td>4.108015</td>\n",
       "      <td>4.111399</td>\n",
       "      <td>3.937836</td>\n",
       "      <td>2.703592</td>\n",
       "      <td>3.204237</td>\n",
       "      <td>3.688180</td>\n",
       "      <td>4.085192</td>\n",
       "      <td>4.091688</td>\n",
       "      <td>...</td>\n",
       "      <td>0.637865</td>\n",
       "      <td>0.325225</td>\n",
       "      <td>1.190040</td>\n",
       "      <td>0.637865</td>\n",
       "      <td>0.0</td>\n",
       "      <td>1.963026</td>\n",
       "      <td>2.138418</td>\n",
       "      <td>2.055275</td>\n",
       "      <td>4.640409</td>\n",
       "      <td>TCGA-LUAD</td>\n",
       "    </tr>\n",
       "    <tr>\n",
       "      <th>3</th>\n",
       "      <td>41dbd6ab-871d-4ee4-be13-392b4995f6ce</td>\n",
       "      <td>3.935165</td>\n",
       "      <td>3.927110</td>\n",
       "      <td>3.946023</td>\n",
       "      <td>4.527177</td>\n",
       "      <td>3.188055</td>\n",
       "      <td>2.909463</td>\n",
       "      <td>3.352680</td>\n",
       "      <td>2.911188</td>\n",
       "      <td>2.892728</td>\n",
       "      <td>...</td>\n",
       "      <td>0.626380</td>\n",
       "      <td>0.000000</td>\n",
       "      <td>0.417504</td>\n",
       "      <td>0.417504</td>\n",
       "      <td>0.0</td>\n",
       "      <td>1.679797</td>\n",
       "      <td>1.708174</td>\n",
       "      <td>2.687683</td>\n",
       "      <td>5.125350</td>\n",
       "      <td>TCGA-BRCA</td>\n",
       "    </tr>\n",
       "    <tr>\n",
       "      <th>4</th>\n",
       "      <td>322badf4-b70d-4f90-ac44-d2f30e52f03c</td>\n",
       "      <td>4.013612</td>\n",
       "      <td>4.002393</td>\n",
       "      <td>4.008206</td>\n",
       "      <td>4.389196</td>\n",
       "      <td>3.509239</td>\n",
       "      <td>2.801726</td>\n",
       "      <td>3.011989</td>\n",
       "      <td>3.539071</td>\n",
       "      <td>3.544329</td>\n",
       "      <td>...</td>\n",
       "      <td>0.423645</td>\n",
       "      <td>0.150176</td>\n",
       "      <td>0.150176</td>\n",
       "      <td>0.261553</td>\n",
       "      <td>0.0</td>\n",
       "      <td>0.150176</td>\n",
       "      <td>1.824024</td>\n",
       "      <td>2.847896</td>\n",
       "      <td>4.510322</td>\n",
       "      <td>TCGA-KIRC</td>\n",
       "    </tr>\n",
       "  </tbody>\n",
       "</table>\n",
       "<p>5 rows × 1883 columns</p>\n",
       "</div>"
      ],
      "text/plain": [
       "                             Unnamed: 0  hsa-let-7a-1  hsa-let-7a-2  \\\n",
       "0  dc8d96ef-81eb-41c8-a486-02d107c1a137      3.547968      3.549818   \n",
       "1  93b8bab9-acd8-4a5a-b4ba-ec52b2ab186b      3.768018      3.761313   \n",
       "2  6d869125-0f2b-406a-a1aa-4b352b2247d3      4.104185      4.108015   \n",
       "3  41dbd6ab-871d-4ee4-be13-392b4995f6ce      3.935165      3.927110   \n",
       "4  322badf4-b70d-4f90-ac44-d2f30e52f03c      4.013612      4.002393   \n",
       "\n",
       "   hsa-let-7a-3  hsa-let-7b  hsa-let-7c  hsa-let-7d  hsa-let-7e  hsa-let-7f-1  \\\n",
       "0      3.546214    4.117714    3.007233    2.581141    2.785192      3.017134   \n",
       "1      3.768977    4.516109    3.376693    2.356177    2.598639      2.974029   \n",
       "2      4.111399    3.937836    2.703592    3.204237    3.688180      4.085192   \n",
       "3      3.946023    4.527177    3.188055    2.909463    3.352680      2.911188   \n",
       "4      4.008206    4.389196    3.509239    2.801726    3.011989      3.539071   \n",
       "\n",
       "   hsa-let-7f-2     ...      hsa-mir-942  hsa-mir-943  hsa-mir-944  \\\n",
       "0      2.992315     ...         0.545588     0.000000     0.427299   \n",
       "1      2.968223     ...         0.445166     0.000000     0.700805   \n",
       "2      4.091688     ...         0.637865     0.325225     1.190040   \n",
       "3      2.892728     ...         0.626380     0.000000     0.417504   \n",
       "4      3.544329     ...         0.423645     0.150176     0.150176   \n",
       "\n",
       "   hsa-mir-95  hsa-mir-9500  hsa-mir-96  hsa-mir-98  hsa-mir-99a  hsa-mir-99b  \\\n",
       "0    0.545588           0.0    1.832469    1.640566     2.339908     4.439245   \n",
       "1    0.803563           0.0    1.559870    1.376333     2.847180     4.302784   \n",
       "2    0.637865           0.0    1.963026    2.138418     2.055275     4.640409   \n",
       "3    0.417504           0.0    1.679797    1.708174     2.687683     5.125350   \n",
       "4    0.261553           0.0    0.150176    1.824024     2.847896     4.510322   \n",
       "\n",
       "   Project ID  \n",
       "0   TCGA-BRCA  \n",
       "1   TCGA-BRCA  \n",
       "2   TCGA-LUAD  \n",
       "3   TCGA-BRCA  \n",
       "4   TCGA-KIRC  \n",
       "\n",
       "[5 rows x 1883 columns]"
      ]
     },
     "execution_count": 87,
     "metadata": {},
     "output_type": "execute_result"
    }
   ],
   "source": [
    "# Load dataset\n",
    "df = pd.read_csv('./data/expression.csv')\n",
    "df.head()"
   ]
  },
  {
   "cell_type": "code",
   "execution_count": 88,
   "metadata": {},
   "outputs": [
    {
     "data": {
      "text/html": [
       "<div>\n",
       "<style scoped>\n",
       "    .dataframe tbody tr th:only-of-type {\n",
       "        vertical-align: middle;\n",
       "    }\n",
       "\n",
       "    .dataframe tbody tr th {\n",
       "        vertical-align: top;\n",
       "    }\n",
       "\n",
       "    .dataframe thead th {\n",
       "        text-align: right;\n",
       "    }\n",
       "</style>\n",
       "<table border=\"1\" class=\"dataframe\">\n",
       "  <thead>\n",
       "    <tr style=\"text-align: right;\">\n",
       "      <th></th>\n",
       "      <th>hsa-let-7a-1</th>\n",
       "      <th>hsa-let-7a-2</th>\n",
       "      <th>hsa-let-7a-3</th>\n",
       "      <th>hsa-let-7b</th>\n",
       "      <th>hsa-let-7c</th>\n",
       "      <th>hsa-let-7d</th>\n",
       "      <th>hsa-let-7e</th>\n",
       "      <th>hsa-let-7f-1</th>\n",
       "      <th>hsa-let-7f-2</th>\n",
       "      <th>hsa-let-7g</th>\n",
       "      <th>...</th>\n",
       "      <th>hsa-mir-942</th>\n",
       "      <th>hsa-mir-943</th>\n",
       "      <th>hsa-mir-944</th>\n",
       "      <th>hsa-mir-95</th>\n",
       "      <th>hsa-mir-9500</th>\n",
       "      <th>hsa-mir-96</th>\n",
       "      <th>hsa-mir-98</th>\n",
       "      <th>hsa-mir-99a</th>\n",
       "      <th>hsa-mir-99b</th>\n",
       "      <th>Project ID</th>\n",
       "    </tr>\n",
       "    <tr>\n",
       "      <th></th>\n",
       "      <th></th>\n",
       "      <th></th>\n",
       "      <th></th>\n",
       "      <th></th>\n",
       "      <th></th>\n",
       "      <th></th>\n",
       "      <th></th>\n",
       "      <th></th>\n",
       "      <th></th>\n",
       "      <th></th>\n",
       "      <th></th>\n",
       "      <th></th>\n",
       "      <th></th>\n",
       "      <th></th>\n",
       "      <th></th>\n",
       "      <th></th>\n",
       "      <th></th>\n",
       "      <th></th>\n",
       "      <th></th>\n",
       "      <th></th>\n",
       "      <th></th>\n",
       "    </tr>\n",
       "  </thead>\n",
       "  <tbody>\n",
       "    <tr>\n",
       "      <th>dc8d96ef-81eb-41c8-a486-02d107c1a137</th>\n",
       "      <td>3.547968</td>\n",
       "      <td>3.549818</td>\n",
       "      <td>3.546214</td>\n",
       "      <td>4.117714</td>\n",
       "      <td>3.007233</td>\n",
       "      <td>2.581141</td>\n",
       "      <td>2.785192</td>\n",
       "      <td>3.017134</td>\n",
       "      <td>2.992315</td>\n",
       "      <td>2.457217</td>\n",
       "      <td>...</td>\n",
       "      <td>0.545588</td>\n",
       "      <td>0.000000</td>\n",
       "      <td>0.427299</td>\n",
       "      <td>0.545588</td>\n",
       "      <td>0.0</td>\n",
       "      <td>1.832469</td>\n",
       "      <td>1.640566</td>\n",
       "      <td>2.339908</td>\n",
       "      <td>4.439245</td>\n",
       "      <td>TCGA-BRCA</td>\n",
       "    </tr>\n",
       "    <tr>\n",
       "      <th>93b8bab9-acd8-4a5a-b4ba-ec52b2ab186b</th>\n",
       "      <td>3.768018</td>\n",
       "      <td>3.761313</td>\n",
       "      <td>3.768977</td>\n",
       "      <td>4.516109</td>\n",
       "      <td>3.376693</td>\n",
       "      <td>2.356177</td>\n",
       "      <td>2.598639</td>\n",
       "      <td>2.974029</td>\n",
       "      <td>2.968223</td>\n",
       "      <td>2.258890</td>\n",
       "      <td>...</td>\n",
       "      <td>0.445166</td>\n",
       "      <td>0.000000</td>\n",
       "      <td>0.700805</td>\n",
       "      <td>0.803563</td>\n",
       "      <td>0.0</td>\n",
       "      <td>1.559870</td>\n",
       "      <td>1.376333</td>\n",
       "      <td>2.847180</td>\n",
       "      <td>4.302784</td>\n",
       "      <td>TCGA-BRCA</td>\n",
       "    </tr>\n",
       "    <tr>\n",
       "      <th>6d869125-0f2b-406a-a1aa-4b352b2247d3</th>\n",
       "      <td>4.104185</td>\n",
       "      <td>4.108015</td>\n",
       "      <td>4.111399</td>\n",
       "      <td>3.937836</td>\n",
       "      <td>2.703592</td>\n",
       "      <td>3.204237</td>\n",
       "      <td>3.688180</td>\n",
       "      <td>4.085192</td>\n",
       "      <td>4.091688</td>\n",
       "      <td>3.328237</td>\n",
       "      <td>...</td>\n",
       "      <td>0.637865</td>\n",
       "      <td>0.325225</td>\n",
       "      <td>1.190040</td>\n",
       "      <td>0.637865</td>\n",
       "      <td>0.0</td>\n",
       "      <td>1.963026</td>\n",
       "      <td>2.138418</td>\n",
       "      <td>2.055275</td>\n",
       "      <td>4.640409</td>\n",
       "      <td>TCGA-LUAD</td>\n",
       "    </tr>\n",
       "  </tbody>\n",
       "</table>\n",
       "<p>3 rows × 1882 columns</p>\n",
       "</div>"
      ],
      "text/plain": [
       "                                      hsa-let-7a-1  hsa-let-7a-2  \\\n",
       "                                                                   \n",
       "dc8d96ef-81eb-41c8-a486-02d107c1a137      3.547968      3.549818   \n",
       "93b8bab9-acd8-4a5a-b4ba-ec52b2ab186b      3.768018      3.761313   \n",
       "6d869125-0f2b-406a-a1aa-4b352b2247d3      4.104185      4.108015   \n",
       "\n",
       "                                      hsa-let-7a-3  hsa-let-7b  hsa-let-7c  \\\n",
       "                                                                             \n",
       "dc8d96ef-81eb-41c8-a486-02d107c1a137      3.546214    4.117714    3.007233   \n",
       "93b8bab9-acd8-4a5a-b4ba-ec52b2ab186b      3.768977    4.516109    3.376693   \n",
       "6d869125-0f2b-406a-a1aa-4b352b2247d3      4.111399    3.937836    2.703592   \n",
       "\n",
       "                                      hsa-let-7d  hsa-let-7e  hsa-let-7f-1  \\\n",
       "                                                                             \n",
       "dc8d96ef-81eb-41c8-a486-02d107c1a137    2.581141    2.785192      3.017134   \n",
       "93b8bab9-acd8-4a5a-b4ba-ec52b2ab186b    2.356177    2.598639      2.974029   \n",
       "6d869125-0f2b-406a-a1aa-4b352b2247d3    3.204237    3.688180      4.085192   \n",
       "\n",
       "                                      hsa-let-7f-2  hsa-let-7g     ...      \\\n",
       "                                                                   ...       \n",
       "dc8d96ef-81eb-41c8-a486-02d107c1a137      2.992315    2.457217     ...       \n",
       "93b8bab9-acd8-4a5a-b4ba-ec52b2ab186b      2.968223    2.258890     ...       \n",
       "6d869125-0f2b-406a-a1aa-4b352b2247d3      4.091688    3.328237     ...       \n",
       "\n",
       "                                      hsa-mir-942  hsa-mir-943  hsa-mir-944  \\\n",
       "                                                                              \n",
       "dc8d96ef-81eb-41c8-a486-02d107c1a137     0.545588     0.000000     0.427299   \n",
       "93b8bab9-acd8-4a5a-b4ba-ec52b2ab186b     0.445166     0.000000     0.700805   \n",
       "6d869125-0f2b-406a-a1aa-4b352b2247d3     0.637865     0.325225     1.190040   \n",
       "\n",
       "                                      hsa-mir-95  hsa-mir-9500  hsa-mir-96  \\\n",
       "                                                                             \n",
       "dc8d96ef-81eb-41c8-a486-02d107c1a137    0.545588           0.0    1.832469   \n",
       "93b8bab9-acd8-4a5a-b4ba-ec52b2ab186b    0.803563           0.0    1.559870   \n",
       "6d869125-0f2b-406a-a1aa-4b352b2247d3    0.637865           0.0    1.963026   \n",
       "\n",
       "                                      hsa-mir-98  hsa-mir-99a  hsa-mir-99b  \\\n",
       "                                                                             \n",
       "dc8d96ef-81eb-41c8-a486-02d107c1a137    1.640566     2.339908     4.439245   \n",
       "93b8bab9-acd8-4a5a-b4ba-ec52b2ab186b    1.376333     2.847180     4.302784   \n",
       "6d869125-0f2b-406a-a1aa-4b352b2247d3    2.138418     2.055275     4.640409   \n",
       "\n",
       "                                      Project ID  \n",
       "                                                  \n",
       "dc8d96ef-81eb-41c8-a486-02d107c1a137   TCGA-BRCA  \n",
       "93b8bab9-acd8-4a5a-b4ba-ec52b2ab186b   TCGA-BRCA  \n",
       "6d869125-0f2b-406a-a1aa-4b352b2247d3   TCGA-LUAD  \n",
       "\n",
       "[3 rows x 1882 columns]"
      ]
     },
     "execution_count": 88,
     "metadata": {},
     "output_type": "execute_result"
    }
   ],
   "source": [
    "df.set_index('Unnamed: 0', inplace=True)\n",
    "df.index.name = ''\n",
    "df.head(3)"
   ]
  },
  {
   "cell_type": "markdown",
   "metadata": {},
   "source": [
    "## Convert Label to Numerical Classes"
   ]
  },
  {
   "cell_type": "code",
   "execution_count": 89,
   "metadata": {
    "scrolled": true
   },
   "outputs": [
    {
     "data": {
      "text/plain": [
       "array(['TCGA-BRCA', 'TCGA-LUAD', 'TCGA-KIRC', 'TCGA-UCEC', 'TCGA-HNSC',\n",
       "       'TCGA-LGG'], dtype=object)"
      ]
     },
     "execution_count": 89,
     "metadata": {},
     "output_type": "execute_result"
    }
   ],
   "source": [
    "# Store the uniques tumor classes \n",
    "labels = df['Project ID'].unique()\n",
    "labels"
   ]
  },
  {
   "cell_type": "code",
   "execution_count": 90,
   "metadata": {},
   "outputs": [
    {
     "data": {
      "text/plain": [
       "{'TCGA-BRCA': 0,\n",
       " 'TCGA-LUAD': 1,\n",
       " 'TCGA-KIRC': 2,\n",
       " 'TCGA-UCEC': 3,\n",
       " 'TCGA-HNSC': 4,\n",
       " 'TCGA-LGG': 5}"
      ]
     },
     "execution_count": 90,
     "metadata": {},
     "output_type": "execute_result"
    }
   ],
   "source": [
    "# Create a dictionary and assign a numerical value to each class\n",
    "label_dict = {}\n",
    "for i, val in enumerate(labels):\n",
    "    label_dict[val] = i\n",
    "\n",
    "label_dict"
   ]
  },
  {
   "cell_type": "code",
   "execution_count": 91,
   "metadata": {},
   "outputs": [],
   "source": [
    "# Map the dictionary onto the Project ID column\n",
    "df['Project ID'] = df['Project ID'].apply(lambda x: label_dict[x])"
   ]
  },
  {
   "cell_type": "code",
   "execution_count": 92,
   "metadata": {},
   "outputs": [
    {
     "data": {
      "text/plain": [
       "\n",
       "dc8d96ef-81eb-41c8-a486-02d107c1a137    0\n",
       "93b8bab9-acd8-4a5a-b4ba-ec52b2ab186b    0\n",
       "6d869125-0f2b-406a-a1aa-4b352b2247d3    1\n",
       "41dbd6ab-871d-4ee4-be13-392b4995f6ce    0\n",
       "322badf4-b70d-4f90-ac44-d2f30e52f03c    2\n",
       "Name: Project ID, dtype: int64"
      ]
     },
     "execution_count": 92,
     "metadata": {},
     "output_type": "execute_result"
    }
   ],
   "source": [
    "df['Project ID'].head()"
   ]
  },
  {
   "cell_type": "code",
   "execution_count": 93,
   "metadata": {},
   "outputs": [
    {
     "data": {
      "text/plain": [
       "array([0, 0, 1, ..., 2, 5, 3])"
      ]
     },
     "execution_count": 93,
     "metadata": {},
     "output_type": "execute_result"
    }
   ],
   "source": [
    "df['Project ID'].values"
   ]
  },
  {
   "cell_type": "code",
   "execution_count": 94,
   "metadata": {},
   "outputs": [
    {
     "data": {
      "text/plain": [
       "(array([0, 1, 2, 3, 4, 5]), array([1207,  567,  616,  579,  569,  530]))"
      ]
     },
     "execution_count": 94,
     "metadata": {},
     "output_type": "execute_result"
    }
   ],
   "source": [
    "np.unique(df['Project ID'].values, return_counts=True)"
   ]
  },
  {
   "cell_type": "code",
   "execution_count": 12,
   "metadata": {},
   "outputs": [
    {
     "data": {
      "text/plain": [
       "Project ID    1.0\n",
       "Name: Project ID, dtype: float64"
      ]
     },
     "execution_count": 12,
     "metadata": {},
     "output_type": "execute_result"
    }
   ],
   "source": [
    "df.corr()['Project ID'][df.corr()['Project ID'] > 0.8]"
   ]
  },
  {
   "cell_type": "markdown",
   "metadata": {},
   "source": [
    "- This ensures that there are no miRNA features that are highly correlated with the Project ID column suggesting there is no data leakage."
   ]
  },
  {
   "cell_type": "markdown",
   "metadata": {},
   "source": [
    "## Modeling\n",
    "\n",
    "Several different classification models will be trained including a Multinomial Logistic Regression, Random Forest, ExtraTrees, and Neural Net. Principal Components Analysis will be done to assess the overall variance contributed by each miRNA variable in this high dimensional dataset."
   ]
  },
  {
   "cell_type": "code",
   "execution_count": 154,
   "metadata": {},
   "outputs": [
    {
     "data": {
      "text/plain": [
       "((4068, 1881), (4068,))"
      ]
     },
     "execution_count": 154,
     "metadata": {},
     "output_type": "execute_result"
    }
   ],
   "source": [
    "# define X and y\n",
    "features = [col for col in df.columns if col != 'Project ID']\n",
    "X = df[features]\n",
    "y = df['Project ID']\n",
    "\n",
    "X.shape, y.shape"
   ]
  },
  {
   "cell_type": "code",
   "execution_count": 15,
   "metadata": {},
   "outputs": [],
   "source": [
    "# Create Train/Test Split data\n",
    "X_train, X_test, y_train, y_test = train_test_split(X, y, random_state = 42)"
   ]
  },
  {
   "cell_type": "code",
   "execution_count": 16,
   "metadata": {},
   "outputs": [],
   "source": [
    "# Scale X and transform \n",
    "ss = StandardScaler()\n",
    "ss.fit(X_train)\n",
    "\n",
    "X_train_sc = ss.transform(X_train)\n",
    "X_test_sc = ss.transform(X_test)"
   ]
  },
  {
   "cell_type": "markdown",
   "metadata": {},
   "source": [
    "### Logistic Regression"
   ]
  },
  {
   "cell_type": "code",
   "execution_count": 20,
   "metadata": {},
   "outputs": [
    {
     "data": {
      "text/plain": [
       "LogisticRegression(C=1.0, class_weight=None, dual=False, fit_intercept=True,\n",
       "          intercept_scaling=1, max_iter=100, multi_class='multinomial',\n",
       "          n_jobs=1, penalty='l2', random_state=None, solver='lbfgs',\n",
       "          tol=0.0001, verbose=0, warm_start=False)"
      ]
     },
     "execution_count": 20,
     "metadata": {},
     "output_type": "execute_result"
    }
   ],
   "source": [
    "lr = LogisticRegression(solver='lbfgs', multi_class='multinomial')\n",
    "lr.fit(X_train_sc, y_train)"
   ]
  },
  {
   "cell_type": "code",
   "execution_count": 96,
   "metadata": {},
   "outputs": [
    {
     "name": "stdout",
     "output_type": "stream",
     "text": [
      "Logistic Regression Train score:     1.0\n",
      "Logistic Regression Cross Val score: 0.9928\n",
      "Logistic Regression Test score:      0.9902\n"
     ]
    }
   ],
   "source": [
    "lr_train = lr.score(X_train_sc, y_train)\n",
    "lr_xval = cross_val_score(lr, X_train_sc, y_train, cv=5).mean()\n",
    "lr_test = lr.score(X_test_sc, y_test)\n",
    "\n",
    "print(f'Logistic Regression Train score:     {round(lr_train, 4)}')\n",
    "print(f'Logistic Regression Cross Val score: {round(lr_xval, 4)}')\n",
    "print(f'Logistic Regression Test score:      {round(lr_test, 4)}')"
   ]
  },
  {
   "cell_type": "code",
   "execution_count": 24,
   "metadata": {},
   "outputs": [],
   "source": [
    "# Make predictions \n",
    "lr_preds = lr.predict(X_test_sc)"
   ]
  },
  {
   "cell_type": "code",
   "execution_count": 25,
   "metadata": {},
   "outputs": [
    {
     "data": {
      "text/plain": [
       "array([[290,   1,   0,   1,   2,   0],\n",
       "       [  1, 128,   0,   0,   0,   0],\n",
       "       [  0,   1, 145,   0,   0,   0],\n",
       "       [  0,   1,   1, 157,   1,   0],\n",
       "       [  0,   1,   0,   0, 141,   0],\n",
       "       [  0,   0,   0,   0,   0, 146]])"
      ]
     },
     "execution_count": 25,
     "metadata": {},
     "output_type": "execute_result"
    }
   ],
   "source": [
    "confusion_matrix(y_test, lr_preds)"
   ]
  },
  {
   "cell_type": "markdown",
   "metadata": {},
   "source": [
    "- The logistic regression model has a training accuracy score of 100% which is unusually accurate. \n",
    "- The cross validation score of 99.28% suggests that the estimated accuracy is on par with the training set score. \n",
    "- The model performs with an accuracy of 99.02% on the test set. \n",
    "- The confusion matrix depicts that the model has accurately classified the samples to their appropriate tumor diagnoses with very few samples being misclassified. "
   ]
  },
  {
   "cell_type": "code",
   "execution_count": 97,
   "metadata": {},
   "outputs": [
    {
     "data": {
      "text/plain": [
       "array([[ 0.03151776,  0.03092023,  0.03197863, ..., -0.01049186,\n",
       "         0.07603127,  0.02183182],\n",
       "       [-0.00503442, -0.00416336, -0.00496425, ...,  0.04825268,\n",
       "        -0.11475346,  0.00358576],\n",
       "       [-0.01462169, -0.01453553, -0.0143295 , ...,  0.02885858,\n",
       "        -0.02875857,  0.02481684],\n",
       "       [-0.02159093, -0.02168356, -0.02206536, ..., -0.05970354,\n",
       "         0.01753393,  0.04982261],\n",
       "       [ 0.01469039,  0.01435554,  0.01432473, ..., -0.01896655,\n",
       "         0.01749104, -0.09396333],\n",
       "       [-0.00496111, -0.00489332, -0.00494425, ...,  0.0120507 ,\n",
       "         0.03245578, -0.00609371]])"
      ]
     },
     "execution_count": 97,
     "metadata": {},
     "output_type": "execute_result"
    }
   ],
   "source": [
    "# Access the coefficients of the logistic regression model \n",
    "lr.coef_"
   ]
  },
  {
   "cell_type": "markdown",
   "metadata": {},
   "source": [
    "- These coefficients will be useful in understanding which miRNAs seemed to have the greatest predictive power in classifying the samples to their respective cancer types.\n",
    "- However, first we need to sort them to be able to pick out the top 10 most influential. "
   ]
  },
  {
   "cell_type": "code",
   "execution_count": 100,
   "metadata": {},
   "outputs": [],
   "source": [
    "# Create a mask that stores the column index of the top 10 most influential miRNAs\n",
    "masks = []\n",
    "for i in range(len(lr.coef_)):\n",
    "    masks.append(np.argsort(lr.coef_[i])[:-11:-1])"
   ]
  },
  {
   "cell_type": "code",
   "execution_count": 120,
   "metadata": {},
   "outputs": [],
   "source": [
    "# Store the top 10 miRNAs into a dictionary \n",
    "top10dict = {}\n",
    "\n",
    "for i, label in enumerate(list(labels)):\n",
    "    top10dict[label] = list(df.iloc[:, masks[i]].columns)"
   ]
  },
  {
   "cell_type": "code",
   "execution_count": 124,
   "metadata": {},
   "outputs": [
    {
     "data": {
      "text/html": [
       "<div>\n",
       "<style scoped>\n",
       "    .dataframe tbody tr th:only-of-type {\n",
       "        vertical-align: middle;\n",
       "    }\n",
       "\n",
       "    .dataframe tbody tr th {\n",
       "        vertical-align: top;\n",
       "    }\n",
       "\n",
       "    .dataframe thead th {\n",
       "        text-align: right;\n",
       "    }\n",
       "</style>\n",
       "<table border=\"1\" class=\"dataframe\">\n",
       "  <thead>\n",
       "    <tr style=\"text-align: right;\">\n",
       "      <th></th>\n",
       "      <th>TCGA-BRCA</th>\n",
       "      <th>TCGA-LUAD</th>\n",
       "      <th>TCGA-KIRC</th>\n",
       "      <th>TCGA-UCEC</th>\n",
       "      <th>TCGA-HNSC</th>\n",
       "      <th>TCGA-LGG</th>\n",
       "    </tr>\n",
       "  </thead>\n",
       "  <tbody>\n",
       "    <tr>\n",
       "      <th>0</th>\n",
       "      <td>hsa-mir-5683</td>\n",
       "      <td>hsa-mir-552</td>\n",
       "      <td>hsa-mir-122</td>\n",
       "      <td>hsa-mir-196b</td>\n",
       "      <td>hsa-mir-944</td>\n",
       "      <td>hsa-mir-219a-2</td>\n",
       "    </tr>\n",
       "    <tr>\n",
       "      <th>1</th>\n",
       "      <td>hsa-mir-190b</td>\n",
       "      <td>hsa-mir-3617</td>\n",
       "      <td>hsa-mir-204</td>\n",
       "      <td>hsa-mir-676</td>\n",
       "      <td>hsa-mir-206</td>\n",
       "      <td>hsa-mir-488</td>\n",
       "    </tr>\n",
       "    <tr>\n",
       "      <th>2</th>\n",
       "      <td>hsa-mir-7156</td>\n",
       "      <td>hsa-mir-511</td>\n",
       "      <td>hsa-mir-30c-2</td>\n",
       "      <td>hsa-mir-5680</td>\n",
       "      <td>hsa-mir-6499</td>\n",
       "      <td>hsa-mir-92b</td>\n",
       "    </tr>\n",
       "    <tr>\n",
       "      <th>3</th>\n",
       "      <td>hsa-mir-193a</td>\n",
       "      <td>hsa-mir-4709</td>\n",
       "      <td>hsa-mir-30a</td>\n",
       "      <td>hsa-mir-10b</td>\n",
       "      <td>hsa-mir-205</td>\n",
       "      <td>hsa-mir-9-3</td>\n",
       "    </tr>\n",
       "    <tr>\n",
       "      <th>4</th>\n",
       "      <td>hsa-mir-196a-1</td>\n",
       "      <td>hsa-mir-5698</td>\n",
       "      <td>hsa-mir-653</td>\n",
       "      <td>hsa-mir-135b</td>\n",
       "      <td>hsa-mir-6512</td>\n",
       "      <td>hsa-mir-9-2</td>\n",
       "    </tr>\n",
       "    <tr>\n",
       "      <th>5</th>\n",
       "      <td>hsa-mir-196a-2</td>\n",
       "      <td>hsa-mir-100</td>\n",
       "      <td>hsa-mir-192</td>\n",
       "      <td>hsa-mir-532</td>\n",
       "      <td>hsa-mir-1293</td>\n",
       "      <td>hsa-mir-9-1</td>\n",
       "    </tr>\n",
       "    <tr>\n",
       "      <th>6</th>\n",
       "      <td>hsa-mir-548ao</td>\n",
       "      <td>hsa-mir-375</td>\n",
       "      <td>hsa-mir-615</td>\n",
       "      <td>hsa-mir-3131</td>\n",
       "      <td>hsa-mir-203a</td>\n",
       "      <td>hsa-mir-219a-1</td>\n",
       "    </tr>\n",
       "    <tr>\n",
       "      <th>7</th>\n",
       "      <td>hsa-mir-6510</td>\n",
       "      <td>hsa-mir-147b</td>\n",
       "      <td>hsa-mir-30c-1</td>\n",
       "      <td>hsa-mir-130a</td>\n",
       "      <td>hsa-mir-6510</td>\n",
       "      <td>hsa-mir-153-1</td>\n",
       "    </tr>\n",
       "    <tr>\n",
       "      <th>8</th>\n",
       "      <td>hsa-mir-4501</td>\n",
       "      <td>hsa-mir-548b</td>\n",
       "      <td>hsa-mir-190a</td>\n",
       "      <td>hsa-mir-3921</td>\n",
       "      <td>hsa-mir-31</td>\n",
       "      <td>hsa-mir-346</td>\n",
       "    </tr>\n",
       "    <tr>\n",
       "      <th>9</th>\n",
       "      <td>hsa-let-7b</td>\n",
       "      <td>hsa-mir-181b-2</td>\n",
       "      <td>hsa-mir-194-2</td>\n",
       "      <td>hsa-mir-135a-1</td>\n",
       "      <td>hsa-mir-4491</td>\n",
       "      <td>hsa-mir-124-1</td>\n",
       "    </tr>\n",
       "  </tbody>\n",
       "</table>\n",
       "</div>"
      ],
      "text/plain": [
       "        TCGA-BRCA       TCGA-LUAD      TCGA-KIRC       TCGA-UCEC  \\\n",
       "0    hsa-mir-5683     hsa-mir-552    hsa-mir-122    hsa-mir-196b   \n",
       "1    hsa-mir-190b    hsa-mir-3617    hsa-mir-204     hsa-mir-676   \n",
       "2    hsa-mir-7156     hsa-mir-511  hsa-mir-30c-2    hsa-mir-5680   \n",
       "3    hsa-mir-193a    hsa-mir-4709    hsa-mir-30a     hsa-mir-10b   \n",
       "4  hsa-mir-196a-1    hsa-mir-5698    hsa-mir-653    hsa-mir-135b   \n",
       "5  hsa-mir-196a-2     hsa-mir-100    hsa-mir-192     hsa-mir-532   \n",
       "6   hsa-mir-548ao     hsa-mir-375    hsa-mir-615    hsa-mir-3131   \n",
       "7    hsa-mir-6510    hsa-mir-147b  hsa-mir-30c-1    hsa-mir-130a   \n",
       "8    hsa-mir-4501    hsa-mir-548b   hsa-mir-190a    hsa-mir-3921   \n",
       "9      hsa-let-7b  hsa-mir-181b-2  hsa-mir-194-2  hsa-mir-135a-1   \n",
       "\n",
       "      TCGA-HNSC        TCGA-LGG  \n",
       "0   hsa-mir-944  hsa-mir-219a-2  \n",
       "1   hsa-mir-206     hsa-mir-488  \n",
       "2  hsa-mir-6499     hsa-mir-92b  \n",
       "3   hsa-mir-205     hsa-mir-9-3  \n",
       "4  hsa-mir-6512     hsa-mir-9-2  \n",
       "5  hsa-mir-1293     hsa-mir-9-1  \n",
       "6  hsa-mir-203a  hsa-mir-219a-1  \n",
       "7  hsa-mir-6510   hsa-mir-153-1  \n",
       "8    hsa-mir-31     hsa-mir-346  \n",
       "9  hsa-mir-4491   hsa-mir-124-1  "
      ]
     },
     "execution_count": 124,
     "metadata": {},
     "output_type": "execute_result"
    }
   ],
   "source": [
    "# Convert the top 10 dictionary into a dataframe\n",
    "top10df = pd.DataFrame(top10dict)\n",
    "top10df"
   ]
  },
  {
   "cell_type": "markdown",
   "metadata": {},
   "source": [
    "- This table shows the top 10 miRNAs that influence the predictive capabilities of the classifier.\n",
    "- It is evident that these miRNAs are unique to the cancer type with no overlapping miRNAs.\n",
    "- Few notable miRNAs among that many displayed:\n",
    "    - [hsa-mir-190b has been shown to characterize the luminal-A/B breast cancer subtypes with a high level of expression.][1]\n",
    "    - [hsa-mir-552 has been shown to be expressed at high levels in Primary Lung Adenocarcinoma.][2]\n",
    "    - [hsa-mir-122 has been shown to promotes proliferation and invasion of clear cell renal cell carcinoma.][3]\n",
    "\n",
    "[1]: https://www.ncbi.nlm.nih.gov/pmc/articles/PMC3043070/\n",
    "[2]: http://ar.iiarjournals.org/content/34/5/2297.full.pdf\n",
    "[3]: https://www.ncbi.nlm.nih.gov/pubmed/30483771"
   ]
  },
  {
   "cell_type": "markdown",
   "metadata": {},
   "source": [
    "### Random Forest "
   ]
  },
  {
   "cell_type": "code",
   "execution_count": 29,
   "metadata": {},
   "outputs": [
    {
     "name": "stdout",
     "output_type": "stream",
     "text": [
      "[........................................] 100% | 109.45 sec | GridSearchCV \n",
      "Random Forest:\n",
      "Train Score: 0.9872173058013766\n",
      "Test Score: 0.9872173058013766\n"
     ]
    }
   ],
   "source": [
    "rf = RandomForestClassifier()\n",
    "rf_params =  {\n",
    "        'n_estimators' : [20, 60, 100],\n",
    "        'max_depth' : [None, 2, 6, 10],\n",
    "        'min_samples_split' : [2, 3, 4] \n",
    "}\n",
    "\n",
    "gs_rf = GridSearchCVProgressBar(rf, param_grid = rf_params)\n",
    "gs_rf.fit(X_train_sc, y_train)\n",
    "print(f'Random Forest:')\n",
    "print(f'Train Score: {gs_rf.best_score_}')\n",
    "print(f'Test Score: {gs_rf.score(X_test_sc, y_test)}')"
   ]
  },
  {
   "cell_type": "code",
   "execution_count": 170,
   "metadata": {},
   "outputs": [
    {
     "data": {
      "text/plain": [
       "0.9845959113918971"
      ]
     },
     "execution_count": 170,
     "metadata": {},
     "output_type": "execute_result"
    }
   ],
   "source": [
    "cross_val_score(gs_rf.best_estimator_, X_train_sc, y_train, cv=5).mean()"
   ]
  },
  {
   "cell_type": "code",
   "execution_count": 155,
   "metadata": {},
   "outputs": [],
   "source": [
    "# Access the feature importances of the best estimator\n",
    "rf_feature_importances = gs_rf.best_estimator_.feature_importances_"
   ]
  },
  {
   "cell_type": "code",
   "execution_count": 166,
   "metadata": {},
   "outputs": [
    {
     "data": {
      "text/html": [
       "<div>\n",
       "<style scoped>\n",
       "    .dataframe tbody tr th:only-of-type {\n",
       "        vertical-align: middle;\n",
       "    }\n",
       "\n",
       "    .dataframe tbody tr th {\n",
       "        vertical-align: top;\n",
       "    }\n",
       "\n",
       "    .dataframe thead th {\n",
       "        text-align: right;\n",
       "    }\n",
       "</style>\n",
       "<table border=\"1\" class=\"dataframe\">\n",
       "  <thead>\n",
       "    <tr style=\"text-align: right;\">\n",
       "      <th></th>\n",
       "      <th>miRNA</th>\n",
       "      <th>importance</th>\n",
       "    </tr>\n",
       "  </thead>\n",
       "  <tbody>\n",
       "    <tr>\n",
       "      <th>276</th>\n",
       "      <td>hsa-mir-205</td>\n",
       "      <td>0.020093</td>\n",
       "    </tr>\n",
       "    <tr>\n",
       "      <th>26</th>\n",
       "      <td>hsa-mir-10b</td>\n",
       "      <td>0.019464</td>\n",
       "    </tr>\n",
       "    <tr>\n",
       "      <th>256</th>\n",
       "      <td>hsa-mir-196b</td>\n",
       "      <td>0.016212</td>\n",
       "    </tr>\n",
       "    <tr>\n",
       "      <th>595</th>\n",
       "      <td>hsa-mir-375</td>\n",
       "      <td>0.016058</td>\n",
       "    </tr>\n",
       "    <tr>\n",
       "      <th>328</th>\n",
       "      <td>hsa-mir-27b</td>\n",
       "      <td>0.015958</td>\n",
       "    </tr>\n",
       "  </tbody>\n",
       "</table>\n",
       "</div>"
      ],
      "text/plain": [
       "            miRNA  importance\n",
       "276   hsa-mir-205    0.020093\n",
       "26    hsa-mir-10b    0.019464\n",
       "256  hsa-mir-196b    0.016212\n",
       "595   hsa-mir-375    0.016058\n",
       "328   hsa-mir-27b    0.015958"
      ]
     },
     "execution_count": 166,
     "metadata": {},
     "output_type": "execute_result"
    }
   ],
   "source": [
    "# View feature importances alongside miRNA as these should map directly onto the feature list\n",
    "rf_features = pd.DataFrame(list(zip(features, rf_feature_importances)), columns=['miRNA', 'importance'])\n",
    "rf_features.sort_values(by='importance', ascending=False).head()"
   ]
  },
  {
   "cell_type": "code",
   "execution_count": 169,
   "metadata": {},
   "outputs": [
    {
     "data": {
      "text/plain": [
       "1270"
      ]
     },
     "execution_count": 169,
     "metadata": {},
     "output_type": "execute_result"
    }
   ],
   "source": [
    "# Number of features that have a non-zero importance value\n",
    "rf_features[rf_features['importance'] != 0].shape[0] "
   ]
  },
  {
   "cell_type": "code",
   "execution_count": 33,
   "metadata": {},
   "outputs": [],
   "source": [
    "# Make predictions using the best estimator\n",
    "rf_preds = gs_rf.best_estimator_.predict(X_test_sc)"
   ]
  },
  {
   "cell_type": "code",
   "execution_count": 34,
   "metadata": {},
   "outputs": [
    {
     "data": {
      "text/plain": [
       "array([[289,   1,   0,   2,   2,   0],\n",
       "       [  0, 127,   0,   2,   0,   0],\n",
       "       [  2,   0, 144,   0,   0,   0],\n",
       "       [  2,   0,   1, 157,   0,   0],\n",
       "       [  1,   0,   0,   0, 141,   0],\n",
       "       [  0,   0,   0,   0,   0, 146]])"
      ]
     },
     "execution_count": 34,
     "metadata": {},
     "output_type": "execute_result"
    }
   ],
   "source": [
    "confusion_matrix(y_test, rf_preds)"
   ]
  },
  {
   "cell_type": "markdown",
   "metadata": {},
   "source": [
    "- It appears that 611 miRNAs do not have an importance value associated with it, leaving 1270 miRNAs that play a role in the classification of cancer types. The miRNA with the highest feature importance is hsa-mir-205. \n",
    "- We are limited in obtaining a list of miRNAs that serve as a signature of a specific cancer type. \n",
    "- The confusion matrix again shows that a Random forest model results in a very high accuracy rate of 98.7% on both training and test datasets."
   ]
  },
  {
   "cell_type": "markdown",
   "metadata": {},
   "source": [
    "### ExtraTrees "
   ]
  },
  {
   "cell_type": "code",
   "execution_count": 35,
   "metadata": {},
   "outputs": [
    {
     "name": "stdout",
     "output_type": "stream",
     "text": [
      "[........................................] 100% | 117.15 sec | GridSearchCV \n",
      "Extra-Trees:\n",
      "Train Score: 0.984267453294002\n",
      "Test Score: 0.9803343166175025\n"
     ]
    }
   ],
   "source": [
    "et = ExtraTreesClassifier()\n",
    "et_params = {\n",
    "        'n_estimators' : [20, 60, 100],\n",
    "        'max_depth' : [None, 6, 10, 14],\n",
    "        'min_samples_leaf' : [1, 2], \n",
    "        'min_samples_split' : [2, 3], \n",
    "}\n",
    "gs_et = GridSearchCVProgressBar(et, param_grid = et_params)\n",
    "gs_et.fit(X_train_sc, y_train)\n",
    "print(f'Extra-Trees:')\n",
    "print(f'Train Score: {gs_et.best_score_}')\n",
    "print(f'Test Score: {gs_et.score(X_test_sc, y_test)}')"
   ]
  },
  {
   "cell_type": "code",
   "execution_count": 36,
   "metadata": {},
   "outputs": [
    {
     "data": {
      "text/plain": [
       "array([0.00026617, 0.00036308, 0.00022675, ..., 0.00027059, 0.00126676,\n",
       "       0.00121903])"
      ]
     },
     "execution_count": 36,
     "metadata": {},
     "output_type": "execute_result"
    }
   ],
   "source": [
    "# Access the feature importances of the best estimator\n",
    "et_feature_importances = gs_et.best_estimator_.feature_importances_\n",
    "et_feature_importances"
   ]
  },
  {
   "cell_type": "code",
   "execution_count": 171,
   "metadata": {},
   "outputs": [
    {
     "data": {
      "text/html": [
       "<div>\n",
       "<style scoped>\n",
       "    .dataframe tbody tr th:only-of-type {\n",
       "        vertical-align: middle;\n",
       "    }\n",
       "\n",
       "    .dataframe tbody tr th {\n",
       "        vertical-align: top;\n",
       "    }\n",
       "\n",
       "    .dataframe thead th {\n",
       "        text-align: right;\n",
       "    }\n",
       "</style>\n",
       "<table border=\"1\" class=\"dataframe\">\n",
       "  <thead>\n",
       "    <tr style=\"text-align: right;\">\n",
       "      <th></th>\n",
       "      <th>miRNA</th>\n",
       "      <th>importance</th>\n",
       "    </tr>\n",
       "  </thead>\n",
       "  <tbody>\n",
       "    <tr>\n",
       "      <th>271</th>\n",
       "      <td>hsa-mir-200c</td>\n",
       "      <td>0.016108</td>\n",
       "    </tr>\n",
       "    <tr>\n",
       "      <th>1874</th>\n",
       "      <td>hsa-mir-944</td>\n",
       "      <td>0.015124</td>\n",
       "    </tr>\n",
       "    <tr>\n",
       "      <th>303</th>\n",
       "      <td>hsa-mir-219a-2</td>\n",
       "      <td>0.015099</td>\n",
       "    </tr>\n",
       "    <tr>\n",
       "      <th>276</th>\n",
       "      <td>hsa-mir-205</td>\n",
       "      <td>0.015025</td>\n",
       "    </tr>\n",
       "    <tr>\n",
       "      <th>187</th>\n",
       "      <td>hsa-mir-141</td>\n",
       "      <td>0.013349</td>\n",
       "    </tr>\n",
       "  </tbody>\n",
       "</table>\n",
       "</div>"
      ],
      "text/plain": [
       "               miRNA  importance\n",
       "271     hsa-mir-200c    0.016108\n",
       "1874     hsa-mir-944    0.015124\n",
       "303   hsa-mir-219a-2    0.015099\n",
       "276      hsa-mir-205    0.015025\n",
       "187      hsa-mir-141    0.013349"
      ]
     },
     "execution_count": 171,
     "metadata": {},
     "output_type": "execute_result"
    }
   ],
   "source": [
    "# View feature importances alongside miRNA as these should map directly onto the feature list\n",
    "et_features = pd.DataFrame(list(zip(features, et_feature_importances)), columns=['miRNA', 'importance'])\n",
    "et_features.sort_values(by='importance', ascending=False).head()"
   ]
  },
  {
   "cell_type": "code",
   "execution_count": 172,
   "metadata": {},
   "outputs": [
    {
     "data": {
      "text/plain": [
       "1570"
      ]
     },
     "execution_count": 172,
     "metadata": {},
     "output_type": "execute_result"
    }
   ],
   "source": [
    "# Number of features that have a non-zero importance value\n",
    "et_features[et_features['importance'] != 0].shape[0] "
   ]
  },
  {
   "cell_type": "code",
   "execution_count": 39,
   "metadata": {},
   "outputs": [],
   "source": [
    "# Make predictions using the best estimator\n",
    "et_preds = gs_et.best_estimator_.predict(X_test_sc)"
   ]
  },
  {
   "cell_type": "code",
   "execution_count": 40,
   "metadata": {
    "scrolled": true
   },
   "outputs": [
    {
     "data": {
      "text/plain": [
       "array([[292,   1,   0,   0,   1,   0],\n",
       "       [  3, 125,   0,   1,   0,   0],\n",
       "       [  2,   0, 144,   0,   0,   0],\n",
       "       [  7,   1,   1, 151,   0,   0],\n",
       "       [  2,   1,   0,   0, 139,   0],\n",
       "       [  0,   0,   0,   0,   0, 146]])"
      ]
     },
     "execution_count": 40,
     "metadata": {},
     "output_type": "execute_result"
    }
   ],
   "source": [
    "confusion_matrix(y_test, et_preds)"
   ]
  },
  {
   "cell_type": "markdown",
   "metadata": {},
   "source": [
    "- Compared to the Random Forest Model, the ExtraTrees model doesn't assign an importance value to 311 miRNAs, leaving 1570 miRNAs that play a role in the classification of cancer types. The miRNA with the highest feature importance is hsa-mir-200c. \n",
    "- The confusion matrix shows that the ExtraTrees model has a very high accuracy rate of 98% on both training and test datasets. However, this model does have more misclassifications than the Logistic Regression or Random Forest. For example, 7 samples that otherwise have the cancer class of UCEC seem to be classified by the model as BRCA. It is likely that the expression profiles of these 7 samples match those of BRCA samples, thus further investigation into those samples would be required. "
   ]
  },
  {
   "cell_type": "markdown",
   "metadata": {},
   "source": [
    "### Principal Components Analysis"
   ]
  },
  {
   "cell_type": "code",
   "execution_count": 147,
   "metadata": {},
   "outputs": [
    {
     "data": {
      "text/plain": [
       "PCA(copy=True, iterated_power='auto', n_components=None, random_state=None,\n",
       "  svd_solver='auto', tol=0.0, whiten=False)"
      ]
     },
     "execution_count": 147,
     "metadata": {},
     "output_type": "execute_result"
    }
   ],
   "source": [
    "# Instantiate PCA\n",
    "pca = PCA()\n",
    "\n",
    "# Fit PCA\n",
    "pca.fit(X_train_sc)"
   ]
  },
  {
   "cell_type": "code",
   "execution_count": 148,
   "metadata": {},
   "outputs": [],
   "source": [
    "# Create Z_train.\n",
    "Z_train = pca.transform(X_train_sc)"
   ]
  },
  {
   "cell_type": "code",
   "execution_count": 149,
   "metadata": {},
   "outputs": [],
   "source": [
    "# Create Z_test.\n",
    "Z_test = pca.transform(X_test_sc)"
   ]
  },
  {
   "cell_type": "code",
   "execution_count": 151,
   "metadata": {},
   "outputs": [
    {
     "name": "stdout",
     "output_type": "stream",
     "text": [
      "Explained variance:\n",
      " [6.08205450e-02 4.60209634e-02 2.65515483e-02 ... 8.94087017e-35\n",
      " 8.70563035e-35 4.75904312e-35]\n"
     ]
    }
   ],
   "source": [
    "# Examine explained variance.\n",
    "var_exp = pca.explained_variance_ratio_\n",
    "print('Explained variance:\\n', var_exp)"
   ]
  },
  {
   "cell_type": "code",
   "execution_count": 175,
   "metadata": {},
   "outputs": [
    {
     "name": "stdout",
     "output_type": "stream",
     "text": [
      "Cumulative explained variance:  [0.06082055 0.10684151 0.13339306 0.15165476 0.16794821 0.18357977\n",
      " 0.19691453 0.20682724 0.21558956 0.22373002 0.23051356 0.23698369\n",
      " 0.24256694 0.24766834 0.2525265  0.25719778 0.26170685 0.26578552\n",
      " 0.26961252 0.27334966 0.27703396 0.28034325 0.28362368 0.28681288\n",
      " 0.28988992 0.2928914  0.29587088 0.29882215 0.30163347 0.30438802\n",
      " 0.30707919 0.30970044 0.31223989 0.31473188 0.3171429  0.31953414\n",
      " 0.32184449 0.32411355 0.32635023 0.32853263 0.33066555 0.33278961\n",
      " 0.33487893 0.33693165 0.33896409 0.34096039 0.34292904 0.34488955\n",
      " 0.34681545 0.3487198  0.35062194 0.35249695 0.35435394 0.35620198\n",
      " 0.35803492 0.35985365 0.36165218 0.36343262 0.36520671 0.36695143\n",
      " 0.36868582 0.37041415 0.37213681 0.37385481 0.3755591  0.37724917\n",
      " 0.37892546 0.38059455 0.38225187 0.38390334 0.38553568 0.38716382\n",
      " 0.38878366 0.39039337 0.39198666 0.39357434 0.39514535 0.39670477\n",
      " 0.39825539 0.39980479 0.40134672 0.4028813  0.40440585 0.40591868\n",
      " 0.40741852 0.40891706 0.41040306 0.41188421 0.41336052 0.41483254\n",
      " 0.41629984 0.41776154 0.41922018 0.42067262 0.42210922 0.42353845\n",
      " 0.42496244 0.42638161 0.42779623 0.42920805]\n"
     ]
    }
   ],
   "source": [
    "# Examine cumulative explained variance.\n",
    "cum_var_exp = np.cumsum(var_exp)\n",
    "print('Cumulative explained variance: ', cum_var_exp[:100])"
   ]
  },
  {
   "cell_type": "code",
   "execution_count": 176,
   "metadata": {},
   "outputs": [
    {
     "data": {
      "text/plain": [
       "PCA(copy=True, iterated_power='auto', n_components=100, random_state=None,\n",
       "  svd_solver='auto', tol=0.0, whiten=False)"
      ]
     },
     "execution_count": 176,
     "metadata": {},
     "output_type": "execute_result"
    }
   ],
   "source": [
    "# Fit PCA with original X train \n",
    "pca_2 = PCA(n_components=100)\n",
    "\n",
    "# Fit PCA\n",
    "pca_2.fit(X_train)"
   ]
  },
  {
   "cell_type": "code",
   "execution_count": 177,
   "metadata": {},
   "outputs": [],
   "source": [
    "# Create Z_train.\n",
    "Z_train_2 = pca_2.transform(X_train)"
   ]
  },
  {
   "cell_type": "code",
   "execution_count": 178,
   "metadata": {},
   "outputs": [],
   "source": [
    "Z_test_2 = pca_2.transform(X_test)"
   ]
  },
  {
   "cell_type": "code",
   "execution_count": 179,
   "metadata": {},
   "outputs": [
    {
     "name": "stdout",
     "output_type": "stream",
     "text": [
      "Explained variance:\n",
      " [0.24183595 0.10815358 0.06985105 0.05172422 0.0457887  0.02807289\n",
      " 0.0246719  0.01603969 0.01468085 0.013668   0.01259632 0.01192614\n",
      " 0.01035542 0.00995229 0.00921506 0.00905691 0.00832493 0.00757009\n",
      " 0.00723972 0.00660034 0.00634904 0.00600157 0.00545492 0.00531338\n",
      " 0.0048543  0.00467888 0.00449047 0.00437165 0.00422352 0.00414671\n",
      " 0.00407393 0.00367232 0.00354591 0.0034728  0.00335124 0.00328732\n",
      " 0.00318492 0.00307394 0.00295631 0.00285982 0.00270808 0.00265059\n",
      " 0.00258366 0.00252935 0.00234163 0.00224506 0.00217232 0.00212714\n",
      " 0.00211492 0.0020397  0.00199543 0.00192221 0.00190672 0.0018468\n",
      " 0.00178092 0.0017541  0.0017054  0.00169577 0.00160188 0.00158989\n",
      " 0.00154933 0.00153101 0.00147981 0.00144581 0.00142867 0.00141163\n",
      " 0.00137081 0.0013457  0.00133306 0.00132492 0.00128891 0.00125893\n",
      " 0.00124668 0.00122518 0.00118237 0.00115558 0.00114033 0.0011262\n",
      " 0.00110647 0.00108958 0.00106645 0.00105197 0.0010419  0.00103679\n",
      " 0.00100341 0.00099535 0.00098121 0.00096802 0.00095967 0.00094737\n",
      " 0.00092638 0.00089687 0.00088506 0.00088194 0.00087924 0.00085315\n",
      " 0.0008453  0.00082633 0.00080703 0.00080037]\n"
     ]
    }
   ],
   "source": [
    "# Examine explained variance.\n",
    "var_exp_2 = pca_2.explained_variance_ratio_\n",
    "print('Explained variance:\\n', var_exp_2)"
   ]
  },
  {
   "cell_type": "code",
   "execution_count": 180,
   "metadata": {},
   "outputs": [
    {
     "name": "stdout",
     "output_type": "stream",
     "text": [
      "Cumulative explained variance:  [0.24183595 0.34998954 0.41984059 0.47156481 0.51735352 0.5454264\n",
      " 0.5700983  0.58613799 0.60081884 0.61448684 0.62708316 0.63900931\n",
      " 0.64936473 0.65931702 0.66853208 0.67758899 0.68591392 0.69348401\n",
      " 0.70072372 0.70732407 0.71367311 0.71967469 0.72512961 0.73044298\n",
      " 0.73529728 0.73997616 0.74446663 0.74883828 0.7530618  0.75720851\n",
      " 0.76128245 0.76495476 0.76850068 0.77197347 0.77532471 0.77861202\n",
      " 0.78179694 0.78487088 0.78782719 0.79068701 0.79339508 0.79604567\n",
      " 0.79862933 0.80115868 0.80350031 0.80574537 0.80791769 0.81004483\n",
      " 0.81215976 0.81419945 0.81619488 0.81811709 0.82002381 0.82187061\n",
      " 0.82365154 0.82540563 0.82711104 0.8288068  0.83040869 0.83199858\n",
      " 0.83354792 0.83507892 0.83655873 0.83800455 0.83943322 0.84084485\n",
      " 0.84221567 0.84356137 0.84489443 0.84621935 0.84750826 0.84876719\n",
      " 0.85001387 0.85123905 0.85242142 0.853577   0.85471733 0.85584353\n",
      " 0.85695    0.85803958 0.85910603 0.860158   0.8611999  0.86223669\n",
      " 0.8632401  0.86423544 0.86521665 0.86618467 0.86714435 0.86809172\n",
      " 0.86901809 0.86991496 0.87080002 0.87168196 0.8725612  0.87341435\n",
      " 0.87425965 0.87508598 0.87589301 0.87669337]\n"
     ]
    }
   ],
   "source": [
    "# Examine cumulative explained variance.\n",
    "cum_var_exp_2 = np.cumsum(var_exp_2)\n",
    "print('Cumulative explained variance: ', cum_var_exp_2)"
   ]
  },
  {
   "cell_type": "markdown",
   "metadata": {},
   "source": [
    "- The PCA analyses of the original training and scaled training set differ greatly with respect to how much variance is explained in the constituent components. \n",
    "- When looking at the variance explained by 100 Principal components, for the scaled data, only 42% of the variance is explained as opposed to 87% for the unscaled data. This may be due to the fact that scaling the training data is removing a substantial amount of overall variance such that each principal component explains a lesser amount of variance overall."
   ]
  },
  {
   "cell_type": "markdown",
   "metadata": {},
   "source": [
    "#### Plot the Component vs Variance explained"
   ]
  },
  {
   "cell_type": "code",
   "execution_count": 181,
   "metadata": {},
   "outputs": [
    {
     "data": {
      "image/png": "[encoded data removed]",
      "text/plain": [
       "<Figure size 648x504 with 1 Axes>"
      ]
     },
     "metadata": {
      "needs_background": "light"
     },
     "output_type": "display_data"
    }
   ],
   "source": [
    "plt.figure(figsize=(9,7))\n",
    "\n",
    "# HERE IS THE BASIC PLOT\n",
    "\n",
    "# Plot the explained variance\n",
    "component_number = range(len(var_exp_2))\n",
    "plt.plot(component_number, var_exp_2, lw=3)\n",
    "\n",
    "# NOW MAKE IT LOOK PRETTY\n",
    "\n",
    "# Add horizontal lines at y=0 and y=100\n",
    "plt.axhline(y=0, linewidth=1, color='grey', ls='dashed')\n",
    "plt.axhline(y=1, linewidth=1, color='grey', ls='dashed')\n",
    "\n",
    "# Set the x and y axis limits\n",
    "ax = plt.gca()\n",
    "ax.set_xlim([-1,26])\n",
    "ax.set_ylim([-0.05,1.05])\n",
    "\n",
    "# Label the axes\n",
    "ax.set_ylabel('variance explained', fontsize=16)\n",
    "ax.set_xlabel('component', fontsize=16)\n",
    "\n",
    "# Make the tick labels bigger\n",
    "for tick in ax.xaxis.get_major_ticks():\n",
    "    tick.label.set_fontsize(12) \n",
    "for tick in ax.yaxis.get_major_ticks():\n",
    "    tick.label.set_fontsize(12) \n",
    "    \n",
    "# Add title\n",
    "ax.set_title('Component vs Variance Explained\\n', fontsize=20)\n",
    "\n",
    "plt.show()"
   ]
  },
  {
   "cell_type": "markdown",
   "metadata": {},
   "source": [
    "#### Plot the Component vs Cumulative Variance Explained"
   ]
  },
  {
   "cell_type": "code",
   "execution_count": 182,
   "metadata": {},
   "outputs": [
    {
     "data": {
      "image/png": "[encoded data removed]",
      "text/plain": [
       "<Figure size 648x504 with 1 Axes>"
      ]
     },
     "metadata": {
      "needs_background": "light"
     },
     "output_type": "display_data"
    }
   ],
   "source": [
    "plt.figure(figsize=(9,7))\n",
    "\n",
    "# HERE IS THE BASIC PLOT\n",
    "\n",
    "# Plot the cumulative explained variance\n",
    "component_number = range(len(cum_var_exp_2))\n",
    "plt.plot(component_number, cum_var_exp_2, lw=3)\n",
    "\n",
    "# NOW MAKE IT LOOK PRETTY\n",
    "\n",
    "# Add horizontal lines at y=0 and y=100\n",
    "plt.axhline(y=0, linewidth=1, color='grey', ls='dashed')\n",
    "plt.axhline(y=1, linewidth=1, color='grey', ls='dashed')\n",
    "\n",
    "# Set the x and y axis limits\n",
    "ax = plt.gca()\n",
    "ax.set_xlim([-1,26])\n",
    "ax.set_ylim([-0.05,1.05])\n",
    "\n",
    "# Label the axes\n",
    "ax.set_ylabel('cumulative variance explained', fontsize=16)\n",
    "ax.set_xlabel('component', fontsize=16)\n",
    "\n",
    "# Make the tick labels bigger\n",
    "for tick in ax.xaxis.get_major_ticks():\n",
    "    tick.label.set_fontsize(12) \n",
    "for tick in ax.yaxis.get_major_ticks():\n",
    "    tick.label.set_fontsize(12) \n",
    "    \n",
    "# Add title\n",
    "ax.set_title('Component vs Cumulative variance explained\\n', fontsize=20)\n",
    "\n",
    "plt.show()"
   ]
  },
  {
   "cell_type": "markdown",
   "metadata": {},
   "source": [
    "### Neural Network "
   ]
  },
  {
   "cell_type": "markdown",
   "metadata": {},
   "source": [
    "- In order to build a Neural Net, the target variable has to be one hot encoded. "
   ]
  },
  {
   "cell_type": "code",
   "execution_count": 183,
   "metadata": {},
   "outputs": [],
   "source": [
    "# One hot encode y target\n",
    "Y_train = to_categorical(y_train, 6)\n",
    "Y_test = to_categorical(y_test, 6)"
   ]
  },
  {
   "cell_type": "code",
   "execution_count": 184,
   "metadata": {},
   "outputs": [
    {
     "data": {
      "text/plain": [
       "array([[0., 1., 0., 0., 0., 0.],\n",
       "       [0., 0., 0., 1., 0., 0.],\n",
       "       [0., 1., 0., 0., 0., 0.],\n",
       "       ...,\n",
       "       [1., 0., 0., 0., 0., 0.],\n",
       "       [0., 0., 1., 0., 0., 0.],\n",
       "       [1., 0., 0., 0., 0., 0.]], dtype=float32)"
      ]
     },
     "execution_count": 184,
     "metadata": {},
     "output_type": "execute_result"
    }
   ],
   "source": [
    "# Take a look at how the Y target looks\n",
    "Y_train"
   ]
  },
  {
   "cell_type": "code",
   "execution_count": 57,
   "metadata": {},
   "outputs": [],
   "source": [
    "# Construct a neural network\n",
    "model = Sequential()\n",
    "\n",
    "# input and hidden layers\n",
    "model.add(Dense(50, activation='relu', input_dim=X_train_sc.shape[1]))\n",
    "model.add(Dropout(0.5))\n",
    "\n",
    "# For multiclass, same number of neurons as classes that we are predicting\n",
    "# softmax activation function\n",
    "model.add(Dense(6, activation='softmax'))\n",
    "\n",
    "# compile model\n",
    "model.compile(loss='categorical_crossentropy',\n",
    "              optimizer='adam',\n",
    "              metrics=['accuracy'])"
   ]
  },
  {
   "cell_type": "code",
   "execution_count": 185,
   "metadata": {},
   "outputs": [
    {
     "name": "stdout",
     "output_type": "stream",
     "text": [
      "Train on 3051 samples, validate on 1017 samples\n",
      "Epoch 1/15\n",
      "3051/3051 [==============================] - 1s 185us/step - loss: 0.0032 - acc: 0.9987 - val_loss: 0.0964 - val_acc: 0.9872\n",
      "Epoch 2/15\n",
      "3051/3051 [==============================] - 0s 116us/step - loss: 0.0038 - acc: 0.9987 - val_loss: 0.0950 - val_acc: 0.9882\n",
      "Epoch 3/15\n",
      "3051/3051 [==============================] - 0s 124us/step - loss: 0.0040 - acc: 0.9980 - val_loss: 0.0979 - val_acc: 0.9872\n",
      "Epoch 4/15\n",
      "3051/3051 [==============================] - 0s 119us/step - loss: 0.0031 - acc: 0.9993 - val_loss: 0.1042 - val_acc: 0.9862\n",
      "Epoch 5/15\n",
      "3051/3051 [==============================] - 0s 116us/step - loss: 0.0032 - acc: 0.9990 - val_loss: 0.0956 - val_acc: 0.9872\n",
      "Epoch 6/15\n",
      "3051/3051 [==============================] - 0s 151us/step - loss: 0.0053 - acc: 0.9990 - val_loss: 0.1083 - val_acc: 0.9862\n",
      "Epoch 7/15\n",
      "3051/3051 [==============================] - 0s 120us/step - loss: 0.0036 - acc: 0.9990 - val_loss: 0.1113 - val_acc: 0.9872\n",
      "Epoch 8/15\n",
      "3051/3051 [==============================] - 0s 130us/step - loss: 0.0047 - acc: 0.9987 - val_loss: 0.1121 - val_acc: 0.9882\n",
      "Epoch 9/15\n",
      "3051/3051 [==============================] - 0s 115us/step - loss: 0.0019 - acc: 0.9997 - val_loss: 0.1113 - val_acc: 0.9882\n",
      "Epoch 10/15\n",
      "3051/3051 [==============================] - 0s 120us/step - loss: 0.0034 - acc: 0.9987 - val_loss: 0.1201 - val_acc: 0.9862\n",
      "Epoch 11/15\n",
      "3051/3051 [==============================] - 0s 119us/step - loss: 0.0057 - acc: 0.9990 - val_loss: 0.1327 - val_acc: 0.9853\n",
      "Epoch 12/15\n",
      "3051/3051 [==============================] - 0s 115us/step - loss: 0.0015 - acc: 0.9997 - val_loss: 0.1340 - val_acc: 0.9843\n",
      "Epoch 13/15\n",
      "3051/3051 [==============================] - 0s 128us/step - loss: 0.0017 - acc: 0.9993 - val_loss: 0.1282 - val_acc: 0.9853\n",
      "Epoch 14/15\n",
      "3051/3051 [==============================] - 0s 138us/step - loss: 0.0051 - acc: 0.9987 - val_loss: 0.1264 - val_acc: 0.9872\n",
      "Epoch 15/15\n",
      "3051/3051 [==============================] - 0s 143us/step - loss: 0.0031 - acc: 0.9993 - val_loss: 0.1539 - val_acc: 0.9823\n"
     ]
    }
   ],
   "source": [
    "nn = model.fit(X_train_sc, Y_train, epochs=15, validation_data=(X_test_sc, Y_test))"
   ]
  },
  {
   "cell_type": "code",
   "execution_count": 186,
   "metadata": {
    "scrolled": true
   },
   "outputs": [
    {
     "data": {
      "text/html": [
       "<div>\n",
       "<style scoped>\n",
       "    .dataframe tbody tr th:only-of-type {\n",
       "        vertical-align: middle;\n",
       "    }\n",
       "\n",
       "    .dataframe tbody tr th {\n",
       "        vertical-align: top;\n",
       "    }\n",
       "\n",
       "    .dataframe thead th {\n",
       "        text-align: right;\n",
       "    }\n",
       "</style>\n",
       "<table border=\"1\" class=\"dataframe\">\n",
       "  <thead>\n",
       "    <tr style=\"text-align: right;\">\n",
       "      <th></th>\n",
       "      <th>val_loss</th>\n",
       "      <th>val_acc</th>\n",
       "      <th>loss</th>\n",
       "      <th>acc</th>\n",
       "    </tr>\n",
       "  </thead>\n",
       "  <tbody>\n",
       "    <tr>\n",
       "      <th>0</th>\n",
       "      <td>0.096417</td>\n",
       "      <td>0.987217</td>\n",
       "      <td>0.003159</td>\n",
       "      <td>0.998689</td>\n",
       "    </tr>\n",
       "    <tr>\n",
       "      <th>1</th>\n",
       "      <td>0.094999</td>\n",
       "      <td>0.988201</td>\n",
       "      <td>0.003801</td>\n",
       "      <td>0.998689</td>\n",
       "    </tr>\n",
       "    <tr>\n",
       "      <th>2</th>\n",
       "      <td>0.097869</td>\n",
       "      <td>0.987217</td>\n",
       "      <td>0.004004</td>\n",
       "      <td>0.998033</td>\n",
       "    </tr>\n",
       "    <tr>\n",
       "      <th>3</th>\n",
       "      <td>0.104151</td>\n",
       "      <td>0.986234</td>\n",
       "      <td>0.003062</td>\n",
       "      <td>0.999344</td>\n",
       "    </tr>\n",
       "    <tr>\n",
       "      <th>4</th>\n",
       "      <td>0.095578</td>\n",
       "      <td>0.987217</td>\n",
       "      <td>0.003174</td>\n",
       "      <td>0.999017</td>\n",
       "    </tr>\n",
       "  </tbody>\n",
       "</table>\n",
       "</div>"
      ],
      "text/plain": [
       "   val_loss   val_acc      loss       acc\n",
       "0  0.096417  0.987217  0.003159  0.998689\n",
       "1  0.094999  0.988201  0.003801  0.998689\n",
       "2  0.097869  0.987217  0.004004  0.998033\n",
       "3  0.104151  0.986234  0.003062  0.999344\n",
       "4  0.095578  0.987217  0.003174  0.999017"
      ]
     },
     "execution_count": 186,
     "metadata": {},
     "output_type": "execute_result"
    }
   ],
   "source": [
    "pd.DataFrame(nn.history).head()"
   ]
  },
  {
   "cell_type": "code",
   "execution_count": 205,
   "metadata": {},
   "outputs": [
    {
     "data": {
      "image/png": "[encoded data removed]",
      "text/plain": [
       "<Figure size 432x288 with 1 Axes>"
      ]
     },
     "metadata": {
      "needs_background": "light"
     },
     "output_type": "display_data"
    }
   ],
   "source": [
    "# plot train test losses\n",
    "plt.title('Loss over each Epoch')\n",
    "plt.xlabel('Epoch')\n",
    "plt.ylabel('Categorical Crossentropy')\n",
    "\n",
    "plt.plot(nn.history['loss'], label='Train loss')\n",
    "plt.plot(nn.history['val_loss'], label='Test loss')\n",
    "plt.legend()\n",
    "\n",
    "plt.show()"
   ]
  },
  {
   "cell_type": "code",
   "execution_count": 196,
   "metadata": {},
   "outputs": [
    {
     "data": {
      "text/plain": [
       "array([2, 0, 2, ..., 3, 3, 1])"
      ]
     },
     "execution_count": 196,
     "metadata": {},
     "output_type": "execute_result"
    }
   ],
   "source": [
    "# index for the largest number from each row gives class prediction\n",
    "model.predict(X_test_sc).argmax(axis=1)"
   ]
  },
  {
   "cell_type": "code",
   "execution_count": 197,
   "metadata": {},
   "outputs": [
    {
     "data": {
      "text/plain": [
       "array([2, 0, 2, ..., 3, 3, 1])"
      ]
     },
     "execution_count": 197,
     "metadata": {},
     "output_type": "execute_result"
    }
   ],
   "source": [
    "Y_test_classes = np.argmax(Y_test, axis=1)\n",
    "Y_test_classes"
   ]
  },
  {
   "cell_type": "code",
   "execution_count": 198,
   "metadata": {},
   "outputs": [
    {
     "data": {
      "text/plain": [
       "array([[288,   1,   0,   1,   2,   2],\n",
       "       [  1, 128,   0,   0,   0,   0],\n",
       "       [  1,   0, 144,   1,   0,   0],\n",
       "       [  0,   4,   1, 153,   1,   1],\n",
       "       [  0,   2,   0,   0, 140,   0],\n",
       "       [  0,   0,   0,   0,   0, 146]])"
      ]
     },
     "execution_count": 198,
     "metadata": {},
     "output_type": "execute_result"
    }
   ],
   "source": [
    "nn_preds = model.predict_classes(X_test_sc)\n",
    "\n",
    "confusion_matrix(Y_test_classes, nn_preds)"
   ]
  },
  {
   "cell_type": "markdown",
   "metadata": {},
   "source": [
    "### Neural Network trained on PCA transformed data"
   ]
  },
  {
   "cell_type": "code",
   "execution_count": 194,
   "metadata": {},
   "outputs": [],
   "source": [
    "# Construct a neural network\n",
    "model_Z = Sequential()\n",
    "\n",
    "# input and hidden layers\n",
    "model_Z.add(Dense(50, activation='relu', input_dim=Z_train_2.shape[1]))\n",
    "model_Z.add(Dropout(0.5))\n",
    "\n",
    "# For multiclass, same number of neurons as classes that we are predicting\n",
    "# softmax activation function\n",
    "model_Z.add(Dense(6, activation='softmax'))\n",
    "\n",
    "# compile model\n",
    "model_Z.compile(loss='categorical_crossentropy',\n",
    "              optimizer='adam',\n",
    "              metrics=['accuracy'])"
   ]
  },
  {
   "cell_type": "code",
   "execution_count": 195,
   "metadata": {},
   "outputs": [
    {
     "name": "stdout",
     "output_type": "stream",
     "text": [
      "Train on 3051 samples, validate on 1017 samples\n",
      "Epoch 1/15\n",
      "3051/3051 [==============================] - 0s 150us/step - loss: 1.4117 - acc: 0.4975 - val_loss: 0.5815 - val_acc: 0.9046\n",
      "Epoch 2/15\n",
      "3051/3051 [==============================] - 0s 44us/step - loss: 0.5655 - acc: 0.8482 - val_loss: 0.2374 - val_acc: 0.9715\n",
      "Epoch 3/15\n",
      "3051/3051 [==============================] - 0s 46us/step - loss: 0.3145 - acc: 0.9269 - val_loss: 0.1235 - val_acc: 0.9813\n",
      "Epoch 4/15\n",
      "3051/3051 [==============================] - 0s 48us/step - loss: 0.1970 - acc: 0.9580 - val_loss: 0.0761 - val_acc: 0.9862\n",
      "Epoch 5/15\n",
      "3051/3051 [==============================] - 0s 45us/step - loss: 0.1520 - acc: 0.9689 - val_loss: 0.0537 - val_acc: 0.9892\n",
      "Epoch 6/15\n",
      "3051/3051 [==============================] - 0s 45us/step - loss: 0.1110 - acc: 0.9774 - val_loss: 0.0436 - val_acc: 0.9902\n",
      "Epoch 7/15\n",
      "3051/3051 [==============================] - 0s 48us/step - loss: 0.0981 - acc: 0.9764 - val_loss: 0.0383 - val_acc: 0.9902\n",
      "Epoch 8/15\n",
      "3051/3051 [==============================] - 0s 38us/step - loss: 0.0718 - acc: 0.9823 - val_loss: 0.0345 - val_acc: 0.9902\n",
      "Epoch 9/15\n",
      "3051/3051 [==============================] - 0s 48us/step - loss: 0.0612 - acc: 0.9889 - val_loss: 0.0317 - val_acc: 0.9902\n",
      "Epoch 10/15\n",
      "3051/3051 [==============================] - 0s 49us/step - loss: 0.0589 - acc: 0.9872 - val_loss: 0.0295 - val_acc: 0.9912\n",
      "Epoch 11/15\n",
      "3051/3051 [==============================] - 0s 47us/step - loss: 0.0493 - acc: 0.9905 - val_loss: 0.0274 - val_acc: 0.9921\n",
      "Epoch 12/15\n",
      "3051/3051 [==============================] - 0s 41us/step - loss: 0.0492 - acc: 0.9892 - val_loss: 0.0268 - val_acc: 0.9921\n",
      "Epoch 13/15\n",
      "3051/3051 [==============================] - 0s 48us/step - loss: 0.0446 - acc: 0.9895 - val_loss: 0.0261 - val_acc: 0.9931\n",
      "Epoch 14/15\n",
      "3051/3051 [==============================] - 0s 51us/step - loss: 0.0312 - acc: 0.9931 - val_loss: 0.0252 - val_acc: 0.9941\n",
      "Epoch 15/15\n",
      "3051/3051 [==============================] - 0s 46us/step - loss: 0.0342 - acc: 0.9921 - val_loss: 0.0248 - val_acc: 0.9931\n"
     ]
    }
   ],
   "source": [
    "nn_Z = model_Z.fit(Z_train_2, Y_train, epochs=15, validation_data=(Z_test_2, Y_test))"
   ]
  },
  {
   "cell_type": "code",
   "execution_count": 204,
   "metadata": {},
   "outputs": [
    {
     "data": {
      "text/html": [
       "<div>\n",
       "<style scoped>\n",
       "    .dataframe tbody tr th:only-of-type {\n",
       "        vertical-align: middle;\n",
       "    }\n",
       "\n",
       "    .dataframe tbody tr th {\n",
       "        vertical-align: top;\n",
       "    }\n",
       "\n",
       "    .dataframe thead th {\n",
       "        text-align: right;\n",
       "    }\n",
       "</style>\n",
       "<table border=\"1\" class=\"dataframe\">\n",
       "  <thead>\n",
       "    <tr style=\"text-align: right;\">\n",
       "      <th></th>\n",
       "      <th>val_loss</th>\n",
       "      <th>val_acc</th>\n",
       "      <th>loss</th>\n",
       "      <th>acc</th>\n",
       "    </tr>\n",
       "  </thead>\n",
       "  <tbody>\n",
       "    <tr>\n",
       "      <th>10</th>\n",
       "      <td>0.027432</td>\n",
       "      <td>0.992134</td>\n",
       "      <td>0.049305</td>\n",
       "      <td>0.990495</td>\n",
       "    </tr>\n",
       "    <tr>\n",
       "      <th>11</th>\n",
       "      <td>0.026780</td>\n",
       "      <td>0.992134</td>\n",
       "      <td>0.049192</td>\n",
       "      <td>0.989184</td>\n",
       "    </tr>\n",
       "    <tr>\n",
       "      <th>12</th>\n",
       "      <td>0.026137</td>\n",
       "      <td>0.993117</td>\n",
       "      <td>0.044603</td>\n",
       "      <td>0.989512</td>\n",
       "    </tr>\n",
       "    <tr>\n",
       "      <th>13</th>\n",
       "      <td>0.025169</td>\n",
       "      <td>0.994100</td>\n",
       "      <td>0.031225</td>\n",
       "      <td>0.993117</td>\n",
       "    </tr>\n",
       "    <tr>\n",
       "      <th>14</th>\n",
       "      <td>0.024752</td>\n",
       "      <td>0.993117</td>\n",
       "      <td>0.034213</td>\n",
       "      <td>0.992134</td>\n",
       "    </tr>\n",
       "  </tbody>\n",
       "</table>\n",
       "</div>"
      ],
      "text/plain": [
       "    val_loss   val_acc      loss       acc\n",
       "10  0.027432  0.992134  0.049305  0.990495\n",
       "11  0.026780  0.992134  0.049192  0.989184\n",
       "12  0.026137  0.993117  0.044603  0.989512\n",
       "13  0.025169  0.994100  0.031225  0.993117\n",
       "14  0.024752  0.993117  0.034213  0.992134"
      ]
     },
     "execution_count": 204,
     "metadata": {},
     "output_type": "execute_result"
    }
   ],
   "source": [
    "pd.DataFrame(nn_Z.history).tail()"
   ]
  },
  {
   "cell_type": "code",
   "execution_count": 206,
   "metadata": {},
   "outputs": [
    {
     "data": {
      "image/png": "[encoded data removed]",
      "text/plain": [
       "<Figure size 432x288 with 1 Axes>"
      ]
     },
     "metadata": {
      "needs_background": "light"
     },
     "output_type": "display_data"
    }
   ],
   "source": [
    "# plot train test losses\n",
    "plt.title('Loss over each Epoch')\n",
    "plt.xlabel('Epoch')\n",
    "plt.ylabel('Categorical Crossentropy')\n",
    "\n",
    "plt.plot(nn_Z.history['loss'], label='Train loss')\n",
    "plt.plot(nn_Z.history['val_loss'], label='Test loss')\n",
    "plt.legend()\n",
    "\n",
    "plt.show()"
   ]
  },
  {
   "cell_type": "code",
   "execution_count": 199,
   "metadata": {},
   "outputs": [
    {
     "data": {
      "text/plain": [
       "array([2, 0, 2, ..., 3, 3, 1])"
      ]
     },
     "execution_count": 199,
     "metadata": {},
     "output_type": "execute_result"
    }
   ],
   "source": [
    "model_Z.predict(Z_test_2).argmax(axis=1)"
   ]
  },
  {
   "cell_type": "code",
   "execution_count": 200,
   "metadata": {},
   "outputs": [
    {
     "data": {
      "text/plain": [
       "array([2, 0, 2, ..., 3, 3, 1])"
      ]
     },
     "execution_count": 200,
     "metadata": {},
     "output_type": "execute_result"
    }
   ],
   "source": [
    "Y_test_classes_Z = np.argmax(Y_test, axis=1)\n",
    "Y_test_classes_Z"
   ]
  },
  {
   "cell_type": "code",
   "execution_count": 201,
   "metadata": {},
   "outputs": [
    {
     "data": {
      "text/plain": [
       "array([[290,   0,   0,   2,   2,   0],\n",
       "       [  0, 128,   0,   1,   0,   0],\n",
       "       [  0,   0, 146,   0,   0,   0],\n",
       "       [  1,   0,   1, 158,   0,   0],\n",
       "       [  0,   0,   0,   0, 142,   0],\n",
       "       [  0,   0,   0,   0,   0, 146]])"
      ]
     },
     "execution_count": 201,
     "metadata": {},
     "output_type": "execute_result"
    }
   ],
   "source": [
    "nn_preds_Z = model_Z.predict_classes(Z_test_2)\n",
    "\n",
    "confusion_matrix(Y_test_classes_Z, nn_preds_Z)"
   ]
  },
  {
   "cell_type": "markdown",
   "metadata": {},
   "source": [
    "- The Neural Network with the PCA transformed data seemed to have a decreasing loss function that is characteristic of a Neural Net as opposed to the normal X train scaled data. \n",
    "- In both cases, the accuracy achieved by the model on the test data was 99.9% and 99.2% for PCA transformed data and original X train scaled data, respectively.\n",
    "- Due to the inherent nature of how a Neural Net works, it is not possible to get information on which features seem to have an influence on the classification. \n",
    "- However, the confusion matrices show once that the accuracy was superb with very little misclassifications."
   ]
  }
 ],
 "metadata": {
  "kernelspec": {
   "display_name": "Python [conda env:dsi]",
   "language": "python",
   "name": "conda-env-dsi-py"
  },
  "language_info": {
   "codemirror_mode": {
    "name": "ipython",
    "version": 3
   },
   "file_extension": ".py",
   "mimetype": "text/x-python",
   "name": "python",
   "nbconvert_exporter": "python",
   "pygments_lexer": "ipython3",
   "version": "3.6.5"
  },
  "varInspector": {
   "cols": {
    "lenName": 16,
    "lenType": 16,
    "lenVar": 40
   },
   "kernels_config": {
    "python": {
     "delete_cmd_postfix": "",
     "delete_cmd_prefix": "del ",
     "library": "var_list.py",
     "varRefreshCmd": "print(var_dic_list())"
    },
    "r": {
     "delete_cmd_postfix": ") ",
     "delete_cmd_prefix": "rm(",
     "library": "var_list.r",
     "varRefreshCmd": "cat(var_dic_list()) "
    }
   },
   "types_to_exclude": [
    "module",
    "function",
    "builtin_function_or_method",
    "instance",
    "_Feature"
   ],
   "window_display": false
  }
 },
 "nbformat": 4,
 "nbformat_minor": 2
}
