{
 "cells": [
  {
   "cell_type": "markdown",
   "metadata": {},
   "source": [
    "## Modeling\n",
    "\n",
    "---\n",
    "\n",
    "### Objective: \n",
    "\n",
    "This notebook will seek to build a classification model to predict the tumor diagnosis."
   ]
  },
  {
   "cell_type": "markdown",
   "metadata": {},
   "source": [
    "## Import Libraries"
   ]
  },
  {
   "cell_type": "code",
   "execution_count": 394,
   "metadata": {},
   "outputs": [],
   "source": [
    "import pandas as pd\n",
    "import numpy as np\n",
    "import matplotlib.pyplot as plt\n",
    "import os\n",
    "import seaborn as sns\n",
    "%matplotlib inline\n",
    "\n",
    "from sklearn.model_selection import train_test_split, cross_val_score\n",
    "from sklearn.preprocessing import StandardScaler\n",
    "from sklearn.linear_model import LogisticRegression\n",
    "from sklearn.ensemble import RandomForestClassifier\n",
    "from sklearn.ensemble import ExtraTreesClassifier\n",
    "from sklearn.decomposition import PCA\n",
    "from pactools.grid_search import GridSearchCVProgressBar\n",
    "from sklearn.metrics import confusion_matrix\n",
    "from sklearn.externals.six import StringIO\n",
    "\n",
    "from keras.models import Sequential\n",
    "from keras.layers import Dense, Dropout\n",
    "from keras.utils import to_categorical # only for multiclass problems"
   ]
  },
  {
   "cell_type": "markdown",
   "metadata": {},
   "source": [
    "## Load dataset"
   ]
  },
  {
   "cell_type": "code",
   "execution_count": 312,
   "metadata": {},
   "outputs": [],
   "source": [
    "directory = '/Users/surajsakaram/GA_DSI/capstone/'\n",
    "os.chdir(directory)"
   ]
  },
  {
   "cell_type": "code",
   "execution_count": 313,
   "metadata": {},
   "outputs": [
    {
     "data": {
      "text/html": [
       "<div>\n",
       "<style scoped>\n",
       "    .dataframe tbody tr th:only-of-type {\n",
       "        vertical-align: middle;\n",
       "    }\n",
       "\n",
       "    .dataframe tbody tr th {\n",
       "        vertical-align: top;\n",
       "    }\n",
       "\n",
       "    .dataframe thead th {\n",
       "        text-align: right;\n",
       "    }\n",
       "</style>\n",
       "<table border=\"1\" class=\"dataframe\">\n",
       "  <thead>\n",
       "    <tr style=\"text-align: right;\">\n",
       "      <th></th>\n",
       "      <th>Unnamed: 0</th>\n",
       "      <th>hsa-let-7a-1</th>\n",
       "      <th>hsa-let-7a-2</th>\n",
       "      <th>hsa-let-7a-3</th>\n",
       "      <th>hsa-let-7b</th>\n",
       "      <th>hsa-let-7c</th>\n",
       "      <th>hsa-let-7d</th>\n",
       "      <th>hsa-let-7e</th>\n",
       "      <th>hsa-let-7f-1</th>\n",
       "      <th>hsa-let-7f-2</th>\n",
       "      <th>...</th>\n",
       "      <th>hsa-mir-942</th>\n",
       "      <th>hsa-mir-943</th>\n",
       "      <th>hsa-mir-944</th>\n",
       "      <th>hsa-mir-95</th>\n",
       "      <th>hsa-mir-9500</th>\n",
       "      <th>hsa-mir-96</th>\n",
       "      <th>hsa-mir-98</th>\n",
       "      <th>hsa-mir-99a</th>\n",
       "      <th>hsa-mir-99b</th>\n",
       "      <th>Project ID</th>\n",
       "    </tr>\n",
       "  </thead>\n",
       "  <tbody>\n",
       "    <tr>\n",
       "      <th>0</th>\n",
       "      <td>dc8d96ef-81eb-41c8-a486-02d107c1a137</td>\n",
       "      <td>3530.574305</td>\n",
       "      <td>3545.647914</td>\n",
       "      <td>3516.338118</td>\n",
       "      <td>13112.365384</td>\n",
       "      <td>1015.793793</td>\n",
       "      <td>380.189927</td>\n",
       "      <td>608.806338</td>\n",
       "      <td>1039.241630</td>\n",
       "      <td>981.459460</td>\n",
       "      <td>...</td>\n",
       "      <td>2.512268</td>\n",
       "      <td>0.000000</td>\n",
       "      <td>1.674845</td>\n",
       "      <td>2.512268</td>\n",
       "      <td>0.0</td>\n",
       "      <td>66.993820</td>\n",
       "      <td>42.708560</td>\n",
       "      <td>217.729914</td>\n",
       "      <td>27493.426231</td>\n",
       "      <td>TCGA-BRCA</td>\n",
       "    </tr>\n",
       "    <tr>\n",
       "      <th>1</th>\n",
       "      <td>93b8bab9-acd8-4a5a-b4ba-ec52b2ab186b</td>\n",
       "      <td>5860.628124</td>\n",
       "      <td>5770.822052</td>\n",
       "      <td>5873.585219</td>\n",
       "      <td>32816.747358</td>\n",
       "      <td>2379.637523</td>\n",
       "      <td>226.078969</td>\n",
       "      <td>395.861593</td>\n",
       "      <td>940.953178</td>\n",
       "      <td>928.442879</td>\n",
       "      <td>...</td>\n",
       "      <td>1.787186</td>\n",
       "      <td>0.000000</td>\n",
       "      <td>4.021167</td>\n",
       "      <td>5.361557</td>\n",
       "      <td>0.0</td>\n",
       "      <td>35.296914</td>\n",
       "      <td>22.786615</td>\n",
       "      <td>702.363910</td>\n",
       "      <td>20079.922937</td>\n",
       "      <td>TCGA-BRCA</td>\n",
       "    </tr>\n",
       "    <tr>\n",
       "      <th>2</th>\n",
       "      <td>6d869125-0f2b-406a-a1aa-4b352b2247d3</td>\n",
       "      <td>12710.168915</td>\n",
       "      <td>12822.741990</td>\n",
       "      <td>12923.054631</td>\n",
       "      <td>8665.340311</td>\n",
       "      <td>504.349668</td>\n",
       "      <td>1599.429333</td>\n",
       "      <td>4876.308941</td>\n",
       "      <td>12166.251484</td>\n",
       "      <td>12349.600700</td>\n",
       "      <td>...</td>\n",
       "      <td>3.343755</td>\n",
       "      <td>1.114585</td>\n",
       "      <td>14.489604</td>\n",
       "      <td>3.343755</td>\n",
       "      <td>0.0</td>\n",
       "      <td>90.838669</td>\n",
       "      <td>136.536650</td>\n",
       "      <td>112.573075</td>\n",
       "      <td>43691.728108</td>\n",
       "      <td>TCGA-LUAD</td>\n",
       "    </tr>\n",
       "    <tr>\n",
       "      <th>3</th>\n",
       "      <td>41dbd6ab-871d-4ee4-be13-392b4995f6ce</td>\n",
       "      <td>8612.209891</td>\n",
       "      <td>8453.920962</td>\n",
       "      <td>8830.260967</td>\n",
       "      <td>33663.855692</td>\n",
       "      <td>1540.894268</td>\n",
       "      <td>810.826963</td>\n",
       "      <td>2251.579255</td>\n",
       "      <td>814.057349</td>\n",
       "      <td>780.138293</td>\n",
       "      <td>...</td>\n",
       "      <td>3.230386</td>\n",
       "      <td>0.000000</td>\n",
       "      <td>1.615193</td>\n",
       "      <td>1.615193</td>\n",
       "      <td>0.0</td>\n",
       "      <td>46.840601</td>\n",
       "      <td>50.070988</td>\n",
       "      <td>486.173139</td>\n",
       "      <td>133458.564642</td>\n",
       "      <td>TCGA-BRCA</td>\n",
       "    </tr>\n",
       "    <tr>\n",
       "      <th>4</th>\n",
       "      <td>322badf4-b70d-4f90-ac44-d2f30e52f03c</td>\n",
       "      <td>10317.399990</td>\n",
       "      <td>10054.249488</td>\n",
       "      <td>10189.749276</td>\n",
       "      <td>24500.675020</td>\n",
       "      <td>3229.273903</td>\n",
       "      <td>632.470045</td>\n",
       "      <td>1026.989244</td>\n",
       "      <td>3458.962567</td>\n",
       "      <td>3501.099696</td>\n",
       "      <td>...</td>\n",
       "      <td>1.652436</td>\n",
       "      <td>0.413109</td>\n",
       "      <td>0.413109</td>\n",
       "      <td>0.826218</td>\n",
       "      <td>0.0</td>\n",
       "      <td>0.413109</td>\n",
       "      <td>65.684348</td>\n",
       "      <td>703.524812</td>\n",
       "      <td>32382.383706</td>\n",
       "      <td>TCGA-KIRC</td>\n",
       "    </tr>\n",
       "  </tbody>\n",
       "</table>\n",
       "<p>5 rows × 1883 columns</p>\n",
       "</div>"
      ],
      "text/plain": [
       "                             Unnamed: 0  hsa-let-7a-1  hsa-let-7a-2  \\\n",
       "0  dc8d96ef-81eb-41c8-a486-02d107c1a137   3530.574305   3545.647914   \n",
       "1  93b8bab9-acd8-4a5a-b4ba-ec52b2ab186b   5860.628124   5770.822052   \n",
       "2  6d869125-0f2b-406a-a1aa-4b352b2247d3  12710.168915  12822.741990   \n",
       "3  41dbd6ab-871d-4ee4-be13-392b4995f6ce   8612.209891   8453.920962   \n",
       "4  322badf4-b70d-4f90-ac44-d2f30e52f03c  10317.399990  10054.249488   \n",
       "\n",
       "   hsa-let-7a-3    hsa-let-7b   hsa-let-7c   hsa-let-7d   hsa-let-7e  \\\n",
       "0   3516.338118  13112.365384  1015.793793   380.189927   608.806338   \n",
       "1   5873.585219  32816.747358  2379.637523   226.078969   395.861593   \n",
       "2  12923.054631   8665.340311   504.349668  1599.429333  4876.308941   \n",
       "3   8830.260967  33663.855692  1540.894268   810.826963  2251.579255   \n",
       "4  10189.749276  24500.675020  3229.273903   632.470045  1026.989244   \n",
       "\n",
       "   hsa-let-7f-1  hsa-let-7f-2     ...      hsa-mir-942  hsa-mir-943  \\\n",
       "0   1039.241630    981.459460     ...         2.512268     0.000000   \n",
       "1    940.953178    928.442879     ...         1.787186     0.000000   \n",
       "2  12166.251484  12349.600700     ...         3.343755     1.114585   \n",
       "3    814.057349    780.138293     ...         3.230386     0.000000   \n",
       "4   3458.962567   3501.099696     ...         1.652436     0.413109   \n",
       "\n",
       "   hsa-mir-944  hsa-mir-95  hsa-mir-9500  hsa-mir-96  hsa-mir-98  hsa-mir-99a  \\\n",
       "0     1.674845    2.512268           0.0   66.993820   42.708560   217.729914   \n",
       "1     4.021167    5.361557           0.0   35.296914   22.786615   702.363910   \n",
       "2    14.489604    3.343755           0.0   90.838669  136.536650   112.573075   \n",
       "3     1.615193    1.615193           0.0   46.840601   50.070988   486.173139   \n",
       "4     0.413109    0.826218           0.0    0.413109   65.684348   703.524812   \n",
       "\n",
       "     hsa-mir-99b  Project ID  \n",
       "0   27493.426231   TCGA-BRCA  \n",
       "1   20079.922937   TCGA-BRCA  \n",
       "2   43691.728108   TCGA-LUAD  \n",
       "3  133458.564642   TCGA-BRCA  \n",
       "4   32382.383706   TCGA-KIRC  \n",
       "\n",
       "[5 rows x 1883 columns]"
      ]
     },
     "execution_count": 313,
     "metadata": {},
     "output_type": "execute_result"
    }
   ],
   "source": [
    "# Load dataset\n",
    "df = pd.read_csv('./data/expression.csv')\n",
    "df.head()"
   ]
  },
  {
   "cell_type": "code",
   "execution_count": 314,
   "metadata": {},
   "outputs": [
    {
     "data": {
      "text/html": [
       "<div>\n",
       "<style scoped>\n",
       "    .dataframe tbody tr th:only-of-type {\n",
       "        vertical-align: middle;\n",
       "    }\n",
       "\n",
       "    .dataframe tbody tr th {\n",
       "        vertical-align: top;\n",
       "    }\n",
       "\n",
       "    .dataframe thead th {\n",
       "        text-align: right;\n",
       "    }\n",
       "</style>\n",
       "<table border=\"1\" class=\"dataframe\">\n",
       "  <thead>\n",
       "    <tr style=\"text-align: right;\">\n",
       "      <th></th>\n",
       "      <th>hsa-let-7a-1</th>\n",
       "      <th>hsa-let-7a-2</th>\n",
       "      <th>hsa-let-7a-3</th>\n",
       "      <th>hsa-let-7b</th>\n",
       "      <th>hsa-let-7c</th>\n",
       "      <th>hsa-let-7d</th>\n",
       "      <th>hsa-let-7e</th>\n",
       "      <th>hsa-let-7f-1</th>\n",
       "      <th>hsa-let-7f-2</th>\n",
       "      <th>hsa-let-7g</th>\n",
       "      <th>...</th>\n",
       "      <th>hsa-mir-942</th>\n",
       "      <th>hsa-mir-943</th>\n",
       "      <th>hsa-mir-944</th>\n",
       "      <th>hsa-mir-95</th>\n",
       "      <th>hsa-mir-9500</th>\n",
       "      <th>hsa-mir-96</th>\n",
       "      <th>hsa-mir-98</th>\n",
       "      <th>hsa-mir-99a</th>\n",
       "      <th>hsa-mir-99b</th>\n",
       "      <th>Project ID</th>\n",
       "    </tr>\n",
       "    <tr>\n",
       "      <th></th>\n",
       "      <th></th>\n",
       "      <th></th>\n",
       "      <th></th>\n",
       "      <th></th>\n",
       "      <th></th>\n",
       "      <th></th>\n",
       "      <th></th>\n",
       "      <th></th>\n",
       "      <th></th>\n",
       "      <th></th>\n",
       "      <th></th>\n",
       "      <th></th>\n",
       "      <th></th>\n",
       "      <th></th>\n",
       "      <th></th>\n",
       "      <th></th>\n",
       "      <th></th>\n",
       "      <th></th>\n",
       "      <th></th>\n",
       "      <th></th>\n",
       "      <th></th>\n",
       "    </tr>\n",
       "  </thead>\n",
       "  <tbody>\n",
       "    <tr>\n",
       "      <th>dc8d96ef-81eb-41c8-a486-02d107c1a137</th>\n",
       "      <td>3530.574305</td>\n",
       "      <td>3545.647914</td>\n",
       "      <td>3516.338118</td>\n",
       "      <td>13112.365384</td>\n",
       "      <td>1015.793793</td>\n",
       "      <td>380.189927</td>\n",
       "      <td>608.806338</td>\n",
       "      <td>1039.241630</td>\n",
       "      <td>981.459460</td>\n",
       "      <td>285.561157</td>\n",
       "      <td>...</td>\n",
       "      <td>2.512268</td>\n",
       "      <td>0.000000</td>\n",
       "      <td>1.674845</td>\n",
       "      <td>2.512268</td>\n",
       "      <td>0.0</td>\n",
       "      <td>66.993820</td>\n",
       "      <td>42.708560</td>\n",
       "      <td>217.729914</td>\n",
       "      <td>27493.426231</td>\n",
       "      <td>TCGA-BRCA</td>\n",
       "    </tr>\n",
       "    <tr>\n",
       "      <th>93b8bab9-acd8-4a5a-b4ba-ec52b2ab186b</th>\n",
       "      <td>5860.628124</td>\n",
       "      <td>5770.822052</td>\n",
       "      <td>5873.585219</td>\n",
       "      <td>32816.747358</td>\n",
       "      <td>2379.637523</td>\n",
       "      <td>226.078969</td>\n",
       "      <td>395.861593</td>\n",
       "      <td>940.953178</td>\n",
       "      <td>928.442879</td>\n",
       "      <td>180.505738</td>\n",
       "      <td>...</td>\n",
       "      <td>1.787186</td>\n",
       "      <td>0.000000</td>\n",
       "      <td>4.021167</td>\n",
       "      <td>5.361557</td>\n",
       "      <td>0.0</td>\n",
       "      <td>35.296914</td>\n",
       "      <td>22.786615</td>\n",
       "      <td>702.363910</td>\n",
       "      <td>20079.922937</td>\n",
       "      <td>TCGA-BRCA</td>\n",
       "    </tr>\n",
       "    <tr>\n",
       "      <th>6d869125-0f2b-406a-a1aa-4b352b2247d3</th>\n",
       "      <td>12710.168915</td>\n",
       "      <td>12822.741990</td>\n",
       "      <td>12923.054631</td>\n",
       "      <td>8665.340311</td>\n",
       "      <td>504.349668</td>\n",
       "      <td>1599.429333</td>\n",
       "      <td>4876.308941</td>\n",
       "      <td>12166.251484</td>\n",
       "      <td>12349.600700</td>\n",
       "      <td>2128.299868</td>\n",
       "      <td>...</td>\n",
       "      <td>3.343755</td>\n",
       "      <td>1.114585</td>\n",
       "      <td>14.489604</td>\n",
       "      <td>3.343755</td>\n",
       "      <td>0.0</td>\n",
       "      <td>90.838669</td>\n",
       "      <td>136.536650</td>\n",
       "      <td>112.573075</td>\n",
       "      <td>43691.728108</td>\n",
       "      <td>TCGA-LUAD</td>\n",
       "    </tr>\n",
       "  </tbody>\n",
       "</table>\n",
       "<p>3 rows × 1882 columns</p>\n",
       "</div>"
      ],
      "text/plain": [
       "                                      hsa-let-7a-1  hsa-let-7a-2  \\\n",
       "                                                                   \n",
       "dc8d96ef-81eb-41c8-a486-02d107c1a137   3530.574305   3545.647914   \n",
       "93b8bab9-acd8-4a5a-b4ba-ec52b2ab186b   5860.628124   5770.822052   \n",
       "6d869125-0f2b-406a-a1aa-4b352b2247d3  12710.168915  12822.741990   \n",
       "\n",
       "                                      hsa-let-7a-3    hsa-let-7b   hsa-let-7c  \\\n",
       "                                                                                \n",
       "dc8d96ef-81eb-41c8-a486-02d107c1a137   3516.338118  13112.365384  1015.793793   \n",
       "93b8bab9-acd8-4a5a-b4ba-ec52b2ab186b   5873.585219  32816.747358  2379.637523   \n",
       "6d869125-0f2b-406a-a1aa-4b352b2247d3  12923.054631   8665.340311   504.349668   \n",
       "\n",
       "                                       hsa-let-7d   hsa-let-7e  hsa-let-7f-1  \\\n",
       "                                                                               \n",
       "dc8d96ef-81eb-41c8-a486-02d107c1a137   380.189927   608.806338   1039.241630   \n",
       "93b8bab9-acd8-4a5a-b4ba-ec52b2ab186b   226.078969   395.861593    940.953178   \n",
       "6d869125-0f2b-406a-a1aa-4b352b2247d3  1599.429333  4876.308941  12166.251484   \n",
       "\n",
       "                                      hsa-let-7f-2   hsa-let-7g     ...      \\\n",
       "                                                                    ...       \n",
       "dc8d96ef-81eb-41c8-a486-02d107c1a137    981.459460   285.561157     ...       \n",
       "93b8bab9-acd8-4a5a-b4ba-ec52b2ab186b    928.442879   180.505738     ...       \n",
       "6d869125-0f2b-406a-a1aa-4b352b2247d3  12349.600700  2128.299868     ...       \n",
       "\n",
       "                                      hsa-mir-942  hsa-mir-943  hsa-mir-944  \\\n",
       "                                                                              \n",
       "dc8d96ef-81eb-41c8-a486-02d107c1a137     2.512268     0.000000     1.674845   \n",
       "93b8bab9-acd8-4a5a-b4ba-ec52b2ab186b     1.787186     0.000000     4.021167   \n",
       "6d869125-0f2b-406a-a1aa-4b352b2247d3     3.343755     1.114585    14.489604   \n",
       "\n",
       "                                      hsa-mir-95  hsa-mir-9500  hsa-mir-96  \\\n",
       "                                                                             \n",
       "dc8d96ef-81eb-41c8-a486-02d107c1a137    2.512268           0.0   66.993820   \n",
       "93b8bab9-acd8-4a5a-b4ba-ec52b2ab186b    5.361557           0.0   35.296914   \n",
       "6d869125-0f2b-406a-a1aa-4b352b2247d3    3.343755           0.0   90.838669   \n",
       "\n",
       "                                      hsa-mir-98  hsa-mir-99a   hsa-mir-99b  \\\n",
       "                                                                              \n",
       "dc8d96ef-81eb-41c8-a486-02d107c1a137   42.708560   217.729914  27493.426231   \n",
       "93b8bab9-acd8-4a5a-b4ba-ec52b2ab186b   22.786615   702.363910  20079.922937   \n",
       "6d869125-0f2b-406a-a1aa-4b352b2247d3  136.536650   112.573075  43691.728108   \n",
       "\n",
       "                                      Project ID  \n",
       "                                                  \n",
       "dc8d96ef-81eb-41c8-a486-02d107c1a137   TCGA-BRCA  \n",
       "93b8bab9-acd8-4a5a-b4ba-ec52b2ab186b   TCGA-BRCA  \n",
       "6d869125-0f2b-406a-a1aa-4b352b2247d3   TCGA-LUAD  \n",
       "\n",
       "[3 rows x 1882 columns]"
      ]
     },
     "execution_count": 314,
     "metadata": {},
     "output_type": "execute_result"
    }
   ],
   "source": [
    "df.set_index('Unnamed: 0', inplace=True)\n",
    "df.index.name = ''\n",
    "df.head(3)"
   ]
  },
  {
   "cell_type": "markdown",
   "metadata": {},
   "source": [
    "## Convert Label to Numerical Classes"
   ]
  },
  {
   "cell_type": "code",
   "execution_count": 315,
   "metadata": {
    "scrolled": true
   },
   "outputs": [
    {
     "data": {
      "text/plain": [
       "array(['TCGA-BRCA', 'TCGA-LUAD', 'TCGA-KIRC', 'TCGA-UCEC', 'TCGA-HNSC',\n",
       "       'TCGA-LGG'], dtype=object)"
      ]
     },
     "execution_count": 315,
     "metadata": {},
     "output_type": "execute_result"
    }
   ],
   "source": [
    "labels = df['Project ID'].unique()\n",
    "labels"
   ]
  },
  {
   "cell_type": "code",
   "execution_count": 316,
   "metadata": {},
   "outputs": [],
   "source": [
    "label_dict = {}\n",
    "for i, val in enumerate(labels):\n",
    "    label_dict[val] = i"
   ]
  },
  {
   "cell_type": "code",
   "execution_count": 317,
   "metadata": {},
   "outputs": [
    {
     "data": {
      "text/plain": [
       "{'TCGA-BRCA': 0,\n",
       " 'TCGA-LUAD': 1,\n",
       " 'TCGA-KIRC': 2,\n",
       " 'TCGA-UCEC': 3,\n",
       " 'TCGA-HNSC': 4,\n",
       " 'TCGA-LGG': 5}"
      ]
     },
     "execution_count": 317,
     "metadata": {},
     "output_type": "execute_result"
    }
   ],
   "source": [
    "label_dict"
   ]
  },
  {
   "cell_type": "code",
   "execution_count": 318,
   "metadata": {},
   "outputs": [],
   "source": [
    "df['Project ID'] = df['Project ID'].apply(lambda x: label_dict[x])"
   ]
  },
  {
   "cell_type": "code",
   "execution_count": 319,
   "metadata": {},
   "outputs": [
    {
     "data": {
      "text/plain": [
       "\n",
       "dc8d96ef-81eb-41c8-a486-02d107c1a137    0\n",
       "93b8bab9-acd8-4a5a-b4ba-ec52b2ab186b    0\n",
       "6d869125-0f2b-406a-a1aa-4b352b2247d3    1\n",
       "41dbd6ab-871d-4ee4-be13-392b4995f6ce    0\n",
       "322badf4-b70d-4f90-ac44-d2f30e52f03c    2\n",
       "Name: Project ID, dtype: int64"
      ]
     },
     "execution_count": 319,
     "metadata": {},
     "output_type": "execute_result"
    }
   ],
   "source": [
    "df['Project ID'].head()"
   ]
  },
  {
   "cell_type": "code",
   "execution_count": 320,
   "metadata": {},
   "outputs": [
    {
     "data": {
      "text/plain": [
       "array([0, 0, 1, ..., 2, 5, 3])"
      ]
     },
     "execution_count": 320,
     "metadata": {},
     "output_type": "execute_result"
    }
   ],
   "source": [
    "df['Project ID'].values"
   ]
  },
  {
   "cell_type": "code",
   "execution_count": 321,
   "metadata": {},
   "outputs": [
    {
     "data": {
      "text/plain": [
       "(array([0, 1, 2, 3, 4, 5]), array([1207,  567,  616,  579,  569,  530]))"
      ]
     },
     "execution_count": 321,
     "metadata": {},
     "output_type": "execute_result"
    }
   ],
   "source": [
    "np.unique(df['Project ID'].values, return_counts=True)"
   ]
  },
  {
   "cell_type": "code",
   "execution_count": 275,
   "metadata": {},
   "outputs": [
    {
     "data": {
      "text/plain": [
       "Project ID    1.0\n",
       "Name: Project ID, dtype: float64"
      ]
     },
     "execution_count": 275,
     "metadata": {},
     "output_type": "execute_result"
    }
   ],
   "source": [
    "df.corr()['Project ID'][df.corr()['Project ID'] > 0.8]"
   ]
  },
  {
   "cell_type": "markdown",
   "metadata": {},
   "source": [
    "- This ensures that there are no miRNA features that are highly correlated with the Project ID column suggesting there is no data leakage."
   ]
  },
  {
   "cell_type": "markdown",
   "metadata": {},
   "source": [
    "## Modeling"
   ]
  },
  {
   "cell_type": "code",
   "execution_count": 256,
   "metadata": {},
   "outputs": [],
   "source": [
    "# define X and y\n",
    "\n",
    "features = [col for col in df.columns if col != 'Project ID']\n",
    "X = df[features]\n",
    "y = df['Project ID']"
   ]
  },
  {
   "cell_type": "markdown",
   "metadata": {},
   "source": [
    "- y has now become a one hot encoded matrix"
   ]
  },
  {
   "cell_type": "code",
   "execution_count": 258,
   "metadata": {},
   "outputs": [
    {
     "data": {
      "text/plain": [
       "((4068, 1881), (4068,))"
      ]
     },
     "execution_count": 258,
     "metadata": {},
     "output_type": "execute_result"
    }
   ],
   "source": [
    "X.shape, y.shape"
   ]
  },
  {
   "cell_type": "code",
   "execution_count": 259,
   "metadata": {},
   "outputs": [],
   "source": [
    "# Import Train/Test Split\n",
    "from sklearn.model_selection import train_test_split\n",
    "\n",
    "# Create Train/Test Split\n",
    "X_train, X_test, y_train, y_test = train_test_split(X, y, random_state = 42)"
   ]
  },
  {
   "cell_type": "code",
   "execution_count": 260,
   "metadata": {},
   "outputs": [],
   "source": [
    "# Scale your X \n",
    "ss = StandardScaler()\n",
    "ss.fit(X_train)\n",
    "\n",
    "X_train_sc = ss.transform(X_train)\n",
    "X_test_sc = ss.transform(X_test)"
   ]
  },
  {
   "cell_type": "code",
   "execution_count": 261,
   "metadata": {},
   "outputs": [
    {
     "data": {
      "text/plain": [
       "(3051, 1881)"
      ]
     },
     "execution_count": 261,
     "metadata": {},
     "output_type": "execute_result"
    }
   ],
   "source": [
    "X_train_sc.shape"
   ]
  },
  {
   "cell_type": "code",
   "execution_count": 262,
   "metadata": {},
   "outputs": [
    {
     "data": {
      "text/plain": [
       "(3051,)"
      ]
     },
     "execution_count": 262,
     "metadata": {},
     "output_type": "execute_result"
    }
   ],
   "source": [
    "y_train.shape"
   ]
  },
  {
   "cell_type": "code",
   "execution_count": 268,
   "metadata": {
    "scrolled": true
   },
   "outputs": [
    {
     "data": {
      "text/plain": [
       "array([[-0.13757605, -0.14375192, -0.12351748, ..., -0.552683  ,\n",
       "        -0.03246912,  0.1691514 ],\n",
       "       [-0.30854682, -0.30505   , -0.2986153 , ..., -0.5638275 ,\n",
       "        -0.48326232,  0.58302403],\n",
       "       [-0.83273596, -0.83861996, -0.83489927, ...,  0.25225785,\n",
       "        -0.30502236,  0.21626713],\n",
       "       ...,\n",
       "       [ 0.08036105,  0.08817088,  0.08380428, ...,  0.43370223,\n",
       "        -0.13140152, -0.77981768],\n",
       "       [-0.71270561, -0.70758186, -0.71647546, ..., -0.58155455,\n",
       "        -0.03542068,  0.12894171],\n",
       "       [ 1.96993151,  1.97419498,  1.963374  , ...,  0.65137751,\n",
       "        -0.37890986,  0.23677574]])"
      ]
     },
     "execution_count": 268,
     "metadata": {},
     "output_type": "execute_result"
    }
   ],
   "source": [
    "X_train_sc"
   ]
  },
  {
   "cell_type": "markdown",
   "metadata": {},
   "source": [
    "### Logistic Regression"
   ]
  },
  {
   "cell_type": "code",
   "execution_count": 263,
   "metadata": {},
   "outputs": [
    {
     "data": {
      "text/plain": [
       "LogisticRegression(C=1.0, class_weight=None, dual=False, fit_intercept=True,\n",
       "          intercept_scaling=1, max_iter=100, multi_class='multinomial',\n",
       "          n_jobs=1, penalty='l2', random_state=None, solver='lbfgs',\n",
       "          tol=0.0001, verbose=0, warm_start=False)"
      ]
     },
     "execution_count": 263,
     "metadata": {},
     "output_type": "execute_result"
    }
   ],
   "source": [
    "lr = LogisticRegression(solver='lbfgs', multi_class='multinomial')\n",
    "lr.fit(X_train_sc, y_train)"
   ]
  },
  {
   "cell_type": "code",
   "execution_count": 276,
   "metadata": {},
   "outputs": [
    {
     "data": {
      "text/plain": [
       "1.0"
      ]
     },
     "execution_count": 276,
     "metadata": {},
     "output_type": "execute_result"
    }
   ],
   "source": [
    "lr.score(X_train_sc, y_train)"
   ]
  },
  {
   "cell_type": "code",
   "execution_count": 281,
   "metadata": {},
   "outputs": [
    {
     "data": {
      "text/plain": [
       "0.9842696241560228"
      ]
     },
     "execution_count": 281,
     "metadata": {},
     "output_type": "execute_result"
    }
   ],
   "source": [
    "cross_val_score(lr, X_train_sc, y_train, cv=5).mean()"
   ]
  },
  {
   "cell_type": "code",
   "execution_count": 282,
   "metadata": {},
   "outputs": [
    {
     "data": {
      "text/plain": [
       "0.9783677482792527"
      ]
     },
     "execution_count": 282,
     "metadata": {},
     "output_type": "execute_result"
    }
   ],
   "source": [
    "lr.score(X_test_sc, y_test)"
   ]
  },
  {
   "cell_type": "code",
   "execution_count": 283,
   "metadata": {},
   "outputs": [],
   "source": [
    "lr_preds = lr.predict(X_test_sc)"
   ]
  },
  {
   "cell_type": "code",
   "execution_count": 285,
   "metadata": {},
   "outputs": [
    {
     "data": {
      "text/plain": [
       "array([[288,   0,   0,   1,   4,   1],\n",
       "       [  1, 126,   0,   1,   1,   0],\n",
       "       [  0,   0, 145,   0,   1,   0],\n",
       "       [  3,   2,   2, 147,   4,   2],\n",
       "       [  1,   3,   0,   1, 137,   0],\n",
       "       [  0,   0,   0,   0,   0, 146]])"
      ]
     },
     "execution_count": 285,
     "metadata": {},
     "output_type": "execute_result"
    }
   ],
   "source": [
    "confusion_matrix(y_test, preds)"
   ]
  },
  {
   "cell_type": "code",
   "execution_count": 297,
   "metadata": {},
   "outputs": [
    {
     "data": {
      "text/plain": [
       "array([0.23881852, 0.10168391, 0.10082234, 0.10835985, 0.10789963,\n",
       "       0.19674327, 0.1292244 , 0.16077615, 0.12295841, 0.18399198,\n",
       "       0.24678847, 0.12147705, 0.28559492, 0.18225985, 0.17281193,\n",
       "       0.17961587, 0.18395791, 0.20043588, 0.11687643, 0.13414158,\n",
       "       0.10519303, 0.19459565, 0.1347305 , 0.12126652, 0.15970139,\n",
       "       0.16862727, 0.17018686, 0.12761278, 0.11189176, 0.11251418,\n",
       "       0.11377226, 0.1519242 , 0.12147353, 0.112865  , 0.10896345,\n",
       "       0.16658013, 0.10161759, 0.11695528, 0.15375539, 0.10382468,\n",
       "       0.10461339, 0.14891973, 0.10734115, 0.18881843, 0.14374623,\n",
       "       0.11658611, 0.10012036, 0.12645623, 0.15293333, 0.12304521,\n",
       "       0.2110715 , 0.14224413])"
      ]
     },
     "execution_count": 297,
     "metadata": {},
     "output_type": "execute_result"
    }
   ],
   "source": [
    "lr.coef_[0][lr.coef_[0] > 0.1]"
   ]
  },
  {
   "cell_type": "markdown",
   "metadata": {},
   "source": [
    "### Random Forest "
   ]
  },
  {
   "cell_type": "code",
   "execution_count": 322,
   "metadata": {},
   "outputs": [
    {
     "name": "stdout",
     "output_type": "stream",
     "text": [
      "[........................................] 100% | 102.84 sec | GridSearchCV \n",
      "Random Forest:\n",
      "Train Score: 0.98656178302196\n",
      "Test Score: 0.983284169124877\n"
     ]
    }
   ],
   "source": [
    "rf = RandomForestClassifier()\n",
    "rf_params =  {\n",
    "        'n_estimators' : [20, 60, 100],\n",
    "        'max_depth' : [None, 2, 6, 10],\n",
    "        'min_samples_split' : [2, 3, 4] \n",
    "}\n",
    "\n",
    "gs_rf = GridSearchCVProgressBar(rf, param_grid = rf_params)\n",
    "gs_rf.fit(X_train_sc, y_train)\n",
    "print(f'Random Forest:')\n",
    "print(f'Train Score: {gs_rf.best_score_}')\n",
    "print(f'Test Score: {gs_rf.score(X_test_sc, y_test)}')"
   ]
  },
  {
   "cell_type": "code",
   "execution_count": 335,
   "metadata": {},
   "outputs": [],
   "source": [
    "rf_feature_importances = gs_rf.best_estimator_.feature_importances_"
   ]
  },
  {
   "cell_type": "code",
   "execution_count": 336,
   "metadata": {},
   "outputs": [
    {
     "data": {
      "text/plain": [
       "0.019369082980210447"
      ]
     },
     "execution_count": 336,
     "metadata": {},
     "output_type": "execute_result"
    }
   ],
   "source": [
    "rf_feature_importances.max()"
   ]
  },
  {
   "cell_type": "code",
   "execution_count": 331,
   "metadata": {},
   "outputs": [],
   "source": [
    "rf_preds = gs_rf.best_estimator_.predict(X_test_sc)"
   ]
  },
  {
   "cell_type": "code",
   "execution_count": 333,
   "metadata": {},
   "outputs": [
    {
     "data": {
      "text/plain": [
       "array([[288,   2,   0,   2,   2,   0],\n",
       "       [  3, 125,   0,   1,   0,   0],\n",
       "       [  2,   0, 144,   0,   0,   0],\n",
       "       [  1,   1,   1, 157,   0,   0],\n",
       "       [  1,   1,   0,   0, 140,   0],\n",
       "       [  0,   0,   0,   0,   0, 146]])"
      ]
     },
     "execution_count": 333,
     "metadata": {},
     "output_type": "execute_result"
    }
   ],
   "source": [
    "confusion_matrix(y_test, rf_preds)"
   ]
  },
  {
   "cell_type": "markdown",
   "metadata": {},
   "source": [
    "### ExtraTrees "
   ]
  },
  {
   "cell_type": "code",
   "execution_count": 334,
   "metadata": {},
   "outputs": [
    {
     "name": "stdout",
     "output_type": "stream",
     "text": [
      "[........................................] 100% | 106.47 sec | GridSearchCV \n",
      "Extra-Trees:\n",
      "Train Score: 0.9750901343821697\n",
      "Test Score: 0.9724680432645034\n"
     ]
    }
   ],
   "source": [
    "et = ExtraTreesClassifier()\n",
    "et_params = {\n",
    "        'n_estimators' : [20, 60, 100],\n",
    "        'max_depth' : [None, 6, 10, 14],\n",
    "        'min_samples_leaf' : [1, 2], \n",
    "        'min_samples_split' : [2, 3], \n",
    "}\n",
    "gs_et = GridSearchCVProgressBar(et, param_grid = et_params)\n",
    "gs_et.fit(X_train_sc, y_train)\n",
    "print(f'Extra-Trees:')\n",
    "print(f'Train Score: {gs_et.best_score_}')\n",
    "print(f'Test Score: {gs_et.score(X_test_sc, y_test)}')"
   ]
  },
  {
   "cell_type": "code",
   "execution_count": 366,
   "metadata": {},
   "outputs": [
    {
     "data": {
      "text/plain": [
       "array([0.00066728, 0.00032926, 0.00048516, ..., 0.00034633, 0.00239011,\n",
       "       0.00177722])"
      ]
     },
     "execution_count": 366,
     "metadata": {},
     "output_type": "execute_result"
    }
   ],
   "source": [
    "et_feature_importances = gs_et.best_estimator_.feature_importances_\n",
    "et_feature_importances"
   ]
  },
  {
   "cell_type": "code",
   "execution_count": 369,
   "metadata": {},
   "outputs": [],
   "source": [
    "et_features = pd.DataFrame(list(zip(features, et_feature_importances)), columns=['miRNA', 'importance'])"
   ]
  },
  {
   "cell_type": "code",
   "execution_count": 373,
   "metadata": {},
   "outputs": [
    {
     "data": {
      "text/html": [
       "<div>\n",
       "<style scoped>\n",
       "    .dataframe tbody tr th:only-of-type {\n",
       "        vertical-align: middle;\n",
       "    }\n",
       "\n",
       "    .dataframe tbody tr th {\n",
       "        vertical-align: top;\n",
       "    }\n",
       "\n",
       "    .dataframe thead th {\n",
       "        text-align: right;\n",
       "    }\n",
       "</style>\n",
       "<table border=\"1\" class=\"dataframe\">\n",
       "  <thead>\n",
       "    <tr style=\"text-align: right;\">\n",
       "      <th></th>\n",
       "      <th>miRNA</th>\n",
       "      <th>importance</th>\n",
       "    </tr>\n",
       "  </thead>\n",
       "  <tbody>\n",
       "    <tr>\n",
       "      <th>1848</th>\n",
       "      <td>hsa-mir-9-1</td>\n",
       "      <td>0.020861</td>\n",
       "    </tr>\n",
       "    <tr>\n",
       "      <th>1849</th>\n",
       "      <td>hsa-mir-9-2</td>\n",
       "      <td>0.018293</td>\n",
       "    </tr>\n",
       "    <tr>\n",
       "      <th>1850</th>\n",
       "      <td>hsa-mir-9-3</td>\n",
       "      <td>0.014175</td>\n",
       "    </tr>\n",
       "    <tr>\n",
       "      <th>271</th>\n",
       "      <td>hsa-mir-200c</td>\n",
       "      <td>0.010870</td>\n",
       "    </tr>\n",
       "    <tr>\n",
       "      <th>352</th>\n",
       "      <td>hsa-mir-30a</td>\n",
       "      <td>0.009182</td>\n",
       "    </tr>\n",
       "  </tbody>\n",
       "</table>\n",
       "</div>"
      ],
      "text/plain": [
       "             miRNA  importance\n",
       "1848   hsa-mir-9-1    0.020861\n",
       "1849   hsa-mir-9-2    0.018293\n",
       "1850   hsa-mir-9-3    0.014175\n",
       "271   hsa-mir-200c    0.010870\n",
       "352    hsa-mir-30a    0.009182"
      ]
     },
     "execution_count": 373,
     "metadata": {},
     "output_type": "execute_result"
    }
   ],
   "source": [
    "et_features.sort_values(by='importance', ascending=False).head()"
   ]
  },
  {
   "cell_type": "code",
   "execution_count": 342,
   "metadata": {},
   "outputs": [],
   "source": [
    "et_preds = gs_et.best_estimator_.predict(X_test_sc)"
   ]
  },
  {
   "cell_type": "code",
   "execution_count": 343,
   "metadata": {
    "scrolled": true
   },
   "outputs": [
    {
     "data": {
      "text/plain": [
       "array([[292,   0,   0,   1,   1,   0],\n",
       "       [  9, 120,   0,   0,   0,   0],\n",
       "       [  2,   0, 144,   0,   0,   0],\n",
       "       [  8,   3,   0, 149,   0,   0],\n",
       "       [  3,   1,   0,   0, 138,   0],\n",
       "       [  0,   0,   0,   0,   0, 146]])"
      ]
     },
     "execution_count": 343,
     "metadata": {},
     "output_type": "execute_result"
    }
   ],
   "source": [
    "confusion_matrix(y_test, et_preds)"
   ]
  },
  {
   "cell_type": "code",
   "execution_count": null,
   "metadata": {},
   "outputs": [],
   "source": [
    "dot_data = StringIO()  \n",
    "\n",
    "export_graphviz(\n",
    "    model, \n",
    "    out_file = dot_data,  \n",
    "    filled=True, rounded=True, proportion=False,\n",
    "    special_characters=True, \n",
    "    feature_names=food_encoded.columns,\n",
    "    class_names=[\"Bacon\", \"Vegetable\"]\n",
    ")  \n",
    "\n",
    "graph = pydotplus.graph_from_dot_data(dot_data.getvalue())  \n",
    "\n",
    "Image(graph.create_png())  "
   ]
  },
  {
   "cell_type": "markdown",
   "metadata": {},
   "source": [
    "### PCA"
   ]
  },
  {
   "cell_type": "code",
   "execution_count": 350,
   "metadata": {},
   "outputs": [
    {
     "data": {
      "text/plain": [
       "PCA(copy=True, iterated_power='auto', n_components=None, random_state=None,\n",
       "  svd_solver='auto', tol=0.0, whiten=False)"
      ]
     },
     "execution_count": 350,
     "metadata": {},
     "output_type": "execute_result"
    }
   ],
   "source": [
    "# Instantiate PCA\n",
    "pca = PCA()\n",
    "\n",
    "# Fit PCA\n",
    "pca.fit(X_train_sc)"
   ]
  },
  {
   "cell_type": "code",
   "execution_count": 351,
   "metadata": {},
   "outputs": [],
   "source": [
    "# Create Z_train.\n",
    "Z_train = pca.transform(X_train_sc)"
   ]
  },
  {
   "cell_type": "code",
   "execution_count": 352,
   "metadata": {},
   "outputs": [],
   "source": [
    "# Create Z_test.\n",
    "Z_test = pca.transform(X_test_sc)"
   ]
  },
  {
   "cell_type": "code",
   "execution_count": 353,
   "metadata": {},
   "outputs": [],
   "source": [
    "# import seaborn as sns\n",
    "# sns.pairplot(X_train)\n",
    "# sns.pairplot(Z_train)"
   ]
  },
  {
   "cell_type": "code",
   "execution_count": 354,
   "metadata": {},
   "outputs": [
    {
     "name": "stdout",
     "output_type": "stream",
     "text": [
      "Explained variance:\n",
      " [4.71214370e-02 3.60645488e-02 2.69483411e-02 ... 3.44986302e-35\n",
      " 3.39262944e-35 3.04850334e-36]\n"
     ]
    }
   ],
   "source": [
    "# Examine explained variance.\n",
    "var_exp = pca.explained_variance_ratio_\n",
    "print('Explained variance:\\n', var_exp)"
   ]
  },
  {
   "cell_type": "code",
   "execution_count": 355,
   "metadata": {},
   "outputs": [
    {
     "name": "stdout",
     "output_type": "stream",
     "text": [
      "Cumulative explained variance:  [0.04712144 0.08318599 0.11013433 0.13119128 0.14700804 0.1603982\n",
      " 0.17071106 0.17991829 0.18868062 0.19687483 0.20413906 0.21108357\n",
      " 0.21766217 0.22406452 0.23028824 0.23615254 0.24182957 0.24727285\n",
      " 0.25238765 0.25731855 0.26189589 0.26638641 0.27078544 0.27507337\n",
      " 0.27898831 0.28285182 0.28664518 0.29031357 0.29385939 0.29735293\n",
      " 0.30077588 0.30408806 0.307353   0.31048702 0.31358217 0.31663603\n",
      " 0.31951889 0.32236274 0.32514288 0.32785589 0.33053962 0.33311215\n",
      " 0.33568262 0.33816691 0.34063757 0.34303476 0.34540646 0.34774765\n",
      " 0.35006143 0.35235217 0.35461167 0.35685515 0.35906952 0.36126462\n",
      " 0.36342535 0.36557131 0.36771276 0.36981801 0.37189923 0.37393954\n",
      " 0.37596054 0.37797166 0.37997079 0.38195508 0.38392595 0.38588038\n",
      " 0.38783208 0.38974903 0.39165096 0.39355002 0.3954291  0.39729797\n",
      " 0.39914876 0.40097802 0.40279861 0.40460084 0.40639407 0.40815792\n",
      " 0.40991317 0.41166592 0.4134076  0.41513284 0.41684671 0.41854162\n",
      " 0.42022903 0.42191311 0.4235708  0.42521462 0.42684309 0.42846369\n",
      " 0.43008279 0.43169487 0.43330002 0.43489831 0.43648469 0.43805874\n",
      " 0.43962851 0.44118602 0.44272936 0.44427074]\n"
     ]
    }
   ],
   "source": [
    "# Examine cumulative explained variance.\n",
    "cum_var_exp = np.cumsum(var_exp)\n",
    "print('Cumulative explained variance: ', cum_var_exp[:100])"
   ]
  },
  {
   "cell_type": "code",
   "execution_count": 356,
   "metadata": {},
   "outputs": [
    {
     "data": {
      "text/plain": [
       "PCA(copy=True, iterated_power='auto', n_components=None, random_state=None,\n",
       "  svd_solver='auto', tol=0.0, whiten=False)"
      ]
     },
     "execution_count": 356,
     "metadata": {},
     "output_type": "execute_result"
    }
   ],
   "source": [
    "pca_2 = PCA()\n",
    "\n",
    "# Fit PCA\n",
    "pca_2.fit(X_train)"
   ]
  },
  {
   "cell_type": "code",
   "execution_count": 358,
   "metadata": {},
   "outputs": [],
   "source": [
    "# Create Z_train.\n",
    "Z_train_2 = pca_2.transform(X_train)"
   ]
  },
  {
   "cell_type": "code",
   "execution_count": 359,
   "metadata": {},
   "outputs": [],
   "source": [
    "Z_test_2 = pca_2.transform(X_test)"
   ]
  },
  {
   "cell_type": "code",
   "execution_count": 360,
   "metadata": {},
   "outputs": [
    {
     "name": "stdout",
     "output_type": "stream",
     "text": [
      "Explained variance:\n",
      " [4.08600440e-01 2.32097579e-01 8.83606179e-02 ... 2.42398086e-33\n",
      " 1.13488826e-35 3.07669254e-36]\n"
     ]
    }
   ],
   "source": [
    "# Examine explained variance.\n",
    "var_exp_2 = pca_2.explained_variance_ratio_\n",
    "print('Explained variance:\\n', var_exp_2)"
   ]
  },
  {
   "cell_type": "code",
   "execution_count": 362,
   "metadata": {},
   "outputs": [
    {
     "name": "stdout",
     "output_type": "stream",
     "text": [
      "Cumulative explained variance:  [0.40860044 0.64069802 0.72905864 0.79942717 0.85332918 0.90207838\n",
      " 0.930866   0.9482099  0.96398027 0.97623165 0.98529133 0.98970295\n",
      " 0.99247686 0.99349058 0.99439273 0.9951157  0.99568302 0.99615672\n",
      " 0.99662698 0.99705074]\n"
     ]
    }
   ],
   "source": [
    "# Examine cumulative explained variance.\n",
    "cum_var_exp_2 = np.cumsum(var_exp_2)\n",
    "print('Cumulative explained variance: ', cum_var_exp_2[:20])"
   ]
  },
  {
   "cell_type": "code",
   "execution_count": 395,
   "metadata": {},
   "outputs": [
    {
     "data": {
      "image/png": "[encoded data removed]",
      "text/plain": [
       "<Figure size 648x504 with 1 Axes>"
      ]
     },
     "metadata": {
      "needs_background": "light"
     },
     "output_type": "display_data"
    }
   ],
   "source": [
    "plt.figure(figsize=(9,7))\n",
    "\n",
    "# HERE IS THE BASIC PLOT\n",
    "\n",
    "# Plot the explained variance\n",
    "component_number = range(len(var_exp))\n",
    "plt.plot(component_number, var_exp, lw=3)\n",
    "\n",
    "# NOW MAKE IT LOOK PRETTY\n",
    "\n",
    "# Add horizontal lines at y=0 and y=100\n",
    "plt.axhline(y=0, linewidth=1, color='grey', ls='dashed')\n",
    "plt.axhline(y=1, linewidth=1, color='grey', ls='dashed')\n",
    "\n",
    "# Set the x and y axis limits\n",
    "ax = plt.gca()\n",
    "ax.set_xlim([-1,26])\n",
    "ax.set_ylim([-0.05,1.05])\n",
    "\n",
    "# Label the axes\n",
    "ax.set_ylabel('variance explained', fontsize=16)\n",
    "ax.set_xlabel('component', fontsize=16)\n",
    "\n",
    "# Make the tick labels bigger\n",
    "for tick in ax.xaxis.get_major_ticks():\n",
    "    tick.label.set_fontsize(12) \n",
    "for tick in ax.yaxis.get_major_ticks():\n",
    "    tick.label.set_fontsize(12) \n",
    "    \n",
    "# Add title\n",
    "ax.set_title('Component vs Variance Explained\\n', fontsize=20)\n",
    "\n",
    "plt.show()"
   ]
  },
  {
   "cell_type": "code",
   "execution_count": 396,
   "metadata": {},
   "outputs": [
    {
     "data": {
      "image/png": "[encoded data removed]",
      "text/plain": [
       "<Figure size 648x504 with 1 Axes>"
      ]
     },
     "metadata": {
      "needs_background": "light"
     },
     "output_type": "display_data"
    }
   ],
   "source": [
    "plt.figure(figsize=(9,7))\n",
    "\n",
    "# HERE IS THE BASIC PLOT\n",
    "\n",
    "# Plot the cumulative explained variance\n",
    "component_number = range(len(cum_var_exp))\n",
    "plt.plot(component_number, cum_var_exp, lw=3)\n",
    "\n",
    "# NOW MAKE IT LOOK PRETTY\n",
    "\n",
    "# Add horizontal lines at y=0 and y=100\n",
    "plt.axhline(y=0, linewidth=1, color='grey', ls='dashed')\n",
    "plt.axhline(y=1, linewidth=1, color='grey', ls='dashed')\n",
    "\n",
    "# Set the x and y axis limits\n",
    "ax = plt.gca()\n",
    "ax.set_xlim([-1,26])\n",
    "ax.set_ylim([-0.05,1.05])\n",
    "\n",
    "# Label the axes\n",
    "ax.set_ylabel('cumulative variance explained', fontsize=16)\n",
    "ax.set_xlabel('component', fontsize=16)\n",
    "\n",
    "# Make the tick labels bigger\n",
    "for tick in ax.xaxis.get_major_ticks():\n",
    "    tick.label.set_fontsize(12) \n",
    "for tick in ax.yaxis.get_major_ticks():\n",
    "    tick.label.set_fontsize(12) \n",
    "    \n",
    "# Add title\n",
    "ax.set_title('Component vs Cumulative variance explained\\n', fontsize=20)\n",
    "\n",
    "plt.show()"
   ]
  },
  {
   "cell_type": "markdown",
   "metadata": {},
   "source": [
    "### Neural Network "
   ]
  },
  {
   "cell_type": "code",
   "execution_count": 374,
   "metadata": {},
   "outputs": [],
   "source": [
    "# One hot encode y target\n",
    "Y_train = to_categorical(y_train, 6)\n",
    "Y_test = to_categorical(y_test, 6)"
   ]
  },
  {
   "cell_type": "code",
   "execution_count": 377,
   "metadata": {},
   "outputs": [
    {
     "data": {
      "text/plain": [
       "array([[0., 1., 0., 0., 0., 0.],\n",
       "       [0., 0., 0., 1., 0., 0.],\n",
       "       [0., 1., 0., 0., 0., 0.],\n",
       "       ...,\n",
       "       [1., 0., 0., 0., 0., 0.],\n",
       "       [0., 0., 1., 0., 0., 0.],\n",
       "       [1., 0., 0., 0., 0., 0.]], dtype=float32)"
      ]
     },
     "execution_count": 377,
     "metadata": {},
     "output_type": "execute_result"
    }
   ],
   "source": [
    "# Take a look at how the Y target looks\n",
    "Y_train"
   ]
  },
  {
   "cell_type": "code",
   "execution_count": 381,
   "metadata": {},
   "outputs": [],
   "source": [
    "# Construct a neural network\n",
    "model = Sequential()\n",
    "\n",
    "# input and hidden layers\n",
    "model.add(Dense(50, activation='relu', input_dim=X_train_sc.shape[1]))\n",
    "model.add(Dropout(0.5))\n",
    "\n",
    "# For multiclass, same number of neurons as classes that we are predicting\n",
    "# softmax activation function\n",
    "model.add(Dense(6, activation='softmax'))\n",
    "\n",
    "# compile model\n",
    "model.compile(loss='categorical_crossentropy',\n",
    "              optimizer='adam',\n",
    "              metrics=['accuracy'])"
   ]
  },
  {
   "cell_type": "code",
   "execution_count": 382,
   "metadata": {},
   "outputs": [
    {
     "name": "stdout",
     "output_type": "stream",
     "text": [
      "Train on 3051 samples, validate on 1017 samples\n",
      "Epoch 1/30\n",
      "3051/3051 [==============================] - 1s 250us/step - loss: 0.7080 - acc: 0.7761 - val_loss: 0.2061 - val_acc: 0.9449\n",
      "Epoch 2/30\n",
      "3051/3051 [==============================] - 0s 113us/step - loss: 0.1707 - acc: 0.9554 - val_loss: 0.1563 - val_acc: 0.9597\n",
      "Epoch 3/30\n",
      "3051/3051 [==============================] - 0s 117us/step - loss: 0.1102 - acc: 0.9712 - val_loss: 0.1453 - val_acc: 0.9636\n",
      "Epoch 4/30\n",
      "3051/3051 [==============================] - 0s 117us/step - loss: 0.0626 - acc: 0.9820 - val_loss: 0.1443 - val_acc: 0.9666\n",
      "Epoch 5/30\n",
      "3051/3051 [==============================] - 0s 109us/step - loss: 0.0509 - acc: 0.9875 - val_loss: 0.1290 - val_acc: 0.9725\n",
      "Epoch 6/30\n",
      "3051/3051 [==============================] - 0s 114us/step - loss: 0.0372 - acc: 0.9921 - val_loss: 0.1353 - val_acc: 0.9735\n",
      "Epoch 7/30\n",
      "3051/3051 [==============================] - 0s 110us/step - loss: 0.0324 - acc: 0.9902 - val_loss: 0.1353 - val_acc: 0.9695\n",
      "Epoch 8/30\n",
      "3051/3051 [==============================] - 0s 109us/step - loss: 0.0265 - acc: 0.9938 - val_loss: 0.1458 - val_acc: 0.9705\n",
      "Epoch 9/30\n",
      "3051/3051 [==============================] - 0s 96us/step - loss: 0.0289 - acc: 0.9925 - val_loss: 0.1499 - val_acc: 0.9705\n",
      "Epoch 10/30\n",
      "3051/3051 [==============================] - 0s 89us/step - loss: 0.0212 - acc: 0.9964 - val_loss: 0.1514 - val_acc: 0.9715\n",
      "Epoch 11/30\n",
      "3051/3051 [==============================] - 0s 90us/step - loss: 0.0284 - acc: 0.9954 - val_loss: 0.1587 - val_acc: 0.9705\n",
      "Epoch 12/30\n",
      "3051/3051 [==============================] - 0s 90us/step - loss: 0.0212 - acc: 0.9964 - val_loss: 0.1515 - val_acc: 0.9754\n",
      "Epoch 13/30\n",
      "3051/3051 [==============================] - 0s 91us/step - loss: 0.0165 - acc: 0.9977 - val_loss: 0.1504 - val_acc: 0.9725\n",
      "Epoch 14/30\n",
      "3051/3051 [==============================] - 0s 90us/step - loss: 0.0167 - acc: 0.9967 - val_loss: 0.1616 - val_acc: 0.9705\n",
      "Epoch 15/30\n",
      "3051/3051 [==============================] - 0s 90us/step - loss: 0.0127 - acc: 0.9967 - val_loss: 0.1802 - val_acc: 0.9744\n",
      "Epoch 16/30\n",
      "3051/3051 [==============================] - 0s 89us/step - loss: 0.0155 - acc: 0.9967 - val_loss: 0.1718 - val_acc: 0.9744\n",
      "Epoch 17/30\n",
      "3051/3051 [==============================] - 0s 94us/step - loss: 0.0185 - acc: 0.9957 - val_loss: 0.1772 - val_acc: 0.9774\n",
      "Epoch 18/30\n",
      "3051/3051 [==============================] - 0s 125us/step - loss: 0.0191 - acc: 0.9957 - val_loss: 0.1761 - val_acc: 0.9754\n",
      "Epoch 19/30\n",
      "3051/3051 [==============================] - 0s 111us/step - loss: 0.0171 - acc: 0.9954 - val_loss: 0.1786 - val_acc: 0.9744\n",
      "Epoch 20/30\n",
      "3051/3051 [==============================] - 0s 123us/step - loss: 0.0194 - acc: 0.9967 - val_loss: 0.1866 - val_acc: 0.9725\n",
      "Epoch 21/30\n",
      "3051/3051 [==============================] - 0s 110us/step - loss: 0.0142 - acc: 0.9967 - val_loss: 0.1670 - val_acc: 0.9744\n",
      "Epoch 22/30\n",
      "3051/3051 [==============================] - 0s 112us/step - loss: 0.0091 - acc: 0.9980 - val_loss: 0.1658 - val_acc: 0.9744\n",
      "Epoch 23/30\n",
      "3051/3051 [==============================] - 0s 109us/step - loss: 0.0096 - acc: 0.9987 - val_loss: 0.1746 - val_acc: 0.9735\n",
      "Epoch 24/30\n",
      "3051/3051 [==============================] - 0s 115us/step - loss: 0.0127 - acc: 0.9974 - val_loss: 0.1639 - val_acc: 0.9725\n",
      "Epoch 25/30\n",
      "3051/3051 [==============================] - 0s 107us/step - loss: 0.0127 - acc: 0.9980 - val_loss: 0.1686 - val_acc: 0.9735\n",
      "Epoch 26/30\n",
      "3051/3051 [==============================] - 0s 111us/step - loss: 0.0122 - acc: 0.9977 - val_loss: 0.1680 - val_acc: 0.9744\n",
      "Epoch 27/30\n",
      "3051/3051 [==============================] - 0s 119us/step - loss: 0.0111 - acc: 0.9984 - val_loss: 0.1800 - val_acc: 0.9744\n",
      "Epoch 28/30\n",
      "3051/3051 [==============================] - 0s 120us/step - loss: 0.0188 - acc: 0.9964 - val_loss: 0.1823 - val_acc: 0.9735\n",
      "Epoch 29/30\n",
      "3051/3051 [==============================] - 0s 112us/step - loss: 0.0143 - acc: 0.9977 - val_loss: 0.1810 - val_acc: 0.9735\n",
      "Epoch 30/30\n",
      "3051/3051 [==============================] - 0s 113us/step - loss: 0.0099 - acc: 0.9977 - val_loss: 0.1806 - val_acc: 0.9764\n"
     ]
    }
   ],
   "source": [
    "nn = model.fit(X_train_sc, Y_train, epochs=30, validation_data=(X_test_sc, Y_test))"
   ]
  },
  {
   "cell_type": "code",
   "execution_count": 383,
   "metadata": {},
   "outputs": [
    {
     "data": {
      "text/plain": [
       "array([[4.0306690e-15, 1.3217106e-15, 1.0000000e+00, 1.1189658e-13,\n",
       "        1.4412955e-17, 1.4599388e-16],\n",
       "       [1.0000000e+00, 4.0612633e-13, 5.3612815e-15, 9.8624824e-12,\n",
       "        9.2429645e-13, 6.2004548e-16],\n",
       "       [5.6512880e-07, 4.4404261e-04, 9.9955493e-01, 2.5482203e-08,\n",
       "        1.1625414e-09, 4.9411517e-07],\n",
       "       ...,\n",
       "       [2.9452926e-06, 3.5390258e-08, 2.3066302e-07, 9.9999678e-01,\n",
       "        2.3008596e-08, 5.9669225e-10],\n",
       "       [3.5895595e-13, 1.1824834e-17, 1.7276267e-16, 1.0000000e+00,\n",
       "        1.5453270e-12, 2.8073267e-18],\n",
       "       [8.5813452e-05, 9.9989593e-01, 8.8576729e-07, 2.3793961e-08,\n",
       "        1.7347518e-05, 3.2512318e-08]], dtype=float32)"
      ]
     },
     "execution_count": 383,
     "metadata": {},
     "output_type": "execute_result"
    }
   ],
   "source": [
    "model.predict(X_test_sc)"
   ]
  },
  {
   "cell_type": "code",
   "execution_count": 384,
   "metadata": {},
   "outputs": [
    {
     "data": {
      "text/plain": [
       "array([2, 0, 2, ..., 3, 3, 1])"
      ]
     },
     "execution_count": 384,
     "metadata": {},
     "output_type": "execute_result"
    }
   ],
   "source": [
    "# index for the largest number from each row gives class prediction\n",
    "model.predict(X_test_sc).argmax(axis=1)"
   ]
  },
  {
   "cell_type": "code",
   "execution_count": 386,
   "metadata": {},
   "outputs": [],
   "source": [
    "# nn.history"
   ]
  },
  {
   "cell_type": "code",
   "execution_count": 387,
   "metadata": {},
   "outputs": [],
   "source": [
    "Y_test_classes = np.argmax(Y_test, axis=1)"
   ]
  },
  {
   "cell_type": "code",
   "execution_count": 388,
   "metadata": {},
   "outputs": [
    {
     "data": {
      "text/plain": [
       "array([2, 0, 2, ..., 3, 3, 1])"
      ]
     },
     "execution_count": 388,
     "metadata": {},
     "output_type": "execute_result"
    }
   ],
   "source": [
    "Y_test_classes"
   ]
  },
  {
   "cell_type": "code",
   "execution_count": 389,
   "metadata": {},
   "outputs": [
    {
     "data": {
      "text/plain": [
       "array([[288,   1,   1,   0,   3,   1],\n",
       "       [  3, 124,   0,   1,   0,   1],\n",
       "       [  0,   0, 144,   1,   1,   0],\n",
       "       [  1,   2,   2, 155,   0,   0],\n",
       "       [  2,   4,   0,   0, 136,   0],\n",
       "       [  0,   0,   0,   0,   0, 146]])"
      ]
     },
     "execution_count": 389,
     "metadata": {},
     "output_type": "execute_result"
    }
   ],
   "source": [
    "nn_preds = model.predict_classes(X_test_sc)\n",
    "\n",
    "confusion_matrix(Y_test_classes, nn_preds)"
   ]
  },
  {
   "cell_type": "markdown",
   "metadata": {},
   "source": [
    "## Neural Network trained on PCA data"
   ]
  },
  {
   "cell_type": "code",
   "execution_count": null,
   "metadata": {},
   "outputs": [],
   "source": []
  }
 ],
 "metadata": {
  "kernelspec": {
   "display_name": "Python [conda env:dsi]",
   "language": "python",
   "name": "conda-env-dsi-py"
  },
  "language_info": {
   "codemirror_mode": {
    "name": "ipython",
    "version": 3
   },
   "file_extension": ".py",
   "mimetype": "text/x-python",
   "name": "python",
   "nbconvert_exporter": "python",
   "pygments_lexer": "ipython3",
   "version": "3.6.5"
  },
  "varInspector": {
   "cols": {
    "lenName": 16,
    "lenType": 16,
    "lenVar": 40
   },
   "kernels_config": {
    "python": {
     "delete_cmd_postfix": "",
     "delete_cmd_prefix": "del ",
     "library": "var_list.py",
     "varRefreshCmd": "print(var_dic_list())"
    },
    "r": {
     "delete_cmd_postfix": ") ",
     "delete_cmd_prefix": "rm(",
     "library": "var_list.r",
     "varRefreshCmd": "cat(var_dic_list()) "
    }
   },
   "types_to_exclude": [
    "module",
    "function",
    "builtin_function_or_method",
    "instance",
    "_Feature"
   ],
   "window_display": false
  }
 },
 "nbformat": 4,
 "nbformat_minor": 2
}
