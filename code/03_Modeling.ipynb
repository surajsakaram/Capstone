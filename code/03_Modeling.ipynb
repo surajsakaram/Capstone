{
 "cells": [
  {
   "cell_type": "markdown",
   "metadata": {},
   "source": [
    "## Modeling\n",
    "\n",
    "---\n",
    "\n",
    "### Objective: \n",
    "\n",
    "This notebook will seek to build a classification model to predict the tumor diagnosis."
   ]
  },
  {
   "cell_type": "markdown",
   "metadata": {},
   "source": [
    "## Import Libraries"
   ]
  },
  {
   "cell_type": "code",
   "execution_count": 1,
   "metadata": {},
   "outputs": [
    {
     "name": "stderr",
     "output_type": "stream",
     "text": [
      "/anaconda3/envs/dsi/lib/python3.6/site-packages/sklearn/ensemble/weight_boosting.py:29: DeprecationWarning: numpy.core.umath_tests is an internal NumPy module and should not be imported. It will be removed in a future NumPy release.\n",
      "  from numpy.core.umath_tests import inner1d\n",
      "Using TensorFlow backend.\n",
      "/anaconda3/envs/dsi/lib/python3.6/importlib/_bootstrap.py:219: ImportWarning: can't resolve package from __spec__ or __package__, falling back on __name__ and __path__\n",
      "  return f(*args, **kwds)\n",
      "/anaconda3/envs/dsi/lib/python3.6/site-packages/tensorflow/python/util/tf_inspect.py:75: DeprecationWarning: inspect.getargspec() is deprecated, use inspect.signature() or inspect.getfullargspec()\n",
      "  return _inspect.getargspec(target)\n",
      "/anaconda3/envs/dsi/lib/python3.6/site-packages/tensorflow/python/keras/backend.py:4900: ResourceWarning: unclosed file <_io.TextIOWrapper name='/Users/surajsakaram/.keras/keras.json' mode='r' encoding='utf-8'>\n",
      "  _config = json.load(open(_config_path))\n"
     ]
    }
   ],
   "source": [
    "import pandas as pd\n",
    "import numpy as np\n",
    "import matplotlib.pyplot as plt\n",
    "import os\n",
    "import seaborn as sns\n",
    "%matplotlib inline\n",
    "\n",
    "from sklearn.model_selection import train_test_split, cross_val_score\n",
    "from sklearn.preprocessing import StandardScaler\n",
    "from sklearn.linear_model import LogisticRegression\n",
    "from sklearn.ensemble import RandomForestClassifier\n",
    "from sklearn.ensemble import ExtraTreesClassifier\n",
    "from sklearn.decomposition import PCA\n",
    "from pactools.grid_search import GridSearchCVProgressBar\n",
    "from sklearn.metrics import confusion_matrix\n",
    "from sklearn.externals.six import StringIO\n",
    "\n",
    "from keras.models import Sequential\n",
    "from keras.layers import Dense, Dropout\n",
    "from keras.utils import to_categorical # only for multiclass problems"
   ]
  },
  {
   "cell_type": "markdown",
   "metadata": {},
   "source": [
    "## Load dataset"
   ]
  },
  {
   "cell_type": "code",
   "execution_count": 2,
   "metadata": {},
   "outputs": [],
   "source": [
    "directory = '/Users/surajsakaram/GA_DSI/capstone/'\n",
    "os.chdir(directory)"
   ]
  },
  {
   "cell_type": "code",
   "execution_count": 3,
   "metadata": {},
   "outputs": [
    {
     "data": {
      "text/html": [
       "<div>\n",
       "<style scoped>\n",
       "    .dataframe tbody tr th:only-of-type {\n",
       "        vertical-align: middle;\n",
       "    }\n",
       "\n",
       "    .dataframe tbody tr th {\n",
       "        vertical-align: top;\n",
       "    }\n",
       "\n",
       "    .dataframe thead th {\n",
       "        text-align: right;\n",
       "    }\n",
       "</style>\n",
       "<table border=\"1\" class=\"dataframe\">\n",
       "  <thead>\n",
       "    <tr style=\"text-align: right;\">\n",
       "      <th></th>\n",
       "      <th>Unnamed: 0</th>\n",
       "      <th>hsa-let-7a-1</th>\n",
       "      <th>hsa-let-7a-2</th>\n",
       "      <th>hsa-let-7a-3</th>\n",
       "      <th>hsa-let-7b</th>\n",
       "      <th>hsa-let-7c</th>\n",
       "      <th>hsa-let-7d</th>\n",
       "      <th>hsa-let-7e</th>\n",
       "      <th>hsa-let-7f-1</th>\n",
       "      <th>hsa-let-7f-2</th>\n",
       "      <th>...</th>\n",
       "      <th>hsa-mir-942</th>\n",
       "      <th>hsa-mir-943</th>\n",
       "      <th>hsa-mir-944</th>\n",
       "      <th>hsa-mir-95</th>\n",
       "      <th>hsa-mir-9500</th>\n",
       "      <th>hsa-mir-96</th>\n",
       "      <th>hsa-mir-98</th>\n",
       "      <th>hsa-mir-99a</th>\n",
       "      <th>hsa-mir-99b</th>\n",
       "      <th>Project ID</th>\n",
       "    </tr>\n",
       "  </thead>\n",
       "  <tbody>\n",
       "    <tr>\n",
       "      <th>0</th>\n",
       "      <td>dc8d96ef-81eb-41c8-a486-02d107c1a137</td>\n",
       "      <td>3530.574305</td>\n",
       "      <td>3545.647914</td>\n",
       "      <td>3516.338118</td>\n",
       "      <td>13112.365384</td>\n",
       "      <td>1015.793793</td>\n",
       "      <td>380.189927</td>\n",
       "      <td>608.806338</td>\n",
       "      <td>1039.241630</td>\n",
       "      <td>981.459460</td>\n",
       "      <td>...</td>\n",
       "      <td>2.512268</td>\n",
       "      <td>0.000000</td>\n",
       "      <td>1.674845</td>\n",
       "      <td>2.512268</td>\n",
       "      <td>0.0</td>\n",
       "      <td>66.993820</td>\n",
       "      <td>42.708560</td>\n",
       "      <td>217.729914</td>\n",
       "      <td>27493.426231</td>\n",
       "      <td>TCGA-BRCA</td>\n",
       "    </tr>\n",
       "    <tr>\n",
       "      <th>1</th>\n",
       "      <td>93b8bab9-acd8-4a5a-b4ba-ec52b2ab186b</td>\n",
       "      <td>5860.628124</td>\n",
       "      <td>5770.822052</td>\n",
       "      <td>5873.585219</td>\n",
       "      <td>32816.747358</td>\n",
       "      <td>2379.637523</td>\n",
       "      <td>226.078969</td>\n",
       "      <td>395.861593</td>\n",
       "      <td>940.953178</td>\n",
       "      <td>928.442879</td>\n",
       "      <td>...</td>\n",
       "      <td>1.787186</td>\n",
       "      <td>0.000000</td>\n",
       "      <td>4.021167</td>\n",
       "      <td>5.361557</td>\n",
       "      <td>0.0</td>\n",
       "      <td>35.296914</td>\n",
       "      <td>22.786615</td>\n",
       "      <td>702.363910</td>\n",
       "      <td>20079.922937</td>\n",
       "      <td>TCGA-BRCA</td>\n",
       "    </tr>\n",
       "    <tr>\n",
       "      <th>2</th>\n",
       "      <td>6d869125-0f2b-406a-a1aa-4b352b2247d3</td>\n",
       "      <td>12710.168915</td>\n",
       "      <td>12822.741990</td>\n",
       "      <td>12923.054631</td>\n",
       "      <td>8665.340311</td>\n",
       "      <td>504.349668</td>\n",
       "      <td>1599.429333</td>\n",
       "      <td>4876.308941</td>\n",
       "      <td>12166.251484</td>\n",
       "      <td>12349.600700</td>\n",
       "      <td>...</td>\n",
       "      <td>3.343755</td>\n",
       "      <td>1.114585</td>\n",
       "      <td>14.489604</td>\n",
       "      <td>3.343755</td>\n",
       "      <td>0.0</td>\n",
       "      <td>90.838669</td>\n",
       "      <td>136.536650</td>\n",
       "      <td>112.573075</td>\n",
       "      <td>43691.728108</td>\n",
       "      <td>TCGA-LUAD</td>\n",
       "    </tr>\n",
       "    <tr>\n",
       "      <th>3</th>\n",
       "      <td>41dbd6ab-871d-4ee4-be13-392b4995f6ce</td>\n",
       "      <td>8612.209891</td>\n",
       "      <td>8453.920962</td>\n",
       "      <td>8830.260967</td>\n",
       "      <td>33663.855692</td>\n",
       "      <td>1540.894268</td>\n",
       "      <td>810.826963</td>\n",
       "      <td>2251.579255</td>\n",
       "      <td>814.057349</td>\n",
       "      <td>780.138293</td>\n",
       "      <td>...</td>\n",
       "      <td>3.230386</td>\n",
       "      <td>0.000000</td>\n",
       "      <td>1.615193</td>\n",
       "      <td>1.615193</td>\n",
       "      <td>0.0</td>\n",
       "      <td>46.840601</td>\n",
       "      <td>50.070988</td>\n",
       "      <td>486.173139</td>\n",
       "      <td>133458.564642</td>\n",
       "      <td>TCGA-BRCA</td>\n",
       "    </tr>\n",
       "    <tr>\n",
       "      <th>4</th>\n",
       "      <td>322badf4-b70d-4f90-ac44-d2f30e52f03c</td>\n",
       "      <td>10317.399990</td>\n",
       "      <td>10054.249488</td>\n",
       "      <td>10189.749276</td>\n",
       "      <td>24500.675020</td>\n",
       "      <td>3229.273903</td>\n",
       "      <td>632.470045</td>\n",
       "      <td>1026.989244</td>\n",
       "      <td>3458.962567</td>\n",
       "      <td>3501.099696</td>\n",
       "      <td>...</td>\n",
       "      <td>1.652436</td>\n",
       "      <td>0.413109</td>\n",
       "      <td>0.413109</td>\n",
       "      <td>0.826218</td>\n",
       "      <td>0.0</td>\n",
       "      <td>0.413109</td>\n",
       "      <td>65.684348</td>\n",
       "      <td>703.524812</td>\n",
       "      <td>32382.383706</td>\n",
       "      <td>TCGA-KIRC</td>\n",
       "    </tr>\n",
       "  </tbody>\n",
       "</table>\n",
       "<p>5 rows × 1883 columns</p>\n",
       "</div>"
      ],
      "text/plain": [
       "                             Unnamed: 0  hsa-let-7a-1  hsa-let-7a-2  \\\n",
       "0  dc8d96ef-81eb-41c8-a486-02d107c1a137   3530.574305   3545.647914   \n",
       "1  93b8bab9-acd8-4a5a-b4ba-ec52b2ab186b   5860.628124   5770.822052   \n",
       "2  6d869125-0f2b-406a-a1aa-4b352b2247d3  12710.168915  12822.741990   \n",
       "3  41dbd6ab-871d-4ee4-be13-392b4995f6ce   8612.209891   8453.920962   \n",
       "4  322badf4-b70d-4f90-ac44-d2f30e52f03c  10317.399990  10054.249488   \n",
       "\n",
       "   hsa-let-7a-3    hsa-let-7b   hsa-let-7c   hsa-let-7d   hsa-let-7e  \\\n",
       "0   3516.338118  13112.365384  1015.793793   380.189927   608.806338   \n",
       "1   5873.585219  32816.747358  2379.637523   226.078969   395.861593   \n",
       "2  12923.054631   8665.340311   504.349668  1599.429333  4876.308941   \n",
       "3   8830.260967  33663.855692  1540.894268   810.826963  2251.579255   \n",
       "4  10189.749276  24500.675020  3229.273903   632.470045  1026.989244   \n",
       "\n",
       "   hsa-let-7f-1  hsa-let-7f-2     ...      hsa-mir-942  hsa-mir-943  \\\n",
       "0   1039.241630    981.459460     ...         2.512268     0.000000   \n",
       "1    940.953178    928.442879     ...         1.787186     0.000000   \n",
       "2  12166.251484  12349.600700     ...         3.343755     1.114585   \n",
       "3    814.057349    780.138293     ...         3.230386     0.000000   \n",
       "4   3458.962567   3501.099696     ...         1.652436     0.413109   \n",
       "\n",
       "   hsa-mir-944  hsa-mir-95  hsa-mir-9500  hsa-mir-96  hsa-mir-98  hsa-mir-99a  \\\n",
       "0     1.674845    2.512268           0.0   66.993820   42.708560   217.729914   \n",
       "1     4.021167    5.361557           0.0   35.296914   22.786615   702.363910   \n",
       "2    14.489604    3.343755           0.0   90.838669  136.536650   112.573075   \n",
       "3     1.615193    1.615193           0.0   46.840601   50.070988   486.173139   \n",
       "4     0.413109    0.826218           0.0    0.413109   65.684348   703.524812   \n",
       "\n",
       "     hsa-mir-99b  Project ID  \n",
       "0   27493.426231   TCGA-BRCA  \n",
       "1   20079.922937   TCGA-BRCA  \n",
       "2   43691.728108   TCGA-LUAD  \n",
       "3  133458.564642   TCGA-BRCA  \n",
       "4   32382.383706   TCGA-KIRC  \n",
       "\n",
       "[5 rows x 1883 columns]"
      ]
     },
     "execution_count": 3,
     "metadata": {},
     "output_type": "execute_result"
    }
   ],
   "source": [
    "# Load dataset\n",
    "df = pd.read_csv('./data/expression.csv')\n",
    "df.head()"
   ]
  },
  {
   "cell_type": "code",
   "execution_count": 4,
   "metadata": {},
   "outputs": [
    {
     "data": {
      "text/html": [
       "<div>\n",
       "<style scoped>\n",
       "    .dataframe tbody tr th:only-of-type {\n",
       "        vertical-align: middle;\n",
       "    }\n",
       "\n",
       "    .dataframe tbody tr th {\n",
       "        vertical-align: top;\n",
       "    }\n",
       "\n",
       "    .dataframe thead th {\n",
       "        text-align: right;\n",
       "    }\n",
       "</style>\n",
       "<table border=\"1\" class=\"dataframe\">\n",
       "  <thead>\n",
       "    <tr style=\"text-align: right;\">\n",
       "      <th></th>\n",
       "      <th>hsa-let-7a-1</th>\n",
       "      <th>hsa-let-7a-2</th>\n",
       "      <th>hsa-let-7a-3</th>\n",
       "      <th>hsa-let-7b</th>\n",
       "      <th>hsa-let-7c</th>\n",
       "      <th>hsa-let-7d</th>\n",
       "      <th>hsa-let-7e</th>\n",
       "      <th>hsa-let-7f-1</th>\n",
       "      <th>hsa-let-7f-2</th>\n",
       "      <th>hsa-let-7g</th>\n",
       "      <th>...</th>\n",
       "      <th>hsa-mir-942</th>\n",
       "      <th>hsa-mir-943</th>\n",
       "      <th>hsa-mir-944</th>\n",
       "      <th>hsa-mir-95</th>\n",
       "      <th>hsa-mir-9500</th>\n",
       "      <th>hsa-mir-96</th>\n",
       "      <th>hsa-mir-98</th>\n",
       "      <th>hsa-mir-99a</th>\n",
       "      <th>hsa-mir-99b</th>\n",
       "      <th>Project ID</th>\n",
       "    </tr>\n",
       "    <tr>\n",
       "      <th></th>\n",
       "      <th></th>\n",
       "      <th></th>\n",
       "      <th></th>\n",
       "      <th></th>\n",
       "      <th></th>\n",
       "      <th></th>\n",
       "      <th></th>\n",
       "      <th></th>\n",
       "      <th></th>\n",
       "      <th></th>\n",
       "      <th></th>\n",
       "      <th></th>\n",
       "      <th></th>\n",
       "      <th></th>\n",
       "      <th></th>\n",
       "      <th></th>\n",
       "      <th></th>\n",
       "      <th></th>\n",
       "      <th></th>\n",
       "      <th></th>\n",
       "      <th></th>\n",
       "    </tr>\n",
       "  </thead>\n",
       "  <tbody>\n",
       "    <tr>\n",
       "      <th>dc8d96ef-81eb-41c8-a486-02d107c1a137</th>\n",
       "      <td>3530.574305</td>\n",
       "      <td>3545.647914</td>\n",
       "      <td>3516.338118</td>\n",
       "      <td>13112.365384</td>\n",
       "      <td>1015.793793</td>\n",
       "      <td>380.189927</td>\n",
       "      <td>608.806338</td>\n",
       "      <td>1039.241630</td>\n",
       "      <td>981.459460</td>\n",
       "      <td>285.561157</td>\n",
       "      <td>...</td>\n",
       "      <td>2.512268</td>\n",
       "      <td>0.000000</td>\n",
       "      <td>1.674845</td>\n",
       "      <td>2.512268</td>\n",
       "      <td>0.0</td>\n",
       "      <td>66.993820</td>\n",
       "      <td>42.708560</td>\n",
       "      <td>217.729914</td>\n",
       "      <td>27493.426231</td>\n",
       "      <td>TCGA-BRCA</td>\n",
       "    </tr>\n",
       "    <tr>\n",
       "      <th>93b8bab9-acd8-4a5a-b4ba-ec52b2ab186b</th>\n",
       "      <td>5860.628124</td>\n",
       "      <td>5770.822052</td>\n",
       "      <td>5873.585219</td>\n",
       "      <td>32816.747358</td>\n",
       "      <td>2379.637523</td>\n",
       "      <td>226.078969</td>\n",
       "      <td>395.861593</td>\n",
       "      <td>940.953178</td>\n",
       "      <td>928.442879</td>\n",
       "      <td>180.505738</td>\n",
       "      <td>...</td>\n",
       "      <td>1.787186</td>\n",
       "      <td>0.000000</td>\n",
       "      <td>4.021167</td>\n",
       "      <td>5.361557</td>\n",
       "      <td>0.0</td>\n",
       "      <td>35.296914</td>\n",
       "      <td>22.786615</td>\n",
       "      <td>702.363910</td>\n",
       "      <td>20079.922937</td>\n",
       "      <td>TCGA-BRCA</td>\n",
       "    </tr>\n",
       "    <tr>\n",
       "      <th>6d869125-0f2b-406a-a1aa-4b352b2247d3</th>\n",
       "      <td>12710.168915</td>\n",
       "      <td>12822.741990</td>\n",
       "      <td>12923.054631</td>\n",
       "      <td>8665.340311</td>\n",
       "      <td>504.349668</td>\n",
       "      <td>1599.429333</td>\n",
       "      <td>4876.308941</td>\n",
       "      <td>12166.251484</td>\n",
       "      <td>12349.600700</td>\n",
       "      <td>2128.299868</td>\n",
       "      <td>...</td>\n",
       "      <td>3.343755</td>\n",
       "      <td>1.114585</td>\n",
       "      <td>14.489604</td>\n",
       "      <td>3.343755</td>\n",
       "      <td>0.0</td>\n",
       "      <td>90.838669</td>\n",
       "      <td>136.536650</td>\n",
       "      <td>112.573075</td>\n",
       "      <td>43691.728108</td>\n",
       "      <td>TCGA-LUAD</td>\n",
       "    </tr>\n",
       "  </tbody>\n",
       "</table>\n",
       "<p>3 rows × 1882 columns</p>\n",
       "</div>"
      ],
      "text/plain": [
       "                                      hsa-let-7a-1  hsa-let-7a-2  \\\n",
       "                                                                   \n",
       "dc8d96ef-81eb-41c8-a486-02d107c1a137   3530.574305   3545.647914   \n",
       "93b8bab9-acd8-4a5a-b4ba-ec52b2ab186b   5860.628124   5770.822052   \n",
       "6d869125-0f2b-406a-a1aa-4b352b2247d3  12710.168915  12822.741990   \n",
       "\n",
       "                                      hsa-let-7a-3    hsa-let-7b   hsa-let-7c  \\\n",
       "                                                                                \n",
       "dc8d96ef-81eb-41c8-a486-02d107c1a137   3516.338118  13112.365384  1015.793793   \n",
       "93b8bab9-acd8-4a5a-b4ba-ec52b2ab186b   5873.585219  32816.747358  2379.637523   \n",
       "6d869125-0f2b-406a-a1aa-4b352b2247d3  12923.054631   8665.340311   504.349668   \n",
       "\n",
       "                                       hsa-let-7d   hsa-let-7e  hsa-let-7f-1  \\\n",
       "                                                                               \n",
       "dc8d96ef-81eb-41c8-a486-02d107c1a137   380.189927   608.806338   1039.241630   \n",
       "93b8bab9-acd8-4a5a-b4ba-ec52b2ab186b   226.078969   395.861593    940.953178   \n",
       "6d869125-0f2b-406a-a1aa-4b352b2247d3  1599.429333  4876.308941  12166.251484   \n",
       "\n",
       "                                      hsa-let-7f-2   hsa-let-7g     ...      \\\n",
       "                                                                    ...       \n",
       "dc8d96ef-81eb-41c8-a486-02d107c1a137    981.459460   285.561157     ...       \n",
       "93b8bab9-acd8-4a5a-b4ba-ec52b2ab186b    928.442879   180.505738     ...       \n",
       "6d869125-0f2b-406a-a1aa-4b352b2247d3  12349.600700  2128.299868     ...       \n",
       "\n",
       "                                      hsa-mir-942  hsa-mir-943  hsa-mir-944  \\\n",
       "                                                                              \n",
       "dc8d96ef-81eb-41c8-a486-02d107c1a137     2.512268     0.000000     1.674845   \n",
       "93b8bab9-acd8-4a5a-b4ba-ec52b2ab186b     1.787186     0.000000     4.021167   \n",
       "6d869125-0f2b-406a-a1aa-4b352b2247d3     3.343755     1.114585    14.489604   \n",
       "\n",
       "                                      hsa-mir-95  hsa-mir-9500  hsa-mir-96  \\\n",
       "                                                                             \n",
       "dc8d96ef-81eb-41c8-a486-02d107c1a137    2.512268           0.0   66.993820   \n",
       "93b8bab9-acd8-4a5a-b4ba-ec52b2ab186b    5.361557           0.0   35.296914   \n",
       "6d869125-0f2b-406a-a1aa-4b352b2247d3    3.343755           0.0   90.838669   \n",
       "\n",
       "                                      hsa-mir-98  hsa-mir-99a   hsa-mir-99b  \\\n",
       "                                                                              \n",
       "dc8d96ef-81eb-41c8-a486-02d107c1a137   42.708560   217.729914  27493.426231   \n",
       "93b8bab9-acd8-4a5a-b4ba-ec52b2ab186b   22.786615   702.363910  20079.922937   \n",
       "6d869125-0f2b-406a-a1aa-4b352b2247d3  136.536650   112.573075  43691.728108   \n",
       "\n",
       "                                      Project ID  \n",
       "                                                  \n",
       "dc8d96ef-81eb-41c8-a486-02d107c1a137   TCGA-BRCA  \n",
       "93b8bab9-acd8-4a5a-b4ba-ec52b2ab186b   TCGA-BRCA  \n",
       "6d869125-0f2b-406a-a1aa-4b352b2247d3   TCGA-LUAD  \n",
       "\n",
       "[3 rows x 1882 columns]"
      ]
     },
     "execution_count": 4,
     "metadata": {},
     "output_type": "execute_result"
    }
   ],
   "source": [
    "df.set_index('Unnamed: 0', inplace=True)\n",
    "df.index.name = ''\n",
    "df.head(3)"
   ]
  },
  {
   "cell_type": "markdown",
   "metadata": {},
   "source": [
    "## Convert Label to Numerical Classes"
   ]
  },
  {
   "cell_type": "code",
   "execution_count": 5,
   "metadata": {
    "scrolled": true
   },
   "outputs": [
    {
     "data": {
      "text/plain": [
       "array(['TCGA-BRCA', 'TCGA-LUAD', 'TCGA-KIRC', 'TCGA-UCEC', 'TCGA-HNSC',\n",
       "       'TCGA-LGG'], dtype=object)"
      ]
     },
     "execution_count": 5,
     "metadata": {},
     "output_type": "execute_result"
    }
   ],
   "source": [
    "labels = df['Project ID'].unique()\n",
    "labels"
   ]
  },
  {
   "cell_type": "code",
   "execution_count": 6,
   "metadata": {},
   "outputs": [],
   "source": [
    "label_dict = {}\n",
    "for i, val in enumerate(labels):\n",
    "    label_dict[val] = i"
   ]
  },
  {
   "cell_type": "code",
   "execution_count": 7,
   "metadata": {},
   "outputs": [
    {
     "data": {
      "text/plain": [
       "{'TCGA-BRCA': 0,\n",
       " 'TCGA-LUAD': 1,\n",
       " 'TCGA-KIRC': 2,\n",
       " 'TCGA-UCEC': 3,\n",
       " 'TCGA-HNSC': 4,\n",
       " 'TCGA-LGG': 5}"
      ]
     },
     "execution_count": 7,
     "metadata": {},
     "output_type": "execute_result"
    }
   ],
   "source": [
    "label_dict"
   ]
  },
  {
   "cell_type": "code",
   "execution_count": 8,
   "metadata": {},
   "outputs": [],
   "source": [
    "df['Project ID'] = df['Project ID'].apply(lambda x: label_dict[x])"
   ]
  },
  {
   "cell_type": "code",
   "execution_count": 9,
   "metadata": {},
   "outputs": [
    {
     "data": {
      "text/plain": [
       "\n",
       "dc8d96ef-81eb-41c8-a486-02d107c1a137    0\n",
       "93b8bab9-acd8-4a5a-b4ba-ec52b2ab186b    0\n",
       "6d869125-0f2b-406a-a1aa-4b352b2247d3    1\n",
       "41dbd6ab-871d-4ee4-be13-392b4995f6ce    0\n",
       "322badf4-b70d-4f90-ac44-d2f30e52f03c    2\n",
       "Name: Project ID, dtype: int64"
      ]
     },
     "execution_count": 9,
     "metadata": {},
     "output_type": "execute_result"
    }
   ],
   "source": [
    "df['Project ID'].head()"
   ]
  },
  {
   "cell_type": "code",
   "execution_count": 10,
   "metadata": {},
   "outputs": [
    {
     "data": {
      "text/plain": [
       "array([0, 0, 1, ..., 2, 5, 3])"
      ]
     },
     "execution_count": 10,
     "metadata": {},
     "output_type": "execute_result"
    }
   ],
   "source": [
    "df['Project ID'].values"
   ]
  },
  {
   "cell_type": "code",
   "execution_count": 11,
   "metadata": {},
   "outputs": [
    {
     "data": {
      "text/plain": [
       "(array([0, 1, 2, 3, 4, 5]), array([1207,  567,  616,  579,  569,  530]))"
      ]
     },
     "execution_count": 11,
     "metadata": {},
     "output_type": "execute_result"
    }
   ],
   "source": [
    "np.unique(df['Project ID'].values, return_counts=True)"
   ]
  },
  {
   "cell_type": "code",
   "execution_count": 13,
   "metadata": {},
   "outputs": [
    {
     "data": {
      "text/plain": [
       "Project ID    1.0\n",
       "Name: Project ID, dtype: float64"
      ]
     },
     "execution_count": 13,
     "metadata": {},
     "output_type": "execute_result"
    }
   ],
   "source": [
    "df.corr()['Project ID'][df.corr()['Project ID'] > 0.8]"
   ]
  },
  {
   "cell_type": "markdown",
   "metadata": {},
   "source": [
    "- This ensures that there are no miRNA features that are highly correlated with the Project ID column suggesting there is no data leakage."
   ]
  },
  {
   "cell_type": "markdown",
   "metadata": {},
   "source": [
    "## Modeling"
   ]
  },
  {
   "cell_type": "code",
   "execution_count": 14,
   "metadata": {},
   "outputs": [],
   "source": [
    "# define X and y\n",
    "\n",
    "features = [col for col in df.columns if col != 'Project ID']\n",
    "X = df[features]\n",
    "y = df['Project ID']"
   ]
  },
  {
   "cell_type": "markdown",
   "metadata": {},
   "source": [
    "- y has now become a one hot encoded matrix"
   ]
  },
  {
   "cell_type": "code",
   "execution_count": 15,
   "metadata": {},
   "outputs": [
    {
     "data": {
      "text/plain": [
       "((4068, 1881), (4068,))"
      ]
     },
     "execution_count": 15,
     "metadata": {},
     "output_type": "execute_result"
    }
   ],
   "source": [
    "X.shape, y.shape"
   ]
  },
  {
   "cell_type": "code",
   "execution_count": 16,
   "metadata": {},
   "outputs": [],
   "source": [
    "# Import Train/Test Split\n",
    "from sklearn.model_selection import train_test_split\n",
    "\n",
    "# Create Train/Test Split\n",
    "X_train, X_test, y_train, y_test = train_test_split(X, y, random_state = 42)"
   ]
  },
  {
   "cell_type": "code",
   "execution_count": 17,
   "metadata": {},
   "outputs": [],
   "source": [
    "# Scale your X \n",
    "ss = StandardScaler()\n",
    "ss.fit(X_train)\n",
    "\n",
    "X_train_sc = ss.transform(X_train)\n",
    "X_test_sc = ss.transform(X_test)"
   ]
  },
  {
   "cell_type": "code",
   "execution_count": 18,
   "metadata": {},
   "outputs": [
    {
     "data": {
      "text/plain": [
       "(3051, 1881)"
      ]
     },
     "execution_count": 18,
     "metadata": {},
     "output_type": "execute_result"
    }
   ],
   "source": [
    "X_train_sc.shape"
   ]
  },
  {
   "cell_type": "code",
   "execution_count": 19,
   "metadata": {},
   "outputs": [
    {
     "data": {
      "text/plain": [
       "(3051,)"
      ]
     },
     "execution_count": 19,
     "metadata": {},
     "output_type": "execute_result"
    }
   ],
   "source": [
    "y_train.shape"
   ]
  },
  {
   "cell_type": "code",
   "execution_count": 20,
   "metadata": {
    "scrolled": true
   },
   "outputs": [
    {
     "data": {
      "text/plain": [
       "array([[-0.13757605, -0.14375192, -0.12351748, ..., -0.552683  ,\n",
       "        -0.03246912,  0.1691514 ],\n",
       "       [-0.30854682, -0.30505   , -0.2986153 , ..., -0.5638275 ,\n",
       "        -0.48326232,  0.58302403],\n",
       "       [-0.83273596, -0.83861996, -0.83489927, ...,  0.25225785,\n",
       "        -0.30502236,  0.21626713],\n",
       "       ...,\n",
       "       [ 0.08036105,  0.08817088,  0.08380428, ...,  0.43370223,\n",
       "        -0.13140152, -0.77981768],\n",
       "       [-0.71270561, -0.70758186, -0.71647546, ..., -0.58155455,\n",
       "        -0.03542068,  0.12894171],\n",
       "       [ 1.96993151,  1.97419498,  1.963374  , ...,  0.65137751,\n",
       "        -0.37890986,  0.23677574]])"
      ]
     },
     "execution_count": 20,
     "metadata": {},
     "output_type": "execute_result"
    }
   ],
   "source": [
    "X_train_sc"
   ]
  },
  {
   "cell_type": "markdown",
   "metadata": {},
   "source": [
    "### Logistic Regression"
   ]
  },
  {
   "cell_type": "code",
   "execution_count": 21,
   "metadata": {},
   "outputs": [
    {
     "data": {
      "text/plain": [
       "LogisticRegression(C=1.0, class_weight=None, dual=False, fit_intercept=True,\n",
       "          intercept_scaling=1, max_iter=100, multi_class='multinomial',\n",
       "          n_jobs=1, penalty='l2', random_state=None, solver='lbfgs',\n",
       "          tol=0.0001, verbose=0, warm_start=False)"
      ]
     },
     "execution_count": 21,
     "metadata": {},
     "output_type": "execute_result"
    }
   ],
   "source": [
    "lr = LogisticRegression(solver='lbfgs', multi_class='multinomial')\n",
    "lr.fit(X_train_sc, y_train)"
   ]
  },
  {
   "cell_type": "code",
   "execution_count": 22,
   "metadata": {},
   "outputs": [
    {
     "data": {
      "text/plain": [
       "1.0"
      ]
     },
     "execution_count": 22,
     "metadata": {},
     "output_type": "execute_result"
    }
   ],
   "source": [
    "lr.score(X_train_sc, y_train)"
   ]
  },
  {
   "cell_type": "code",
   "execution_count": 23,
   "metadata": {},
   "outputs": [
    {
     "data": {
      "text/plain": [
       "0.9842696241560228"
      ]
     },
     "execution_count": 23,
     "metadata": {},
     "output_type": "execute_result"
    }
   ],
   "source": [
    "cross_val_score(lr, X_train_sc, y_train, cv=5).mean()"
   ]
  },
  {
   "cell_type": "code",
   "execution_count": 24,
   "metadata": {},
   "outputs": [
    {
     "data": {
      "text/plain": [
       "0.9783677482792527"
      ]
     },
     "execution_count": 24,
     "metadata": {},
     "output_type": "execute_result"
    }
   ],
   "source": [
    "lr.score(X_test_sc, y_test)"
   ]
  },
  {
   "cell_type": "code",
   "execution_count": 25,
   "metadata": {},
   "outputs": [],
   "source": [
    "lr_preds = lr.predict(X_test_sc)"
   ]
  },
  {
   "cell_type": "code",
   "execution_count": 26,
   "metadata": {},
   "outputs": [
    {
     "data": {
      "text/plain": [
       "array([[289,   1,   0,   1,   3,   0],\n",
       "       [  1, 126,   0,   1,   0,   1],\n",
       "       [  0,   1, 145,   0,   0,   0],\n",
       "       [  2,   3,   0, 151,   4,   0],\n",
       "       [  1,   3,   0,   0, 138,   0],\n",
       "       [  0,   0,   0,   0,   0, 146]])"
      ]
     },
     "execution_count": 26,
     "metadata": {},
     "output_type": "execute_result"
    }
   ],
   "source": [
    "confusion_matrix(y_test, lr_preds)"
   ]
  },
  {
   "cell_type": "code",
   "execution_count": 27,
   "metadata": {
    "scrolled": true
   },
   "outputs": [
    {
     "data": {
      "text/plain": [
       "array([0.23881852, 0.10168391, 0.10082234, 0.10835985, 0.10789963,\n",
       "       0.19674327, 0.1292244 , 0.16077615, 0.12295841, 0.18399198,\n",
       "       0.24678847, 0.12147705, 0.28559492, 0.18225985, 0.17281193,\n",
       "       0.17961587, 0.18395791, 0.20043588, 0.11687643, 0.13414158,\n",
       "       0.10519303, 0.19459565, 0.1347305 , 0.12126652, 0.15970139,\n",
       "       0.16862727, 0.17018686, 0.12761278, 0.11189176, 0.11251418,\n",
       "       0.11377226, 0.1519242 , 0.12147353, 0.112865  , 0.10896345,\n",
       "       0.16658013, 0.10161759, 0.11695528, 0.15375539, 0.10382468,\n",
       "       0.10461339, 0.14891973, 0.10734115, 0.18881843, 0.14374623,\n",
       "       0.11658611, 0.10012036, 0.12645623, 0.15293333, 0.12304521,\n",
       "       0.2110715 , 0.14224413])"
      ]
     },
     "execution_count": 27,
     "metadata": {},
     "output_type": "execute_result"
    }
   ],
   "source": [
    "lr.coef_[0][lr.coef_[0] > 0.1]"
   ]
  },
  {
   "cell_type": "code",
   "execution_count": null,
   "metadata": {},
   "outputs": [],
   "source": []
  },
  {
   "cell_type": "code",
   "execution_count": 28,
   "metadata": {},
   "outputs": [],
   "source": [
    "masks = []\n",
    "for i in range(len(lr.coef_)):\n",
    "    masks.append(np.argsort(lr.coef_[i])[:-11:-1])\n"
   ]
  },
  {
   "cell_type": "code",
   "execution_count": 29,
   "metadata": {
    "scrolled": true
   },
   "outputs": [
    {
     "data": {
      "text/html": [
       "<div>\n",
       "<style scoped>\n",
       "    .dataframe tbody tr th:only-of-type {\n",
       "        vertical-align: middle;\n",
       "    }\n",
       "\n",
       "    .dataframe tbody tr th {\n",
       "        vertical-align: top;\n",
       "    }\n",
       "\n",
       "    .dataframe thead th {\n",
       "        text-align: right;\n",
       "    }\n",
       "</style>\n",
       "<table border=\"1\" class=\"dataframe\">\n",
       "  <thead>\n",
       "    <tr style=\"text-align: right;\">\n",
       "      <th></th>\n",
       "      <th>hsa-mir-146b</th>\n",
       "      <th>hsa-mir-4709</th>\n",
       "      <th>hsa-mir-511</th>\n",
       "      <th>hsa-mir-30d</th>\n",
       "      <th>hsa-mir-21</th>\n",
       "      <th>hsa-mir-3617</th>\n",
       "      <th>hsa-mir-100</th>\n",
       "      <th>hsa-mir-548b</th>\n",
       "      <th>hsa-mir-375</th>\n",
       "      <th>hsa-mir-4777</th>\n",
       "    </tr>\n",
       "    <tr>\n",
       "      <th></th>\n",
       "      <th></th>\n",
       "      <th></th>\n",
       "      <th></th>\n",
       "      <th></th>\n",
       "      <th></th>\n",
       "      <th></th>\n",
       "      <th></th>\n",
       "      <th></th>\n",
       "      <th></th>\n",
       "      <th></th>\n",
       "    </tr>\n",
       "  </thead>\n",
       "  <tbody>\n",
       "    <tr>\n",
       "      <th>dc8d96ef-81eb-41c8-a486-02d107c1a137</th>\n",
       "      <td>1090.324418</td>\n",
       "      <td>0.000000</td>\n",
       "      <td>0.837423</td>\n",
       "      <td>5992.597183</td>\n",
       "      <td>474300.333294</td>\n",
       "      <td>0.000000</td>\n",
       "      <td>1036.729362</td>\n",
       "      <td>0.000000</td>\n",
       "      <td>12841.877837</td>\n",
       "      <td>0.837423</td>\n",
       "    </tr>\n",
       "    <tr>\n",
       "      <th>93b8bab9-acd8-4a5a-b4ba-ec52b2ab186b</th>\n",
       "      <td>607.196281</td>\n",
       "      <td>0.446796</td>\n",
       "      <td>4.021167</td>\n",
       "      <td>8000.335991</td>\n",
       "      <td>297992.633221</td>\n",
       "      <td>0.000000</td>\n",
       "      <td>2452.465333</td>\n",
       "      <td>0.000000</td>\n",
       "      <td>1310.006988</td>\n",
       "      <td>0.000000</td>\n",
       "    </tr>\n",
       "    <tr>\n",
       "      <th>6d869125-0f2b-406a-a1aa-4b352b2247d3</th>\n",
       "      <td>1524.752144</td>\n",
       "      <td>0.557292</td>\n",
       "      <td>7.802094</td>\n",
       "      <td>10280.931124</td>\n",
       "      <td>289162.333718</td>\n",
       "      <td>1.114585</td>\n",
       "      <td>1980.060076</td>\n",
       "      <td>3.343755</td>\n",
       "      <td>49469.178941</td>\n",
       "      <td>0.557292</td>\n",
       "    </tr>\n",
       "    <tr>\n",
       "      <th>41dbd6ab-871d-4ee4-be13-392b4995f6ce</th>\n",
       "      <td>369.879232</td>\n",
       "      <td>0.000000</td>\n",
       "      <td>8.075966</td>\n",
       "      <td>9217.907323</td>\n",
       "      <td>160537.277850</td>\n",
       "      <td>0.000000</td>\n",
       "      <td>2574.617886</td>\n",
       "      <td>0.000000</td>\n",
       "      <td>63719.369881</td>\n",
       "      <td>0.000000</td>\n",
       "    </tr>\n",
       "    <tr>\n",
       "      <th>322badf4-b70d-4f90-ac44-d2f30e52f03c</th>\n",
       "      <td>171.853389</td>\n",
       "      <td>0.826218</td>\n",
       "      <td>5.370418</td>\n",
       "      <td>7974.658235</td>\n",
       "      <td>120586.548837</td>\n",
       "      <td>0.000000</td>\n",
       "      <td>1102.175102</td>\n",
       "      <td>0.413109</td>\n",
       "      <td>48.333766</td>\n",
       "      <td>0.413109</td>\n",
       "    </tr>\n",
       "    <tr>\n",
       "      <th>d681c69f-3020-463b-90c0-bd9435e3f216</th>\n",
       "      <td>265.575779</td>\n",
       "      <td>0.757826</td>\n",
       "      <td>2.862897</td>\n",
       "      <td>4810.761259</td>\n",
       "      <td>233315.563726</td>\n",
       "      <td>0.000000</td>\n",
       "      <td>2688.260094</td>\n",
       "      <td>0.336811</td>\n",
       "      <td>3942.798312</td>\n",
       "      <td>0.252609</td>\n",
       "    </tr>\n",
       "    <tr>\n",
       "      <th>28665a83-f3fe-4ebc-a421-2ab1b40ec796</th>\n",
       "      <td>279.752410</td>\n",
       "      <td>1.852665</td>\n",
       "      <td>16.056430</td>\n",
       "      <td>6069.947983</td>\n",
       "      <td>67816.183523</td>\n",
       "      <td>0.000000</td>\n",
       "      <td>3026.019444</td>\n",
       "      <td>0.617555</td>\n",
       "      <td>234.670896</td>\n",
       "      <td>0.000000</td>\n",
       "    </tr>\n",
       "    <tr>\n",
       "      <th>c5e98c47-acf7-4ebd-8674-3938bb4f5db7</th>\n",
       "      <td>3006.556265</td>\n",
       "      <td>0.000000</td>\n",
       "      <td>2.785396</td>\n",
       "      <td>10803.993366</td>\n",
       "      <td>346771.754081</td>\n",
       "      <td>0.000000</td>\n",
       "      <td>12190.563413</td>\n",
       "      <td>1.114158</td>\n",
       "      <td>196.648946</td>\n",
       "      <td>0.000000</td>\n",
       "    </tr>\n",
       "    <tr>\n",
       "      <th>c7fcb557-2a7c-41d2-92f1-7014b9f639d3</th>\n",
       "      <td>582.607712</td>\n",
       "      <td>1.930443</td>\n",
       "      <td>8.107861</td>\n",
       "      <td>5898.275690</td>\n",
       "      <td>329049.422817</td>\n",
       "      <td>0.000000</td>\n",
       "      <td>6315.251388</td>\n",
       "      <td>0.386089</td>\n",
       "      <td>26468.304635</td>\n",
       "      <td>0.000000</td>\n",
       "    </tr>\n",
       "    <tr>\n",
       "      <th>66b21435-28b2-4721-b0c5-a51a03990240</th>\n",
       "      <td>881.059823</td>\n",
       "      <td>1.087281</td>\n",
       "      <td>16.309211</td>\n",
       "      <td>5058.392412</td>\n",
       "      <td>109952.351734</td>\n",
       "      <td>0.000000</td>\n",
       "      <td>273.994746</td>\n",
       "      <td>0.000000</td>\n",
       "      <td>10830.040987</td>\n",
       "      <td>0.000000</td>\n",
       "    </tr>\n",
       "    <tr>\n",
       "      <th>38b76080-eeae-4c30-a6ec-955213c8c691</th>\n",
       "      <td>704.674340</td>\n",
       "      <td>1.847115</td>\n",
       "      <td>2.462820</td>\n",
       "      <td>20889.638270</td>\n",
       "      <td>166168.920506</td>\n",
       "      <td>0.000000</td>\n",
       "      <td>705.597897</td>\n",
       "      <td>0.000000</td>\n",
       "      <td>8641.419274</td>\n",
       "      <td>0.000000</td>\n",
       "    </tr>\n",
       "    <tr>\n",
       "      <th>3d8bdeaa-ea62-4bb8-89ec-ac38ac193ffc</th>\n",
       "      <td>504.344079</td>\n",
       "      <td>0.446520</td>\n",
       "      <td>3.572158</td>\n",
       "      <td>8255.257491</td>\n",
       "      <td>190380.847874</td>\n",
       "      <td>0.000000</td>\n",
       "      <td>2284.395139</td>\n",
       "      <td>0.893040</td>\n",
       "      <td>10.493215</td>\n",
       "      <td>0.223260</td>\n",
       "    </tr>\n",
       "    <tr>\n",
       "      <th>b81c2913-e110-44b3-8599-5e70d8d8cfbf</th>\n",
       "      <td>559.855739</td>\n",
       "      <td>0.650995</td>\n",
       "      <td>5.207960</td>\n",
       "      <td>7526.804721</td>\n",
       "      <td>132533.477420</td>\n",
       "      <td>0.000000</td>\n",
       "      <td>2567.524461</td>\n",
       "      <td>0.000000</td>\n",
       "      <td>30326.604215</td>\n",
       "      <td>0.000000</td>\n",
       "    </tr>\n",
       "    <tr>\n",
       "      <th>4f22ad5b-139e-4835-9be1-8806de694c3a</th>\n",
       "      <td>695.186826</td>\n",
       "      <td>0.635067</td>\n",
       "      <td>2.116890</td>\n",
       "      <td>6746.318198</td>\n",
       "      <td>310878.700060</td>\n",
       "      <td>0.211689</td>\n",
       "      <td>2422.357750</td>\n",
       "      <td>0.211689</td>\n",
       "      <td>1674.672041</td>\n",
       "      <td>0.000000</td>\n",
       "    </tr>\n",
       "    <tr>\n",
       "      <th>fabfc358-9e02-475a-8e17-82ee5786ae44</th>\n",
       "      <td>874.163478</td>\n",
       "      <td>0.275761</td>\n",
       "      <td>9.375886</td>\n",
       "      <td>7405.571041</td>\n",
       "      <td>231284.077209</td>\n",
       "      <td>0.000000</td>\n",
       "      <td>6189.187728</td>\n",
       "      <td>1.654568</td>\n",
       "      <td>1209.489279</td>\n",
       "      <td>0.000000</td>\n",
       "    </tr>\n",
       "    <tr>\n",
       "      <th>5d689a06-3dbe-4ae6-8fe1-d723bea5627b</th>\n",
       "      <td>3331.679501</td>\n",
       "      <td>0.000000</td>\n",
       "      <td>6.796572</td>\n",
       "      <td>40515.723869</td>\n",
       "      <td>57484.045048</td>\n",
       "      <td>0.000000</td>\n",
       "      <td>8101.513597</td>\n",
       "      <td>5.437257</td>\n",
       "      <td>164.477038</td>\n",
       "      <td>0.000000</td>\n",
       "    </tr>\n",
       "    <tr>\n",
       "      <th>4fc33c92-be6c-4239-8318-528527f49faf</th>\n",
       "      <td>161.829887</td>\n",
       "      <td>0.408661</td>\n",
       "      <td>0.408661</td>\n",
       "      <td>144280.743796</td>\n",
       "      <td>99516.798841</td>\n",
       "      <td>0.000000</td>\n",
       "      <td>2756.829344</td>\n",
       "      <td>0.817323</td>\n",
       "      <td>45483.597560</td>\n",
       "      <td>0.408661</td>\n",
       "    </tr>\n",
       "    <tr>\n",
       "      <th>fadf5601-d36f-481c-b5b5-4f3050603c75</th>\n",
       "      <td>74.675290</td>\n",
       "      <td>0.000000</td>\n",
       "      <td>0.912901</td>\n",
       "      <td>2202.282033</td>\n",
       "      <td>49036.834819</td>\n",
       "      <td>0.000000</td>\n",
       "      <td>5781.948883</td>\n",
       "      <td>0.730321</td>\n",
       "      <td>10.772230</td>\n",
       "      <td>0.182580</td>\n",
       "    </tr>\n",
       "    <tr>\n",
       "      <th>9c322d05-b8a2-43cf-a25e-7e90cf8e85fc</th>\n",
       "      <td>306.784502</td>\n",
       "      <td>0.671301</td>\n",
       "      <td>10.069513</td>\n",
       "      <td>4241.278962</td>\n",
       "      <td>133125.677594</td>\n",
       "      <td>0.000000</td>\n",
       "      <td>1919.249217</td>\n",
       "      <td>0.000000</td>\n",
       "      <td>1146.246253</td>\n",
       "      <td>0.000000</td>\n",
       "    </tr>\n",
       "    <tr>\n",
       "      <th>484e680f-8d37-4742-af5f-09b082cb7f15</th>\n",
       "      <td>622.466495</td>\n",
       "      <td>0.322354</td>\n",
       "      <td>8.381216</td>\n",
       "      <td>10628.027110</td>\n",
       "      <td>257369.426290</td>\n",
       "      <td>0.000000</td>\n",
       "      <td>2579.480526</td>\n",
       "      <td>0.322354</td>\n",
       "      <td>75.430948</td>\n",
       "      <td>0.000000</td>\n",
       "    </tr>\n",
       "    <tr>\n",
       "      <th>b9cec324-6497-4ce8-8483-df214ad8dec0</th>\n",
       "      <td>41.098826</td>\n",
       "      <td>0.092357</td>\n",
       "      <td>0.277071</td>\n",
       "      <td>1891.007762</td>\n",
       "      <td>5319.758099</td>\n",
       "      <td>0.000000</td>\n",
       "      <td>3004.370329</td>\n",
       "      <td>0.738855</td>\n",
       "      <td>3.509563</td>\n",
       "      <td>0.000000</td>\n",
       "    </tr>\n",
       "    <tr>\n",
       "      <th>fa2558ac-53c0-4743-b3a2-8e7bf0cfe89b</th>\n",
       "      <td>1583.598543</td>\n",
       "      <td>2.321311</td>\n",
       "      <td>45.497701</td>\n",
       "      <td>3624.031143</td>\n",
       "      <td>325057.394421</td>\n",
       "      <td>0.000000</td>\n",
       "      <td>3288.369534</td>\n",
       "      <td>1.392787</td>\n",
       "      <td>2228.923074</td>\n",
       "      <td>0.464262</td>\n",
       "    </tr>\n",
       "    <tr>\n",
       "      <th>2eebce51-c4fc-4b21-9ed0-8f2e14fc3e18</th>\n",
       "      <td>1103.312980</td>\n",
       "      <td>1.288616</td>\n",
       "      <td>18.813793</td>\n",
       "      <td>5828.925408</td>\n",
       "      <td>317721.407416</td>\n",
       "      <td>0.000000</td>\n",
       "      <td>2648.105786</td>\n",
       "      <td>0.773170</td>\n",
       "      <td>319.061310</td>\n",
       "      <td>0.000000</td>\n",
       "    </tr>\n",
       "    <tr>\n",
       "      <th>9d37685b-7c6d-4bf9-bb56-b68a19fa956a</th>\n",
       "      <td>922.336468</td>\n",
       "      <td>0.518749</td>\n",
       "      <td>12.968735</td>\n",
       "      <td>6656.073804</td>\n",
       "      <td>489229.983924</td>\n",
       "      <td>0.000000</td>\n",
       "      <td>2559.509637</td>\n",
       "      <td>0.518749</td>\n",
       "      <td>39128.749975</td>\n",
       "      <td>0.000000</td>\n",
       "    </tr>\n",
       "    <tr>\n",
       "      <th>a54bb971-d7e5-4989-9595-3fd9737cffa3</th>\n",
       "      <td>207.377954</td>\n",
       "      <td>1.516475</td>\n",
       "      <td>2.653831</td>\n",
       "      <td>9789.983379</td>\n",
       "      <td>77374.724002</td>\n",
       "      <td>0.000000</td>\n",
       "      <td>1541.117703</td>\n",
       "      <td>0.758237</td>\n",
       "      <td>22059.782477</td>\n",
       "      <td>0.000000</td>\n",
       "    </tr>\n",
       "    <tr>\n",
       "      <th>70d4200b-b990-4e35-a0ea-c47d323bdf48</th>\n",
       "      <td>1341.051776</td>\n",
       "      <td>0.769945</td>\n",
       "      <td>143.594750</td>\n",
       "      <td>4252.791436</td>\n",
       "      <td>248000.645214</td>\n",
       "      <td>0.192486</td>\n",
       "      <td>1151.452809</td>\n",
       "      <td>2.887294</td>\n",
       "      <td>103.172636</td>\n",
       "      <td>0.384973</td>\n",
       "    </tr>\n",
       "    <tr>\n",
       "      <th>bb765f2b-faf8-4ec5-8ceb-7afd1bcf0bb5</th>\n",
       "      <td>51.357051</td>\n",
       "      <td>0.000000</td>\n",
       "      <td>0.000000</td>\n",
       "      <td>2719.730502</td>\n",
       "      <td>6338.483538</td>\n",
       "      <td>0.000000</td>\n",
       "      <td>3878.279769</td>\n",
       "      <td>0.000000</td>\n",
       "      <td>51.539816</td>\n",
       "      <td>0.182765</td>\n",
       "    </tr>\n",
       "    <tr>\n",
       "      <th>6f3f3424-7daf-40f2-924d-96e04e7d4ca2</th>\n",
       "      <td>456.864798</td>\n",
       "      <td>1.616267</td>\n",
       "      <td>7.542579</td>\n",
       "      <td>5078.310829</td>\n",
       "      <td>452004.952242</td>\n",
       "      <td>0.269378</td>\n",
       "      <td>2298.601013</td>\n",
       "      <td>7.273201</td>\n",
       "      <td>1501.512018</td>\n",
       "      <td>0.000000</td>\n",
       "    </tr>\n",
       "    <tr>\n",
       "      <th>cebd233b-8463-4cc6-95c3-9150170b18de</th>\n",
       "      <td>543.862297</td>\n",
       "      <td>0.000000</td>\n",
       "      <td>3.152825</td>\n",
       "      <td>1549.219341</td>\n",
       "      <td>238578.596181</td>\n",
       "      <td>0.000000</td>\n",
       "      <td>2391.417695</td>\n",
       "      <td>2.758722</td>\n",
       "      <td>15066.562045</td>\n",
       "      <td>0.788206</td>\n",
       "    </tr>\n",
       "    <tr>\n",
       "      <th>e8ac2a44-ae19-4463-8ef8-6ccc2733f59b</th>\n",
       "      <td>2213.320023</td>\n",
       "      <td>0.000000</td>\n",
       "      <td>29.739859</td>\n",
       "      <td>8743.825147</td>\n",
       "      <td>300509.318080</td>\n",
       "      <td>0.000000</td>\n",
       "      <td>1717.246911</td>\n",
       "      <td>1.839579</td>\n",
       "      <td>226.881399</td>\n",
       "      <td>0.306596</td>\n",
       "    </tr>\n",
       "    <tr>\n",
       "      <th>...</th>\n",
       "      <td>...</td>\n",
       "      <td>...</td>\n",
       "      <td>...</td>\n",
       "      <td>...</td>\n",
       "      <td>...</td>\n",
       "      <td>...</td>\n",
       "      <td>...</td>\n",
       "      <td>...</td>\n",
       "      <td>...</td>\n",
       "      <td>...</td>\n",
       "    </tr>\n",
       "    <tr>\n",
       "      <th>7b16e5e1-cd3e-4146-bda4-104ac993375e</th>\n",
       "      <td>2226.063047</td>\n",
       "      <td>0.958153</td>\n",
       "      <td>1.642548</td>\n",
       "      <td>3642.897493</td>\n",
       "      <td>106444.358758</td>\n",
       "      <td>0.000000</td>\n",
       "      <td>9712.248877</td>\n",
       "      <td>0.273758</td>\n",
       "      <td>893.272302</td>\n",
       "      <td>0.000000</td>\n",
       "    </tr>\n",
       "    <tr>\n",
       "      <th>12648c25-a55c-4bfc-9b11-f9f2400f0fb6</th>\n",
       "      <td>474.111364</td>\n",
       "      <td>1.077526</td>\n",
       "      <td>4.848866</td>\n",
       "      <td>6401.580946</td>\n",
       "      <td>368587.643796</td>\n",
       "      <td>0.000000</td>\n",
       "      <td>1287.104602</td>\n",
       "      <td>0.538763</td>\n",
       "      <td>14.007836</td>\n",
       "      <td>0.000000</td>\n",
       "    </tr>\n",
       "    <tr>\n",
       "      <th>9cd3a0eb-1c36-4c63-b79d-3673c1c699de</th>\n",
       "      <td>698.305657</td>\n",
       "      <td>0.604594</td>\n",
       "      <td>1.058039</td>\n",
       "      <td>7082.663368</td>\n",
       "      <td>58076.056066</td>\n",
       "      <td>0.000000</td>\n",
       "      <td>964.175711</td>\n",
       "      <td>0.453445</td>\n",
       "      <td>2958.427839</td>\n",
       "      <td>0.151148</td>\n",
       "    </tr>\n",
       "    <tr>\n",
       "      <th>c45503f6-8462-4761-a7cb-98808b3a06fd</th>\n",
       "      <td>557.509747</td>\n",
       "      <td>0.926096</td>\n",
       "      <td>18.984966</td>\n",
       "      <td>5775.597233</td>\n",
       "      <td>320666.965024</td>\n",
       "      <td>0.000000</td>\n",
       "      <td>856.407206</td>\n",
       "      <td>0.000000</td>\n",
       "      <td>287.552785</td>\n",
       "      <td>0.231524</td>\n",
       "    </tr>\n",
       "    <tr>\n",
       "      <th>342be365-6b8d-44ab-b5ed-0b504bdd4277</th>\n",
       "      <td>360.738315</td>\n",
       "      <td>0.729870</td>\n",
       "      <td>0.547403</td>\n",
       "      <td>3192.451975</td>\n",
       "      <td>16407.480658</td>\n",
       "      <td>0.000000</td>\n",
       "      <td>6160.468883</td>\n",
       "      <td>1.642208</td>\n",
       "      <td>78.278572</td>\n",
       "      <td>0.000000</td>\n",
       "    </tr>\n",
       "    <tr>\n",
       "      <th>6318d1bc-6c5c-43db-896d-931f487e4f47</th>\n",
       "      <td>587.491395</td>\n",
       "      <td>0.416956</td>\n",
       "      <td>2.501738</td>\n",
       "      <td>16241.280923</td>\n",
       "      <td>349865.927709</td>\n",
       "      <td>0.000000</td>\n",
       "      <td>2307.436040</td>\n",
       "      <td>0.000000</td>\n",
       "      <td>26152.748597</td>\n",
       "      <td>0.000000</td>\n",
       "    </tr>\n",
       "    <tr>\n",
       "      <th>9614e482-6a3c-4a5e-9201-cdab0f0eb29f</th>\n",
       "      <td>286.794768</td>\n",
       "      <td>0.000000</td>\n",
       "      <td>17.785722</td>\n",
       "      <td>4496.452860</td>\n",
       "      <td>210578.502842</td>\n",
       "      <td>0.000000</td>\n",
       "      <td>1716.322179</td>\n",
       "      <td>0.000000</td>\n",
       "      <td>333.482289</td>\n",
       "      <td>0.000000</td>\n",
       "    </tr>\n",
       "    <tr>\n",
       "      <th>a1c64323-099c-46e0-946a-f96cdb0a8d6f</th>\n",
       "      <td>1205.561539</td>\n",
       "      <td>1.022818</td>\n",
       "      <td>4.773151</td>\n",
       "      <td>5150.229810</td>\n",
       "      <td>244457.263764</td>\n",
       "      <td>0.000000</td>\n",
       "      <td>724.496117</td>\n",
       "      <td>0.000000</td>\n",
       "      <td>142.512648</td>\n",
       "      <td>0.000000</td>\n",
       "    </tr>\n",
       "    <tr>\n",
       "      <th>770b1d8f-83c6-4dec-a3e1-f2928caf44a7</th>\n",
       "      <td>600.569059</td>\n",
       "      <td>5.161842</td>\n",
       "      <td>5.386270</td>\n",
       "      <td>3203.034983</td>\n",
       "      <td>86860.778846</td>\n",
       "      <td>0.224428</td>\n",
       "      <td>798.963323</td>\n",
       "      <td>0.000000</td>\n",
       "      <td>14670.178514</td>\n",
       "      <td>0.000000</td>\n",
       "    </tr>\n",
       "    <tr>\n",
       "      <th>62fde633-3f91-4725-9a17-d6b670ff0c53</th>\n",
       "      <td>720.326437</td>\n",
       "      <td>1.528428</td>\n",
       "      <td>8.078835</td>\n",
       "      <td>3414.290543</td>\n",
       "      <td>292996.872399</td>\n",
       "      <td>0.000000</td>\n",
       "      <td>2287.183823</td>\n",
       "      <td>0.000000</td>\n",
       "      <td>246.076961</td>\n",
       "      <td>0.655041</td>\n",
       "    </tr>\n",
       "    <tr>\n",
       "      <th>4ce411c7-5fe3-4064-b28c-ccf7650ef362</th>\n",
       "      <td>320.696695</td>\n",
       "      <td>1.354103</td>\n",
       "      <td>10.381455</td>\n",
       "      <td>7216.691214</td>\n",
       "      <td>238578.932236</td>\n",
       "      <td>0.000000</td>\n",
       "      <td>2625.379769</td>\n",
       "      <td>0.451368</td>\n",
       "      <td>6829.643478</td>\n",
       "      <td>0.000000</td>\n",
       "    </tr>\n",
       "    <tr>\n",
       "      <th>64cb2e6b-2f08-4748-8bd0-103fa9f970f8</th>\n",
       "      <td>1076.002429</td>\n",
       "      <td>0.000000</td>\n",
       "      <td>10.922530</td>\n",
       "      <td>5679.982119</td>\n",
       "      <td>144779.736522</td>\n",
       "      <td>0.000000</td>\n",
       "      <td>4767.817644</td>\n",
       "      <td>0.266403</td>\n",
       "      <td>11456.668591</td>\n",
       "      <td>0.532806</td>\n",
       "    </tr>\n",
       "    <tr>\n",
       "      <th>a1ed6dca-3f6a-4824-887b-70cadb2f720c</th>\n",
       "      <td>407.865113</td>\n",
       "      <td>0.000000</td>\n",
       "      <td>10.230730</td>\n",
       "      <td>12095.451349</td>\n",
       "      <td>321806.937936</td>\n",
       "      <td>0.000000</td>\n",
       "      <td>1538.701829</td>\n",
       "      <td>0.000000</td>\n",
       "      <td>80457.872922</td>\n",
       "      <td>0.000000</td>\n",
       "    </tr>\n",
       "    <tr>\n",
       "      <th>364b8f43-b30c-4eb5-be1b-6e9437cd07ae</th>\n",
       "      <td>604.077840</td>\n",
       "      <td>3.146239</td>\n",
       "      <td>25.694283</td>\n",
       "      <td>3238.528420</td>\n",
       "      <td>201090.276602</td>\n",
       "      <td>0.000000</td>\n",
       "      <td>2486.052986</td>\n",
       "      <td>1.048746</td>\n",
       "      <td>303.087666</td>\n",
       "      <td>0.524373</td>\n",
       "    </tr>\n",
       "    <tr>\n",
       "      <th>47e19d75-b91e-418a-992f-6d1749d38859</th>\n",
       "      <td>1836.154244</td>\n",
       "      <td>2.591869</td>\n",
       "      <td>11.293145</td>\n",
       "      <td>9134.672972</td>\n",
       "      <td>346271.883013</td>\n",
       "      <td>1.295935</td>\n",
       "      <td>3887.618770</td>\n",
       "      <td>7.220207</td>\n",
       "      <td>12745.517131</td>\n",
       "      <td>0.000000</td>\n",
       "    </tr>\n",
       "    <tr>\n",
       "      <th>881d3fc7-80f4-4722-82bb-1b6c19f088dd</th>\n",
       "      <td>97.111170</td>\n",
       "      <td>1.517362</td>\n",
       "      <td>4.741756</td>\n",
       "      <td>6221.943028</td>\n",
       "      <td>99321.018423</td>\n",
       "      <td>0.000000</td>\n",
       "      <td>5226.174192</td>\n",
       "      <td>0.569011</td>\n",
       "      <td>4.931427</td>\n",
       "      <td>0.189670</td>\n",
       "    </tr>\n",
       "    <tr>\n",
       "      <th>e513105f-81c8-4205-8601-1a7880f0dff7</th>\n",
       "      <td>52.628778</td>\n",
       "      <td>0.168412</td>\n",
       "      <td>0.084206</td>\n",
       "      <td>1950.801439</td>\n",
       "      <td>3153.095347</td>\n",
       "      <td>0.168412</td>\n",
       "      <td>5452.088781</td>\n",
       "      <td>0.421030</td>\n",
       "      <td>10.946786</td>\n",
       "      <td>0.000000</td>\n",
       "    </tr>\n",
       "    <tr>\n",
       "      <th>5a225156-2e71-40db-b9b3-673ce8f37e0c</th>\n",
       "      <td>1019.035015</td>\n",
       "      <td>1.234197</td>\n",
       "      <td>24.272534</td>\n",
       "      <td>5226.411314</td>\n",
       "      <td>169313.264199</td>\n",
       "      <td>0.000000</td>\n",
       "      <td>1058.117908</td>\n",
       "      <td>2.468393</td>\n",
       "      <td>1704.836940</td>\n",
       "      <td>0.411399</td>\n",
       "    </tr>\n",
       "    <tr>\n",
       "      <th>fcbad081-176a-4cbe-962f-4707138ddd90</th>\n",
       "      <td>105.230261</td>\n",
       "      <td>0.792695</td>\n",
       "      <td>2.179911</td>\n",
       "      <td>5729.995797</td>\n",
       "      <td>16516.394815</td>\n",
       "      <td>0.000000</td>\n",
       "      <td>10114.788181</td>\n",
       "      <td>0.990869</td>\n",
       "      <td>312.321829</td>\n",
       "      <td>0.198174</td>\n",
       "    </tr>\n",
       "    <tr>\n",
       "      <th>11457950-2d57-466f-8990-92d07c47a529</th>\n",
       "      <td>729.084852</td>\n",
       "      <td>1.113447</td>\n",
       "      <td>19.151282</td>\n",
       "      <td>7320.911574</td>\n",
       "      <td>126184.233997</td>\n",
       "      <td>0.000000</td>\n",
       "      <td>2948.852048</td>\n",
       "      <td>1.113447</td>\n",
       "      <td>318.223046</td>\n",
       "      <td>0.000000</td>\n",
       "    </tr>\n",
       "    <tr>\n",
       "      <th>4e63c197-9a3c-4b2d-9efc-133ceab4bc40</th>\n",
       "      <td>211.141729</td>\n",
       "      <td>0.207408</td>\n",
       "      <td>0.414817</td>\n",
       "      <td>5546.100038</td>\n",
       "      <td>8534.439954</td>\n",
       "      <td>0.000000</td>\n",
       "      <td>16362.446971</td>\n",
       "      <td>1.866675</td>\n",
       "      <td>39.615000</td>\n",
       "      <td>0.000000</td>\n",
       "    </tr>\n",
       "    <tr>\n",
       "      <th>dc0f20a0-b439-410e-b661-bdf65e3c17db</th>\n",
       "      <td>2072.925123</td>\n",
       "      <td>0.958209</td>\n",
       "      <td>28.426862</td>\n",
       "      <td>5222.557578</td>\n",
       "      <td>373146.804142</td>\n",
       "      <td>0.159701</td>\n",
       "      <td>4850.772548</td>\n",
       "      <td>1.597015</td>\n",
       "      <td>4012.339813</td>\n",
       "      <td>0.319403</td>\n",
       "    </tr>\n",
       "    <tr>\n",
       "      <th>c1fc795e-9319-4483-9f13-ba466e839a31</th>\n",
       "      <td>915.438803</td>\n",
       "      <td>1.641748</td>\n",
       "      <td>10.507189</td>\n",
       "      <td>4724.951355</td>\n",
       "      <td>305017.445217</td>\n",
       "      <td>0.000000</td>\n",
       "      <td>3862.705194</td>\n",
       "      <td>0.000000</td>\n",
       "      <td>15807.736837</td>\n",
       "      <td>0.000000</td>\n",
       "    </tr>\n",
       "    <tr>\n",
       "      <th>d5fcc7c7-e3a7-4dd3-8c0e-512371adf47e</th>\n",
       "      <td>550.400898</td>\n",
       "      <td>0.461359</td>\n",
       "      <td>1.384076</td>\n",
       "      <td>5300.549801</td>\n",
       "      <td>88050.302859</td>\n",
       "      <td>0.000000</td>\n",
       "      <td>2424.901189</td>\n",
       "      <td>0.000000</td>\n",
       "      <td>11.533967</td>\n",
       "      <td>0.461359</td>\n",
       "    </tr>\n",
       "    <tr>\n",
       "      <th>a2e4b2e1-e0c8-4a11-a1f3-cea88b35315c</th>\n",
       "      <td>93.051238</td>\n",
       "      <td>0.351706</td>\n",
       "      <td>3.165350</td>\n",
       "      <td>2246.293061</td>\n",
       "      <td>23083.489922</td>\n",
       "      <td>0.000000</td>\n",
       "      <td>6967.136081</td>\n",
       "      <td>0.200975</td>\n",
       "      <td>28.437905</td>\n",
       "      <td>0.100487</td>\n",
       "    </tr>\n",
       "    <tr>\n",
       "      <th>eed5f427-c2bd-429d-97ac-cc0f4e01de76</th>\n",
       "      <td>725.042785</td>\n",
       "      <td>0.566550</td>\n",
       "      <td>7.365154</td>\n",
       "      <td>8396.134257</td>\n",
       "      <td>159038.751051</td>\n",
       "      <td>0.000000</td>\n",
       "      <td>8042.606851</td>\n",
       "      <td>4.390765</td>\n",
       "      <td>42624.130823</td>\n",
       "      <td>0.141638</td>\n",
       "    </tr>\n",
       "    <tr>\n",
       "      <th>12d172c8-5deb-447b-b651-ed10adff51d6</th>\n",
       "      <td>1171.697975</td>\n",
       "      <td>1.371209</td>\n",
       "      <td>0.685604</td>\n",
       "      <td>6622.938816</td>\n",
       "      <td>223365.810415</td>\n",
       "      <td>0.000000</td>\n",
       "      <td>584.134976</td>\n",
       "      <td>1.371209</td>\n",
       "      <td>32922.724839</td>\n",
       "      <td>0.685604</td>\n",
       "    </tr>\n",
       "    <tr>\n",
       "      <th>d7ecdf2e-4b2a-4beb-8d66-30c1fdb4a9f7</th>\n",
       "      <td>397.164974</td>\n",
       "      <td>0.563355</td>\n",
       "      <td>15.210573</td>\n",
       "      <td>9392.059668</td>\n",
       "      <td>105443.451125</td>\n",
       "      <td>0.000000</td>\n",
       "      <td>9271.126219</td>\n",
       "      <td>0.187785</td>\n",
       "      <td>92.577935</td>\n",
       "      <td>0.187785</td>\n",
       "    </tr>\n",
       "    <tr>\n",
       "      <th>562b836f-8ced-4938-b21f-9d3d7409cc5a</th>\n",
       "      <td>298.991727</td>\n",
       "      <td>0.157779</td>\n",
       "      <td>1.104455</td>\n",
       "      <td>3028.415416</td>\n",
       "      <td>17004.819210</td>\n",
       "      <td>0.000000</td>\n",
       "      <td>12228.209420</td>\n",
       "      <td>1.420013</td>\n",
       "      <td>29.662504</td>\n",
       "      <td>0.157779</td>\n",
       "    </tr>\n",
       "    <tr>\n",
       "      <th>57e7f0ba-8789-4c64-b000-df5a0db64f9e</th>\n",
       "      <td>1440.009837</td>\n",
       "      <td>0.000000</td>\n",
       "      <td>1.267614</td>\n",
       "      <td>10400.775273</td>\n",
       "      <td>146084.941566</td>\n",
       "      <td>0.000000</td>\n",
       "      <td>1039.443720</td>\n",
       "      <td>1.267614</td>\n",
       "      <td>3991.083601</td>\n",
       "      <td>0.000000</td>\n",
       "    </tr>\n",
       "  </tbody>\n",
       "</table>\n",
       "<p>4068 rows × 10 columns</p>\n",
       "</div>"
      ],
      "text/plain": [
       "                                      hsa-mir-146b  hsa-mir-4709  hsa-mir-511  \\\n",
       "                                                                                \n",
       "dc8d96ef-81eb-41c8-a486-02d107c1a137   1090.324418      0.000000     0.837423   \n",
       "93b8bab9-acd8-4a5a-b4ba-ec52b2ab186b    607.196281      0.446796     4.021167   \n",
       "6d869125-0f2b-406a-a1aa-4b352b2247d3   1524.752144      0.557292     7.802094   \n",
       "41dbd6ab-871d-4ee4-be13-392b4995f6ce    369.879232      0.000000     8.075966   \n",
       "322badf4-b70d-4f90-ac44-d2f30e52f03c    171.853389      0.826218     5.370418   \n",
       "d681c69f-3020-463b-90c0-bd9435e3f216    265.575779      0.757826     2.862897   \n",
       "28665a83-f3fe-4ebc-a421-2ab1b40ec796    279.752410      1.852665    16.056430   \n",
       "c5e98c47-acf7-4ebd-8674-3938bb4f5db7   3006.556265      0.000000     2.785396   \n",
       "c7fcb557-2a7c-41d2-92f1-7014b9f639d3    582.607712      1.930443     8.107861   \n",
       "66b21435-28b2-4721-b0c5-a51a03990240    881.059823      1.087281    16.309211   \n",
       "38b76080-eeae-4c30-a6ec-955213c8c691    704.674340      1.847115     2.462820   \n",
       "3d8bdeaa-ea62-4bb8-89ec-ac38ac193ffc    504.344079      0.446520     3.572158   \n",
       "b81c2913-e110-44b3-8599-5e70d8d8cfbf    559.855739      0.650995     5.207960   \n",
       "4f22ad5b-139e-4835-9be1-8806de694c3a    695.186826      0.635067     2.116890   \n",
       "fabfc358-9e02-475a-8e17-82ee5786ae44    874.163478      0.275761     9.375886   \n",
       "5d689a06-3dbe-4ae6-8fe1-d723bea5627b   3331.679501      0.000000     6.796572   \n",
       "4fc33c92-be6c-4239-8318-528527f49faf    161.829887      0.408661     0.408661   \n",
       "fadf5601-d36f-481c-b5b5-4f3050603c75     74.675290      0.000000     0.912901   \n",
       "9c322d05-b8a2-43cf-a25e-7e90cf8e85fc    306.784502      0.671301    10.069513   \n",
       "484e680f-8d37-4742-af5f-09b082cb7f15    622.466495      0.322354     8.381216   \n",
       "b9cec324-6497-4ce8-8483-df214ad8dec0     41.098826      0.092357     0.277071   \n",
       "fa2558ac-53c0-4743-b3a2-8e7bf0cfe89b   1583.598543      2.321311    45.497701   \n",
       "2eebce51-c4fc-4b21-9ed0-8f2e14fc3e18   1103.312980      1.288616    18.813793   \n",
       "9d37685b-7c6d-4bf9-bb56-b68a19fa956a    922.336468      0.518749    12.968735   \n",
       "a54bb971-d7e5-4989-9595-3fd9737cffa3    207.377954      1.516475     2.653831   \n",
       "70d4200b-b990-4e35-a0ea-c47d323bdf48   1341.051776      0.769945   143.594750   \n",
       "bb765f2b-faf8-4ec5-8ceb-7afd1bcf0bb5     51.357051      0.000000     0.000000   \n",
       "6f3f3424-7daf-40f2-924d-96e04e7d4ca2    456.864798      1.616267     7.542579   \n",
       "cebd233b-8463-4cc6-95c3-9150170b18de    543.862297      0.000000     3.152825   \n",
       "e8ac2a44-ae19-4463-8ef8-6ccc2733f59b   2213.320023      0.000000    29.739859   \n",
       "...                                            ...           ...          ...   \n",
       "7b16e5e1-cd3e-4146-bda4-104ac993375e   2226.063047      0.958153     1.642548   \n",
       "12648c25-a55c-4bfc-9b11-f9f2400f0fb6    474.111364      1.077526     4.848866   \n",
       "9cd3a0eb-1c36-4c63-b79d-3673c1c699de    698.305657      0.604594     1.058039   \n",
       "c45503f6-8462-4761-a7cb-98808b3a06fd    557.509747      0.926096    18.984966   \n",
       "342be365-6b8d-44ab-b5ed-0b504bdd4277    360.738315      0.729870     0.547403   \n",
       "6318d1bc-6c5c-43db-896d-931f487e4f47    587.491395      0.416956     2.501738   \n",
       "9614e482-6a3c-4a5e-9201-cdab0f0eb29f    286.794768      0.000000    17.785722   \n",
       "a1c64323-099c-46e0-946a-f96cdb0a8d6f   1205.561539      1.022818     4.773151   \n",
       "770b1d8f-83c6-4dec-a3e1-f2928caf44a7    600.569059      5.161842     5.386270   \n",
       "62fde633-3f91-4725-9a17-d6b670ff0c53    720.326437      1.528428     8.078835   \n",
       "4ce411c7-5fe3-4064-b28c-ccf7650ef362    320.696695      1.354103    10.381455   \n",
       "64cb2e6b-2f08-4748-8bd0-103fa9f970f8   1076.002429      0.000000    10.922530   \n",
       "a1ed6dca-3f6a-4824-887b-70cadb2f720c    407.865113      0.000000    10.230730   \n",
       "364b8f43-b30c-4eb5-be1b-6e9437cd07ae    604.077840      3.146239    25.694283   \n",
       "47e19d75-b91e-418a-992f-6d1749d38859   1836.154244      2.591869    11.293145   \n",
       "881d3fc7-80f4-4722-82bb-1b6c19f088dd     97.111170      1.517362     4.741756   \n",
       "e513105f-81c8-4205-8601-1a7880f0dff7     52.628778      0.168412     0.084206   \n",
       "5a225156-2e71-40db-b9b3-673ce8f37e0c   1019.035015      1.234197    24.272534   \n",
       "fcbad081-176a-4cbe-962f-4707138ddd90    105.230261      0.792695     2.179911   \n",
       "11457950-2d57-466f-8990-92d07c47a529    729.084852      1.113447    19.151282   \n",
       "4e63c197-9a3c-4b2d-9efc-133ceab4bc40    211.141729      0.207408     0.414817   \n",
       "dc0f20a0-b439-410e-b661-bdf65e3c17db   2072.925123      0.958209    28.426862   \n",
       "c1fc795e-9319-4483-9f13-ba466e839a31    915.438803      1.641748    10.507189   \n",
       "d5fcc7c7-e3a7-4dd3-8c0e-512371adf47e    550.400898      0.461359     1.384076   \n",
       "a2e4b2e1-e0c8-4a11-a1f3-cea88b35315c     93.051238      0.351706     3.165350   \n",
       "eed5f427-c2bd-429d-97ac-cc0f4e01de76    725.042785      0.566550     7.365154   \n",
       "12d172c8-5deb-447b-b651-ed10adff51d6   1171.697975      1.371209     0.685604   \n",
       "d7ecdf2e-4b2a-4beb-8d66-30c1fdb4a9f7    397.164974      0.563355    15.210573   \n",
       "562b836f-8ced-4938-b21f-9d3d7409cc5a    298.991727      0.157779     1.104455   \n",
       "57e7f0ba-8789-4c64-b000-df5a0db64f9e   1440.009837      0.000000     1.267614   \n",
       "\n",
       "                                        hsa-mir-30d     hsa-mir-21  \\\n",
       "                                                                     \n",
       "dc8d96ef-81eb-41c8-a486-02d107c1a137    5992.597183  474300.333294   \n",
       "93b8bab9-acd8-4a5a-b4ba-ec52b2ab186b    8000.335991  297992.633221   \n",
       "6d869125-0f2b-406a-a1aa-4b352b2247d3   10280.931124  289162.333718   \n",
       "41dbd6ab-871d-4ee4-be13-392b4995f6ce    9217.907323  160537.277850   \n",
       "322badf4-b70d-4f90-ac44-d2f30e52f03c    7974.658235  120586.548837   \n",
       "d681c69f-3020-463b-90c0-bd9435e3f216    4810.761259  233315.563726   \n",
       "28665a83-f3fe-4ebc-a421-2ab1b40ec796    6069.947983   67816.183523   \n",
       "c5e98c47-acf7-4ebd-8674-3938bb4f5db7   10803.993366  346771.754081   \n",
       "c7fcb557-2a7c-41d2-92f1-7014b9f639d3    5898.275690  329049.422817   \n",
       "66b21435-28b2-4721-b0c5-a51a03990240    5058.392412  109952.351734   \n",
       "38b76080-eeae-4c30-a6ec-955213c8c691   20889.638270  166168.920506   \n",
       "3d8bdeaa-ea62-4bb8-89ec-ac38ac193ffc    8255.257491  190380.847874   \n",
       "b81c2913-e110-44b3-8599-5e70d8d8cfbf    7526.804721  132533.477420   \n",
       "4f22ad5b-139e-4835-9be1-8806de694c3a    6746.318198  310878.700060   \n",
       "fabfc358-9e02-475a-8e17-82ee5786ae44    7405.571041  231284.077209   \n",
       "5d689a06-3dbe-4ae6-8fe1-d723bea5627b   40515.723869   57484.045048   \n",
       "4fc33c92-be6c-4239-8318-528527f49faf  144280.743796   99516.798841   \n",
       "fadf5601-d36f-481c-b5b5-4f3050603c75    2202.282033   49036.834819   \n",
       "9c322d05-b8a2-43cf-a25e-7e90cf8e85fc    4241.278962  133125.677594   \n",
       "484e680f-8d37-4742-af5f-09b082cb7f15   10628.027110  257369.426290   \n",
       "b9cec324-6497-4ce8-8483-df214ad8dec0    1891.007762    5319.758099   \n",
       "fa2558ac-53c0-4743-b3a2-8e7bf0cfe89b    3624.031143  325057.394421   \n",
       "2eebce51-c4fc-4b21-9ed0-8f2e14fc3e18    5828.925408  317721.407416   \n",
       "9d37685b-7c6d-4bf9-bb56-b68a19fa956a    6656.073804  489229.983924   \n",
       "a54bb971-d7e5-4989-9595-3fd9737cffa3    9789.983379   77374.724002   \n",
       "70d4200b-b990-4e35-a0ea-c47d323bdf48    4252.791436  248000.645214   \n",
       "bb765f2b-faf8-4ec5-8ceb-7afd1bcf0bb5    2719.730502    6338.483538   \n",
       "6f3f3424-7daf-40f2-924d-96e04e7d4ca2    5078.310829  452004.952242   \n",
       "cebd233b-8463-4cc6-95c3-9150170b18de    1549.219341  238578.596181   \n",
       "e8ac2a44-ae19-4463-8ef8-6ccc2733f59b    8743.825147  300509.318080   \n",
       "...                                             ...            ...   \n",
       "7b16e5e1-cd3e-4146-bda4-104ac993375e    3642.897493  106444.358758   \n",
       "12648c25-a55c-4bfc-9b11-f9f2400f0fb6    6401.580946  368587.643796   \n",
       "9cd3a0eb-1c36-4c63-b79d-3673c1c699de    7082.663368   58076.056066   \n",
       "c45503f6-8462-4761-a7cb-98808b3a06fd    5775.597233  320666.965024   \n",
       "342be365-6b8d-44ab-b5ed-0b504bdd4277    3192.451975   16407.480658   \n",
       "6318d1bc-6c5c-43db-896d-931f487e4f47   16241.280923  349865.927709   \n",
       "9614e482-6a3c-4a5e-9201-cdab0f0eb29f    4496.452860  210578.502842   \n",
       "a1c64323-099c-46e0-946a-f96cdb0a8d6f    5150.229810  244457.263764   \n",
       "770b1d8f-83c6-4dec-a3e1-f2928caf44a7    3203.034983   86860.778846   \n",
       "62fde633-3f91-4725-9a17-d6b670ff0c53    3414.290543  292996.872399   \n",
       "4ce411c7-5fe3-4064-b28c-ccf7650ef362    7216.691214  238578.932236   \n",
       "64cb2e6b-2f08-4748-8bd0-103fa9f970f8    5679.982119  144779.736522   \n",
       "a1ed6dca-3f6a-4824-887b-70cadb2f720c   12095.451349  321806.937936   \n",
       "364b8f43-b30c-4eb5-be1b-6e9437cd07ae    3238.528420  201090.276602   \n",
       "47e19d75-b91e-418a-992f-6d1749d38859    9134.672972  346271.883013   \n",
       "881d3fc7-80f4-4722-82bb-1b6c19f088dd    6221.943028   99321.018423   \n",
       "e513105f-81c8-4205-8601-1a7880f0dff7    1950.801439    3153.095347   \n",
       "5a225156-2e71-40db-b9b3-673ce8f37e0c    5226.411314  169313.264199   \n",
       "fcbad081-176a-4cbe-962f-4707138ddd90    5729.995797   16516.394815   \n",
       "11457950-2d57-466f-8990-92d07c47a529    7320.911574  126184.233997   \n",
       "4e63c197-9a3c-4b2d-9efc-133ceab4bc40    5546.100038    8534.439954   \n",
       "dc0f20a0-b439-410e-b661-bdf65e3c17db    5222.557578  373146.804142   \n",
       "c1fc795e-9319-4483-9f13-ba466e839a31    4724.951355  305017.445217   \n",
       "d5fcc7c7-e3a7-4dd3-8c0e-512371adf47e    5300.549801   88050.302859   \n",
       "a2e4b2e1-e0c8-4a11-a1f3-cea88b35315c    2246.293061   23083.489922   \n",
       "eed5f427-c2bd-429d-97ac-cc0f4e01de76    8396.134257  159038.751051   \n",
       "12d172c8-5deb-447b-b651-ed10adff51d6    6622.938816  223365.810415   \n",
       "d7ecdf2e-4b2a-4beb-8d66-30c1fdb4a9f7    9392.059668  105443.451125   \n",
       "562b836f-8ced-4938-b21f-9d3d7409cc5a    3028.415416   17004.819210   \n",
       "57e7f0ba-8789-4c64-b000-df5a0db64f9e   10400.775273  146084.941566   \n",
       "\n",
       "                                      hsa-mir-3617   hsa-mir-100  \\\n",
       "                                                                   \n",
       "dc8d96ef-81eb-41c8-a486-02d107c1a137      0.000000   1036.729362   \n",
       "93b8bab9-acd8-4a5a-b4ba-ec52b2ab186b      0.000000   2452.465333   \n",
       "6d869125-0f2b-406a-a1aa-4b352b2247d3      1.114585   1980.060076   \n",
       "41dbd6ab-871d-4ee4-be13-392b4995f6ce      0.000000   2574.617886   \n",
       "322badf4-b70d-4f90-ac44-d2f30e52f03c      0.000000   1102.175102   \n",
       "d681c69f-3020-463b-90c0-bd9435e3f216      0.000000   2688.260094   \n",
       "28665a83-f3fe-4ebc-a421-2ab1b40ec796      0.000000   3026.019444   \n",
       "c5e98c47-acf7-4ebd-8674-3938bb4f5db7      0.000000  12190.563413   \n",
       "c7fcb557-2a7c-41d2-92f1-7014b9f639d3      0.000000   6315.251388   \n",
       "66b21435-28b2-4721-b0c5-a51a03990240      0.000000    273.994746   \n",
       "38b76080-eeae-4c30-a6ec-955213c8c691      0.000000    705.597897   \n",
       "3d8bdeaa-ea62-4bb8-89ec-ac38ac193ffc      0.000000   2284.395139   \n",
       "b81c2913-e110-44b3-8599-5e70d8d8cfbf      0.000000   2567.524461   \n",
       "4f22ad5b-139e-4835-9be1-8806de694c3a      0.211689   2422.357750   \n",
       "fabfc358-9e02-475a-8e17-82ee5786ae44      0.000000   6189.187728   \n",
       "5d689a06-3dbe-4ae6-8fe1-d723bea5627b      0.000000   8101.513597   \n",
       "4fc33c92-be6c-4239-8318-528527f49faf      0.000000   2756.829344   \n",
       "fadf5601-d36f-481c-b5b5-4f3050603c75      0.000000   5781.948883   \n",
       "9c322d05-b8a2-43cf-a25e-7e90cf8e85fc      0.000000   1919.249217   \n",
       "484e680f-8d37-4742-af5f-09b082cb7f15      0.000000   2579.480526   \n",
       "b9cec324-6497-4ce8-8483-df214ad8dec0      0.000000   3004.370329   \n",
       "fa2558ac-53c0-4743-b3a2-8e7bf0cfe89b      0.000000   3288.369534   \n",
       "2eebce51-c4fc-4b21-9ed0-8f2e14fc3e18      0.000000   2648.105786   \n",
       "9d37685b-7c6d-4bf9-bb56-b68a19fa956a      0.000000   2559.509637   \n",
       "a54bb971-d7e5-4989-9595-3fd9737cffa3      0.000000   1541.117703   \n",
       "70d4200b-b990-4e35-a0ea-c47d323bdf48      0.192486   1151.452809   \n",
       "bb765f2b-faf8-4ec5-8ceb-7afd1bcf0bb5      0.000000   3878.279769   \n",
       "6f3f3424-7daf-40f2-924d-96e04e7d4ca2      0.269378   2298.601013   \n",
       "cebd233b-8463-4cc6-95c3-9150170b18de      0.000000   2391.417695   \n",
       "e8ac2a44-ae19-4463-8ef8-6ccc2733f59b      0.000000   1717.246911   \n",
       "...                                            ...           ...   \n",
       "7b16e5e1-cd3e-4146-bda4-104ac993375e      0.000000   9712.248877   \n",
       "12648c25-a55c-4bfc-9b11-f9f2400f0fb6      0.000000   1287.104602   \n",
       "9cd3a0eb-1c36-4c63-b79d-3673c1c699de      0.000000    964.175711   \n",
       "c45503f6-8462-4761-a7cb-98808b3a06fd      0.000000    856.407206   \n",
       "342be365-6b8d-44ab-b5ed-0b504bdd4277      0.000000   6160.468883   \n",
       "6318d1bc-6c5c-43db-896d-931f487e4f47      0.000000   2307.436040   \n",
       "9614e482-6a3c-4a5e-9201-cdab0f0eb29f      0.000000   1716.322179   \n",
       "a1c64323-099c-46e0-946a-f96cdb0a8d6f      0.000000    724.496117   \n",
       "770b1d8f-83c6-4dec-a3e1-f2928caf44a7      0.224428    798.963323   \n",
       "62fde633-3f91-4725-9a17-d6b670ff0c53      0.000000   2287.183823   \n",
       "4ce411c7-5fe3-4064-b28c-ccf7650ef362      0.000000   2625.379769   \n",
       "64cb2e6b-2f08-4748-8bd0-103fa9f970f8      0.000000   4767.817644   \n",
       "a1ed6dca-3f6a-4824-887b-70cadb2f720c      0.000000   1538.701829   \n",
       "364b8f43-b30c-4eb5-be1b-6e9437cd07ae      0.000000   2486.052986   \n",
       "47e19d75-b91e-418a-992f-6d1749d38859      1.295935   3887.618770   \n",
       "881d3fc7-80f4-4722-82bb-1b6c19f088dd      0.000000   5226.174192   \n",
       "e513105f-81c8-4205-8601-1a7880f0dff7      0.168412   5452.088781   \n",
       "5a225156-2e71-40db-b9b3-673ce8f37e0c      0.000000   1058.117908   \n",
       "fcbad081-176a-4cbe-962f-4707138ddd90      0.000000  10114.788181   \n",
       "11457950-2d57-466f-8990-92d07c47a529      0.000000   2948.852048   \n",
       "4e63c197-9a3c-4b2d-9efc-133ceab4bc40      0.000000  16362.446971   \n",
       "dc0f20a0-b439-410e-b661-bdf65e3c17db      0.159701   4850.772548   \n",
       "c1fc795e-9319-4483-9f13-ba466e839a31      0.000000   3862.705194   \n",
       "d5fcc7c7-e3a7-4dd3-8c0e-512371adf47e      0.000000   2424.901189   \n",
       "a2e4b2e1-e0c8-4a11-a1f3-cea88b35315c      0.000000   6967.136081   \n",
       "eed5f427-c2bd-429d-97ac-cc0f4e01de76      0.000000   8042.606851   \n",
       "12d172c8-5deb-447b-b651-ed10adff51d6      0.000000    584.134976   \n",
       "d7ecdf2e-4b2a-4beb-8d66-30c1fdb4a9f7      0.000000   9271.126219   \n",
       "562b836f-8ced-4938-b21f-9d3d7409cc5a      0.000000  12228.209420   \n",
       "57e7f0ba-8789-4c64-b000-df5a0db64f9e      0.000000   1039.443720   \n",
       "\n",
       "                                      hsa-mir-548b   hsa-mir-375  hsa-mir-4777  \n",
       "                                                                                \n",
       "dc8d96ef-81eb-41c8-a486-02d107c1a137      0.000000  12841.877837      0.837423  \n",
       "93b8bab9-acd8-4a5a-b4ba-ec52b2ab186b      0.000000   1310.006988      0.000000  \n",
       "6d869125-0f2b-406a-a1aa-4b352b2247d3      3.343755  49469.178941      0.557292  \n",
       "41dbd6ab-871d-4ee4-be13-392b4995f6ce      0.000000  63719.369881      0.000000  \n",
       "322badf4-b70d-4f90-ac44-d2f30e52f03c      0.413109     48.333766      0.413109  \n",
       "d681c69f-3020-463b-90c0-bd9435e3f216      0.336811   3942.798312      0.252609  \n",
       "28665a83-f3fe-4ebc-a421-2ab1b40ec796      0.617555    234.670896      0.000000  \n",
       "c5e98c47-acf7-4ebd-8674-3938bb4f5db7      1.114158    196.648946      0.000000  \n",
       "c7fcb557-2a7c-41d2-92f1-7014b9f639d3      0.386089  26468.304635      0.000000  \n",
       "66b21435-28b2-4721-b0c5-a51a03990240      0.000000  10830.040987      0.000000  \n",
       "38b76080-eeae-4c30-a6ec-955213c8c691      0.000000   8641.419274      0.000000  \n",
       "3d8bdeaa-ea62-4bb8-89ec-ac38ac193ffc      0.893040     10.493215      0.223260  \n",
       "b81c2913-e110-44b3-8599-5e70d8d8cfbf      0.000000  30326.604215      0.000000  \n",
       "4f22ad5b-139e-4835-9be1-8806de694c3a      0.211689   1674.672041      0.000000  \n",
       "fabfc358-9e02-475a-8e17-82ee5786ae44      1.654568   1209.489279      0.000000  \n",
       "5d689a06-3dbe-4ae6-8fe1-d723bea5627b      5.437257    164.477038      0.000000  \n",
       "4fc33c92-be6c-4239-8318-528527f49faf      0.817323  45483.597560      0.408661  \n",
       "fadf5601-d36f-481c-b5b5-4f3050603c75      0.730321     10.772230      0.182580  \n",
       "9c322d05-b8a2-43cf-a25e-7e90cf8e85fc      0.000000   1146.246253      0.000000  \n",
       "484e680f-8d37-4742-af5f-09b082cb7f15      0.322354     75.430948      0.000000  \n",
       "b9cec324-6497-4ce8-8483-df214ad8dec0      0.738855      3.509563      0.000000  \n",
       "fa2558ac-53c0-4743-b3a2-8e7bf0cfe89b      1.392787   2228.923074      0.464262  \n",
       "2eebce51-c4fc-4b21-9ed0-8f2e14fc3e18      0.773170    319.061310      0.000000  \n",
       "9d37685b-7c6d-4bf9-bb56-b68a19fa956a      0.518749  39128.749975      0.000000  \n",
       "a54bb971-d7e5-4989-9595-3fd9737cffa3      0.758237  22059.782477      0.000000  \n",
       "70d4200b-b990-4e35-a0ea-c47d323bdf48      2.887294    103.172636      0.384973  \n",
       "bb765f2b-faf8-4ec5-8ceb-7afd1bcf0bb5      0.000000     51.539816      0.182765  \n",
       "6f3f3424-7daf-40f2-924d-96e04e7d4ca2      7.273201   1501.512018      0.000000  \n",
       "cebd233b-8463-4cc6-95c3-9150170b18de      2.758722  15066.562045      0.788206  \n",
       "e8ac2a44-ae19-4463-8ef8-6ccc2733f59b      1.839579    226.881399      0.306596  \n",
       "...                                            ...           ...           ...  \n",
       "7b16e5e1-cd3e-4146-bda4-104ac993375e      0.273758    893.272302      0.000000  \n",
       "12648c25-a55c-4bfc-9b11-f9f2400f0fb6      0.538763     14.007836      0.000000  \n",
       "9cd3a0eb-1c36-4c63-b79d-3673c1c699de      0.453445   2958.427839      0.151148  \n",
       "c45503f6-8462-4761-a7cb-98808b3a06fd      0.000000    287.552785      0.231524  \n",
       "342be365-6b8d-44ab-b5ed-0b504bdd4277      1.642208     78.278572      0.000000  \n",
       "6318d1bc-6c5c-43db-896d-931f487e4f47      0.000000  26152.748597      0.000000  \n",
       "9614e482-6a3c-4a5e-9201-cdab0f0eb29f      0.000000    333.482289      0.000000  \n",
       "a1c64323-099c-46e0-946a-f96cdb0a8d6f      0.000000    142.512648      0.000000  \n",
       "770b1d8f-83c6-4dec-a3e1-f2928caf44a7      0.000000  14670.178514      0.000000  \n",
       "62fde633-3f91-4725-9a17-d6b670ff0c53      0.000000    246.076961      0.655041  \n",
       "4ce411c7-5fe3-4064-b28c-ccf7650ef362      0.451368   6829.643478      0.000000  \n",
       "64cb2e6b-2f08-4748-8bd0-103fa9f970f8      0.266403  11456.668591      0.532806  \n",
       "a1ed6dca-3f6a-4824-887b-70cadb2f720c      0.000000  80457.872922      0.000000  \n",
       "364b8f43-b30c-4eb5-be1b-6e9437cd07ae      1.048746    303.087666      0.524373  \n",
       "47e19d75-b91e-418a-992f-6d1749d38859      7.220207  12745.517131      0.000000  \n",
       "881d3fc7-80f4-4722-82bb-1b6c19f088dd      0.569011      4.931427      0.189670  \n",
       "e513105f-81c8-4205-8601-1a7880f0dff7      0.421030     10.946786      0.000000  \n",
       "5a225156-2e71-40db-b9b3-673ce8f37e0c      2.468393   1704.836940      0.411399  \n",
       "fcbad081-176a-4cbe-962f-4707138ddd90      0.990869    312.321829      0.198174  \n",
       "11457950-2d57-466f-8990-92d07c47a529      1.113447    318.223046      0.000000  \n",
       "4e63c197-9a3c-4b2d-9efc-133ceab4bc40      1.866675     39.615000      0.000000  \n",
       "dc0f20a0-b439-410e-b661-bdf65e3c17db      1.597015   4012.339813      0.319403  \n",
       "c1fc795e-9319-4483-9f13-ba466e839a31      0.000000  15807.736837      0.000000  \n",
       "d5fcc7c7-e3a7-4dd3-8c0e-512371adf47e      0.000000     11.533967      0.461359  \n",
       "a2e4b2e1-e0c8-4a11-a1f3-cea88b35315c      0.200975     28.437905      0.100487  \n",
       "eed5f427-c2bd-429d-97ac-cc0f4e01de76      4.390765  42624.130823      0.141638  \n",
       "12d172c8-5deb-447b-b651-ed10adff51d6      1.371209  32922.724839      0.685604  \n",
       "d7ecdf2e-4b2a-4beb-8d66-30c1fdb4a9f7      0.187785     92.577935      0.187785  \n",
       "562b836f-8ced-4938-b21f-9d3d7409cc5a      1.420013     29.662504      0.157779  \n",
       "57e7f0ba-8789-4c64-b000-df5a0db64f9e      1.267614   3991.083601      0.000000  \n",
       "\n",
       "[4068 rows x 10 columns]"
      ]
     },
     "execution_count": 29,
     "metadata": {},
     "output_type": "execute_result"
    }
   ],
   "source": [
    "df.iloc[:, masks[1]]"
   ]
  },
  {
   "cell_type": "markdown",
   "metadata": {},
   "source": [
    "### Random Forest "
   ]
  },
  {
   "cell_type": "code",
   "execution_count": 31,
   "metadata": {},
   "outputs": [
    {
     "name": "stdout",
     "output_type": "stream",
     "text": [
      "[........................................] 100% | 102.30 sec | GridSearchCV \n",
      "Random Forest:\n",
      "Train Score: 0.9862340216322517\n",
      "Test Score: 0.983284169124877\n"
     ]
    }
   ],
   "source": [
    "rf = RandomForestClassifier()\n",
    "rf_params =  {\n",
    "        'n_estimators' : [20, 60, 100],\n",
    "        'max_depth' : [None, 2, 6, 10],\n",
    "        'min_samples_split' : [2, 3, 4] \n",
    "}\n",
    "\n",
    "gs_rf = GridSearchCVProgressBar(rf, param_grid = rf_params)\n",
    "gs_rf.fit(X_train_sc, y_train)\n",
    "print(f'Random Forest:')\n",
    "print(f'Train Score: {gs_rf.best_score_}')\n",
    "print(f'Test Score: {gs_rf.score(X_test_sc, y_test)}')"
   ]
  },
  {
   "cell_type": "code",
   "execution_count": 32,
   "metadata": {},
   "outputs": [],
   "source": [
    "rf_feature_importances = gs_rf.best_estimator_.feature_importances_"
   ]
  },
  {
   "cell_type": "code",
   "execution_count": 33,
   "metadata": {},
   "outputs": [
    {
     "data": {
      "text/plain": [
       "0.024083955377480096"
      ]
     },
     "execution_count": 33,
     "metadata": {},
     "output_type": "execute_result"
    }
   ],
   "source": [
    "rf_feature_importances.max()"
   ]
  },
  {
   "cell_type": "code",
   "execution_count": 34,
   "metadata": {},
   "outputs": [
    {
     "data": {
      "text/html": [
       "<div>\n",
       "<style scoped>\n",
       "    .dataframe tbody tr th:only-of-type {\n",
       "        vertical-align: middle;\n",
       "    }\n",
       "\n",
       "    .dataframe tbody tr th {\n",
       "        vertical-align: top;\n",
       "    }\n",
       "\n",
       "    .dataframe thead th {\n",
       "        text-align: right;\n",
       "    }\n",
       "</style>\n",
       "<table border=\"1\" class=\"dataframe\">\n",
       "  <thead>\n",
       "    <tr style=\"text-align: right;\">\n",
       "      <th></th>\n",
       "      <th>miRNA</th>\n",
       "      <th>importance</th>\n",
       "    </tr>\n",
       "  </thead>\n",
       "  <tbody>\n",
       "    <tr>\n",
       "      <th>1874</th>\n",
       "      <td>hsa-mir-944</td>\n",
       "      <td>0.024084</td>\n",
       "    </tr>\n",
       "    <tr>\n",
       "      <th>328</th>\n",
       "      <td>hsa-mir-27b</td>\n",
       "      <td>0.023788</td>\n",
       "    </tr>\n",
       "    <tr>\n",
       "      <th>276</th>\n",
       "      <td>hsa-mir-205</td>\n",
       "      <td>0.020914</td>\n",
       "    </tr>\n",
       "    <tr>\n",
       "      <th>26</th>\n",
       "      <td>hsa-mir-10b</td>\n",
       "      <td>0.014186</td>\n",
       "    </tr>\n",
       "    <tr>\n",
       "      <th>256</th>\n",
       "      <td>hsa-mir-196b</td>\n",
       "      <td>0.013899</td>\n",
       "    </tr>\n",
       "  </tbody>\n",
       "</table>\n",
       "</div>"
      ],
      "text/plain": [
       "             miRNA  importance\n",
       "1874   hsa-mir-944    0.024084\n",
       "328    hsa-mir-27b    0.023788\n",
       "276    hsa-mir-205    0.020914\n",
       "26     hsa-mir-10b    0.014186\n",
       "256   hsa-mir-196b    0.013899"
      ]
     },
     "execution_count": 34,
     "metadata": {},
     "output_type": "execute_result"
    }
   ],
   "source": [
    "rf_features = pd.DataFrame(list(zip(features, rf_feature_importances)), columns=['miRNA', 'importance'])\n",
    "rf_features.sort_values(by='importance', ascending=False).head()"
   ]
  },
  {
   "cell_type": "code",
   "execution_count": 35,
   "metadata": {},
   "outputs": [],
   "source": [
    "rf_preds = gs_rf.best_estimator_.predict(X_test_sc)"
   ]
  },
  {
   "cell_type": "code",
   "execution_count": 36,
   "metadata": {},
   "outputs": [
    {
     "data": {
      "text/plain": [
       "array([[287,   3,   0,   2,   2,   0],\n",
       "       [  3, 124,   0,   2,   0,   0],\n",
       "       [  2,   0, 144,   0,   0,   0],\n",
       "       [  2,   0,   1, 157,   0,   0],\n",
       "       [  0,   0,   0,   0, 142,   0],\n",
       "       [  0,   0,   0,   0,   0, 146]])"
      ]
     },
     "execution_count": 36,
     "metadata": {},
     "output_type": "execute_result"
    }
   ],
   "source": [
    "confusion_matrix(y_test, rf_preds)"
   ]
  },
  {
   "cell_type": "markdown",
   "metadata": {},
   "source": [
    "### ExtraTrees "
   ]
  },
  {
   "cell_type": "code",
   "execution_count": 37,
   "metadata": {},
   "outputs": [
    {
     "name": "stdout",
     "output_type": "stream",
     "text": [
      "[........................................] 100% | 99.88 sec | GridSearchCV \n",
      "Extra-Trees:\n",
      "Train Score: 0.9760734185512947\n",
      "Test Score: 0.9754178957718781\n"
     ]
    }
   ],
   "source": [
    "et = ExtraTreesClassifier()\n",
    "et_params = {\n",
    "        'n_estimators' : [20, 60, 100],\n",
    "        'max_depth' : [None, 6, 10, 14],\n",
    "        'min_samples_leaf' : [1, 2], \n",
    "        'min_samples_split' : [2, 3], \n",
    "}\n",
    "gs_et = GridSearchCVProgressBar(et, param_grid = et_params)\n",
    "gs_et.fit(X_train_sc, y_train)\n",
    "print(f'Extra-Trees:')\n",
    "print(f'Train Score: {gs_et.best_score_}')\n",
    "print(f'Test Score: {gs_et.score(X_test_sc, y_test)}')"
   ]
  },
  {
   "cell_type": "code",
   "execution_count": 38,
   "metadata": {},
   "outputs": [
    {
     "data": {
      "text/plain": [
       "array([0.00055534, 0.00052895, 0.00041213, ..., 0.00027024, 0.00277142,\n",
       "       0.00206272])"
      ]
     },
     "execution_count": 38,
     "metadata": {},
     "output_type": "execute_result"
    }
   ],
   "source": [
    "et_feature_importances = gs_et.best_estimator_.feature_importances_\n",
    "et_feature_importances"
   ]
  },
  {
   "cell_type": "code",
   "execution_count": 39,
   "metadata": {},
   "outputs": [],
   "source": [
    "et_features = pd.DataFrame(list(zip(features, et_feature_importances)), columns=['miRNA', 'importance'])"
   ]
  },
  {
   "cell_type": "code",
   "execution_count": 40,
   "metadata": {},
   "outputs": [
    {
     "data": {
      "text/html": [
       "<div>\n",
       "<style scoped>\n",
       "    .dataframe tbody tr th:only-of-type {\n",
       "        vertical-align: middle;\n",
       "    }\n",
       "\n",
       "    .dataframe tbody tr th {\n",
       "        vertical-align: top;\n",
       "    }\n",
       "\n",
       "    .dataframe thead th {\n",
       "        text-align: right;\n",
       "    }\n",
       "</style>\n",
       "<table border=\"1\" class=\"dataframe\">\n",
       "  <thead>\n",
       "    <tr style=\"text-align: right;\">\n",
       "      <th></th>\n",
       "      <th>miRNA</th>\n",
       "      <th>importance</th>\n",
       "    </tr>\n",
       "  </thead>\n",
       "  <tbody>\n",
       "    <tr>\n",
       "      <th>1848</th>\n",
       "      <td>hsa-mir-9-1</td>\n",
       "      <td>0.019295</td>\n",
       "    </tr>\n",
       "    <tr>\n",
       "      <th>1850</th>\n",
       "      <td>hsa-mir-9-3</td>\n",
       "      <td>0.017319</td>\n",
       "    </tr>\n",
       "    <tr>\n",
       "      <th>1849</th>\n",
       "      <td>hsa-mir-9-2</td>\n",
       "      <td>0.011570</td>\n",
       "    </tr>\n",
       "    <tr>\n",
       "      <th>352</th>\n",
       "      <td>hsa-mir-30a</td>\n",
       "      <td>0.011200</td>\n",
       "    </tr>\n",
       "    <tr>\n",
       "      <th>276</th>\n",
       "      <td>hsa-mir-205</td>\n",
       "      <td>0.009252</td>\n",
       "    </tr>\n",
       "  </tbody>\n",
       "</table>\n",
       "</div>"
      ],
      "text/plain": [
       "            miRNA  importance\n",
       "1848  hsa-mir-9-1    0.019295\n",
       "1850  hsa-mir-9-3    0.017319\n",
       "1849  hsa-mir-9-2    0.011570\n",
       "352   hsa-mir-30a    0.011200\n",
       "276   hsa-mir-205    0.009252"
      ]
     },
     "execution_count": 40,
     "metadata": {},
     "output_type": "execute_result"
    }
   ],
   "source": [
    "et_features.sort_values(by='importance', ascending=False).head()"
   ]
  },
  {
   "cell_type": "code",
   "execution_count": 41,
   "metadata": {},
   "outputs": [],
   "source": [
    "et_preds = gs_et.best_estimator_.predict(X_test_sc)"
   ]
  },
  {
   "cell_type": "code",
   "execution_count": 42,
   "metadata": {
    "scrolled": true
   },
   "outputs": [
    {
     "data": {
      "text/plain": [
       "array([[290,   1,   0,   1,   2,   0],\n",
       "       [  3, 124,   0,   2,   0,   0],\n",
       "       [  2,   1, 143,   0,   0,   0],\n",
       "       [  5,   3,   0, 152,   0,   0],\n",
       "       [  3,   2,   0,   0, 137,   0],\n",
       "       [  0,   0,   0,   0,   0, 146]])"
      ]
     },
     "execution_count": 42,
     "metadata": {},
     "output_type": "execute_result"
    }
   ],
   "source": [
    "confusion_matrix(y_test, et_preds)"
   ]
  },
  {
   "cell_type": "code",
   "execution_count": 43,
   "metadata": {},
   "outputs": [],
   "source": [
    "# dot_data = StringIO()  \n",
    "\n",
    "# export_graphviz(\n",
    "#     model, \n",
    "#     out_file = dot_data,  \n",
    "#     filled=True, rounded=True, proportion=False,\n",
    "#     special_characters=True, \n",
    "#     feature_names=food_encoded.columns,\n",
    "#     class_names=[\"Bacon\", \"Vegetable\"]\n",
    "# )  \n",
    "\n",
    "# graph = pydotplus.graph_from_dot_data(dot_data.getvalue())  \n",
    "\n",
    "# Image(graph.create_png())  "
   ]
  },
  {
   "cell_type": "markdown",
   "metadata": {},
   "source": [
    "### PCA"
   ]
  },
  {
   "cell_type": "code",
   "execution_count": 44,
   "metadata": {},
   "outputs": [
    {
     "data": {
      "text/plain": [
       "PCA(copy=True, iterated_power='auto', n_components=None, random_state=None,\n",
       "  svd_solver='auto', tol=0.0, whiten=False)"
      ]
     },
     "execution_count": 44,
     "metadata": {},
     "output_type": "execute_result"
    }
   ],
   "source": [
    "# Instantiate PCA\n",
    "pca = PCA()\n",
    "\n",
    "# Fit PCA\n",
    "pca.fit(X_train_sc)"
   ]
  },
  {
   "cell_type": "code",
   "execution_count": 45,
   "metadata": {},
   "outputs": [],
   "source": [
    "# Create Z_train.\n",
    "Z_train = pca.transform(X_train_sc)"
   ]
  },
  {
   "cell_type": "code",
   "execution_count": 46,
   "metadata": {},
   "outputs": [],
   "source": [
    "# Create Z_test.\n",
    "Z_test = pca.transform(X_test_sc)"
   ]
  },
  {
   "cell_type": "code",
   "execution_count": 47,
   "metadata": {},
   "outputs": [],
   "source": [
    "# import seaborn as sns\n",
    "# sns.pairplot(X_train)\n",
    "# sns.pairplot(Z_train)"
   ]
  },
  {
   "cell_type": "code",
   "execution_count": 48,
   "metadata": {},
   "outputs": [
    {
     "name": "stdout",
     "output_type": "stream",
     "text": [
      "Explained variance:\n",
      " [4.71214370e-02 3.60645488e-02 2.69483411e-02 ... 3.44986302e-35\n",
      " 3.39262944e-35 3.04850334e-36]\n"
     ]
    }
   ],
   "source": [
    "# Examine explained variance.\n",
    "var_exp = pca.explained_variance_ratio_\n",
    "print('Explained variance:\\n', var_exp)"
   ]
  },
  {
   "cell_type": "code",
   "execution_count": 49,
   "metadata": {},
   "outputs": [
    {
     "name": "stdout",
     "output_type": "stream",
     "text": [
      "Cumulative explained variance:  [0.04712144 0.08318599 0.11013433 0.13119128 0.14700804 0.1603982\n",
      " 0.17071106 0.17991829 0.18868062 0.19687483 0.20413906 0.21108357\n",
      " 0.21766217 0.22406452 0.23028824 0.23615254 0.24182957 0.24727285\n",
      " 0.25238765 0.25731855 0.26189589 0.26638641 0.27078544 0.27507337\n",
      " 0.27898831 0.28285182 0.28664518 0.29031357 0.29385939 0.29735293\n",
      " 0.30077588 0.30408806 0.307353   0.31048702 0.31358217 0.31663603\n",
      " 0.31951889 0.32236274 0.32514288 0.32785589 0.33053962 0.33311215\n",
      " 0.33568262 0.33816691 0.34063757 0.34303476 0.34540646 0.34774765\n",
      " 0.35006143 0.35235217 0.35461167 0.35685515 0.35906952 0.36126462\n",
      " 0.36342535 0.36557131 0.36771276 0.36981801 0.37189923 0.37393954\n",
      " 0.37596054 0.37797166 0.37997079 0.38195508 0.38392595 0.38588038\n",
      " 0.38783208 0.38974903 0.39165096 0.39355002 0.3954291  0.39729797\n",
      " 0.39914876 0.40097802 0.40279861 0.40460084 0.40639407 0.40815792\n",
      " 0.40991317 0.41166592 0.4134076  0.41513284 0.41684671 0.41854162\n",
      " 0.42022903 0.42191311 0.4235708  0.42521462 0.42684309 0.42846369\n",
      " 0.43008279 0.43169487 0.43330002 0.43489831 0.43648469 0.43805874\n",
      " 0.43962851 0.44118602 0.44272936 0.44427074 0.44580563 0.44732692\n",
      " 0.44884768 0.45035602 0.4518588  0.45335941 0.45484868 0.45633309\n",
      " 0.45781368 0.45928683 0.46075367 0.46221688 0.46366987 0.46511996\n",
      " 0.46656307 0.46800074 0.46943139 0.47085881 0.47227643 0.47368737\n",
      " 0.47509114 0.47648876 0.47788262 0.47927433 0.48065639 0.48203527\n",
      " 0.48340306 0.48476966 0.48613304 0.48749318 0.4888484  0.49019141\n",
      " 0.49153066 0.49286709 0.49419943 0.49553044 0.49685321 0.49817203\n",
      " 0.49948792 0.50080197 0.50210811 0.50340938 0.5047053  0.50599363\n",
      " 0.50727712 0.50855514 0.5098309  0.51110095 0.51236827 0.51363514\n",
      " 0.51489651 0.51614989 0.51739728 0.51864148 0.51988508 0.52112097\n",
      " 0.52235175 0.5235751  0.52479516 0.5260102  0.52722006 0.52842853\n",
      " 0.52963506 0.53084042 0.53204283 0.53323661 0.53442691 0.53561328\n",
      " 0.53679707 0.53797632 0.53915157 0.54032427 0.54149459 0.54266092\n",
      " 0.54382545 0.54498368 0.54613464 0.54728301 0.54842898 0.54957189\n",
      " 0.55071046 0.55184512 0.55297807 0.55410482 0.55522937 0.55635206\n",
      " 0.55747397 0.55858884 0.55970336 0.5608098  0.56191344 0.56301284\n",
      " 0.56410916 0.56520498 0.56629643 0.5673843  0.56846888 0.56955064\n",
      " 0.57063126 0.57170772 0.57278111 0.57384922 0.57491643 0.57597888\n",
      " 0.57703883 0.578097   0.57915279 0.58020549 0.58125572 0.582304\n",
      " 0.58335109 0.58439692 0.58543588 0.58647246 0.58750403 0.58853192\n",
      " 0.58955825 0.5905781  0.59159786 0.59261525 0.59362842 0.59463964\n",
      " 0.59564771 0.5966523  0.59765275 0.59865125 0.59964911 0.60064484\n",
      " 0.60163628 0.60262698 0.60361451 0.60459849 0.60558134 0.60656164\n",
      " 0.6075393  0.60851559 0.60949021 0.61046274 0.6114321  0.61239863\n",
      " 0.61336361 0.6143261  0.61528416 0.61623783 0.61718929 0.61813898\n",
      " 0.61908808 0.62003473 0.62097895 0.62192212 0.62286155 0.62379888\n",
      " 0.62473285 0.6256645  0.62659567 0.62752479 0.6284499  0.62937254\n",
      " 0.63029349 0.63121367 0.63213145 0.63304666 0.63395781 0.63486689\n",
      " 0.6357734  0.63667751 0.63758046 0.6384808  0.6393801  0.64027596\n",
      " 0.6411707  0.64206273 0.64295388 0.64384336 0.64473204 0.64561861\n",
      " 0.6465006  0.64737938 0.64825529 0.64913014 0.65000109 0.65087024\n",
      " 0.65173894 0.65260402 0.65346678 0.65432904 0.65518785 0.656045\n",
      " 0.65690093 0.65775578 0.6586098  0.65946143 0.66031146 0.66116008\n",
      " 0.66200499 0.66284865 0.66369064 0.66453149 0.66537018 0.66620569\n",
      " 0.6670384  0.66786894 0.66869826 0.66952607 0.67035245 0.67117678\n",
      " 0.67199885 0.67281873 0.67363664 0.67445172 0.67526609 0.67607862\n",
      " 0.67688961 0.67769602 0.67850209 0.67930661 0.68010983 0.68091131\n",
      " 0.68171113 0.68250902 0.6833055  0.68409954 0.68489216 0.68568373\n",
      " 0.68647362 0.68726225 0.6880491  0.68883452 0.68961795 0.69040094\n",
      " 0.69118095 0.6919582  0.69273332 0.69350686 0.69427885 0.69505045\n",
      " 0.69582054 0.69659016 0.69735814 0.69812378 0.69888704 0.69964869\n",
      " 0.70040926 0.70116797 0.70192559 0.70268211 0.70343647 0.70418979\n",
      " 0.70494072 0.70569037 0.70643925 0.70718596 0.70792956 0.70867112\n",
      " 0.70941168 0.71015183 0.71088865 0.71162473 0.71236032 0.71309376\n",
      " 0.71382407 0.71455277 0.7152804  0.71600693 0.71673138 0.71745416\n",
      " 0.71817547 0.71889568 0.71961379 0.72032956 0.72104387 0.72175664\n",
      " 0.7224683  0.7231791  0.72388843 0.72459687 0.72530345 0.72600932\n",
      " 0.72671352 0.72741589 0.72811679 0.72881484 0.72951198 0.73020809\n",
      " 0.73090343 0.73159615 0.73228719 0.73297736 0.73366638 0.73435444\n",
      " 0.73504114 0.73572651 0.73641097 0.73709478 0.73777609 0.73845605\n",
      " 0.73913511 0.73981276 0.74048873 0.74116353 0.74183735 0.74250957\n",
      " 0.74318139 0.74385256 0.74452215 0.74519009 0.74585693 0.74652173\n",
      " 0.74718563 0.74784913 0.74851079 0.74917204 0.74982993 0.75048742\n",
      " 0.75114289 0.75179702 0.75244959 0.75310157 0.75375185 0.75440051\n",
      " 0.75504854 0.75569413 0.75633803 0.75698132 0.75762439 0.75826534\n",
      " 0.75890533 0.75954268 0.76017988 0.76081522 0.76144926 0.7620818\n",
      " 0.76271365 0.76334336 0.76397223 0.76459915 0.76522502 0.76584955\n",
      " 0.76647339 0.76709669 0.7677178  0.76833821 0.7689572  0.76957585\n",
      " 0.77019256 0.77080826 0.77142338 0.7720377  0.77264927 0.77325945\n",
      " 0.77386822 0.77447626 0.77508289 0.77568794 0.77629246 0.77689546\n",
      " 0.77749756 0.77809704 0.77869542 0.77929197 0.77988834 0.78048357\n",
      " 0.78107748 0.7816708  0.7822634  0.78285525 0.78344593 0.78403549\n",
      " 0.7846233  0.7852093  0.78579461 0.78637884 0.78696183 0.7875439\n",
      " 0.78812333 0.78870212 0.78928043 0.78985701 0.79043275 0.79100745\n",
      " 0.79158116 0.79215317 0.79272396 0.79329418 0.79386299 0.79443038\n",
      " 0.79499574 0.79555938 0.7961221  0.79668318 0.79724265 0.79780172\n",
      " 0.79835992 0.79891644 0.79947151 0.80002633 0.80058011 0.80113184\n",
      " 0.80168268 0.80223154 0.80277996 0.80332683 0.80387255 0.80441733\n",
      " 0.80495993 0.80550154 0.80604182 0.80658145 0.80711975 0.80765668\n",
      " 0.80819354 0.80872729 0.80925989 0.80979167 0.81032274 0.81085285\n",
      " 0.81138215 0.81190924 0.81243615 0.81296071 0.81348441 0.81400664\n",
      " 0.81452785 0.81504735 0.81556635 0.81608379 0.81660002 0.81711476\n",
      " 0.8176291  0.81814239 0.81865521 0.81916668 0.8196776  0.82018635\n",
      " 0.82069399 0.82120066 0.82170698 0.82221281 0.82271672 0.82321941\n",
      " 0.82372035 0.82422032 0.82471819 0.82521595 0.82571177 0.82620732\n",
      " 0.82670171 0.82719447 0.82768669 0.82817718 0.82866662 0.82915485\n",
      " 0.82964243 0.83012908 0.83061503 0.83109895 0.83158246 0.83206524\n",
      " 0.83254678 0.83302749 0.83350671 0.83398389 0.83446024 0.83493484\n",
      " 0.83540931 0.83588331 0.8363562  0.83682789 0.8372987  0.83776758\n",
      " 0.83823608 0.83870147 0.8391664  0.83963053 0.84009346 0.840556\n",
      " 0.84101637 0.84147502 0.84193301 0.84239015 0.84284661 0.84330209\n",
      " 0.84375692 0.84421089 0.84466411 0.84511503 0.84556537 0.84601484\n",
      " 0.84646273 0.84690964 0.84735609 0.8478004  0.84824361 0.84868544\n",
      " 0.84912636 0.84956696 0.85000576 0.85044388 0.85088043 0.85131606\n",
      " 0.85175061 0.8521847  0.85261767 0.85305003 0.85348118 0.85391141\n",
      " 0.85434059 0.85476869 0.85519576 0.85562182 0.85604694 0.85647075\n",
      " 0.8568935  0.85731518 0.85773582 0.85815527 0.85857351 0.85899074\n",
      " 0.85940776 0.85982363 0.86023903 0.86065231 0.8610644  0.86147625\n",
      " 0.8618871  0.86229704 0.86270594 0.86311441 0.86352182 0.86392751\n",
      " 0.8643326  0.86473584 0.86513835 0.86553996 0.8659408  0.86634105\n",
      " 0.86674049 0.86713912 0.86753692 0.86793259 0.86832796 0.86872261\n",
      " 0.86911555 0.86950791 0.86989974 0.87029    0.87067973 0.87106827\n",
      " 0.87145631 0.87184332 0.87222821 0.87261283 0.87299696 0.87337887\n",
      " 0.87376043 0.8741415  0.87452165 0.87489987 0.87527685 0.8756535\n",
      " 0.87602933 0.87640441 0.87677864 0.87715276 0.87752506 0.87789572\n",
      " 0.87826604 0.87863596 0.87900417 0.87937122 0.87973772 0.88010371\n",
      " 0.88046889 0.88083359 0.88119739 0.88156013 0.88192229 0.88228318\n",
      " 0.88264337 0.8830025  0.88336073 0.88371875 0.88407581 0.88443218\n",
      " 0.88478826 0.88514337 0.88549777 0.8858512  0.88620341 0.88655359\n",
      " 0.88690353 0.88725266 0.8876008  0.88794789 0.88829421 0.88863939\n",
      " 0.88898407 0.88932813 0.88967141 0.89001425 0.89035639 0.8906976\n",
      " 0.89103709 0.89137572 0.89171325 0.89205065 0.892387   0.89272251\n",
      " 0.89305761 0.893392   0.89372483 0.89405697 0.89438834 0.89471898\n",
      " 0.89504849 0.89537755 0.89570636 0.89603465 0.8963621  0.8966887\n",
      " 0.89701463 0.89733979 0.89766368 0.89798707 0.89830963 0.89863119\n",
      " 0.89895223 0.89927237 0.89959132 0.8999089  0.90022634 0.90054357\n",
      " 0.90085988 0.90117545 0.90148977 0.9018034  0.90211585 0.90242808\n",
      " 0.90273972 0.90305009 0.90336017 0.90366833 0.90397602 0.90428338\n",
      " 0.90459031 0.9048968  0.90520221 0.90550682 0.90581073 0.90611398\n",
      " 0.9064162  0.90671686 0.90701742 0.90731755 0.90761638 0.90791449\n",
      " 0.90821185 0.90850851 0.90880489 0.90909989 0.90939433 0.90968792\n",
      " 0.90998043 0.91027255 0.91056465 0.91085569 0.91114583 0.91143513\n",
      " 0.91172337 0.91201129 0.9122982  0.91258472 0.91287097 0.91315602\n",
      " 0.91344088 0.91372423 0.91400742 0.9142902  0.91457209 0.91485312\n",
      " 0.91513321 0.91541261 0.91569152 0.91596956 0.91624716 0.91652393\n",
      " 0.91680044 0.91707624 0.9173518  0.91762686 0.91790021 0.91817332\n",
      " 0.91844591 0.91871753 0.91898866 0.91925894 0.91952873 0.91979777\n",
      " 0.92006572 0.92033321 0.92059957 0.92086534 0.92113067 0.92139506\n",
      " 0.92165841 0.92192117 0.92218355 0.92244538 0.92270632 0.92296654\n",
      " 0.92322625 0.92348486 0.92374306 0.92400104 0.92425766 0.92451425\n",
      " 0.9247705  0.9250261  0.92528078 0.9255347  0.9257879  0.92604083\n",
      " 0.92629298 0.92654458 0.92679553 0.9270459  0.92729531 0.92754419\n",
      " 0.92779221 0.92803886 0.92828511 0.92853118 0.9287762  0.92902054\n",
      " 0.92926458 0.92950828 0.92975077 0.92999298 0.93023416 0.93047441\n",
      " 0.93071455 0.93095338 0.93119164 0.93142961 0.93166735 0.93190445\n",
      " 0.93214051 0.93237645 0.93261175 0.93284674 0.93308108 0.93331427\n",
      " 0.93354692 0.93377929 0.93401061 0.93424162 0.93447206 0.93470131\n",
      " 0.93493047 0.93515896 0.93538699 0.93561471 0.93584133 0.93606773\n",
      " 0.93629367 0.9365184  0.93674262 0.93696624 0.93718954 0.93741189\n",
      " 0.93763404 0.9378557  0.9380766  0.938297   0.93851704 0.93873647\n",
      " 0.93895483 0.93917292 0.93938974 0.93960589 0.93982173 0.94003698\n",
      " 0.94025193 0.94046612 0.94067992 0.94089349 0.94110618 0.94131862\n",
      " 0.94153037 0.94174159 0.94195163 0.9421612  0.94237068 0.9425796\n",
      " 0.94278824 0.94299619 0.94320385 0.94341051 0.94361638 0.94382217\n",
      " 0.94402714 0.94423141 0.94443554 0.9446389  0.94484222 0.94504466\n",
      " 0.94524639 0.94544799 0.94564859 0.9458488  0.94604841 0.94624767\n",
      " 0.94644655 0.94664525 0.94684265 0.94703949 0.94723626 0.94743253\n",
      " 0.94762852 0.94782374 0.94801823 0.9482125  0.9484062  0.94859968\n",
      " 0.9487926  0.94898495 0.94917636 0.94936736 0.9495578  0.94974754\n",
      " 0.9499371  0.9501259  0.95031401 0.95050152 0.95068808 0.95087415\n",
      " 0.95106009 0.95124543 0.95143034 0.95161489 0.95179888 0.95198261\n",
      " 0.95216579 0.95234837 0.95253049 0.95271227 0.9528938  0.95307465\n",
      " 0.95325489 0.95343452 0.95361391 0.95379269 0.95397125 0.95414947\n",
      " 0.95432638 0.954503   0.9546788  0.9548543  0.95502973 0.95520481\n",
      " 0.95537933 0.95555313 0.95572692 0.95590014 0.95607254 0.95624453\n",
      " 0.95641586 0.95658672 0.95675724 0.95692683 0.95709561 0.95726336\n",
      " 0.95743071 0.95759802 0.95776528 0.95793187 0.95809784 0.95826345\n",
      " 0.95842895 0.95859395 0.95875841 0.95892252 0.95908577 0.95924852\n",
      " 0.95941068 0.95957272 0.95973466 0.95989575 0.96005652 0.96021675\n",
      " 0.96037644 0.96053537 0.96069398 0.96085204 0.96100927 0.9611664\n",
      " 0.96132298 0.96147926 0.96163493 0.96179031]\n"
     ]
    }
   ],
   "source": [
    "# Examine cumulative explained variance.\n",
    "cum_var_exp = np.cumsum(var_exp)\n",
    "print('Cumulative explained variance: ', cum_var_exp[:1000])"
   ]
  },
  {
   "cell_type": "code",
   "execution_count": 50,
   "metadata": {},
   "outputs": [
    {
     "data": {
      "text/plain": [
       "PCA(copy=True, iterated_power='auto', n_components=20, random_state=None,\n",
       "  svd_solver='auto', tol=0.0, whiten=False)"
      ]
     },
     "execution_count": 50,
     "metadata": {},
     "output_type": "execute_result"
    }
   ],
   "source": [
    "pca_2 = PCA(n_components=20)\n",
    "\n",
    "# Fit PCA\n",
    "pca_2.fit(X_train)"
   ]
  },
  {
   "cell_type": "code",
   "execution_count": 51,
   "metadata": {},
   "outputs": [],
   "source": [
    "# Create Z_train.\n",
    "Z_train_2 = pca_2.transform(X_train)"
   ]
  },
  {
   "cell_type": "code",
   "execution_count": 52,
   "metadata": {},
   "outputs": [],
   "source": [
    "Z_test_2 = pca_2.transform(X_test)"
   ]
  },
  {
   "cell_type": "code",
   "execution_count": 53,
   "metadata": {},
   "outputs": [
    {
     "name": "stdout",
     "output_type": "stream",
     "text": [
      "Explained variance:\n",
      " [0.40860044 0.23209758 0.08836062 0.07036854 0.05390201 0.0487492\n",
      " 0.02878762 0.0173439  0.01577037 0.01225138 0.00905968 0.00441162\n",
      " 0.00277391 0.00101372 0.00090215 0.00072297 0.00056732 0.0004737\n",
      " 0.00047026 0.00042377]\n"
     ]
    }
   ],
   "source": [
    "# Examine explained variance.\n",
    "var_exp_2 = pca_2.explained_variance_ratio_\n",
    "print('Explained variance:\\n', var_exp_2)"
   ]
  },
  {
   "cell_type": "code",
   "execution_count": 54,
   "metadata": {},
   "outputs": [
    {
     "name": "stdout",
     "output_type": "stream",
     "text": [
      "Cumulative explained variance:  [0.40860044 0.64069802 0.72905864 0.79942717 0.85332918 0.90207838\n",
      " 0.930866   0.9482099  0.96398027 0.97623165 0.98529133 0.98970295\n",
      " 0.99247686 0.99349058 0.99439273 0.9951157  0.99568302 0.99615672\n",
      " 0.99662698 0.99705074]\n"
     ]
    }
   ],
   "source": [
    "# Examine cumulative explained variance.\n",
    "cum_var_exp_2 = np.cumsum(var_exp_2)\n",
    "print('Cumulative explained variance: ', cum_var_exp_2[:20])"
   ]
  },
  {
   "cell_type": "code",
   "execution_count": 55,
   "metadata": {},
   "outputs": [
    {
     "data": {
      "image/png": "[encoded data removed]",
      "text/plain": [
       "<Figure size 648x504 with 1 Axes>"
      ]
     },
     "metadata": {
      "needs_background": "light"
     },
     "output_type": "display_data"
    }
   ],
   "source": [
    "plt.figure(figsize=(9,7))\n",
    "\n",
    "# HERE IS THE BASIC PLOT\n",
    "\n",
    "# Plot the explained variance\n",
    "component_number = range(len(var_exp_2))\n",
    "plt.plot(component_number, var_exp_2, lw=3)\n",
    "\n",
    "# NOW MAKE IT LOOK PRETTY\n",
    "\n",
    "# Add horizontal lines at y=0 and y=100\n",
    "plt.axhline(y=0, linewidth=1, color='grey', ls='dashed')\n",
    "plt.axhline(y=1, linewidth=1, color='grey', ls='dashed')\n",
    "\n",
    "# Set the x and y axis limits\n",
    "ax = plt.gca()\n",
    "ax.set_xlim([-1,26])\n",
    "ax.set_ylim([-0.05,1.05])\n",
    "\n",
    "# Label the axes\n",
    "ax.set_ylabel('variance explained', fontsize=16)\n",
    "ax.set_xlabel('component', fontsize=16)\n",
    "\n",
    "# Make the tick labels bigger\n",
    "for tick in ax.xaxis.get_major_ticks():\n",
    "    tick.label.set_fontsize(12) \n",
    "for tick in ax.yaxis.get_major_ticks():\n",
    "    tick.label.set_fontsize(12) \n",
    "    \n",
    "# Add title\n",
    "ax.set_title('Component vs Variance Explained\\n', fontsize=20)\n",
    "\n",
    "plt.show()"
   ]
  },
  {
   "cell_type": "code",
   "execution_count": 56,
   "metadata": {},
   "outputs": [
    {
     "data": {
      "image/png": "[encoded data removed]",
      "text/plain": [
       "<Figure size 648x504 with 1 Axes>"
      ]
     },
     "metadata": {
      "needs_background": "light"
     },
     "output_type": "display_data"
    }
   ],
   "source": [
    "plt.figure(figsize=(9,7))\n",
    "\n",
    "# HERE IS THE BASIC PLOT\n",
    "\n",
    "# Plot the cumulative explained variance\n",
    "component_number = range(len(cum_var_exp_2))\n",
    "plt.plot(component_number, cum_var_exp_2, lw=3)\n",
    "\n",
    "# NOW MAKE IT LOOK PRETTY\n",
    "\n",
    "# Add horizontal lines at y=0 and y=100\n",
    "plt.axhline(y=0, linewidth=1, color='grey', ls='dashed')\n",
    "plt.axhline(y=1, linewidth=1, color='grey', ls='dashed')\n",
    "\n",
    "# Set the x and y axis limits\n",
    "ax = plt.gca()\n",
    "ax.set_xlim([-1,26])\n",
    "ax.set_ylim([-0.05,1.05])\n",
    "\n",
    "# Label the axes\n",
    "ax.set_ylabel('cumulative variance explained', fontsize=16)\n",
    "ax.set_xlabel('component', fontsize=16)\n",
    "\n",
    "# Make the tick labels bigger\n",
    "for tick in ax.xaxis.get_major_ticks():\n",
    "    tick.label.set_fontsize(12) \n",
    "for tick in ax.yaxis.get_major_ticks():\n",
    "    tick.label.set_fontsize(12) \n",
    "    \n",
    "# Add title\n",
    "ax.set_title('Component vs Cumulative variance explained\\n', fontsize=20)\n",
    "\n",
    "plt.show()"
   ]
  },
  {
   "cell_type": "markdown",
   "metadata": {},
   "source": [
    "### Neural Network "
   ]
  },
  {
   "cell_type": "code",
   "execution_count": 57,
   "metadata": {},
   "outputs": [],
   "source": [
    "# One hot encode y target\n",
    "Y_train = to_categorical(y_train, 6)\n",
    "Y_test = to_categorical(y_test, 6)"
   ]
  },
  {
   "cell_type": "code",
   "execution_count": 58,
   "metadata": {},
   "outputs": [
    {
     "data": {
      "text/plain": [
       "array([[0., 1., 0., 0., 0., 0.],\n",
       "       [0., 0., 0., 1., 0., 0.],\n",
       "       [0., 1., 0., 0., 0., 0.],\n",
       "       ...,\n",
       "       [1., 0., 0., 0., 0., 0.],\n",
       "       [0., 0., 1., 0., 0., 0.],\n",
       "       [1., 0., 0., 0., 0., 0.]], dtype=float32)"
      ]
     },
     "execution_count": 58,
     "metadata": {},
     "output_type": "execute_result"
    }
   ],
   "source": [
    "# Take a look at how the Y target looks\n",
    "Y_train"
   ]
  },
  {
   "cell_type": "code",
   "execution_count": 59,
   "metadata": {},
   "outputs": [],
   "source": [
    "# Construct a neural network\n",
    "model = Sequential()\n",
    "\n",
    "# input and hidden layers\n",
    "model.add(Dense(50, activation='relu', input_dim=X_train_sc.shape[1]))\n",
    "model.add(Dropout(0.5))\n",
    "\n",
    "# For multiclass, same number of neurons as classes that we are predicting\n",
    "# softmax activation function\n",
    "model.add(Dense(6, activation='softmax'))\n",
    "\n",
    "# compile model\n",
    "model.compile(loss='categorical_crossentropy',\n",
    "              optimizer='adam',\n",
    "              metrics=['accuracy'])"
   ]
  },
  {
   "cell_type": "code",
   "execution_count": 60,
   "metadata": {},
   "outputs": [
    {
     "name": "stdout",
     "output_type": "stream",
     "text": [
      "Train on 3051 samples, validate on 1017 samples\n",
      "Epoch 1/30\n",
      "3051/3051 [==============================] - 1s 186us/step - loss: 0.7967 - acc: 0.7594 - val_loss: 0.2726 - val_acc: 0.9469\n",
      "Epoch 2/30\n",
      "3051/3051 [==============================] - 0s 93us/step - loss: 0.1897 - acc: 0.9544 - val_loss: 0.1983 - val_acc: 0.9656\n",
      "Epoch 3/30\n",
      "3051/3051 [==============================] - 0s 99us/step - loss: 0.1067 - acc: 0.9738 - val_loss: 0.1741 - val_acc: 0.9725\n",
      "Epoch 4/30\n",
      "3051/3051 [==============================] - 0s 92us/step - loss: 0.0764 - acc: 0.9830 - val_loss: 0.1749 - val_acc: 0.9715\n",
      "Epoch 5/30\n",
      "3051/3051 [==============================] - 0s 94us/step - loss: 0.0606 - acc: 0.9862 - val_loss: 0.1708 - val_acc: 0.9695\n",
      "Epoch 6/30\n",
      "3051/3051 [==============================] - 0s 96us/step - loss: 0.0559 - acc: 0.9879 - val_loss: 0.1654 - val_acc: 0.9715\n",
      "Epoch 7/30\n",
      "3051/3051 [==============================] - 0s 95us/step - loss: 0.0387 - acc: 0.9921 - val_loss: 0.1636 - val_acc: 0.9695\n",
      "Epoch 8/30\n",
      "3051/3051 [==============================] - 0s 93us/step - loss: 0.0370 - acc: 0.9938 - val_loss: 0.1616 - val_acc: 0.9725\n",
      "Epoch 9/30\n",
      "3051/3051 [==============================] - 0s 92us/step - loss: 0.0284 - acc: 0.9954 - val_loss: 0.1665 - val_acc: 0.9754\n",
      "Epoch 10/30\n",
      "3051/3051 [==============================] - 0s 94us/step - loss: 0.0288 - acc: 0.9944 - val_loss: 0.1678 - val_acc: 0.9774\n",
      "Epoch 11/30\n",
      "3051/3051 [==============================] - 0s 96us/step - loss: 0.0322 - acc: 0.9931 - val_loss: 0.1733 - val_acc: 0.9774\n",
      "Epoch 12/30\n",
      "3051/3051 [==============================] - 0s 81us/step - loss: 0.0280 - acc: 0.9961 - val_loss: 0.1715 - val_acc: 0.9744\n",
      "Epoch 13/30\n",
      "3051/3051 [==============================] - 0s 94us/step - loss: 0.0182 - acc: 0.9977 - val_loss: 0.1783 - val_acc: 0.9754\n",
      "Epoch 14/30\n",
      "3051/3051 [==============================] - 0s 92us/step - loss: 0.0206 - acc: 0.9957 - val_loss: 0.1872 - val_acc: 0.9764\n",
      "Epoch 15/30\n",
      "3051/3051 [==============================] - 0s 92us/step - loss: 0.0203 - acc: 0.9977 - val_loss: 0.1845 - val_acc: 0.9764\n",
      "Epoch 16/30\n",
      "3051/3051 [==============================] - 0s 93us/step - loss: 0.0191 - acc: 0.9964 - val_loss: 0.1859 - val_acc: 0.9764\n",
      "Epoch 17/30\n",
      "3051/3051 [==============================] - 0s 97us/step - loss: 0.0153 - acc: 0.9971 - val_loss: 0.1873 - val_acc: 0.9764\n",
      "Epoch 18/30\n",
      "3051/3051 [==============================] - 0s 94us/step - loss: 0.0181 - acc: 0.9974 - val_loss: 0.1938 - val_acc: 0.9744\n",
      "Epoch 19/30\n",
      "3051/3051 [==============================] - 0s 95us/step - loss: 0.0235 - acc: 0.9961 - val_loss: 0.1926 - val_acc: 0.9754\n",
      "Epoch 20/30\n",
      "3051/3051 [==============================] - 0s 94us/step - loss: 0.0175 - acc: 0.9957 - val_loss: 0.2074 - val_acc: 0.9764\n",
      "Epoch 21/30\n",
      "3051/3051 [==============================] - 0s 93us/step - loss: 0.0150 - acc: 0.9977 - val_loss: 0.2107 - val_acc: 0.9735\n",
      "Epoch 22/30\n",
      "3051/3051 [==============================] - 0s 93us/step - loss: 0.0168 - acc: 0.9967 - val_loss: 0.2037 - val_acc: 0.9744\n",
      "Epoch 23/30\n",
      "3051/3051 [==============================] - 0s 92us/step - loss: 0.0147 - acc: 0.9964 - val_loss: 0.2042 - val_acc: 0.9725\n",
      "Epoch 24/30\n",
      "3051/3051 [==============================] - 0s 94us/step - loss: 0.0131 - acc: 0.9971 - val_loss: 0.2132 - val_acc: 0.9725\n",
      "Epoch 25/30\n",
      "3051/3051 [==============================] - 0s 92us/step - loss: 0.0111 - acc: 0.9980 - val_loss: 0.2112 - val_acc: 0.9735\n",
      "Epoch 26/30\n",
      "3051/3051 [==============================] - 0s 92us/step - loss: 0.0149 - acc: 0.9974 - val_loss: 0.2109 - val_acc: 0.9744\n",
      "Epoch 27/30\n",
      "3051/3051 [==============================] - 0s 93us/step - loss: 0.0108 - acc: 0.9980 - val_loss: 0.2088 - val_acc: 0.9754\n",
      "Epoch 28/30\n",
      "3051/3051 [==============================] - 0s 92us/step - loss: 0.0127 - acc: 0.9984 - val_loss: 0.2088 - val_acc: 0.9754\n",
      "Epoch 29/30\n",
      "3051/3051 [==============================] - 0s 91us/step - loss: 0.0121 - acc: 0.9980 - val_loss: 0.2007 - val_acc: 0.9735\n",
      "Epoch 30/30\n",
      "3051/3051 [==============================] - 0s 91us/step - loss: 0.0110 - acc: 0.9977 - val_loss: 0.2092 - val_acc: 0.9744\n"
     ]
    }
   ],
   "source": [
    "nn = model.fit(X_train_sc, Y_train, epochs=30, validation_data=(X_test_sc, Y_test))"
   ]
  },
  {
   "cell_type": "code",
   "execution_count": 61,
   "metadata": {},
   "outputs": [
    {
     "data": {
      "text/plain": [
       "array([[2.5228058e-14, 5.7172218e-18, 1.0000000e+00, 7.8514826e-13,\n",
       "        1.1524981e-18, 1.8150598e-16],\n",
       "       [1.0000000e+00, 6.4798680e-11, 1.2313174e-14, 2.0826114e-13,\n",
       "        2.8071703e-15, 2.3868706e-16],\n",
       "       [2.2781621e-06, 1.3924346e-04, 9.9985814e-01, 9.6334787e-08,\n",
       "        3.3954906e-10, 1.8393368e-07],\n",
       "       ...,\n",
       "       [5.0678034e-07, 2.8361913e-09, 1.3389128e-08, 9.9999952e-01,\n",
       "        1.3686310e-09, 1.4999110e-09],\n",
       "       [9.5613734e-17, 3.0166788e-15, 4.3282328e-17, 1.0000000e+00,\n",
       "        1.3678276e-17, 1.0050059e-15],\n",
       "       [6.8596948e-04, 9.9911207e-01, 3.3771391e-06, 2.3267894e-06,\n",
       "        1.9392816e-04, 2.3245736e-06]], dtype=float32)"
      ]
     },
     "execution_count": 61,
     "metadata": {},
     "output_type": "execute_result"
    }
   ],
   "source": [
    "model.predict(X_test_sc)"
   ]
  },
  {
   "cell_type": "code",
   "execution_count": 62,
   "metadata": {},
   "outputs": [
    {
     "data": {
      "text/plain": [
       "array([2, 0, 2, ..., 3, 3, 1])"
      ]
     },
     "execution_count": 62,
     "metadata": {},
     "output_type": "execute_result"
    }
   ],
   "source": [
    "# index for the largest number from each row gives class prediction\n",
    "model.predict(X_test_sc).argmax(axis=1)"
   ]
  },
  {
   "cell_type": "code",
   "execution_count": 63,
   "metadata": {},
   "outputs": [],
   "source": [
    "# nn.history"
   ]
  },
  {
   "cell_type": "code",
   "execution_count": 64,
   "metadata": {},
   "outputs": [],
   "source": [
    "Y_test_classes = np.argmax(Y_test, axis=1)"
   ]
  },
  {
   "cell_type": "code",
   "execution_count": 65,
   "metadata": {},
   "outputs": [
    {
     "data": {
      "text/plain": [
       "array([2, 0, 2, ..., 3, 3, 1])"
      ]
     },
     "execution_count": 65,
     "metadata": {},
     "output_type": "execute_result"
    }
   ],
   "source": [
    "Y_test_classes"
   ]
  },
  {
   "cell_type": "code",
   "execution_count": 66,
   "metadata": {},
   "outputs": [
    {
     "data": {
      "text/plain": [
       "array([[286,   4,   0,   1,   2,   1],\n",
       "       [  1, 127,   0,   1,   0,   0],\n",
       "       [  0,   1, 144,   1,   0,   0],\n",
       "       [  2,   4,   1, 152,   1,   0],\n",
       "       [  1,   5,   0,   0, 136,   0],\n",
       "       [  0,   0,   0,   0,   0, 146]])"
      ]
     },
     "execution_count": 66,
     "metadata": {},
     "output_type": "execute_result"
    }
   ],
   "source": [
    "nn_preds = model.predict_classes(X_test_sc)\n",
    "\n",
    "confusion_matrix(Y_test_classes, nn_preds)"
   ]
  },
  {
   "cell_type": "markdown",
   "metadata": {},
   "source": [
    "## Neural Network trained on PCA data"
   ]
  },
  {
   "cell_type": "code",
   "execution_count": 67,
   "metadata": {},
   "outputs": [
    {
     "data": {
      "text/plain": [
       "(3051, 20)"
      ]
     },
     "execution_count": 67,
     "metadata": {},
     "output_type": "execute_result"
    }
   ],
   "source": [
    "Z_train_2.shape"
   ]
  },
  {
   "cell_type": "code",
   "execution_count": 68,
   "metadata": {},
   "outputs": [],
   "source": [
    "# Construct a neural network\n",
    "model_Z = Sequential()\n",
    "\n",
    "# input and hidden layers\n",
    "model_Z.add(Dense(50, activation='relu', input_dim=Z_train_2.shape[1]))\n",
    "model_Z.add(Dropout(0.5))\n",
    "\n",
    "# For multiclass, same number of neurons as classes that we are predicting\n",
    "# softmax activation function\n",
    "model_Z.add(Dense(6, activation='softmax'))\n",
    "\n",
    "# compile model\n",
    "model_Z.compile(loss='categorical_crossentropy',\n",
    "              optimizer='adam',\n",
    "              metrics=['accuracy'])"
   ]
  },
  {
   "cell_type": "code",
   "execution_count": 69,
   "metadata": {},
   "outputs": [
    {
     "name": "stdout",
     "output_type": "stream",
     "text": [
      "Train on 3051 samples, validate on 1017 samples\n",
      "Epoch 1/30\n",
      "3051/3051 [==============================] - 0s 102us/step - loss: 12.8797 - acc: 0.2009 - val_loss: 12.9959 - val_acc: 0.1937\n",
      "Epoch 2/30\n",
      "3051/3051 [==============================] - 0s 27us/step - loss: 12.8744 - acc: 0.2012 - val_loss: 12.9960 - val_acc: 0.1937\n",
      "Epoch 3/30\n",
      "3051/3051 [==============================] - 0s 27us/step - loss: 12.9219 - acc: 0.1983 - val_loss: 12.9960 - val_acc: 0.1937\n",
      "Epoch 4/30\n",
      "3051/3051 [==============================] - 0s 28us/step - loss: 12.6684 - acc: 0.2140 - val_loss: 12.9960 - val_acc: 0.1937\n",
      "Epoch 5/30\n",
      "3051/3051 [==============================] - 0s 27us/step - loss: 12.9127 - acc: 0.1986 - val_loss: 12.9008 - val_acc: 0.1996\n",
      "Epoch 6/30\n",
      "3051/3051 [==============================] - 0s 28us/step - loss: 12.7582 - acc: 0.2085 - val_loss: 12.7423 - val_acc: 0.2094\n",
      "Epoch 7/30\n",
      "3051/3051 [==============================] - 0s 29us/step - loss: 12.5680 - acc: 0.2203 - val_loss: 12.3636 - val_acc: 0.2321\n",
      "Epoch 8/30\n",
      "3051/3051 [==============================] - 0s 27us/step - loss: 12.4306 - acc: 0.2288 - val_loss: 12.3621 - val_acc: 0.2330\n",
      "Epoch 9/30\n",
      "3051/3051 [==============================] - 0s 27us/step - loss: 12.4729 - acc: 0.2262 - val_loss: 12.3621 - val_acc: 0.2330\n",
      "Epoch 10/30\n",
      "3051/3051 [==============================] - 0s 27us/step - loss: 12.3672 - acc: 0.2327 - val_loss: 12.3621 - val_acc: 0.2330\n",
      "Epoch 11/30\n",
      "3051/3051 [==============================] - 0s 27us/step - loss: 12.5046 - acc: 0.2242 - val_loss: 12.3621 - val_acc: 0.2330\n",
      "Epoch 12/30\n",
      "3051/3051 [==============================] - 0s 27us/step - loss: 12.3514 - acc: 0.2337 - val_loss: 12.3621 - val_acc: 0.2330\n",
      "Epoch 13/30\n",
      "3051/3051 [==============================] - 0s 27us/step - loss: 12.5997 - acc: 0.2183 - val_loss: 12.3621 - val_acc: 0.2330\n",
      "Epoch 14/30\n",
      "3051/3051 [==============================] - 0s 27us/step - loss: 12.8004 - acc: 0.2058 - val_loss: 12.3621 - val_acc: 0.2330\n",
      "Epoch 15/30\n",
      "3051/3051 [==============================] - 0s 27us/step - loss: 12.2986 - acc: 0.2370 - val_loss: 12.3621 - val_acc: 0.2330\n",
      "Epoch 16/30\n",
      "3051/3051 [==============================] - 0s 28us/step - loss: 12.3409 - acc: 0.2343 - val_loss: 12.1242 - val_acc: 0.2478\n",
      "Epoch 17/30\n",
      "3051/3051 [==============================] - 0s 27us/step - loss: 12.0661 - acc: 0.2514 - val_loss: 11.8865 - val_acc: 0.2625\n",
      "Epoch 18/30\n",
      "3051/3051 [==============================] - 0s 27us/step - loss: 12.0450 - acc: 0.2527 - val_loss: 11.8865 - val_acc: 0.2625\n",
      "Epoch 19/30\n",
      "3051/3051 [==============================] - 0s 29us/step - loss: 12.2405 - acc: 0.2406 - val_loss: 11.8865 - val_acc: 0.2625\n",
      "Epoch 20/30\n",
      "3051/3051 [==============================] - 0s 27us/step - loss: 12.2722 - acc: 0.2386 - val_loss: 11.8865 - val_acc: 0.2625\n",
      "Epoch 21/30\n",
      "3051/3051 [==============================] - 0s 27us/step - loss: 11.9757 - acc: 0.2570 - val_loss: 9.7786 - val_acc: 0.3933\n",
      "Epoch 22/30\n",
      "3051/3051 [==============================] - 0s 27us/step - loss: 11.6224 - acc: 0.2789 - val_loss: 9.7786 - val_acc: 0.3933\n",
      "Epoch 23/30\n",
      "3051/3051 [==============================] - 0s 27us/step - loss: 11.8314 - acc: 0.2658 - val_loss: 10.2382 - val_acc: 0.3648\n",
      "Epoch 24/30\n",
      "3051/3051 [==============================] - 0s 27us/step - loss: 11.8635 - acc: 0.2638 - val_loss: 10.3492 - val_acc: 0.3579\n",
      "Epoch 25/30\n",
      "3051/3051 [==============================] - 0s 27us/step - loss: 11.7808 - acc: 0.2691 - val_loss: 10.3604 - val_acc: 0.3569\n",
      "Epoch 26/30\n",
      "3051/3051 [==============================] - 0s 27us/step - loss: 11.5061 - acc: 0.2861 - val_loss: 10.3604 - val_acc: 0.3569\n",
      "Epoch 27/30\n",
      "3051/3051 [==============================] - 0s 27us/step - loss: 11.4639 - acc: 0.2888 - val_loss: 10.3604 - val_acc: 0.3569\n",
      "Epoch 28/30\n",
      "3051/3051 [==============================] - 0s 28us/step - loss: 11.6646 - acc: 0.2763 - val_loss: 10.3604 - val_acc: 0.3569\n",
      "Epoch 29/30\n",
      "3051/3051 [==============================] - 0s 28us/step - loss: 11.4044 - acc: 0.2924 - val_loss: 10.4760 - val_acc: 0.3500\n",
      "Epoch 30/30\n",
      "3051/3051 [==============================] - 0s 27us/step - loss: 11.5590 - acc: 0.2829 - val_loss: 11.0148 - val_acc: 0.3166\n"
     ]
    }
   ],
   "source": [
    "nn_Z = model_Z.fit(Z_train_2, Y_train, epochs=30, validation_data=(Z_test_2, Y_test))"
   ]
  },
  {
   "cell_type": "code",
   "execution_count": 70,
   "metadata": {},
   "outputs": [
    {
     "data": {
      "text/plain": [
       "array([3, 5, 0, ..., 3, 3, 0])"
      ]
     },
     "execution_count": 70,
     "metadata": {},
     "output_type": "execute_result"
    }
   ],
   "source": [
    "model_Z.predict(Z_test_2).argmax(axis=1)"
   ]
  },
  {
   "cell_type": "code",
   "execution_count": 71,
   "metadata": {},
   "outputs": [
    {
     "data": {
      "text/plain": [
       "array([2, 0, 2, ..., 3, 3, 1])"
      ]
     },
     "execution_count": 71,
     "metadata": {},
     "output_type": "execute_result"
    }
   ],
   "source": [
    "Y_test_classes_Z = np.argmax(Y_test, axis=1)\n",
    "Y_test_classes_Z"
   ]
  },
  {
   "cell_type": "code",
   "execution_count": 72,
   "metadata": {},
   "outputs": [
    {
     "data": {
      "text/plain": [
       "array([[165,   9,   6,  74,  20,  20],\n",
       "       [ 77,   6,   0,   3,   1,  42],\n",
       "       [ 19,   1,   2, 104,  13,   7],\n",
       "       [ 37,  14,   0,  94,   4,  11],\n",
       "       [ 54,   3,   0,   3,   4,  78],\n",
       "       [  0,   2,   0,  93,   0,  51]])"
      ]
     },
     "execution_count": 72,
     "metadata": {},
     "output_type": "execute_result"
    }
   ],
   "source": [
    "nn_preds_Z = model_Z.predict_classes(Z_test_2)\n",
    "\n",
    "confusion_matrix(Y_test_classes_Z, nn_preds_Z)"
   ]
  },
  {
   "cell_type": "code",
   "execution_count": null,
   "metadata": {},
   "outputs": [],
   "source": []
  }
 ],
 "metadata": {
  "kernelspec": {
   "display_name": "Python [conda env:dsi]",
   "language": "python",
   "name": "conda-env-dsi-py"
  },
  "language_info": {
   "codemirror_mode": {
    "name": "ipython",
    "version": 3
   },
   "file_extension": ".py",
   "mimetype": "text/x-python",
   "name": "python",
   "nbconvert_exporter": "python",
   "pygments_lexer": "ipython3",
   "version": "3.6.5"
  },
  "varInspector": {
   "cols": {
    "lenName": 16,
    "lenType": 16,
    "lenVar": 40
   },
   "kernels_config": {
    "python": {
     "delete_cmd_postfix": "",
     "delete_cmd_prefix": "del ",
     "library": "var_list.py",
     "varRefreshCmd": "print(var_dic_list())"
    },
    "r": {
     "delete_cmd_postfix": ") ",
     "delete_cmd_prefix": "rm(",
     "library": "var_list.r",
     "varRefreshCmd": "cat(var_dic_list()) "
    }
   },
   "types_to_exclude": [
    "module",
    "function",
    "builtin_function_or_method",
    "instance",
    "_Feature"
   ],
   "window_display": false
  }
 },
 "nbformat": 4,
 "nbformat_minor": 2
}
